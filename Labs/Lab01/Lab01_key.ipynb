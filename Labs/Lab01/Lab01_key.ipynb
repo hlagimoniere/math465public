{
 "cells": [
  {
   "cell_type": "markdown",
   "metadata": {},
   "source": [
    "# Lab 1 key\n",
    "\n",
    "**Author**: Sarah Wesolowski [scwesolowski@salisbury.edu]\n",
    "\n",
    "**Date**: September 10th, 2020\n",
    "\n",
    "**Purpose**: A notebook that contains solutions to Math 465 lab 1."
   ]
  },
  {
   "cell_type": "markdown",
   "metadata": {},
   "source": [
    "## Problem 1(a)\n",
    "\n",
    "If you run a 10 kilometer race in 43 minutes 30 seconds, what is your average time per mile? What is your average speed in miles per hour? (Hint: there are 1.61 kilometers in a mile)."
   ]
  },
  {
   "cell_type": "code",
   "execution_count": 1,
   "metadata": {},
   "outputs": [
    {
     "name": "stdout",
     "output_type": "stream",
     "text": [
      "Race length in miles is 6.211180124223602\n",
      "Race time in minutes is 43.5\n",
      "Time per mile is 7.003500000000001\n"
     ]
    }
   ],
   "source": [
    "race_length = 10.\n",
    "seconds_to_minutes = 1/60.\n",
    "time = 43. + 30*seconds_to_minutes\n",
    "\n",
    "km_to_miles = 1./1.61\n",
    "\n",
    "race_length_miles = race_length * km_to_miles\n",
    "print('Race length in miles is', race_length_miles)\n",
    "print('Race time in minutes is', time)\n",
    "\n",
    "time_per_mile = time / race_length_miles\n",
    "\n",
    "print('Time per mile is', time_per_mile)"
   ]
  },
  {
   "cell_type": "markdown",
   "metadata": {},
   "source": [
    "## Problem 1(b)\n",
    "\n",
    "The volume of a sphere with radius $r$ is $\\frac34 \\pi r^3$ . What is the volume of a sphere with\n",
    "radius 5?"
   ]
  },
  {
   "cell_type": "code",
   "execution_count": 2,
   "metadata": {},
   "outputs": [],
   "source": [
    "from math import pi"
   ]
  },
  {
   "cell_type": "code",
   "execution_count": 3,
   "metadata": {},
   "outputs": [
    {
     "name": "stdout",
     "output_type": "stream",
     "text": [
      "The volume of the sphere is 294.5243112740431\n"
     ]
    }
   ],
   "source": [
    "radius = 5.\n",
    "volume = 3./4. * pi * pow(radius, 3)\n",
    "print('The volume of the sphere is', volume)"
   ]
  },
  {
   "cell_type": "markdown",
   "metadata": {},
   "source": [
    "## Problem 1(c)\n",
    "\n",
    "Suppose the cover price of a book is \\\\$ 24.95, \n",
    "but bookstores get a 40\\% discount. Shipping costs \\$3 for the first copy and 75 cents for each additional copy. What is the total wholesale cost for 60 copies?\n"
   ]
  },
  {
   "cell_type": "code",
   "execution_count": 4,
   "metadata": {},
   "outputs": [
    {
     "name": "stdout",
     "output_type": "stream",
     "text": [
      "The bookstore pays a total of $ 945.4499999999999\n"
     ]
    }
   ],
   "source": [
    "cover_price = 24.95\n",
    "bookstore_price = cover_price * 0.6\n",
    "\n",
    "first_copy_cost = 3.\n",
    "all_other_copies_cost = 0.75\n",
    "\n",
    "total_cost = bookstore_price +first_copy_cost\\\n",
    "            + 59. * (bookstore_price+all_other_copies_cost)\n",
    "\n",
    "print('The bookstore pays a total of $', total_cost)"
   ]
  },
  {
   "cell_type": "markdown",
   "metadata": {},
   "source": [
    "## Problem 1(d)\n",
    "\n",
    "If I leave my house at 6:52 am and run 1 mile at an easy pace (8:15 per mile), then 3 miles at tempo (7:12 per mile) and 1 mile at easy pace again, what time do I get home for breakfast?"
   ]
  },
  {
   "cell_type": "code",
   "execution_count": 5,
   "metadata": {},
   "outputs": [
    {
     "name": "stdout",
     "output_type": "stream",
     "text": [
      "Takes 38.1 minutes total to run\n",
      "Gets home at 7 30\n"
     ]
    }
   ],
   "source": [
    "easy_pace = 8 + seconds_to_minutes*15\n",
    "tempo_pace = 7 + seconds_to_minutes*12\n",
    "minutes_in_hour = 60\n",
    "\n",
    "hours_counter = 6\n",
    "minutes_counter = 52\n",
    "\n",
    "time_to_run_in_minutes = 2*easy_pace + 3*tempo_pace\n",
    "print('Takes', time_to_run_in_minutes, 'minutes total to run')\n",
    "\n",
    "time_left_in_run = time_to_run_in_minutes\n",
    "while time_left_in_run > 1:\n",
    "    time_left_in_run -= 1 # subtract 1 minute from time left\n",
    "    minutes_counter += 1\n",
    "    if minutes_counter == 60:\n",
    "        # reset minutes counter\n",
    "        minutes_counter = 0\n",
    "        # increment hours counter\n",
    "        hours_counter += 1\n",
    "        \n",
    "print('Gets home at', hours_counter, minutes_counter)"
   ]
  },
  {
   "cell_type": "markdown",
   "metadata": {},
   "source": [
    "## Problem 2"
   ]
  },
  {
   "cell_type": "markdown",
   "metadata": {},
   "source": [
    "### Load the data from the file"
   ]
  },
  {
   "cell_type": "code",
   "execution_count": 6,
   "metadata": {},
   "outputs": [],
   "source": [
    "import numpy as np"
   ]
  },
  {
   "cell_type": "code",
   "execution_count": 9,
   "metadata": {},
   "outputs": [],
   "source": [
    "contents_pr_2 =np.load('lab1_file2.npz')"
   ]
  },
  {
   "cell_type": "code",
   "execution_count": 10,
   "metadata": {},
   "outputs": [
    {
     "data": {
      "text/plain": [
       "['xvals', 'data']"
      ]
     },
     "execution_count": 10,
     "metadata": {},
     "output_type": "execute_result"
    }
   ],
   "source": [
    "# see what's in the file\n",
    "contents_pr_2.files"
   ]
  },
  {
   "cell_type": "code",
   "execution_count": 11,
   "metadata": {},
   "outputs": [],
   "source": [
    "# store file contents in sensible arrays\n",
    "x_vals_pr_2 = contents_pr_2['xvals']\n",
    "y_vals_pr_2 = contents_pr_2['data']"
   ]
  },
  {
   "cell_type": "markdown",
   "metadata": {},
   "source": [
    "### Plot data to see what it looks like"
   ]
  },
  {
   "cell_type": "code",
   "execution_count": 12,
   "metadata": {},
   "outputs": [],
   "source": [
    "import matplotlib.pyplot as plt"
   ]
  },
  {
   "cell_type": "code",
   "execution_count": 15,
   "metadata": {},
   "outputs": [
    {
     "data": {
      "image/png": "[encoded data removed]",
      "text/plain": [
       "<Figure size 432x288 with 1 Axes>"
      ]
     },
     "metadata": {
      "needs_background": "light"
     },
     "output_type": "display_data"
    }
   ],
   "source": [
    "# make a preliminary plot of the data to see what it looks like\n",
    "plt.plot(x_vals_pr_2, y_vals_pr_2, 'o', label='Data');\n",
    "plt.xlabel(r'$x$');\n",
    "plt.ylabel(r'$y$');"
   ]
  },
  {
   "cell_type": "markdown",
   "metadata": {},
   "source": [
    "This data doesn't look very linear, it looks like it has a substantial amount of curvature. Anyway, let's use the given slope and intercept to make a linear model prediction\n",
    "\n",
    "$$ y = -9.903 x + 14.681 $$"
   ]
  },
  {
   "cell_type": "markdown",
   "metadata": {},
   "source": [
    "### Make predictions with a linear model"
   ]
  },
  {
   "cell_type": "code",
   "execution_count": 17,
   "metadata": {},
   "outputs": [],
   "source": [
    "m_pr_2 = -9.903\n",
    "b_pr_2 = 14.681\n",
    "nx_pr_2 = len(x_vals_pr_2)\n",
    "y_pred_pr_2 = np.empty(nx_pr_2)"
   ]
  },
  {
   "cell_type": "code",
   "execution_count": 18,
   "metadata": {},
   "outputs": [],
   "source": [
    "for i in range(0, nx_pr_2):\n",
    "    y_pred_pr_2[i] = m_pr_2 * x_vals_pr_2[i] + b_pr_2"
   ]
  },
  {
   "cell_type": "code",
   "execution_count": 19,
   "metadata": {},
   "outputs": [
    {
     "data": {
      "image/png": "[encoded data removed]",
      "text/plain": [
       "<Figure size 432x288 with 1 Axes>"
      ]
     },
     "metadata": {
      "needs_background": "light"
     },
     "output_type": "display_data"
    }
   ],
   "source": [
    "plt.plot(x_vals_pr_2, y_vals_pr_2, 'o', label='Data');\n",
    "plt.plot(x_vals_pr_2, y_pred_pr_2, '^-', label='Linear prediction');\n",
    "plt.xlabel(r'$x$', fontsize=14);\n",
    "plt.ylabel(r'$y$', fontsize=14);\n",
    "plt.legend(fontsize=14);"
   ]
  },
  {
   "cell_type": "markdown",
   "metadata": {},
   "source": [
    "The linear model doesn't really look like it captures all aspects of the data. Something like a quadratic model would probably be better. If this is supposed to be an explanatory model, it is probably not a good one or doesn't capture all aspects of the phenomenon."
   ]
  },
  {
   "cell_type": "markdown",
   "metadata": {},
   "source": [
    "### Compute and plot errors"
   ]
  },
  {
   "cell_type": "code",
   "execution_count": 20,
   "metadata": {},
   "outputs": [],
   "source": [
    "abs_err_pr_2 = np.empty(nx_pr_2)\n",
    "perc_err_pr_2 = np.empty(nx_pr_2)\n",
    "\n",
    "for i in range(0, nx_pr_2):\n",
    "    abs_err_pr_2[i] = abs((y_vals_pr_2[i]-y_pred_pr_2[i]))\n",
    "    perc_err_pr_2[i] = abs(abs_err_pr_2[i]/y_vals_pr_2[i]) * 100.0"
   ]
  },
  {
   "cell_type": "code",
   "execution_count": 23,
   "metadata": {},
   "outputs": [
    {
     "data": {
      "image/png": "[encoded data removed]",
      "text/plain": [
       "<Figure size 432x288 with 1 Axes>"
      ]
     },
     "metadata": {
      "needs_background": "light"
     },
     "output_type": "display_data"
    }
   ],
   "source": [
    "plt.plot(x_vals_pr_2, abs_err_pr_2, 'o', label='Absolute error');\n",
    "plt.xlabel(r'$x$', fontsize=14);\n",
    "plt.ylabel('Absolute error', fontsize=14);\n",
    "plt.axhline(0, color='gray', linestyle='--')\n",
    "plt.ylim([-2,20])\n",
    "plt.legend(fontsize=14);"
   ]
  },
  {
   "cell_type": "markdown",
   "metadata": {},
   "source": [
    "The absolute error is larger on the ends and in the middle and gets small where the prediction line crosses the curve of the data"
   ]
  },
  {
   "cell_type": "markdown",
   "metadata": {},
   "source": [
    "Relative and percent error will look the same on different scales, so I just plot percent error here"
   ]
  },
  {
   "cell_type": "code",
   "execution_count": 25,
   "metadata": {},
   "outputs": [
    {
     "data": {
      "image/png": "[encoded data removed]",
      "text/plain": [
       "<Figure size 432x288 with 1 Axes>"
      ]
     },
     "metadata": {
      "needs_background": "light"
     },
     "output_type": "display_data"
    }
   ],
   "source": [
    "plt.plot(x_vals_pr_2, perc_err_pr_2, 'o', label='Percent error');\n",
    "plt.xlabel(r'$x$', fontsize=14);\n",
    "plt.ylabel('Percent error', fontsize=14);\n",
    "plt.axhline(0, color='gray', linestyle='--')\n",
    "#plt.ylim([-2,20])\n",
    "plt.legend(fontsize=14);"
   ]
  },
  {
   "cell_type": "markdown",
   "metadata": {},
   "source": [
    "The percent error is very large at small x due to the large change in scale of the y values over the domain. The percent error then becomes very small at larger x values"
   ]
  },
  {
   "cell_type": "markdown",
   "metadata": {},
   "source": [
    "## Problem 3"
   ]
  },
  {
   "cell_type": "code",
   "execution_count": 26,
   "metadata": {},
   "outputs": [],
   "source": [
    "masses = np.array([50,100,150,200,250,300,350,400,450,500,550])\n",
    "elongations = np.array([1.000, 1.875, 2.750, 3.250, 4.375, 4.875, 5.675, 6.500, 7.250, 8.000, 8.750])\n",
    "n_masses = len(masses)"
   ]
  },
  {
   "cell_type": "code",
   "execution_count": 35,
   "metadata": {},
   "outputs": [
    {
     "data": {
      "image/png": "[encoded data removed]",
      "text/plain": [
       "<Figure size 432x288 with 1 Axes>"
      ]
     },
     "metadata": {
      "needs_background": "light"
     },
     "output_type": "display_data"
    }
   ],
   "source": [
    "plt.plot(masses, elongations, 'o', color='black');\n",
    "plt.xlabel('Mass', fontsize=12);\n",
    "plt.ylabel('Elongation', fontsize=12);\n",
    "plt.ylim([0,9]);\n",
    "plt.xlim([0,600]);"
   ]
  },
  {
   "cell_type": "code",
   "execution_count": 30,
   "metadata": {},
   "outputs": [
    {
     "name": "stdout",
     "output_type": "stream",
     "text": [
      "spring constant is 0.01625\n"
     ]
    }
   ],
   "source": [
    "spring_const = (elongations[5]-elongations[3])/(masses[5]-masses[3])\n",
    "print('spring constant is', spring_const)"
   ]
  },
  {
   "cell_type": "code",
   "execution_count": 31,
   "metadata": {},
   "outputs": [],
   "source": [
    "elong_prediction = np.empty(n_masses)\n",
    "for i in range(0,n_masses):\n",
    "    elong_prediction[i] = spring_const * masses[i]"
   ]
  },
  {
   "cell_type": "code",
   "execution_count": 34,
   "metadata": {},
   "outputs": [
    {
     "data": {
      "image/png": "[encoded data removed]",
      "text/plain": [
       "<Figure size 432x288 with 1 Axes>"
      ]
     },
     "metadata": {
      "needs_background": "light"
     },
     "output_type": "display_data"
    }
   ],
   "source": [
    "plt.plot(masses, elongations, 'o', color='black');\n",
    "plt.plot(masses, elong_prediction, '-', color='orange');\n",
    "plt.xlabel('Mass', fontsize=12);\n",
    "plt.ylabel('Elongation', fontsize=12);\n",
    "plt.ylim([0,9]);\n",
    "plt.xlim([0,600]);"
   ]
  },
  {
   "cell_type": "markdown",
   "metadata": {},
   "source": [
    "## Problem 4 (Bonus challenge)"
   ]
  },
  {
   "cell_type": "code",
   "execution_count": 36,
   "metadata": {},
   "outputs": [],
   "source": [
    "from scipy import stats"
   ]
  },
  {
   "cell_type": "code",
   "execution_count": 37,
   "metadata": {},
   "outputs": [],
   "source": [
    "npts_4 = 10"
   ]
  },
  {
   "cell_type": "code",
   "execution_count": 46,
   "metadata": {},
   "outputs": [],
   "source": [
    "np.random.seed(12345678) # use any integer argument to seed the generator\n",
    "xvals_4 = np.random.random(npts_4)\n",
    "yvals_4 = -2.4*xvals_4 -1.3 + np.random.random(npts_4)"
   ]
  },
  {
   "cell_type": "code",
   "execution_count": 47,
   "metadata": {},
   "outputs": [
    {
     "data": {
      "image/png": "[encoded data removed]",
      "text/plain": [
       "<Figure size 432x288 with 1 Axes>"
      ]
     },
     "metadata": {
      "needs_background": "light"
     },
     "output_type": "display_data"
    }
   ],
   "source": [
    "plt.plot(xvals_4, yvals_4, 'o');\n",
    "plt.xlabel('x', fontsize=12);\n",
    "plt.ylabel('y', fontsize=12);"
   ]
  },
  {
   "cell_type": "code",
   "execution_count": 48,
   "metadata": {},
   "outputs": [
    {
     "name": "stdout",
     "output_type": "stream",
     "text": [
      "slope: -2.055136    intercept: -1.031422\n"
     ]
    }
   ],
   "source": [
    "slope, intercept, r_value, p_value, std_err = stats.linregress(xvals_4, yvals_4)\n",
    "print(\"slope: %f    intercept: %f\" % (slope, intercept))"
   ]
  },
  {
   "cell_type": "markdown",
   "metadata": {},
   "source": [
    "The true slope is -2.4 and the true intercept is -1.3, so the results aren't too far off. The slope isn't steep enough and the intercept is too positive."
   ]
  },
  {
   "cell_type": "code",
   "execution_count": 49,
   "metadata": {},
   "outputs": [],
   "source": [
    "yvals_pred_4 = np.empty(npts_4)\n",
    "for i in range(0,npts_4):\n",
    "    yvals_pred_4[i] = slope * xvals_4[i] + intercept"
   ]
  },
  {
   "cell_type": "code",
   "execution_count": 50,
   "metadata": {},
   "outputs": [
    {
     "data": {
      "image/png": "[encoded data removed]",
      "text/plain": [
       "<Figure size 432x288 with 1 Axes>"
      ]
     },
     "metadata": {
      "needs_background": "light"
     },
     "output_type": "display_data"
    }
   ],
   "source": [
    "plt.plot(xvals_4, yvals_4, 'o', label='Data');\n",
    "plt.plot(xvals_4, yvals_pred_4, '-', label='Prediction');\n",
    "plt.xlabel('x', fontsize=12);\n",
    "plt.ylabel('y', fontsize=12);\n",
    "plt.legend(fontsize=12);"
   ]
  },
  {
   "cell_type": "markdown",
   "metadata": {},
   "source": [
    "The linear regression result does a good job of capturing the original line used to generate the data."
   ]
  },
  {
   "cell_type": "code",
   "execution_count": 51,
   "metadata": {},
   "outputs": [],
   "source": [
    "perc_err_4 = np.empty(npts_4)\n",
    "for i in range(0, npts_4):\n",
    "    perc_err_4[i] = abs((yvals_4[i] - yvals_pred_4[i])/yvals_4[i])"
   ]
  },
  {
   "cell_type": "code",
   "execution_count": 52,
   "metadata": {},
   "outputs": [
    {
     "data": {
      "image/png": "[encoded data removed]",
      "text/plain": [
       "<Figure size 432x288 with 1 Axes>"
      ]
     },
     "metadata": {
      "needs_background": "light"
     },
     "output_type": "display_data"
    }
   ],
   "source": [
    "plt.plot(xvals_4, perc_err_4, 'o', label='Percent error');\n",
    "plt.xlabel(r'$x$', fontsize=14);\n",
    "plt.ylabel('Percent error', fontsize=14);\n",
    "plt.axhline(0, color='gray', linestyle='--')\n",
    "#plt.ylim([-2,20])\n",
    "plt.legend(fontsize=14);"
   ]
  },
  {
   "cell_type": "markdown",
   "metadata": {},
   "source": [
    "The error is fairly random and doesn't seem to show any real patterns"
   ]
  },
  {
   "cell_type": "code",
   "execution_count": null,
   "metadata": {},
   "outputs": [],
   "source": []
  }
 ],
 "metadata": {
  "kernelspec": {
   "display_name": "Python 3",
   "language": "python",
   "name": "python3"
  },
  "language_info": {
   "codemirror_mode": {
    "name": "ipython",
    "version": 3
   },
   "file_extension": ".py",
   "mimetype": "text/x-python",
   "name": "python",
   "nbconvert_exporter": "python",
   "pygments_lexer": "ipython3",
   "version": "3.7.4"
  }
 },
 "nbformat": 4,
 "nbformat_minor": 2
}
