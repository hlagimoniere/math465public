{
 "cells": [
  {
   "cell_type": "markdown",
   "metadata": {},
   "source": [
    "# Lab 1 Tutorial: Getting started with Jupyter and Python\n",
    "\n",
    "**Author**: Sarah Wesolowski [scwesolowski@salisbury.edu]\n",
    "\n",
    "**Date**: August 31st, 2020\n",
    "\n",
    "**Purpose**: A notebook introducing Jupyter, the Python language, and how we will use these for Mathematical modeling."
   ]
  },
  {
   "cell_type": "markdown",
   "metadata": {},
   "source": [
    "## Instructions\n",
    "\n",
    "This notebook will walk you through creating your first notebook and explain where and why you are doing this. **Please don't blindly do the exercises without reading the details**, as you will have a harder time later when you need to create more complicated notebooks on your own.\n",
    "\n",
    "- Start by reading Part I: What are Jupyter and Python?\n",
    "- Move on the Part II, which walks you through creating a notebook on the server, creating and running some simple cells, and some programming concepts you'll need.\n",
    "- Finally, work through Part III. You'll work with data, both loading external data into the notebook and generating your own data. You'll make simple graphs of the data and focus on some basic principles of plotting.\n",
    "- Part IV contains all exercises to include in your notebook. It will make your life easier if you read through Parts I-III first.\n",
    "\n",
    "## Due Date: 09/09/20\n",
    "\n",
    "You will submit the `.ipynb` file through Canvas."
   ]
  },
  {
   "cell_type": "markdown",
   "metadata": {},
   "source": [
    "## Quick note on programming experience\n",
    "\n",
    "### For those with programming experience\n",
    "If you have some experience with C++ or Java from taking a COSC course, these languages are compiled, which is different from how Python works. However, you can definitely transfer much of your coding experience to use in Python. Those with R experience may have a bit more of a learning curve but many skills still transfer. If you already have a working knowledge of Python, that's great but not required.\n",
    "\n",
    "### For those without programming experience\n",
    "If you have never written a computer program before, that's ok! Python is quick to learn and you will be building your programs from examples for the most part. Just follow along as we go and you will pick up the skills you need."
   ]
  },
  {
   "cell_type": "markdown",
   "metadata": {},
   "source": [
    "## Part I: What are Jupyter and Python?\n",
    "\n",
    "Please read the following short descriptions of the tools we'll be using this semester."
   ]
  },
  {
   "cell_type": "markdown",
   "metadata": {},
   "source": [
    "### Python\n",
    "\n",
    "[**Python** is a freely available, high-level programming language](https://www.python.org/about/) that is widely used in scientific research, business, and the software development world. The language is *interpreted*, which means that we use a program called an **interpreter** to translate our Python statements to something the computer can understand and execute. You can use an interpreter directly from the command line of your computer, or through the many Interative Development Environments (IDEs) that are out there. We don't need that for this class, particularly because scripting and using the interpreter are not going to be as intuitive for this class as working in a notebook like the one you are reading. This notebook will act as the interpreter and run code for us.\n",
    "\n",
    "With [thousands of add-on packages publicly available](https://pypi.org) to do any mathematical, statistical, and computational task you can probably imagine, Python is one of the tools of choice for modern mathematical programming. Knowing some Python won't just help you in this class, but is also a valuable item for your resume. Knowing Python gives you transferable programming skills that you can use with other languages such as R, Matlab/Octave, Julia, etc."
   ]
  },
  {
   "cell_type": "markdown",
   "metadata": {},
   "source": [
    "### Jupyter (pronounced like the planet Jupiter)\n",
    "\n",
    "[Jupyter notebooks](https://jupyter.org), like the one you're currently reading, are an interactive environment where you can \n",
    "- write programs in many languages, including Python\n",
    "- make plots and graphs of your work\n",
    "- write documentation and explanations, including mathematical expressions\n",
    "\n",
    "Running Jupyter on your own computer is possible, but requires you to install several software packages. You will not need to install anything on your computer for this class. Instead, we'll use a centrally-hosted server on the SU cluster. You don't really need to know anything about the details of how that works, other than how to access your notebooks, make new ones, and run example notebooks that I give you.\n",
    "\n",
    "Jupyter works with languages other than Python, but its most frequest use is with the Python language. The \"py\" in Jupyter stands for Python, after all. The project was originally called \"IPython\", so notebook files are saved with the `.ipynb` extension."
   ]
  },
  {
   "cell_type": "markdown",
   "metadata": {},
   "source": [
    "## Part II: Basic notebook concepts"
   ]
  },
  {
   "cell_type": "markdown",
   "metadata": {},
   "source": [
    "#### <span style=\"color:blue\">1. Creating a Markdown cell</span>\n",
    "\n",
    "The Jupyter editor has two main types of Cells, `Code` and `Markdown`. `Code` cells are where you'll type different pieces of your Python program as you work, and `Markdown` cells are where you can write documentation and observations.\n",
    "\n",
    "`Markdown` refers to the very basic language used to markup text (it is very common when writing anything online, e.g., blog writers often use Markdown) and is parsed to created websites and pdfs, or this notebook.\n",
    "\n",
    "Double-click on any `Markdown` type cell (like this one) to view the code used to create it. There may be CSS and HTML mixed in with the markdown, but otherwise it's not that complicated.\n",
    "\n",
    "Here is a [cheatsheet](https://www.ibm.com/support/knowledgecenter/SSHGWL_1.2.3/analyze-data/markd-jupyter.html) of the different text formatting you can use in your notebooks with Markdown. Bookmark this page for future reference.\n",
    "\n",
    "Your first task will be to use the + at the top left of the screen to create a new cell. Use the Cell menu at the top to change your new cell to a `Markdown` cell (it will say `Code` right now).\n",
    "\n",
    "Create a main heading cell similar to the one at the top of this notebook. Make sure to include your name, the date, and the purpose of the notebook. The code will look something like this (obviously use your own information...)\n",
    "\n",
    "\n",
    "```\n",
    "# Lab 1: Getting Started with Python and Jupyter\n",
    "\n",
    "**Author**: Lamar Phillips\n",
    "\n",
    "**Date**: September 25th, 2017\n",
    "\n",
    "**Description**: blah blah blah lab\n",
    "```\n",
    "\n",
    "Press `shift-enter` together to \"run\" the cell (similar to Mathematica)"
   ]
  },
  {
   "cell_type": "markdown",
   "metadata": {},
   "source": [
    "#### <span style=\"color:blue\">2. Creating a Python cell</span>\n",
    "\n",
    "The meat of your notebooks will be the `Code` cells, where you will write your programs for data processing, solving, and making graphs and diagrams.\n",
    "\n",
    "Below are a couple of `Code` cells with basic mathematical operations. Comments can be added to code with the `#` sign"
   ]
  },
  {
   "cell_type": "code",
   "execution_count": 1,
   "metadata": {},
   "outputs": [
    {
     "data": {
      "text/plain": [
       "0"
      ]
     },
     "execution_count": 1,
     "metadata": {},
     "output_type": "execute_result"
    }
   ],
   "source": [
    "# addition and subtraction\n",
    "1 + 1 - 2"
   ]
  },
  {
   "cell_type": "markdown",
   "metadata": {},
   "source": [
    "When a single statement is run like this, the output will spit out what was computed. However, if you have more than one line or other statements, you will need to use `print` statements to see the result."
   ]
  },
  {
   "cell_type": "code",
   "execution_count": 2,
   "metadata": {},
   "outputs": [
    {
     "data": {
      "text/plain": [
       "15.217391304347828"
      ]
     },
     "execution_count": 2,
     "metadata": {},
     "output_type": "execute_result"
    }
   ],
   "source": [
    "# multiplication and division\n",
    "7 * 5 / 2.3"
   ]
  },
  {
   "cell_type": "code",
   "execution_count": 3,
   "metadata": {},
   "outputs": [
    {
     "data": {
      "text/plain": [
       "64"
      ]
     },
     "execution_count": 3,
     "metadata": {},
     "output_type": "execute_result"
    }
   ],
   "source": [
    "# Exponents\n",
    "8**2"
   ]
  },
  {
   "cell_type": "code",
   "execution_count": 4,
   "metadata": {},
   "outputs": [
    {
     "data": {
      "text/plain": [
       "1"
      ]
     },
     "execution_count": 4,
     "metadata": {},
     "output_type": "execute_result"
    }
   ],
   "source": [
    "# Modulo (performs division and returns remainder)\n",
    "5%4"
   ]
  },
  {
   "cell_type": "markdown",
   "metadata": {},
   "source": [
    "Note that I'm using this as a glorified calculator above. Also notice that to the left of each `Code` cell, you see for example `In [1]: `, showing what cell was evaluated first, second, third, etc. Keep track of this number because sometimes you will go back and change a cell to make corrections or change something in your notebook."
   ]
  },
  {
   "cell_type": "markdown",
   "metadata": {},
   "source": [
    "#### <span style=\"color:blue\">3. Storing in variables</span>\n",
    "\n",
    "A powerful concept in programming is storing quantities in variables. All variables have a **type**, which is the type of information stored in them, such as a number or text, and an **identifier**, which is the variable's name. We will mostly work with the following types of variables\n",
    "\n",
    "- integers of type `int`\n",
    "- floating point numbers of type `float`\n",
    "- strings of text of type `str`\n",
    "\n",
    "Once a variable is defined in the notebook by you pressing `shift-enter`, it stays defined until it is changed and can be used across different cells."
   ]
  },
  {
   "cell_type": "code",
   "execution_count": 5,
   "metadata": {},
   "outputs": [],
   "source": [
    "# store an integer in a variable with identifier x\n",
    "x = 5"
   ]
  },
  {
   "cell_type": "markdown",
   "metadata": {},
   "source": [
    "If you have experience with other languages that require type declaration, Python is not one of them. The interpreter determines what type to make the new variable dynamically. An expression like `int x = 5` is not valid in Python"
   ]
  },
  {
   "cell_type": "code",
   "execution_count": 6,
   "metadata": {},
   "outputs": [
    {
     "data": {
      "text/plain": [
       "int"
      ]
     },
     "execution_count": 6,
     "metadata": {},
     "output_type": "execute_result"
    }
   ],
   "source": [
    "# the type function tells you what type a variable is\n",
    "type(x)"
   ]
  },
  {
   "cell_type": "code",
   "execution_count": 7,
   "metadata": {},
   "outputs": [],
   "source": [
    "# store a floating point number in a variable with identifier y\n",
    "y = -10.3"
   ]
  },
  {
   "cell_type": "code",
   "execution_count": 8,
   "metadata": {},
   "outputs": [
    {
     "data": {
      "text/plain": [
       "float"
      ]
     },
     "execution_count": 8,
     "metadata": {},
     "output_type": "execute_result"
    }
   ],
   "source": [
    "type(y)"
   ]
  },
  {
   "cell_type": "code",
   "execution_count": 9,
   "metadata": {},
   "outputs": [],
   "source": [
    "# store text variables (use single quotes)\n",
    "my_text = 'Hello'\n",
    "my_other_text = 'my friend'"
   ]
  },
  {
   "cell_type": "code",
   "execution_count": 10,
   "metadata": {},
   "outputs": [
    {
     "data": {
      "text/plain": [
       "str"
      ]
     },
     "execution_count": 10,
     "metadata": {},
     "output_type": "execute_result"
    }
   ],
   "source": [
    "type(my_text)"
   ]
  },
  {
   "cell_type": "markdown",
   "metadata": {},
   "source": [
    "#### <span style=\"color:blue\">4. Printing and displaying text and numbers</span>\n",
    "\n",
    "We'll use the variables from the last part and print them out here. The `print` function is really important and should be used the majority of the time to see output from your code and for debugging."
   ]
  },
  {
   "cell_type": "code",
   "execution_count": 11,
   "metadata": {},
   "outputs": [
    {
     "name": "stdout",
     "output_type": "stream",
     "text": [
      "Hello\n"
     ]
    }
   ],
   "source": [
    "# print lets you display the values stored in variables\n",
    "print(my_text)"
   ]
  },
  {
   "cell_type": "code",
   "execution_count": 12,
   "metadata": {},
   "outputs": [
    {
     "name": "stdout",
     "output_type": "stream",
     "text": [
      "Hello my friend\n"
     ]
    }
   ],
   "source": [
    "# or print several values\n",
    "print(my_text, my_other_text)"
   ]
  },
  {
   "cell_type": "code",
   "execution_count": 13,
   "metadata": {},
   "outputs": [
    {
     "name": "stdout",
     "output_type": "stream",
     "text": [
      "5\n",
      "5 -10.3\n",
      "-41.2\n"
     ]
    }
   ],
   "source": [
    "# you can print variables with numbers stored in them\n",
    "print(x)\n",
    "print(x, y)\n",
    "# and mathematical expressions too\n",
    "print(x*y - y)"
   ]
  },
  {
   "cell_type": "code",
   "execution_count": 14,
   "metadata": {},
   "outputs": [
    {
     "name": "stdout",
     "output_type": "stream",
     "text": [
      "x = 5\n"
     ]
    }
   ],
   "source": [
    "print('x =', x)"
   ]
  },
  {
   "cell_type": "code",
   "execution_count": 15,
   "metadata": {},
   "outputs": [
    {
     "name": "stdout",
     "output_type": "stream",
     "text": [
      "The text stored in the earlier variables was: Hello my friend\n"
     ]
    }
   ],
   "source": [
    "print('The text stored in the earlier variables was:', my_text, my_other_text)"
   ]
  },
  {
   "cell_type": "markdown",
   "metadata": {},
   "source": [
    "Text strings can be combined using the `+` sign (no other mathematical operators are valid with strings)"
   ]
  },
  {
   "cell_type": "code",
   "execution_count": 16,
   "metadata": {},
   "outputs": [
    {
     "name": "stdout",
     "output_type": "stream",
     "text": [
      "Hellomy friend\n"
     ]
    }
   ],
   "source": [
    "new_text = my_text + my_other_text\n",
    "print(new_text)"
   ]
  },
  {
   "cell_type": "markdown",
   "metadata": {},
   "source": [
    "That doesn't look so good! The commas in a `print` statement automatically space out values, but when we combine text as above in `new_text`, we need to add the space ourselves."
   ]
  },
  {
   "cell_type": "code",
   "execution_count": 17,
   "metadata": {},
   "outputs": [
    {
     "name": "stdout",
     "output_type": "stream",
     "text": [
      "Hello my friend\n"
     ]
    }
   ],
   "source": [
    "# better way to combine text with + sign\n",
    "new_text_better = my_text + ' ' + my_other_text\n",
    "print(new_text_better)"
   ]
  },
  {
   "cell_type": "markdown",
   "metadata": {},
   "source": [
    "#### <span style=\"color:blue\">5. Lists and arrays</span>\n",
    "\n",
    "The Python language stores arrays of values in a construct called `list`\n",
    "\n",
    "Lists are easy to initialize, and just like before, can be stored in variables"
   ]
  },
  {
   "cell_type": "code",
   "execution_count": 18,
   "metadata": {},
   "outputs": [
    {
     "name": "stdout",
     "output_type": "stream",
     "text": [
      "[1, 24, 32, -4]\n"
     ]
    }
   ],
   "source": [
    "# simple list\n",
    "my_list = [1, 24, 32, -4]\n",
    "print(my_list)"
   ]
  },
  {
   "cell_type": "code",
   "execution_count": 19,
   "metadata": {},
   "outputs": [
    {
     "data": {
      "text/plain": [
       "list"
      ]
     },
     "execution_count": 19,
     "metadata": {},
     "output_type": "execute_result"
    }
   ],
   "source": [
    "type(my_list)"
   ]
  },
  {
   "cell_type": "code",
   "execution_count": 20,
   "metadata": {},
   "outputs": [
    {
     "name": "stdout",
     "output_type": "stream",
     "text": [
      "['a', '65', '1', '5', 'bee']\n"
     ]
    }
   ],
   "source": [
    "my_other_list = ['a', '65', '1', '5', 'bee']\n",
    "print(my_other_list)"
   ]
  },
  {
   "cell_type": "markdown",
   "metadata": {},
   "source": [
    "Work with individual items of the list using what is called indexing\n",
    "\n",
    "Indexing in Python starts from 0, not 1. So you can access the individual values stored in a list with 4 elements like `my_list` above the following way"
   ]
  },
  {
   "cell_type": "code",
   "execution_count": 21,
   "metadata": {},
   "outputs": [
    {
     "name": "stdout",
     "output_type": "stream",
     "text": [
      "1\n",
      "24\n",
      "32\n",
      "-4\n"
     ]
    }
   ],
   "source": [
    "print(my_list[0])\n",
    "print(my_list[1])\n",
    "print(my_list[2])\n",
    "print(my_list[3])"
   ]
  },
  {
   "cell_type": "code",
   "execution_count": 22,
   "metadata": {},
   "outputs": [
    {
     "name": "stdout",
     "output_type": "stream",
     "text": [
      "[1, 24, 32, -4]\n",
      "[5, 24, 32, -4]\n"
     ]
    }
   ],
   "source": [
    "print(my_list)\n",
    "my_list[0] = 5 # change an element of the list\n",
    "print(my_list)"
   ]
  },
  {
   "cell_type": "code",
   "execution_count": 23,
   "metadata": {},
   "outputs": [
    {
     "name": "stdout",
     "output_type": "stream",
     "text": [
      "5\n"
     ]
    }
   ],
   "source": [
    "print(my_other_list[3])"
   ]
  },
  {
   "cell_type": "markdown",
   "metadata": {},
   "source": [
    "The `len` function lets you see how long a list is."
   ]
  },
  {
   "cell_type": "code",
   "execution_count": 24,
   "metadata": {},
   "outputs": [
    {
     "data": {
      "text/plain": [
       "4"
      ]
     },
     "execution_count": 24,
     "metadata": {},
     "output_type": "execute_result"
    }
   ],
   "source": [
    "len(my_list)"
   ]
  },
  {
   "cell_type": "code",
   "execution_count": 25,
   "metadata": {},
   "outputs": [
    {
     "data": {
      "text/plain": [
       "5"
      ]
     },
     "execution_count": 25,
     "metadata": {},
     "output_type": "execute_result"
    }
   ],
   "source": [
    "len(my_other_list)"
   ]
  },
  {
   "cell_type": "markdown",
   "metadata": {},
   "source": [
    "#### <span style=\"color:blue\">6. Using loops to work with lists and arrays</span>\n",
    "\n",
    "A useful structure in programming is the `for` loop. This will let us easily work with arrays."
   ]
  },
  {
   "cell_type": "code",
   "execution_count": 26,
   "metadata": {},
   "outputs": [
    {
     "name": "stdout",
     "output_type": "stream",
     "text": [
      "5\n",
      "24\n",
      "32\n",
      "-4\n"
     ]
    }
   ],
   "source": [
    "# simplest way to print out all the items in a list/array\n",
    "for value in my_list:\n",
    "    print(value)"
   ]
  },
  {
   "cell_type": "markdown",
   "metadata": {},
   "source": [
    "The spacing in the above code is very important. In Python loops, any statement inside the loop must be indented by 1 tab (4 spaces)\n",
    "\n",
    "In programming, `i` and `j` are commonly used in loops as indexing variables"
   ]
  },
  {
   "cell_type": "code",
   "execution_count": 27,
   "metadata": {},
   "outputs": [
    {
     "name": "stdout",
     "output_type": "stream",
     "text": [
      "Item 0 in list: 5\n",
      "Item 1 in list: 24\n",
      "Item 2 in list: 32\n",
      "Item 3 in list: -4\n"
     ]
    }
   ],
   "source": [
    "# another way to print out items using indexing notation\n",
    "n_my_list = len(my_list) # variable to store the length of the list\n",
    "for i in range(n_my_list):\n",
    "    print('Item', i, 'in list:', my_list[i])"
   ]
  },
  {
   "cell_type": "code",
   "execution_count": 28,
   "metadata": {},
   "outputs": [
    {
     "name": "stdout",
     "output_type": "stream",
     "text": [
      "Item 0 in list: a\n",
      "Item 1 in list: 65\n",
      "Item 2 in list: 1\n",
      "Item 3 in list: 5\n",
      "Item 4 in list: bee\n"
     ]
    }
   ],
   "source": [
    "n_other_list = len(my_other_list)\n",
    "for j in range(n_other_list):\n",
    "    print('Item', j, 'in list:', my_other_list[j])"
   ]
  },
  {
   "cell_type": "markdown",
   "metadata": {},
   "source": [
    "#### <span style=\"color:blue\">7. Numpy for linear algebra and arrays</span>\n",
    "\n",
    "External libraries (software built on the base Python language by others and made available either for free or for purchase) help us to do certain operations in programming without having to program them ourselves. [One such library](https://numpy.org), widely used by any mathematical programmer using Python, is `numpy` (pronounced \"Numb Pie\")\n",
    "\n",
    "We can import an external library using the following statement, which lets us use the functions and abilities of the library"
   ]
  },
  {
   "cell_type": "code",
   "execution_count": 29,
   "metadata": {},
   "outputs": [],
   "source": [
    "import numpy as np # imports numpy library, use any function in library starting with \"np\""
   ]
  },
  {
   "cell_type": "markdown",
   "metadata": {},
   "source": [
    "Numpy has a [truly huge number](https://numpy.org/doc/stable/reference/index.html) of abilities and functionality built in. The ones we will use the most are for \n",
    "- storing numerical data in arrays \n",
    "- performing linear algebra\n",
    "- writing data to files"
   ]
  },
  {
   "cell_type": "code",
   "execution_count": 30,
   "metadata": {},
   "outputs": [
    {
     "name": "stdout",
     "output_type": "stream",
     "text": [
      "[ 1 24 32 -4]\n",
      "1\n"
     ]
    }
   ],
   "source": [
    "# make an array of numbers with numpy\n",
    "my_numpy_array = np.array([1, 24, 32, -4]) \n",
    "print(my_numpy_array)\n",
    "print(my_numpy_array[0])"
   ]
  },
  {
   "cell_type": "code",
   "execution_count": 31,
   "metadata": {},
   "outputs": [
    {
     "data": {
      "text/plain": [
       "numpy.ndarray"
      ]
     },
     "execution_count": 31,
     "metadata": {},
     "output_type": "execute_result"
    }
   ],
   "source": [
    "type(my_numpy_array)"
   ]
  },
  {
   "cell_type": "code",
   "execution_count": 32,
   "metadata": {},
   "outputs": [
    {
     "name": "stdout",
     "output_type": "stream",
     "text": [
      "1\n",
      "24\n",
      "32\n",
      "-4\n"
     ]
    }
   ],
   "source": [
    "# loop over the numpy array\n",
    "for value in my_numpy_array:\n",
    "    print(value)"
   ]
  },
  {
   "cell_type": "code",
   "execution_count": 33,
   "metadata": {},
   "outputs": [
    {
     "name": "stdout",
     "output_type": "stream",
     "text": [
      "Item 0 in numpy array: 1\n",
      "Item 1 in numpy array: 24\n",
      "Item 2 in numpy array: 32\n",
      "Item 3 in numpy array: -4\n"
     ]
    }
   ],
   "source": [
    "for i in range(len(my_numpy_array)):\n",
    "    print('Item', i, 'in numpy array:', my_numpy_array[i])"
   ]
  },
  {
   "cell_type": "code",
   "execution_count": 34,
   "metadata": {},
   "outputs": [
    {
     "name": "stdout",
     "output_type": "stream",
     "text": [
      "[0. 0. 0. 0. 0. 0. 0. 0. 0. 0.]\n"
     ]
    }
   ],
   "source": [
    "# make an array of zeros of a certain length\n",
    "# useful for making empty arrays to work with later\n",
    "my_numpy_array_2 = np.zeros(10)\n",
    "print(my_numpy_array_2)"
   ]
  },
  {
   "cell_type": "markdown",
   "metadata": {},
   "source": [
    "Later, we will use numpy arrays to build matrices and do linear algebra"
   ]
  },
  {
   "cell_type": "markdown",
   "metadata": {},
   "source": [
    "## Part III: Working with data, files, and plotting\n",
    "\n",
    "The majority of the time in this class we'll be working with data files or generating our own data and storing it in files. We'll often plot the results to see what they look like as well."
   ]
  },
  {
   "cell_type": "markdown",
   "metadata": {},
   "source": [
    "#### <span style=\"color:blue\">8. Loading data from a file with numpy</span>\n",
    "\n",
    "Numpy makes it easy to read numerical data from files. I will provide necessary data for this class in `.np` or `.npz` files. Upload these files into the same directory as your lab on JupyterHub. You can download the files from the lab assignment, or they are also on the K: drive if you are using Workspaces. Go to `K:\\Henson\\MATH\\MATH 465\\JupyterDataFiles`."
   ]
  },
  {
   "cell_type": "markdown",
   "metadata": {},
   "source": [
    "The function `load` is used to open `.np` and `.npz` files. There are other load functions in numpy for other types of file formats such as text or csv files. The first file we will use is called `lab1_file1.npz`. It contains a data set of y values measured at different x values.\n",
    "\n",
    "Let's start by loading the file's contents into a temporary variable called `contents`, which we can separate into the relevant parts to start working with them."
   ]
  },
  {
   "cell_type": "code",
   "execution_count": 35,
   "metadata": {},
   "outputs": [],
   "source": [
    "contents = np.load('lab1_file1.npz')"
   ]
  },
  {
   "cell_type": "markdown",
   "metadata": {},
   "source": [
    "If you aren't sure what the names of the different pieces of data are called in the file, take the variable where you stored the contents of the file and add `.files` to it to see what keys (names of different parts of the provided data) are in the file."
   ]
  },
  {
   "cell_type": "code",
   "execution_count": 36,
   "metadata": {},
   "outputs": [
    {
     "name": "stdout",
     "output_type": "stream",
     "text": [
      "['xvals', 'data']\n"
     ]
    }
   ],
   "source": [
    "print(contents.files)"
   ]
  },
  {
   "cell_type": "code",
   "execution_count": 37,
   "metadata": {},
   "outputs": [],
   "source": [
    "# put the different pieces of data in arrays to work with\n",
    "my_xvals = contents['xvals']\n",
    "my_data = contents['data']"
   ]
  },
  {
   "cell_type": "code",
   "execution_count": 38,
   "metadata": {},
   "outputs": [
    {
     "name": "stdout",
     "output_type": "stream",
     "text": [
      "[0.  0.1 0.2 0.3 0.4 0.5 0.6 0.7 0.8 0.9 1. ]\n",
      "[-0.70837892 -0.42813341 -1.36809805  0.6201354  -0.99671779 -0.42087368\n",
      "  0.35144071 -0.42264404 -0.22897611 -0.05450381  0.77572702]\n"
     ]
    }
   ],
   "source": [
    "# print out the arrays to see what is stored in them\n",
    "print(my_xvals)\n",
    "print(my_data)"
   ]
  },
  {
   "cell_type": "code",
   "execution_count": 39,
   "metadata": {},
   "outputs": [
    {
     "name": "stdout",
     "output_type": "stream",
     "text": [
      "11\n",
      "11\n"
     ]
    }
   ],
   "source": [
    "# print out the length of the arrays\n",
    "print(len(my_xvals))\n",
    "print(len(my_data))"
   ]
  },
  {
   "cell_type": "markdown",
   "metadata": {},
   "source": [
    "Always close `.npz` files once you are done working with them. We have put the contents of the file into the arrays we want to work with, so we are done with `contents`."
   ]
  },
  {
   "cell_type": "code",
   "execution_count": 40,
   "metadata": {},
   "outputs": [],
   "source": [
    "contents.close() # close once you're done working to clean up"
   ]
  },
  {
   "cell_type": "markdown",
   "metadata": {},
   "source": [
    "#### <span style=\"color:blue\">9. Plotting data with matplotlib</span>\n",
    "\n",
    "Another useful [library](https://matplotlib.org) we'll use is called `matplotlib`. Matplotlib can be used to create professional graphics with very little effort. I use it to make all plots and diagrams in my published work. It can be overwhelming if you're new to it, so I will provide examples just like above for you to follow. If you are so inclined, feel free to experiment and read more about it if you want to improve the appearance of your plots. The documentation is not for the faint of heart, but matplotlib lets you do pretty much anything you want with a plot if you know how. (Unlike certain microsoft products you may have used... Excel... cough)\n",
    "\n",
    "To use it, start as with the other libraries by importing it. In this case, we'll only use a small piece of matplotlib called `pyplot`. The `as plt` at the end of the import just shortens the name like with `np` before so we don't have to type out the whole thing."
   ]
  },
  {
   "cell_type": "code",
   "execution_count": 41,
   "metadata": {},
   "outputs": [],
   "source": [
    "import matplotlib.pyplot as plt"
   ]
  },
  {
   "cell_type": "markdown",
   "metadata": {},
   "source": [
    "`pyplot` has a function called `plot` that makes plots of data. Just put the x values first, y values second. There are lots of options you can put after that in the function to change the appearance, I'll include a few examples here."
   ]
  },
  {
   "cell_type": "code",
   "execution_count": 42,
   "metadata": {},
   "outputs": [
    {
     "data": {
      "image/png": "[encoded data removed]",
      "text/plain": [
       "<Figure size 432x288 with 1 Axes>"
      ]
     },
     "metadata": {
      "needs_background": "light"
     },
     "output_type": "display_data"
    }
   ],
   "source": [
    "plt.plot(my_xvals, my_data); \n",
    "# (optional) use the semicolon to suppress output from the return of the plot function"
   ]
  },
  {
   "cell_type": "markdown",
   "metadata": {},
   "source": [
    "Since we are plotting dicrete data points, we don't really want to connect the dots here! It is misleading and makes it harder to look at the data. You can change it to discrete markers easily with"
   ]
  },
  {
   "cell_type": "code",
   "execution_count": 43,
   "metadata": {},
   "outputs": [
    {
     "data": {
      "image/png": "[encoded data removed]",
      "text/plain": [
       "<Figure size 432x288 with 1 Axes>"
      ]
     },
     "metadata": {
      "needs_background": "light"
     },
     "output_type": "display_data"
    }
   ],
   "source": [
    "plt.plot(my_xvals, my_data, 'o');"
   ]
  },
  {
   "cell_type": "code",
   "execution_count": 44,
   "metadata": {},
   "outputs": [
    {
     "data": {
      "image/png": "[encoded data removed]",
      "text/plain": [
       "<Figure size 432x288 with 1 Axes>"
      ]
     },
     "metadata": {
      "needs_background": "light"
     },
     "output_type": "display_data"
    }
   ],
   "source": [
    "plt.plot(my_xvals, my_data, 'x'); # if you like x's better"
   ]
  },
  {
   "cell_type": "markdown",
   "metadata": {},
   "source": [
    "#### <span style=\"color:blue\">10. Plotting predictions and data together</span>\n",
    "\n",
    "One of the most common tasks we'll do in this class is to make predictions from a mathematical model. For this notebook, I will give you the first model to use. Let's say we have a reason to suspect that a straight line\n",
    "\n",
    "$$ y = mx + b $$\n",
    "\n",
    "should be used for this data set. Using least-squares, which we'll work with in later labs, the best slope and intercept for these data turn out to be\n",
    "\n",
    "$$ m = 1.05,\\quad b = -0.79 $$\n",
    "\n",
    "Now we want to use those values to generate a plot of the line of best fit.\n",
    "\n",
    "**IMPORTANT**: Although we have data only at a discrete set of x points stored in `my_xvals`, the line of best fit can be used at *any* x value to make a prediction. For this example, I am just going to use the x values in `my_xvals`, but often we will want to use different x values between or outside the ones in the data set."
   ]
  },
  {
   "cell_type": "code",
   "execution_count": 45,
   "metadata": {},
   "outputs": [],
   "source": [
    "n_data_pts = len(my_xvals) # make a variable for the number of data points\n",
    "\n",
    "# make an array to hold values of the line\n",
    "my_line = np.zeros(n_data_pts)\n",
    "\n",
    "# store the least-squares coefficients in variables\n",
    "m_val = 1.05\n",
    "b_val = -0.79\n",
    "\n",
    "# use a for loop to see what the value of the line is at each x value\n",
    "for i in range(n_data_pts):\n",
    "    my_line[i] = m_val * my_xvals[i] + b_val\n",
    "    # example debugging line in a for loop\n",
    "    # print(m_val, 'x',  my_xvals[i], '+', b_val, '=', my_line[i])"
   ]
  },
  {
   "cell_type": "code",
   "execution_count": 46,
   "metadata": {},
   "outputs": [
    {
     "name": "stdout",
     "output_type": "stream",
     "text": [
      "[-0.79  -0.685 -0.58  -0.475 -0.37  -0.265 -0.16  -0.055  0.05   0.155\n",
      "  0.26 ]\n"
     ]
    }
   ],
   "source": [
    "print(my_line)"
   ]
  },
  {
   "cell_type": "markdown",
   "metadata": {},
   "source": [
    "Now let's plot the predictions along with the data from earlier and see how it looks."
   ]
  },
  {
   "cell_type": "code",
   "execution_count": 47,
   "metadata": {},
   "outputs": [
    {
     "data": {
      "image/png": "[encoded data removed]",
      "text/plain": [
       "<Figure size 432x288 with 1 Axes>"
      ]
     },
     "metadata": {
      "needs_background": "light"
     },
     "output_type": "display_data"
    }
   ],
   "source": [
    "# plot the data points again\n",
    "plt.plot(my_xvals, my_data, 'o');\n",
    "# a second plot call overlays the line values we just calculated\n",
    "plt.plot(my_xvals, my_line, '-'); # the '-' tells it to use a line explicitly, this could be omitted"
   ]
  },
  {
   "cell_type": "markdown",
   "metadata": {},
   "source": [
    "The line looks good! One of our basic skills is assessing visually, so you should always verify your work by making a plot."
   ]
  },
  {
   "cell_type": "markdown",
   "metadata": {},
   "source": [
    "#### <span style=\"color:blue\">11. Making plots look nicer</span>\n",
    "\n",
    "Pyplot has lots of options to make plots look better. This isn't just an artistic issue. You must make sure your plots clearly show relevant information, such as what is on each axis, a legend showing what is what in the plot, and so on.\n",
    "\n",
    "Here are several add-ons to make the plot above look nicer and much more clear.\n",
    "\n",
    "**Your plots should always have legends and axis labels at the bare minimum. Discrete data points should be plotted as discrete data points, and continuous quantities should be continuous.**"
   ]
  },
  {
   "cell_type": "code",
   "execution_count": 48,
   "metadata": {},
   "outputs": [
    {
     "data": {
      "image/png": "[encoded data removed]",
      "text/plain": [
       "<Figure size 432x288 with 1 Axes>"
      ]
     },
     "metadata": {
      "needs_background": "light"
     },
     "output_type": "display_data"
    }
   ],
   "source": [
    "# redo the predictions and data plot\n",
    "plt.plot(my_xvals, my_data, 'o', label = 'Data', markersize=8);\n",
    "plt.plot(my_xvals, my_line, '-', label = 'Model prediction', linewidth=3.0); \n",
    "\n",
    "plt.xlabel('x', fontsize=14)\n",
    "plt.ylabel('y', fontsize=14)\n",
    "\n",
    "# makes a legend with the labels specified above\n",
    "plt.legend(fontsize=14); "
   ]
  },
  {
   "cell_type": "code",
   "execution_count": 49,
   "metadata": {},
   "outputs": [
    {
     "data": {
      "image/png": "[encoded data removed]",
      "text/plain": [
       "<Figure size 432x288 with 1 Axes>"
      ]
     },
     "metadata": {
      "needs_background": "light"
     },
     "output_type": "display_data"
    }
   ],
   "source": [
    "# \"Good\" graph example from class, example case\n",
    "plt.plot(my_xvals, my_data, 'o', label = 'Data', markersize=8);\n",
    "plt.plot(my_xvals, my_line, '-', label = 'Model prediction', linewidth=3.0); \n",
    "\n",
    "plt.xlabel('Position [cm]', fontsize=14)\n",
    "plt.ylabel('Temperature [degrees C]', fontsize=14)\n",
    "\n",
    "plt.xlim([-0.05,1.05])\n",
    "plt.ylim([-1,1])\n",
    "\n",
    "plt.grid()\n",
    "\n",
    "# makes a legend with the labels specified above\n",
    "plt.legend(fontsize=14); "
   ]
  },
  {
   "cell_type": "code",
   "execution_count": 50,
   "metadata": {},
   "outputs": [
    {
     "data": {
      "image/png": "[encoded data removed]",
      "text/plain": [
       "<Figure size 432x288 with 1 Axes>"
      ]
     },
     "metadata": {
      "needs_background": "light"
     },
     "output_type": "display_data"
    }
   ],
   "source": [
    "# \"Bad\" graph example from class, example case\n",
    "plt.plot(my_xvals, my_data, '*', label = 'Points', markersize=2);\n",
    "plt.plot(my_xvals, my_line, '-', label = 'Line', linewidth=1.0); \n",
    "\n",
    "plt.xlabel('Position', fontsize=8)\n",
    "plt.ylabel('Temp', fontsize=8)\n",
    "\n",
    "plt.xlim([-0.05,1.5])\n",
    "plt.ylim([-5,1])\n",
    "\n",
    "# makes a legend with the labels specified above\n",
    "plt.legend(fontsize=14); "
   ]
  },
  {
   "cell_type": "markdown",
   "metadata": {},
   "source": [
    "A couple notes about the above formatting. Any option inside a function call parentheses `()` such as `fontsize=14` is optional (called a \"keyword argument\" in Python). There are many more of these keyword arguments (\"kwargs\" in Python lingo) to do things like change colors."
   ]
  },
  {
   "cell_type": "markdown",
   "metadata": {},
   "source": [
    "#### <span style=\"color:blue\">12. Error analysis and plotting errors</span>\n",
    "\n",
    "We have worked in class to define absolute, relative, and percent error with respect to mathematical models. Let's plot those quantities for the above example and interpret the result. We may look at more types of errors later, but these three are the basics.\n",
    "\n",
    "First, let's calculate the absolute error (sometimes called a \"residual\") for the predictions with respect to the data. Let $N$ be the number of data points $\\{d_1, d_2, \\ldots, d_N\\}$ measured at $x$ values $\\{x_1, x_2, \\ldots, x_N\\}$. The absolute error of the prediction $y(x_i)$ is given by the absolute difference\n",
    "\n",
    "$$\\left|y(x_i) - d_i\\right| $$\n",
    "\n",
    "The absolute value is used because deviations above or below the function aren't usually of concern as much as the size of the deviation."
   ]
  },
  {
   "cell_type": "code",
   "execution_count": 51,
   "metadata": {},
   "outputs": [
    {
     "name": "stdout",
     "output_type": "stream",
     "text": [
      "[0.08162108 0.25686659 0.78809805 1.0951354  0.62671779 0.15587368\n",
      " 0.51144071 0.36764404 0.27897611 0.20950381 0.51572702]\n"
     ]
    }
   ],
   "source": [
    "my_abs_err = np.empty(n_data_pts)\n",
    "\n",
    "for i in range(n_data_pts):\n",
    "    my_abs_err[i] = abs(my_line[i] - my_data[i])\n",
    "    \n",
    "print(my_abs_err)"
   ]
  },
  {
   "cell_type": "code",
   "execution_count": 52,
   "metadata": {},
   "outputs": [
    {
     "data": {
      "image/png": "[encoded data removed]",
      "text/plain": [
       "<Figure size 432x288 with 1 Axes>"
      ]
     },
     "metadata": {
      "needs_background": "light"
     },
     "output_type": "display_data"
    }
   ],
   "source": [
    "plt.plot(my_xvals, my_abs_err, 'o', label='Absolute error');\n",
    "\n",
    "plt.xlabel('x', fontsize=14)\n",
    "plt.ylabel(r'$|y(x_i) - d_i|$', fontsize=14)\n",
    "\n",
    "plt.legend(fontsize=14);"
   ]
  },
  {
   "cell_type": "markdown",
   "metadata": {},
   "source": [
    "Another quantity of interest is the relative error, which is defined at the $i$th point as\n",
    "\n",
    "$$ \\left| \\frac{y(x_i) - d_i}{d_i} \\right| $$\n",
    "\n",
    "In words, relative error is \"Prediction minus measurement, divided by measurement\""
   ]
  },
  {
   "cell_type": "code",
   "execution_count": 53,
   "metadata": {},
   "outputs": [
    {
     "name": "stdout",
     "output_type": "stream",
     "text": [
      "[0.11522234 0.59996856 0.57605378 1.76596175 0.62878158 0.3703574\n",
      " 1.45526883 0.86986685 1.21836339 3.84383802 0.66483055]\n"
     ]
    }
   ],
   "source": [
    "my_relative_err = np.empty(n_data_pts)\n",
    "\n",
    "for i in range(n_data_pts):\n",
    "    my_relative_err[i] = my_abs_err[i]/abs(my_data[i])\n",
    "    \n",
    "print(my_relative_err)"
   ]
  },
  {
   "cell_type": "code",
   "execution_count": 54,
   "metadata": {},
   "outputs": [
    {
     "data": {
      "image/png": "[encoded data removed]",
      "text/plain": [
       "<Figure size 432x288 with 1 Axes>"
      ]
     },
     "metadata": {
      "needs_background": "light"
     },
     "output_type": "display_data"
    }
   ],
   "source": [
    "plt.plot(my_xvals, my_relative_err, 'o', label='Relative error');\n",
    "plt.xlabel('x', fontsize=14)\n",
    "plt.ylabel(r'$\\frac{|y(x_i) - d_i|}{d_i}$', fontsize=14)\n",
    "\n",
    "plt.legend(fontsize=14);"
   ]
  },
  {
   "cell_type": "markdown",
   "metadata": {},
   "source": [
    "Multiplying relative error by 100 gives it as a percentage. This is called the percent error, and is more often used than the relative error because we are more used to thinking in terms of percentages."
   ]
  },
  {
   "cell_type": "code",
   "execution_count": 55,
   "metadata": {},
   "outputs": [
    {
     "name": "stdout",
     "output_type": "stream",
     "text": [
      "[ 11.52223387  59.9968557   57.60537771 176.59617509  62.87815842\n",
      "  37.03573998 145.52688294  86.98668516 121.83633923 384.38380218\n",
      "  66.48305492]\n"
     ]
    }
   ],
   "source": [
    "my_percent_err = np.empty(n_data_pts)\n",
    "\n",
    "for i in range(n_data_pts):\n",
    "    my_percent_err[i] = 100 * my_relative_err[i]\n",
    "    \n",
    "print(my_percent_err)"
   ]
  },
  {
   "cell_type": "code",
   "execution_count": 56,
   "metadata": {},
   "outputs": [
    {
     "data": {
      "image/png": "[encoded data removed]",
      "text/plain": [
       "<Figure size 432x288 with 1 Axes>"
      ]
     },
     "metadata": {
      "needs_background": "light"
     },
     "output_type": "display_data"
    }
   ],
   "source": [
    "plt.plot(my_xvals, my_percent_err, 'o', label='Percent error');\n",
    "plt.xlabel('x', fontsize=14)\n",
    "plt.ylabel('Percent error [%]', fontsize=14)\n",
    "\n",
    "plt.legend(fontsize=14);"
   ]
  }
 ],
 "metadata": {
  "kernelspec": {
   "display_name": "Python 3",
   "language": "python",
   "name": "python3"
  },
  "language_info": {
   "codemirror_mode": {
    "name": "ipython",
    "version": 3
   },
   "file_extension": ".py",
   "mimetype": "text/x-python",
   "name": "python",
   "nbconvert_exporter": "python",
   "pygments_lexer": "ipython3",
   "version": "3.7.4"
  }
 },
 "nbformat": 4,
 "nbformat_minor": 2
}
