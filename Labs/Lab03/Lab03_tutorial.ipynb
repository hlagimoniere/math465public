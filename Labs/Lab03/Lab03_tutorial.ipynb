{
 "cells": [
  {
   "cell_type": "markdown",
   "metadata": {},
   "source": [
    "# Lab 3 tutorial: working with proportionality and geometric similarity\n",
    "\n",
    "**Author**: Sarah Wesolowski [scwesolowski@salisbury.edu]\n",
    "\n",
    "**Date**: September 18th, 2020\n",
    "\n",
    "**Purpose**: A notebook that explores proportionality and geometric similarity models."
   ]
  },
  {
   "cell_type": "code",
   "execution_count": 1,
   "metadata": {},
   "outputs": [],
   "source": [
    "# perform necessary imports for this notebook\n",
    "import numpy as np\n",
    "import matplotlib.pyplot as plt"
   ]
  },
  {
   "cell_type": "markdown",
   "metadata": {},
   "source": [
    "## Example 1: Is it ok to leave out the y intercept?\n",
    "\n",
    "Using relative/percent error as a diagnostic on whether a pure proportionality relationship works for different data."
   ]
  },
  {
   "cell_type": "markdown",
   "metadata": {},
   "source": [
    "### Generate synthetic data (remove for tutorial)"
   ]
  },
  {
   "cell_type": "code",
   "execution_count": 2,
   "metadata": {},
   "outputs": [],
   "source": [
    "npts_ex_1_a = 10\n",
    "xvals_ex_1_a = np.linspace(0.5, 5, num=npts_ex_1_a)\n",
    "yvals_ex_1_a = np.empty(npts_ex_1_a)\n",
    "filename_1_a = 'example-1-a-data.npz'\n",
    "m_const_ex_1_a = 1.\n",
    "b_const_ex_1_a = 0.1\n",
    "c_noise_ex_1_a = 20."
   ]
  },
  {
   "cell_type": "code",
   "execution_count": 3,
   "metadata": {},
   "outputs": [],
   "source": [
    "np.random.seed(5)\n",
    "\n",
    "for i in range(0,npts_ex_1_a):\n",
    "    y_tmp = m_const_ex_1_a * np.log(xvals_ex_1_a[i]) + b_const_ex_1_a\n",
    "    yvals_ex_1_a[i] = y_tmp  +  c_noise_ex_1_a/100. * np.random.normal()"
   ]
  },
  {
   "cell_type": "code",
   "execution_count": 4,
   "metadata": {},
   "outputs": [],
   "source": [
    "np.savez(filename_1_a, xvals = xvals_ex_1_a, data = yvals_ex_1_a)"
   ]
  },
  {
   "cell_type": "markdown",
   "metadata": {},
   "source": [
    "### Load and plot data\n",
    "\n",
    "Proposed proportionality model is\n",
    "\n",
    "$$ y \\propto \\ln x$$"
   ]
  },
  {
   "cell_type": "code",
   "execution_count": 5,
   "metadata": {},
   "outputs": [],
   "source": [
    "contents_ex_1_a = np.load('example-1-a-data.npz')"
   ]
  },
  {
   "cell_type": "code",
   "execution_count": 6,
   "metadata": {},
   "outputs": [
    {
     "data": {
      "text/plain": [
       "['xvals', 'data']"
      ]
     },
     "execution_count": 6,
     "metadata": {},
     "output_type": "execute_result"
    }
   ],
   "source": [
    "contents_ex_1_a.files"
   ]
  },
  {
   "cell_type": "code",
   "execution_count": 7,
   "metadata": {},
   "outputs": [],
   "source": [
    "xvals_ex_1_a = contents_ex_1_a['xvals']\n",
    "yvals_ex_1_a = contents_ex_1_a['data']\n",
    "npts_ex_1_a = len(xvals_ex_1_a)"
   ]
  },
  {
   "cell_type": "code",
   "execution_count": 8,
   "metadata": {},
   "outputs": [
    {
     "data": {
      "image/png": "[encoded data removed]",
      "text/plain": [
       "<Figure size 432x288 with 1 Axes>"
      ]
     },
     "metadata": {
      "needs_background": "light"
     },
     "output_type": "display_data"
    }
   ],
   "source": [
    "plt.plot(xvals_ex_1_a, yvals_ex_1_a, 'o', label='Data');\n",
    "plt.xlabel(r'$x$', fontsize=14);\n",
    "plt.ylabel(r'$y$', fontsize=14);\n",
    "plt.axhline(0, linestyle='--', color='gray')\n",
    "plt.legend(fontsize=14);"
   ]
  },
  {
   "cell_type": "markdown",
   "metadata": {},
   "source": [
    "Note that one of the data points is very close to zero, which might affect the relative error estimates later!"
   ]
  },
  {
   "cell_type": "code",
   "execution_count": 9,
   "metadata": {},
   "outputs": [],
   "source": [
    "# compute the natural log of x for plotting the proposed model\n",
    "# np.log is the *natural* log\n",
    "ln_x_vals_ex_1_a = np.empty(npts_ex_1_a)\n",
    "for i in range(0, npts_ex_1_a):\n",
    "    ln_x_vals_ex_1_a[i] = np.log(xvals_ex_1_a[i])"
   ]
  },
  {
   "cell_type": "markdown",
   "metadata": {},
   "source": [
    "Plot the proposed proportionality relationship"
   ]
  },
  {
   "cell_type": "code",
   "execution_count": 10,
   "metadata": {},
   "outputs": [
    {
     "data": {
      "image/png": "[encoded data removed]",
      "text/plain": [
       "<Figure size 432x288 with 1 Axes>"
      ]
     },
     "metadata": {
      "needs_background": "light"
     },
     "output_type": "display_data"
    }
   ],
   "source": [
    "plt.plot(ln_x_vals_ex_1_a, yvals_ex_1_a, 'o', label='Data');\n",
    "plt.xlabel(r'$\\ln (x)$', fontsize=14);\n",
    "plt.ylabel(r'$y$', fontsize=14);\n",
    "# plot the origin in case it's not obvious/visible\n",
    "plt.axhline(0, linestyle='--', color='gray')\n",
    "plt.axvline(0, linestyle='--', color='gray')\n",
    "plt.legend(fontsize=14);"
   ]
  },
  {
   "cell_type": "markdown",
   "metadata": {},
   "source": [
    "Compute an approximate slope by just taking between first and last points"
   ]
  },
  {
   "cell_type": "code",
   "execution_count": 11,
   "metadata": {},
   "outputs": [
    {
     "name": "stdout",
     "output_type": "stream",
     "text": [
      "First y value = -0.504901683182937\n",
      "Last y value = 1.6434639208782285\n",
      "First ln(x) value = -0.6931471805599453\n",
      "Last ln(x) value = 1.6094379124341003\n",
      "Approximate slope = 0.93\n"
     ]
    }
   ],
   "source": [
    "print('First y value =', yvals_ex_1_a[0])\n",
    "print('Last y value =', yvals_ex_1_a[npts_ex_1_a-1])\n",
    "print('First ln(x) value =', ln_x_vals_ex_1_a[0])\n",
    "print('Last ln(x) value =', ln_x_vals_ex_1_a[npts_ex_1_a-1])\n",
    "\n",
    "k_approx_ex_1_a = (yvals_ex_1_a[npts_ex_1_a-1] - yvals_ex_1_a[0])/(ln_x_vals_ex_1_a[npts_ex_1_a-1] - ln_x_vals_ex_1_a[0])\n",
    "print('Approximate slope =', round(k_approx_ex_1_a,2))"
   ]
  },
  {
   "cell_type": "markdown",
   "metadata": {},
   "source": [
    "Create the model predictions and plot $y$ vs. $\\ln x$"
   ]
  },
  {
   "cell_type": "code",
   "execution_count": 12,
   "metadata": {},
   "outputs": [],
   "source": [
    "model_y_vals_ex_1_a = np.empty(npts_ex_1_a)\n",
    "for i in range(0, npts_ex_1_a):\n",
    "    model_y_vals_ex_1_a[i] = k_approx_ex_1_a * ln_x_vals_ex_1_a[i]"
   ]
  },
  {
   "cell_type": "code",
   "execution_count": 13,
   "metadata": {},
   "outputs": [
    {
     "data": {
      "image/png": "[encoded data removed]",
      "text/plain": [
       "<Figure size 432x288 with 1 Axes>"
      ]
     },
     "metadata": {
      "needs_background": "light"
     },
     "output_type": "display_data"
    }
   ],
   "source": [
    "plt.plot(ln_x_vals_ex_1_a, yvals_ex_1_a, 'o', label='Data');\n",
    "plt.plot(ln_x_vals_ex_1_a, model_y_vals_ex_1_a, '-o', label='Prediction');\n",
    "plt.xlabel(r'$\\ln (x)$', fontsize=14);\n",
    "plt.ylabel(r'$y$', fontsize=14);\n",
    "# plot the origin in case it's not obvious/visible\n",
    "plt.axhline(0, linestyle='--', color='gray')\n",
    "plt.axvline(0, linestyle='--', color='gray')\n",
    "plt.legend(fontsize=14);"
   ]
  },
  {
   "cell_type": "markdown",
   "metadata": {},
   "source": [
    "Not bad, could be moved up a bit though"
   ]
  },
  {
   "cell_type": "markdown",
   "metadata": {},
   "source": [
    "### Generate synthetic data (remove for tutorial)"
   ]
  },
  {
   "cell_type": "code",
   "execution_count": 14,
   "metadata": {},
   "outputs": [],
   "source": [
    "npts_ex_2_a = 10\n",
    "xvals_ex_2_a = np.linspace(-1, 1, num=npts_ex_2_a)\n",
    "yvals_ex_2_a = np.empty(npts_ex_2_a)\n",
    "filename_2_a = 'example-2-a-data.npz'\n",
    "m_const_ex_2_a = 0.5\n",
    "b_const_ex_2_a = 1.\n",
    "c_noise_ex_2_a = 30."
   ]
  },
  {
   "cell_type": "code",
   "execution_count": 15,
   "metadata": {},
   "outputs": [],
   "source": [
    "np.random.seed(10)\n",
    "\n",
    "for i in range(0,npts_ex_2_a):\n",
    "    y_tmp = m_const_ex_2_a * np.exp(xvals_ex_2_a[i]) + b_const_ex_2_a\n",
    "    yvals_ex_2_a[i] = y_tmp  +  c_noise_ex_2_a/100. * np.random.normal()"
   ]
  },
  {
   "cell_type": "code",
   "execution_count": 16,
   "metadata": {},
   "outputs": [],
   "source": [
    "np.savez(filename_2_a, xvals = xvals_ex_2_a, data = yvals_ex_2_a)"
   ]
  },
  {
   "cell_type": "markdown",
   "metadata": {},
   "source": [
    "### Load and plot data\n",
    "\n",
    "Proposed proportionality model is\n",
    "\n",
    "$$ y \\propto e^x $$"
   ]
  },
  {
   "cell_type": "code",
   "execution_count": 17,
   "metadata": {},
   "outputs": [],
   "source": [
    "contents_ex_2_a = np.load('example-2-a-data.npz')"
   ]
  },
  {
   "cell_type": "code",
   "execution_count": 18,
   "metadata": {},
   "outputs": [
    {
     "data": {
      "text/plain": [
       "['xvals', 'data']"
      ]
     },
     "execution_count": 18,
     "metadata": {},
     "output_type": "execute_result"
    }
   ],
   "source": [
    "contents_ex_2_a.files"
   ]
  },
  {
   "cell_type": "code",
   "execution_count": 19,
   "metadata": {},
   "outputs": [],
   "source": [
    "xvals_ex_2_a = contents_ex_2_a['xvals']\n",
    "yvals_ex_2_a = contents_ex_2_a['data']\n",
    "npts_ex_2_a = len(xvals_ex_2_a)"
   ]
  },
  {
   "cell_type": "code",
   "execution_count": 20,
   "metadata": {},
   "outputs": [
    {
     "data": {
      "image/png": "[encoded data removed]",
      "text/plain": [
       "<Figure size 432x288 with 1 Axes>"
      ]
     },
     "metadata": {
      "needs_background": "light"
     },
     "output_type": "display_data"
    }
   ],
   "source": [
    "plt.plot(xvals_ex_2_a, yvals_ex_2_a, 'o', label='Data');\n",
    "plt.xlabel(r'$x$', fontsize=14);\n",
    "plt.ylabel(r'$y$', fontsize=14);\n",
    "plt.axhline(0, linestyle='--', color='gray')\n",
    "plt.legend(fontsize=14);"
   ]
  },
  {
   "cell_type": "code",
   "execution_count": 21,
   "metadata": {},
   "outputs": [],
   "source": [
    "# compute exp(x) for plotting the proposed model\n",
    "# np.exp is the function needed\n",
    "exp_x_vals_ex_2_a = np.empty(npts_ex_2_a)\n",
    "for i in range(0, npts_ex_2_a):\n",
    "    exp_x_vals_ex_2_a[i] = np.exp(xvals_ex_2_a[i])"
   ]
  },
  {
   "cell_type": "code",
   "execution_count": 22,
   "metadata": {},
   "outputs": [
    {
     "data": {
      "image/png": "[encoded data removed]",
      "text/plain": [
       "<Figure size 432x288 with 1 Axes>"
      ]
     },
     "metadata": {
      "needs_background": "light"
     },
     "output_type": "display_data"
    }
   ],
   "source": [
    "plt.plot(exp_x_vals_ex_2_a, yvals_ex_2_a, 'o', label='Data');\n",
    "plt.xlabel(r'$e^x$', fontsize=14);\n",
    "plt.ylabel(r'$y$', fontsize=14);\n",
    "# plot the origin in case it's not obvious/visible\n",
    "plt.axhline(0, linestyle='--', color='gray')\n",
    "plt.axvline(0, linestyle='--', color='gray')\n",
    "plt.legend(fontsize=14);"
   ]
  },
  {
   "cell_type": "markdown",
   "metadata": {},
   "source": [
    "Compute an approximate slope by just taking between fourth and last points"
   ]
  },
  {
   "cell_type": "code",
   "execution_count": 23,
   "metadata": {},
   "outputs": [
    {
     "name": "stdout",
     "output_type": "stream",
     "text": [
      "Fourth y value = 1.3557505003083379\n",
      "Last y value = 1.6434639208782285\n",
      "Fourth e^(x) value = 0.7165313105737893\n",
      "Last e^(x) value = 2.718281828459045\n",
      "Approximate slope = 0.48\n"
     ]
    }
   ],
   "source": [
    "print('Fourth y value =', yvals_ex_2_a[3])\n",
    "print('Last y value =', yvals_ex_1_a[npts_ex_2_a-1])\n",
    "print('Fourth e^(x) value =', exp_x_vals_ex_2_a[3])\n",
    "print('Last e^(x) value =', exp_x_vals_ex_2_a[npts_ex_2_a-1])\n",
    "\n",
    "k_approx_ex_2_a = (yvals_ex_2_a[npts_ex_1_a-1] - yvals_ex_2_a[3])/(exp_x_vals_ex_2_a[npts_ex_2_a-1] - exp_x_vals_ex_2_a[3])\n",
    "print('Approximate slope =', round(k_approx_ex_2_a,2))"
   ]
  },
  {
   "cell_type": "markdown",
   "metadata": {},
   "source": [
    "Create the model predictions and plot $y$ vs. $e^x$"
   ]
  },
  {
   "cell_type": "code",
   "execution_count": 24,
   "metadata": {},
   "outputs": [],
   "source": [
    "model_y_vals_ex_2_a = np.empty(npts_ex_2_a)\n",
    "for i in range(0, npts_ex_2_a):\n",
    "    model_y_vals_ex_2_a[i] = k_approx_ex_2_a * exp_x_vals_ex_2_a[i]"
   ]
  },
  {
   "cell_type": "code",
   "execution_count": 25,
   "metadata": {},
   "outputs": [
    {
     "data": {
      "image/png": "[encoded data removed]",
      "text/plain": [
       "<Figure size 432x288 with 1 Axes>"
      ]
     },
     "metadata": {
      "needs_background": "light"
     },
     "output_type": "display_data"
    }
   ],
   "source": [
    "plt.plot(exp_x_vals_ex_2_a, yvals_ex_2_a, 'o', label='Data');\n",
    "plt.plot(exp_x_vals_ex_2_a, model_y_vals_ex_2_a, '-o', label='Prediction');\n",
    "plt.xlabel(r'$e^x$', fontsize=14);\n",
    "plt.ylabel(r'$y$', fontsize=14);\n",
    "# plot the origin in case it's not obvious/visible\n",
    "plt.axhline(0, linestyle='--', color='gray')\n",
    "plt.axvline(0, linestyle='--', color='gray')\n",
    "plt.legend(fontsize=14);"
   ]
  },
  {
   "cell_type": "markdown",
   "metadata": {},
   "source": [
    "## Example 2: Kepler's Third Law\n",
    "\n",
    "$$ T = c R^{3/2} $$"
   ]
  },
  {
   "cell_type": "code",
   "execution_count": 26,
   "metadata": {},
   "outputs": [],
   "source": [
    "n_planets = 8\n",
    "T_vals = np.array([88, 224.7, 365.3,687.0,4331.8,10760.0,30684.0,60188.3])\n",
    "R_vals = np.array([36, 67.25, 93, 141.75, 483.80, 887.97, 1764.50, 2791.05])"
   ]
  },
  {
   "cell_type": "code",
   "execution_count": 27,
   "metadata": {},
   "outputs": [],
   "source": [
    "R_32_vals = np.empty(n_planets)\n",
    "for i in range(0,n_planets):\n",
    "    R_32_vals[i] = R_vals[i]**(1.5)"
   ]
  },
  {
   "cell_type": "code",
   "execution_count": 28,
   "metadata": {},
   "outputs": [
    {
     "data": {
      "image/png": "[encoded data removed]",
      "text/plain": [
       "<Figure size 432x288 with 1 Axes>"
      ]
     },
     "metadata": {
      "needs_background": "light"
     },
     "output_type": "display_data"
    }
   ],
   "source": [
    "plt.plot(R_32_vals, T_vals, 'o', label='Planetary Data');\n",
    "plt.xlabel(r'$R^{3/2}$ [millions of miles]${}^{3/2}$', fontsize=14);\n",
    "plt.ylabel(r'$T$ [days]', fontsize=14);\n",
    "# plot the origin in case it's not obvious/visible\n",
    "plt.axhline(0, linestyle='--', color='gray')\n",
    "plt.axvline(0, linestyle='--', color='gray')\n",
    "plt.legend(fontsize=14);"
   ]
  },
  {
   "cell_type": "markdown",
   "metadata": {},
   "source": [
    "Estimate slope using first and last points"
   ]
  },
  {
   "cell_type": "code",
   "execution_count": 29,
   "metadata": {},
   "outputs": [],
   "source": [
    "c_val = (T_vals[n_planets-1]-T_vals[0])/(R_32_vals[n_planets-1]-R_32_vals[0])"
   ]
  },
  {
   "cell_type": "code",
   "execution_count": 30,
   "metadata": {},
   "outputs": [
    {
     "name": "stdout",
     "output_type": "stream",
     "text": [
      "c = 0.4081895394231869\n"
     ]
    }
   ],
   "source": [
    "print('c =', c_val)"
   ]
  },
  {
   "cell_type": "code",
   "execution_count": 31,
   "metadata": {},
   "outputs": [],
   "source": [
    "model_T_vals = np.empty(n_planets)\n",
    "for i in range(0, n_planets):\n",
    "    model_T_vals[i] = c_val * R_32_vals[i]"
   ]
  },
  {
   "cell_type": "code",
   "execution_count": 32,
   "metadata": {},
   "outputs": [
    {
     "data": {
      "image/png": "[encoded data removed]",
      "text/plain": [
       "<Figure size 432x288 with 1 Axes>"
      ]
     },
     "metadata": {
      "needs_background": "light"
     },
     "output_type": "display_data"
    }
   ],
   "source": [
    "plt.plot(R_32_vals, T_vals, 'o', label='Planetary Data');\n",
    "plt.plot(R_32_vals, model_T_vals, '-', label='Prediction');\n",
    "plt.xlabel(r'$R^{3/2}$ [millions of miles]${}^{3/2}$', fontsize=14);\n",
    "plt.ylabel(r'$T$ [days]', fontsize=14);\n",
    "# plot the origin in case it's not obvious/visible\n",
    "plt.axhline(0, linestyle='--', color='gray')\n",
    "plt.axvline(0, linestyle='--', color='gray')\n",
    "plt.legend(fontsize=14);"
   ]
  },
  {
   "cell_type": "markdown",
   "metadata": {},
   "source": [
    "## Bass fishing example\n",
    "\n",
    "Length is given in inches, and weight is in ounces"
   ]
  },
  {
   "cell_type": "code",
   "execution_count": 39,
   "metadata": {},
   "outputs": [],
   "source": [
    "fish_length = np.array([14.5, 12.5, 17.25, 14.5, \n",
    "                        12.625, 17.75, 14.125,12.625])\n",
    "fish_weight = np.array([27, 17, 41, 26, 17, 49, 23, 16])\n",
    "n_fish = len(fish_weight)"
   ]
  },
  {
   "cell_type": "code",
   "execution_count": 40,
   "metadata": {},
   "outputs": [
    {
     "data": {
      "image/png": "[encoded data removed]",
      "text/plain": [
       "<Figure size 432x288 with 1 Axes>"
      ]
     },
     "metadata": {
      "needs_background": "light"
     },
     "output_type": "display_data"
    }
   ],
   "source": [
    "plt.plot(fish_length, fish_weight, 'o');\n",
    "plt.xlabel('Length [in.]', fontsize=12);\n",
    "plt.ylabel('Weight [oz.]', fontsize=12);\n",
    "plt.xlim([12,19]);"
   ]
  },
  {
   "cell_type": "markdown",
   "metadata": {},
   "source": [
    "Model is that $W \\propto l^3$. Test proportionality by plotting $W$ vs. $l^3$"
   ]
  },
  {
   "cell_type": "code",
   "execution_count": 42,
   "metadata": {},
   "outputs": [],
   "source": [
    "fish_length3 = np.empty(n_fish)\n",
    "for i in range(0, n_fish):\n",
    "    fish_length3[i] = fish_length[i]**3.0"
   ]
  },
  {
   "cell_type": "code",
   "execution_count": 53,
   "metadata": {},
   "outputs": [
    {
     "data": {
      "image/png": "[encoded data removed]",
      "text/plain": [
       "<Figure size 432x288 with 1 Axes>"
      ]
     },
     "metadata": {
      "needs_background": "light"
     },
     "output_type": "display_data"
    }
   ],
   "source": [
    "plt.plot(fish_length3, fish_weight, 'o');\n",
    "plt.xlabel('Length${}^3$ [in.${}^3$]', fontsize=12);\n",
    "plt.ylabel('Weight [oz.]', fontsize=12);"
   ]
  },
  {
   "cell_type": "markdown",
   "metadata": {},
   "source": [
    "Change things up and find the slope using the line of best fit. Note that to use the proportionality model, we have to ignore the y intercept."
   ]
  },
  {
   "cell_type": "code",
   "execution_count": 46,
   "metadata": {},
   "outputs": [],
   "source": [
    "from scipy import stats"
   ]
  },
  {
   "cell_type": "code",
   "execution_count": 47,
   "metadata": {},
   "outputs": [
    {
     "name": "stdout",
     "output_type": "stream",
     "text": [
      "slope: 0.008468    intercept: -0.117116\n"
     ]
    }
   ],
   "source": [
    "fish_slope, fish_intercept, r_value, p_value, std_err =\\\n",
    "                                stats.linregress(fish_length3, fish_weight)\n",
    "print(\"slope: %f    intercept: %f\" % (fish_slope, fish_intercept))"
   ]
  },
  {
   "cell_type": "markdown",
   "metadata": {},
   "source": [
    "It is reassuring that the estimated intercept is small relative to the range of weights, 20 to 50, that were measured. This, added to the roughly linear structure of the graph, is an indication that proportionality is good assumption."
   ]
  },
  {
   "cell_type": "code",
   "execution_count": 48,
   "metadata": {},
   "outputs": [],
   "source": [
    "fish_weight_predictions = np.empty(n_fish)\n",
    "for i in range(0, n_fish):\n",
    "    fish_weight_predictions[i] = fish_slope * fish_length3[i]"
   ]
  },
  {
   "cell_type": "code",
   "execution_count": 52,
   "metadata": {},
   "outputs": [
    {
     "data": {
      "image/png": "[encoded data removed]",
      "text/plain": [
       "<Figure size 432x288 with 1 Axes>"
      ]
     },
     "metadata": {
      "needs_background": "light"
     },
     "output_type": "display_data"
    }
   ],
   "source": [
    "plt.plot(fish_length3, fish_weight, 'o', label='Fish data');\n",
    "plt.plot(fish_length3, fish_weight_predictions, '-', label='Prediction')\n",
    "plt.xlabel('Length${}^3$ [in.${}^3$]', fontsize=12);\n",
    "plt.ylabel('Weight [oz.]', fontsize=12);\n",
    "#plt.axhline(0, color='gray', linestyle='--');\n",
    "#plt.axvline(0, color='gray', linestyle='--');\n",
    "plt.legend(fontsize=12);"
   ]
  },
  {
   "cell_type": "markdown",
   "metadata": {},
   "source": [
    "Let's round this out by plotting in the original variables $W$ and $l$. The way the l values were spaced will cause issues in seeing the plot in these variables. A way to get around that is to extend the range of $l$ values used and use more points for the weight prediction."
   ]
  },
  {
   "cell_type": "code",
   "execution_count": 60,
   "metadata": {},
   "outputs": [],
   "source": [
    "n_fish_more = 50\n",
    "fish_length_extended = np.linspace(10,20, num=n_fish_more)\n",
    "fish_weight_pred_extended = np.empty(n_fish_more)\n",
    "# predict for 100 fish lengths between 10 and 20 inches\n",
    "for i in range(0, n_fish_more):\n",
    "    fish_weight_pred_extended[i] =\\\n",
    "             fish_slope * fish_length_extended[i]**3.0"
   ]
  },
  {
   "cell_type": "code",
   "execution_count": 65,
   "metadata": {},
   "outputs": [
    {
     "data": {
      "image/png": "[encoded data removed]",
      "text/plain": [
       "<Figure size 432x288 with 1 Axes>"
      ]
     },
     "metadata": {
      "needs_background": "light"
     },
     "output_type": "display_data"
    }
   ],
   "source": [
    "plt.plot(fish_length, fish_weight, 'o', label='Fish data');\n",
    "plt.plot(fish_length_extended, fish_weight_pred_extended, '+', label='Prediction')\n",
    "plt.xlabel('Length [in.]', fontsize=12);\n",
    "plt.ylabel('Weight [oz.]', fontsize=12);\n",
    "#plt.axhline(0, color='gray', linestyle='--');\n",
    "#plt.axvline(0, color='gray', linestyle='--');\n",
    "plt.legend(fontsize=12);"
   ]
  },
  {
   "cell_type": "markdown",
   "metadata": {},
   "source": [
    "### Compute absolute and percent error\n",
    "\n",
    "To further analyze the bass fishing model, compute absolute and percent errors"
   ]
  },
  {
   "cell_type": "code",
   "execution_count": 66,
   "metadata": {},
   "outputs": [],
   "source": [
    "fish_abs_err = np.empty(n_fish)\n",
    "fish_perc_err = np.empty(n_fish)\n",
    "for i in range(0, n_fish):\n",
    "    fish_abs_err[i] = abs(fish_weight[i] - fish_weight_predictions[i])\n",
    "    fish_perc_err[i] = fish_abs_err[i]/fish_weight[i] * 100.0"
   ]
  },
  {
   "cell_type": "code",
   "execution_count": 67,
   "metadata": {},
   "outputs": [
    {
     "data": {
      "image/png": "[encoded data removed]",
      "text/plain": [
       "<Figure size 432x288 with 1 Axes>"
      ]
     },
     "metadata": {
      "needs_background": "light"
     },
     "output_type": "display_data"
    }
   ],
   "source": [
    "plt.plot(fish_length, fish_abs_err, 'o', label='Absolute error');\n",
    "plt.xlabel('Length [in.]', fontsize=12);\n",
    "plt.ylabel('Absolute error in weight [oz.]', fontsize=12);\n",
    "#plt.axhline(0, color='gray', linestyle='--');\n",
    "#plt.axvline(0, color='gray', linestyle='--');\n",
    "plt.legend(fontsize=12);"
   ]
  },
  {
   "cell_type": "markdown",
   "metadata": {},
   "source": [
    "It's hard to recognize a pattern here because there are not many data points. The predictions are slightly worse in absolute terms for larger fish."
   ]
  },
  {
   "cell_type": "code",
   "execution_count": 68,
   "metadata": {},
   "outputs": [
    {
     "data": {
      "image/png": "[encoded data removed]",
      "text/plain": [
       "<Figure size 432x288 with 1 Axes>"
      ]
     },
     "metadata": {
      "needs_background": "light"
     },
     "output_type": "display_data"
    }
   ],
   "source": [
    "plt.plot(fish_length, fish_perc_err, '^',\n",
    "         label='Percent error', color='green');\n",
    "plt.xlabel('Length [in.]', fontsize=12);\n",
    "plt.ylabel('Percent error in weight [%]', fontsize=12);\n",
    "#plt.axhline(0, color='gray', linestyle='--');\n",
    "#plt.axvline(0, color='gray', linestyle='--');\n",
    "plt.legend(fontsize=12);"
   ]
  },
  {
   "cell_type": "markdown",
   "metadata": {},
   "source": [
    "When viewed as a percent, the model makes similar mistakes across all lengths of fish."
   ]
  },
  {
   "cell_type": "code",
   "execution_count": null,
   "metadata": {},
   "outputs": [],
   "source": []
  }
 ],
 "metadata": {
  "kernelspec": {
   "display_name": "Python 3",
   "language": "python",
   "name": "python3"
  },
  "language_info": {
   "codemirror_mode": {
    "name": "ipython",
    "version": 3
   },
   "file_extension": ".py",
   "mimetype": "text/x-python",
   "name": "python",
   "nbconvert_exporter": "python",
   "pygments_lexer": "ipython3",
   "version": "3.7.4"
  }
 },
 "nbformat": 4,
 "nbformat_minor": 2
}
