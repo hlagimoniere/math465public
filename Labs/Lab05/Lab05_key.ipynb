{
 "cells": [
  {
   "cell_type": "markdown",
   "metadata": {},
   "source": [
    "# Lab 5 key\n",
    "\n",
    "Key for Math 465 Lab 5"
   ]
  },
  {
   "cell_type": "code",
   "execution_count": 2,
   "metadata": {},
   "outputs": [],
   "source": [
    "from linear_fitting_functions import *"
   ]
  },
  {
   "cell_type": "markdown",
   "metadata": {},
   "source": [
    "## Problem 1"
   ]
  },
  {
   "cell_type": "markdown",
   "metadata": {},
   "source": [
    "### Part (a)"
   ]
  },
  {
   "cell_type": "code",
   "execution_count": 5,
   "metadata": {},
   "outputs": [],
   "source": [
    "x1a = np.array([1.0,2.3,3.7,4.2,6.1,7.0])\n",
    "y1a = np.array([3.6,3.0,3.2,5.1,5.3,6.8])\n",
    "n1 = len(x1a)"
   ]
  },
  {
   "cell_type": "markdown",
   "metadata": {},
   "source": [
    "See what the data look like"
   ]
  },
  {
   "cell_type": "code",
   "execution_count": 4,
   "metadata": {},
   "outputs": [
    {
     "data": {
      "image/png": "[encoded data removed]",
      "text/plain": [
       "<Figure size 432x288 with 1 Axes>"
      ]
     },
     "metadata": {
      "needs_background": "light"
     },
     "output_type": "display_data"
    }
   ],
   "source": [
    "plt.plot(x1a,y1a,'o')\n",
    "plt.xlabel(r'$x$')\n",
    "plt.ylabel(r'$y$')\n",
    "plt.title('Problem 1(a) data');"
   ]
  },
  {
   "cell_type": "markdown",
   "metadata": {},
   "source": [
    "Solve for $a$ and $b$ using the normal equations\n",
    "\n",
    "$$ a = \\frac{m\\sum x_i y_i - \\sum x_i \\sum y_i}{m\\sum x_i^2 - \\left( \\sum x_i \\right)^2} $$\n",
    "\n",
    "and \n",
    "\n",
    "$$ b = \\frac{\\sum x_i^2 \\sum y_i - \\sum x_i y_i \\sum x_i}{m\\sum x_i^2 - \\left( \\sum x_i \\right)^2} $$"
   ]
  },
  {
   "cell_type": "code",
   "execution_count": 7,
   "metadata": {},
   "outputs": [],
   "source": [
    "sum_x_i_1a = np.sum(x1a)\n",
    "sum_y_i_1a = np.sum(y1a)\n",
    "sum_x_i_y_i_1a = np.dot(x1a,y1a)\n",
    "sum_x_i_2_1a = np.dot(x1a,x1a)"
   ]
  },
  {
   "cell_type": "code",
   "execution_count": 22,
   "metadata": {},
   "outputs": [
    {
     "name": "stdout",
     "output_type": "stream",
     "text": [
      "Exact least-squares solutions for Problem 1(a)\n",
      "a =  0.5642\n",
      "b =  2.2149\n"
     ]
    }
   ],
   "source": [
    "a1a = (n1 * sum_x_i_y_i_1a - sum_x_i_1a*sum_y_i_1a)/(n1*sum_x_i_2_1a - (sum_x_i_1a)**2.0)\n",
    "b1a = (sum_x_i_2_1a * sum_y_i_1a - sum_x_i_y_i_1a * sum_x_i_1a)/(n1*sum_x_i_2_1a - (sum_x_i_1a)**2.0)\n",
    "print('Exact least-squares solutions for Problem 1(a)')\n",
    "print('a = ', '{:.4f}'.format(a1a))\n",
    "print('b = ', '{:.4f}'.format(b1a))"
   ]
  },
  {
   "cell_type": "markdown",
   "metadata": {},
   "source": [
    "Compute the sum of squared errors for the model"
   ]
  },
  {
   "cell_type": "code",
   "execution_count": 18,
   "metadata": {},
   "outputs": [
    {
     "name": "stdout",
     "output_type": "stream",
     "text": [
      "Sum of squared errors for Problem 1(a)\n",
      "S =  2.949\n"
     ]
    }
   ],
   "source": [
    "abs_errs_1a = np.empty(n1)\n",
    "sq_errs_1a = 0.0\n",
    "for i in range(0,n1):\n",
    "    abs_errs_1a[i] = abs(y1a[i] - (a1a*x1a[i] + b1a) )\n",
    "    sq_errs_1a += abs_errs_1a[i]**2.0\n",
    "print('Sum of squared errors for Problem 1(a)')\n",
    "print('S = ', '{:.3f}'.format(sq_errs_1a))"
   ]
  },
  {
   "cell_type": "code",
   "execution_count": 15,
   "metadata": {},
   "outputs": [],
   "source": [
    "npred1a = 50\n",
    "xpred1a = np.linspace(0,8,num=npred1a)\n",
    "ypred1a = a1a * xpred1a + b1a # you can make predictions without the for loop :)"
   ]
  },
  {
   "cell_type": "code",
   "execution_count": 16,
   "metadata": {},
   "outputs": [
    {
     "data": {
      "image/png": "[encoded data removed]",
      "text/plain": [
       "<Figure size 432x288 with 1 Axes>"
      ]
     },
     "metadata": {
      "needs_background": "light"
     },
     "output_type": "display_data"
    }
   ],
   "source": [
    "plt.plot(x1a, y1a, 'o', label='Data')\n",
    "plt.plot(xpred1a,ypred1a,'+', label='Predictions')\n",
    "plt.xlabel(r'$x$', fontsize=12)\n",
    "plt.ylabel(r'$y$', fontsize=12)\n",
    "plt.legend(fontsize=12)\n",
    "plt.title('Problem 1(a) data and linear predictions');"
   ]
  },
  {
   "cell_type": "markdown",
   "metadata": {},
   "source": [
    "Compute $D$ and $d_{\\text{max}}$"
   ]
  },
  {
   "cell_type": "code",
   "execution_count": 20,
   "metadata": {},
   "outputs": [
    {
     "name": "stdout",
     "output_type": "stream",
     "text": [
      "Chebyshev cmax bounds for this data set\n",
      " D =  0.701\n",
      " dmax =  1.103\n"
     ]
    }
   ],
   "source": [
    "print('Chebyshev cmax bounds for this data set')\n",
    "D1a = np.sqrt(sq_errs_1a/n1)\n",
    "print(' D = ', '{:.3f}'.format(D1a))\n",
    "dmax1a = max(abs_errs_1a)\n",
    "print(' dmax = ', '{:.3f}'.format(dmax1a))"
   ]
  },
  {
   "cell_type": "markdown",
   "metadata": {},
   "source": [
    "Therefore the value of the smallest maximum deviation obtainable from Chebyshev's method is\n",
    "\n",
    "$$ 0.701 \\leq c_{\\text{max}} \\leq 1.103 $$"
   ]
  },
  {
   "cell_type": "markdown",
   "metadata": {},
   "source": [
    "Compare to the least-squares optimizer (should get roughly the same thing)\n",
    "\n",
    "Remember that the slope and intercept you pass to this function are starting guesses for the optimizer function, not the values actually used"
   ]
  },
  {
   "cell_type": "code",
   "execution_count": 21,
   "metadata": {},
   "outputs": [
    {
     "name": "stdout",
     "output_type": "stream",
     "text": [
      "After 2 iterations...\n",
      "The optimization was successful! Here are the values it found:\n",
      "       m =     0.5642\n",
      "       b =     2.2149\n",
      "             x value     residual squared\n",
      "              1.0000               0.6739\n",
      "              2.3000               0.2627\n",
      "              3.7000               1.2155\n",
      "              4.2000               0.2656\n",
      "              6.1000               0.1272\n",
      "              7.0000               0.4039\n",
      "The sum of squared deviations is 2.9489\n",
      "And in case you need to know...\n",
      "The largest absolute error is r = 1.1025 \n",
      " It occurs when x =  3.7000\n"
     ]
    },
    {
     "data": {
      "image/png": "[encoded data removed]",
      "text/plain": [
       "<Figure size 432x288 with 1 Axes>"
      ]
     },
     "metadata": {
      "needs_background": "light"
     },
     "output_type": "display_data"
    }
   ],
   "source": [
    "least_squares_optimizer_fit_linear(x1a, y1a, 1, 1, xpred1a) "
   ]
  },
  {
   "cell_type": "markdown",
   "metadata": {},
   "source": [
    "Compare values from exact calculation and optimizer\n",
    "\n",
    "| | Exact | Optimizer |\n",
    "|---|---|---|\n",
    "| $a$ |0.5642 | 0.5642 |\n",
    "| $b$ | 2.2149 | 2.2149 |\n",
    "|$S$ | 2.949 | 2.9489 |\n",
    "\n",
    "They get exactly the same thing using different methods"
   ]
  },
  {
   "cell_type": "markdown",
   "metadata": {},
   "source": [
    "\n",
    "\n",
    "### Part (b)"
   ]
  },
  {
   "cell_type": "code",
   "execution_count": 28,
   "metadata": {},
   "outputs": [],
   "source": [
    "x1b = np.array([29.1,48.2,72.7,92.0,118,140,165,199])\n",
    "y1b = np.array([0.0493,0.0821,0.123,0.154,0.197,0.234,0.274,0.328])\n",
    "n1b = len(x1b)"
   ]
  },
  {
   "cell_type": "code",
   "execution_count": 25,
   "metadata": {},
   "outputs": [
    {
     "data": {
      "image/png": "[encoded data removed]",
      "text/plain": [
       "<Figure size 432x288 with 1 Axes>"
      ]
     },
     "metadata": {
      "needs_background": "light"
     },
     "output_type": "display_data"
    }
   ],
   "source": [
    "plt.plot(x1b,y1b,'o')\n",
    "plt.xlabel(r'$x$')\n",
    "plt.ylabel(r'$y$')\n",
    "plt.title('Problem 1(b) data');"
   ]
  },
  {
   "cell_type": "code",
   "execution_count": 30,
   "metadata": {},
   "outputs": [
    {
     "name": "stdout",
     "output_type": "stream",
     "text": [
      "Exact least-squares solutions for Problem 1(a)\n",
      "a =  0.00164\n",
      "b =  0.00293\n"
     ]
    }
   ],
   "source": [
    "sum_x_i_1b = np.sum(x1b)\n",
    "sum_y_i_1b = np.sum(y1b)\n",
    "sum_x_i_y_i_1b = np.dot(x1b,y1b)\n",
    "sum_x_i_2_1b = np.dot(x1b,x1b)\n",
    "\n",
    "a1b = (n1b * sum_x_i_y_i_1b - sum_x_i_1b*sum_y_i_1b)/(n1b*sum_x_i_2_1b - (sum_x_i_1b)**2.0)\n",
    "b1b = (sum_x_i_2_1b * sum_y_i_1b - sum_x_i_y_i_1b * sum_x_i_1b)/(n1b*sum_x_i_2_1b - (sum_x_i_1b)**2.0)\n",
    "print('Exact least-squares solutions for Problem 1(a)')\n",
    "print('a = ', '{:.5f}'.format(a1b))\n",
    "print('b = ', '{:.5f}'.format(b1b))"
   ]
  },
  {
   "cell_type": "code",
   "execution_count": 32,
   "metadata": {},
   "outputs": [
    {
     "name": "stdout",
     "output_type": "stream",
     "text": [
      "Sum of squared errors for Problem 1(b)\n",
      "S =  0.0000067823\n"
     ]
    }
   ],
   "source": [
    "abs_errs_1b = np.empty(n1b)\n",
    "sq_errs_1b = 0.0\n",
    "for i in range(0,n1b):\n",
    "    abs_errs_1b[i] = abs(y1b[i] - (a1b*x1b[i] + b1b) )\n",
    "    sq_errs_1b += abs_errs_1b[i]**2.0\n",
    "print('Sum of squared errors for Problem 1(b)')\n",
    "print('S = ', '{:.10f}'.format(sq_errs_1b))"
   ]
  },
  {
   "cell_type": "code",
   "execution_count": 33,
   "metadata": {},
   "outputs": [
    {
     "data": {
      "image/png": "[encoded data removed]",
      "text/plain": [
       "<Figure size 432x288 with 1 Axes>"
      ]
     },
     "metadata": {
      "needs_background": "light"
     },
     "output_type": "display_data"
    }
   ],
   "source": [
    "npred1b = 50\n",
    "xpred1b = np.linspace(25,225,num=npred1b)\n",
    "ypred1b = a1b * xpred1b + b1b # you can make predictions without the for loop :)\n",
    "plt.plot(x1b, y1b, 'o', label='Data')\n",
    "plt.plot(xpred1b,ypred1b,'+', label='Predictions')\n",
    "plt.xlabel(r'$x$', fontsize=12)\n",
    "plt.ylabel(r'$y$', fontsize=12)\n",
    "plt.legend(fontsize=12)\n",
    "plt.title('Problem 1(b) data and linear predictions');"
   ]
  },
  {
   "cell_type": "code",
   "execution_count": 35,
   "metadata": {},
   "outputs": [
    {
     "name": "stdout",
     "output_type": "stream",
     "text": [
      "Chebyshev cmax bounds for this data set\n",
      " D =  0.000921\n",
      " dmax =  0.001524\n"
     ]
    }
   ],
   "source": [
    "print('Chebyshev cmax bounds for this data set')\n",
    "D1b = np.sqrt(sq_errs_1b/n1b)\n",
    "print(' D = ', '{:.6f}'.format(D1b))\n",
    "dmax1b = max(abs_errs_1b)\n",
    "print(' dmax = ', '{:.6f}'.format(dmax1b))"
   ]
  },
  {
   "cell_type": "markdown",
   "metadata": {},
   "source": [
    "Therefore the value of the smallest maximum deviation obtainable from Chebyshev's method is\n",
    "\n",
    "$$ 0.000921 \\leq c_{\\text{max}} \\leq 0.001524 $$"
   ]
  },
  {
   "cell_type": "code",
   "execution_count": 36,
   "metadata": {},
   "outputs": [
    {
     "name": "stdout",
     "output_type": "stream",
     "text": [
      "After 4 iterations...\n",
      "The optimization was successful! Here are the values it found:\n",
      "       m =     0.0016\n",
      "       b =     0.0029\n",
      "             x value     residual squared\n",
      "             29.1000               0.0000\n",
      "             48.2000               0.0000\n",
      "             72.7000               0.0000\n",
      "             92.0000               0.0000\n",
      "            118.0000               0.0000\n",
      "            140.0000               0.0000\n",
      "            165.0000               0.0000\n",
      "            199.0000               0.0000\n",
      "The sum of squared deviations is 0.0000\n",
      "And in case you need to know...\n",
      "The largest absolute error is r = 0.0015 \n",
      " It occurs when x =  199.0000\n"
     ]
    },
    {
     "data": {
      "image/png": "[encoded data removed]",
      "text/plain": [
       "<Figure size 432x288 with 1 Axes>"
      ]
     },
     "metadata": {
      "needs_background": "light"
     },
     "output_type": "display_data"
    }
   ],
   "source": [
    "least_squares_optimizer_fit_linear(x1b, y1b, 1, 1, xpred1b) "
   ]
  },
  {
   "cell_type": "markdown",
   "metadata": {},
   "source": [
    "The output precision is not enough to see whether $S$ is the same from the optimizer, but the values of $a$ and $b$ will be, so we can be reasonable confident that the optimizer gets the same thing."
   ]
  },
  {
   "cell_type": "markdown",
   "metadata": {},
   "source": [
    "### Part (c)"
   ]
  },
  {
   "cell_type": "code",
   "execution_count": 38,
   "metadata": {},
   "outputs": [],
   "source": [
    "x1c = np.array([2.5,3.0,3.5,4.0,4.5,5.0,5.5])\n",
    "y1c = np.array([4.32,4.83,5.27,5.74,6.26,6.79,7.23])\n",
    "n1c = len(x1c)"
   ]
  },
  {
   "cell_type": "code",
   "execution_count": 39,
   "metadata": {},
   "outputs": [
    {
     "data": {
      "image/png": "[encoded data removed]",
      "text/plain": [
       "<Figure size 432x288 with 1 Axes>"
      ]
     },
     "metadata": {
      "needs_background": "light"
     },
     "output_type": "display_data"
    }
   ],
   "source": [
    "plt.plot(x1c,y1c,'o')\n",
    "plt.xlabel(r'$x$')\n",
    "plt.ylabel(r'$y$')\n",
    "plt.title('Problem 1(c) data');"
   ]
  },
  {
   "cell_type": "code",
   "execution_count": 45,
   "metadata": {},
   "outputs": [
    {
     "name": "stdout",
     "output_type": "stream",
     "text": [
      "Exact least-squares solutions for Problem 1(c)\n",
      "a =  0.97429\n",
      "b =  1.88000\n"
     ]
    }
   ],
   "source": [
    "sum_x_i_1c = np.sum(x1c)\n",
    "sum_y_i_1c = np.sum(y1c)\n",
    "sum_x_i_y_i_1c = np.dot(x1c,y1c)\n",
    "sum_x_i_2_1c = np.dot(x1c,x1c)\n",
    "\n",
    "a1c = (n1c * sum_x_i_y_i_1c - sum_x_i_1c*sum_y_i_1c)/(n1c*sum_x_i_2_1c - (sum_x_i_1c)**2.0)\n",
    "b1c = (sum_x_i_2_1c * sum_y_i_1c - sum_x_i_y_i_1c * sum_x_i_1c)/(n1c*sum_x_i_2_1c - (sum_x_i_1c)**2.0)\n",
    "print('Exact least-squares solutions for Problem 1(c)')\n",
    "print('a = ', '{:.5f}'.format(a1c))\n",
    "print('b = ', '{:.5f}'.format(b1c))"
   ]
  },
  {
   "cell_type": "code",
   "execution_count": 47,
   "metadata": {},
   "outputs": [
    {
     "name": "stdout",
     "output_type": "stream",
     "text": [
      "Sum of squared errors for Problem 1(c)\n",
      "S =  0.004114\n"
     ]
    }
   ],
   "source": [
    "abs_errs_1c = np.empty(n1c)\n",
    "sq_errs_1c = 0.0\n",
    "for i in range(0,n1c):\n",
    "    abs_errs_1c[i] = abs(y1c[i] - (a1c*x1c[i] + b1c) )\n",
    "    sq_errs_1c += abs_errs_1c[i]**2.0\n",
    "print('Sum of squared errors for Problem 1(c)')\n",
    "print('S = ', '{:.6f}'.format(sq_errs_1c))"
   ]
  },
  {
   "cell_type": "code",
   "execution_count": 48,
   "metadata": {},
   "outputs": [
    {
     "data": {
      "image/png": "[encoded data removed]",
      "text/plain": [
       "<Figure size 432x288 with 1 Axes>"
      ]
     },
     "metadata": {
      "needs_background": "light"
     },
     "output_type": "display_data"
    }
   ],
   "source": [
    "npred1c = 50\n",
    "xpred1c = np.linspace(2,6,num=npred1c)\n",
    "ypred1c = a1c * xpred1c + b1c # you can make predictions without the for loop :)\n",
    "plt.plot(x1c, y1c, 'o', label='Data')\n",
    "plt.plot(xpred1c,ypred1c,'+', label='Predictions')\n",
    "plt.xlabel(r'$x$', fontsize=12)\n",
    "plt.ylabel(r'$y$', fontsize=12)\n",
    "plt.legend(fontsize=12)\n",
    "plt.title('Problem 1(c) data and linear predictions');"
   ]
  },
  {
   "cell_type": "code",
   "execution_count": 49,
   "metadata": {},
   "outputs": [
    {
     "name": "stdout",
     "output_type": "stream",
     "text": [
      "Chebyshev cmax bounds for this data set\n",
      " D =  0.024244\n",
      " dmax =  0.038571\n"
     ]
    }
   ],
   "source": [
    "print('Chebyshev cmax bounds for this data set')\n",
    "D1c = np.sqrt(sq_errs_1c/n1c)\n",
    "print(' D = ', '{:.6f}'.format(D1c))\n",
    "dmax1c = max(abs_errs_1c)\n",
    "print(' dmax = ', '{:.6f}'.format(dmax1c))"
   ]
  },
  {
   "cell_type": "markdown",
   "metadata": {},
   "source": [
    "Therefore the value of the smallest maximum deviation obtainable from Chebyshev's method is\n",
    "\n",
    "$$ 0.024244 \\leq c_{\\text{max}} \\leq 0.038571 $$"
   ]
  },
  {
   "cell_type": "code",
   "execution_count": 50,
   "metadata": {},
   "outputs": [
    {
     "name": "stdout",
     "output_type": "stream",
     "text": [
      "After 3 iterations...\n",
      "The optimization was successful! Here are the values it found:\n",
      "       m =     0.9743\n",
      "       b =     1.8800\n",
      "             x value     residual squared\n",
      "              2.5000               0.0000\n",
      "              3.0000               0.0007\n",
      "              3.5000               0.0004\n",
      "              4.0000               0.0014\n",
      "              4.5000               0.0000\n",
      "              5.0000               0.0015\n",
      "              5.5000               0.0001\n",
      "The sum of squared deviations is 0.0041\n",
      "And in case you need to know...\n",
      "The largest absolute error is r = 0.0386 \n",
      " It occurs when x =  5.0000\n"
     ]
    },
    {
     "data": {
      "image/png": "[encoded data removed]",
      "text/plain": [
       "<Figure size 432x288 with 1 Axes>"
      ]
     },
     "metadata": {
      "needs_background": "light"
     },
     "output_type": "display_data"
    }
   ],
   "source": [
    "least_squares_optimizer_fit_linear(x1c, y1c, 1, 1, xpred1c) "
   ]
  },
  {
   "cell_type": "markdown",
   "metadata": {},
   "source": [
    "Again, they got the same thing for the slope, intercept, and value of $S$"
   ]
  },
  {
   "cell_type": "markdown",
   "metadata": {},
   "source": [
    "## Problem 2"
   ]
  },
  {
   "cell_type": "code",
   "execution_count": 54,
   "metadata": {},
   "outputs": [],
   "source": [
    "x2 = np.array([0.1,0.2,0.3,0.4,0.5])\n",
    "y2 = np.array([0.06,0.12,0.36,0.65,0.95])\n",
    "n2 = len(x2)"
   ]
  },
  {
   "cell_type": "markdown",
   "metadata": {},
   "source": [
    "The model in question is\n",
    "\n",
    "$$ f(x) = c_1 x^2 + c_2 x + c_3 $$\n",
    "\n",
    "and we have $m$ data points $(x_i,y_i)$.\n",
    "\n",
    "The sum of squared differences is\n",
    "\n",
    "$$ S = \\sum_{i=1}^m (y_i - c_1 x_i^2 - c_2 x_i - c_3)^2 $$\n",
    "\n",
    "All sums from now on are from $i=1 \\to m$ unless stated otherwise."
   ]
  },
  {
   "cell_type": "markdown",
   "metadata": {},
   "source": [
    "\n",
    "Taking the partial derivatives with respect to each parameter and setting them to zero, we get the system of equations\n",
    "\n",
    "$$ 0 = \\sum 2(y_i - c_1 x_i^2 - c_2 x_i - c_3)(-x_i^2) $$\n",
    "$$ 0 = \\sum 2(y_i - c_1 x_i^2 - c_2 x_i - c_3)(-x_i) $$\n",
    "$$ 0 = \\sum 2(y_i - c_1 x_i^2 - c_2 x_i - c_3)(-1) $$\n",
    "\n",
    "Distributing the sums, dividing both sides by 2, and factoring out any constants, we get\n",
    "\n",
    "$$ 0 = -\\sum x_i^2 y_i + c_1 \\sum x_i^4 +  c_2 \\sum x_i^3 + c_3\\sum x_i^2 $$\n",
    "$$ 0 = -\\sum x_i y_i + c_1 \\sum x_i^3 + c_2\\sum x_i^2 + c_3\\sum x_i $$\n",
    "$$ 0 = -\\sum y_i + c_1 \\sum x_i^2 + c_2 \\sum x_i + m c_3 $$\n",
    "\n",
    "Rearranging a bit and lining up all terms proportional to each parameter, we have a linear system of equations\n",
    "\n",
    "$$ c_1 \\sum x_i^4 +  c_2 \\sum x_i^3 + c_3\\sum x_i^2 = \\sum x_i^2 y_i $$\n",
    "$$ c_1 \\sum x_i^3 + c_2\\sum x_i^2 + c_3\\sum x_i  = 0 = \\sum x_i y_i $$\n",
    "$$ c_1 \\sum x_i^2 + c_2 \\sum x_i + m c_3 = \\sum y_i  $$\n",
    "\n",
    "in matrix form this is\n",
    "\n",
    "$$ \\begin{pmatrix} \\sum x_i^4 & \\sum x_i^3 & \\sum x_i^2 \\\\\n",
    "                   \\sum x_i^3 & \\sum x_i^2  & \\sum x_i \\\\\n",
    "                   \\sum x_i^2 & \\sum x_i  & m \\end{pmatrix} \n",
    "   \\begin{pmatrix} c_1 \\\\ c_2 \\\\ c_3 \\end{pmatrix} \n",
    "   = \\begin{pmatrix} \\sum x_i^2 y_i  \\\\ \\sum x_i y_i \\\\ \\sum y_i \\end{pmatrix}  $$ \n",
    "   \n",
    "Doesn't it looks less scary this way? Linear algebra is your friend!"
   ]
  },
  {
   "cell_type": "markdown",
   "metadata": {},
   "source": [
    "Here is the solution. I did it in Mathematica because the algebra is messy."
   ]
  },
  {
   "cell_type": "markdown",
   "metadata": {},
   "source": [
    "$$ c_1 = \\frac{\\sum x_i^2 \\sum x_i^2 y_i - m \\sum x_i^2 \\sum x_i^2 y_i - \\sum x_i \\sum x_i^2 \\sum x_i y_i + \n",
    "   m \\sum x_i^3 \\sum x_i y_i + \\left(\\sum x_i^2\\right)^2 \\sum y_i - \n",
    "   \\sum x_i \\sum x_i^3 \\sum y_i}{\\left(\\sum x_i^2\\right)^3 - 2 \\sum x_i \\sum x_i^2 \\sum x_i^3 + m \\left(\\sum x_i^3\\right)^2 + \\left(\\sum x_i\\right)^2 \\sum x_i^4 - m \\sum x_i^2 \\sum x_i^4} $$\n",
    "   \n",
    "Find the other solutions in my Mathematica notebook. I will also accept if you set it up as a linear algebra problem as long as you show how you solved it here (you should not be calculating anything numerical by hand)\n"
   ]
  },
  {
   "cell_type": "code",
   "execution_count": 53,
   "metadata": {},
   "outputs": [],
   "source": [
    "sum_x_i_2 = np.sum(x2)\n",
    "sum_x_i_2_2 = np.dot(x2,x2)\n",
    "sum_x_i_3_2 = np.dot(x2,np.power(x2,2))\n",
    "sum_x_i_4_2 = np.dot(np.power(x2,2),np.power(x2,2))\n",
    "sum_y_i_2 = np.sum(y2)\n",
    "sum_x_i_y_i_2 = np.dot(x2,y2)\n",
    "sum_x_i_2_y_i_2 = np.dot(np.power(x2,2),y2)"
   ]
  },
  {
   "cell_type": "code",
   "execution_count": 55,
   "metadata": {},
   "outputs": [],
   "source": [
    "matrix2 = np.array([[sum_x_i_4_2, sum_x_i_3_2, sum_x_i_2_2],\n",
    "                     [sum_x_i_3_2, sum_x_i_2_2, sum_x_i_2],\n",
    "                     [sum_x_i_2_2, sum_x_i_2, n2]])\n",
    "vector2 = np.array([sum_x_i_2_y_i_2, sum_x_i_y_i_2, sum_y_i_2])"
   ]
  },
  {
   "cell_type": "code",
   "execution_count": 56,
   "metadata": {},
   "outputs": [],
   "source": [
    "cparams2 = np.linalg.solve(matrix2, vector2)"
   ]
  },
  {
   "cell_type": "code",
   "execution_count": 63,
   "metadata": {},
   "outputs": [
    {
     "name": "stdout",
     "output_type": "stream",
     "text": [
      "Exact least-squares solutions for Problem 2\n",
      "c1 =  3.785714285714\n",
      "c2 =  0.038571428571\n",
      "c3 =  -3.17e-15\n"
     ]
    }
   ],
   "source": [
    "print('Exact least-squares solutions for Problem 2')\n",
    "print('c1 = ', '{:.12f}'.format(cparams2[0]))\n",
    "print('c2 = ', '{:.12f}'.format(cparams2[1]))\n",
    "print('c3 = ', '{:.2e}'.format(cparams2[2]))"
   ]
  },
  {
   "cell_type": "code",
   "execution_count": 65,
   "metadata": {},
   "outputs": [
    {
     "name": "stdout",
     "output_type": "stream",
     "text": [
      "Sum of squared errors for Problem 2\n",
      "S =  0.003006\n"
     ]
    }
   ],
   "source": [
    "abs_errs_2 = np.empty(n2)\n",
    "sq_errs_2 = 0.0\n",
    "for i in range(0,n2):\n",
    "    abs_errs_2[i] = abs(y2[i] - \\\n",
    "                        (cparams2[0]*x2[i]**2.0 + cparams2[1]*x2[i] + cparams2[2]) )\n",
    "    sq_errs_2 += abs_errs_2[i]**2.0\n",
    "print('Sum of squared errors for Problem 2')\n",
    "print('S = ', '{:.6f}'.format(sq_errs_2))"
   ]
  },
  {
   "cell_type": "code",
   "execution_count": 68,
   "metadata": {},
   "outputs": [
    {
     "data": {
      "image/png": "[encoded data removed]",
      "text/plain": [
       "<Figure size 432x288 with 1 Axes>"
      ]
     },
     "metadata": {
      "needs_background": "light"
     },
     "output_type": "display_data"
    }
   ],
   "source": [
    "npred2 = 50\n",
    "xpred2 = np.linspace(0,0.6,num=npred2)\n",
    "ypred2 = cparams2[0]*xpred2**2.0 + cparams2[1]*xpred2 + cparams2[2]\n",
    "plt.plot(x2,y2,'o',label='Data')\n",
    "plt.plot(xpred2,ypred2,'+', label='Predictions')\n",
    "plt.xlabel(r'$x$', fontsize=12)\n",
    "plt.ylabel(r'$y$', fontsize=12)\n",
    "plt.legend(fontsize=12)\n",
    "plt.title('Problem 1(c) data and linear predictions');"
   ]
  },
  {
   "cell_type": "code",
   "execution_count": 69,
   "metadata": {},
   "outputs": [
    {
     "name": "stdout",
     "output_type": "stream",
     "text": [
      "Chebyshev cmax bounds for this data set\n",
      " D =  0.024518\n",
      " dmax =  0.039143\n"
     ]
    }
   ],
   "source": [
    "print('Chebyshev cmax bounds for this data set')\n",
    "D2 = np.sqrt(sq_errs_2/n2)\n",
    "print(' D = ', '{:.6f}'.format(D2))\n",
    "dmax2 = max(abs_errs_2)\n",
    "print(' dmax = ', '{:.6f}'.format(dmax2))"
   ]
  },
  {
   "cell_type": "markdown",
   "metadata": {},
   "source": [
    "Therefore the value of the smallest maximum deviation obtainable from Chebyshev's method is\n",
    "\n",
    "$$ 0.024518 \\leq c_{\\text{max}} \\leq 0.039143 $$"
   ]
  },
  {
   "cell_type": "markdown",
   "metadata": {},
   "source": [
    "## Problem 3"
   ]
  },
  {
   "cell_type": "code",
   "execution_count": 72,
   "metadata": {},
   "outputs": [],
   "source": [
    "x3 = np.array([36,28,28,41,19,32,22,38,25,17,31,20,25,19,39,33,17,37,23,39])\n",
    "y3 = np.array([192,113,88,294,28,123,51,252,56,16,141,32,86,21,231,187,22,205,57,265])\n",
    "n3 = len(x3)"
   ]
  },
  {
   "cell_type": "code",
   "execution_count": 73,
   "metadata": {},
   "outputs": [
    {
     "data": {
      "image/png": "[encoded data removed]",
      "text/plain": [
       "<Figure size 432x288 with 1 Axes>"
      ]
     },
     "metadata": {
      "needs_background": "light"
     },
     "output_type": "display_data"
    }
   ],
   "source": [
    "plt.plot(x3,y3,'o')\n",
    "plt.xlabel(r'$x$')\n",
    "plt.ylabel(r'$y$')\n",
    "plt.title('Problem 3 data');"
   ]
  },
  {
   "cell_type": "code",
   "execution_count": 78,
   "metadata": {},
   "outputs": [],
   "source": [
    "sqrt_y3 = np.sqrt(y3)"
   ]
  },
  {
   "cell_type": "code",
   "execution_count": 79,
   "metadata": {},
   "outputs": [
    {
     "data": {
      "image/png": "[encoded data removed]",
      "text/plain": [
       "<Figure size 432x288 with 1 Axes>"
      ]
     },
     "metadata": {
      "needs_background": "light"
     },
     "output_type": "display_data"
    }
   ],
   "source": [
    "plt.plot(x3,sqrt_y3,'o')\n",
    "plt.xlabel(r'$x$',fontsize=12)\n",
    "plt.ylabel(r'$\\sqrt{y}$',fontsize=12)\n",
    "plt.title('Problem 3 $\\sqrt{y}$ vs. $x$');"
   ]
  },
  {
   "cell_type": "markdown",
   "metadata": {},
   "source": [
    "This looks more linear so I will go with this transformation"
   ]
  },
  {
   "cell_type": "code",
   "execution_count": 84,
   "metadata": {},
   "outputs": [
    {
     "name": "stdout",
     "output_type": "stream",
     "text": [
      "After 5 iterations...\n",
      "The optimization was successful! Here are the values it found:\n",
      "       m =     0.5310\n",
      "       b =    -4.8561\n",
      "             x value     residual squared\n",
      "             36.0000               0.1616\n",
      "             28.0000               0.3837\n",
      "             28.0000               0.3967\n",
      "             41.0000               0.0544\n",
      "             19.0000               0.0035\n",
      "             32.0000               1.0900\n",
      "             22.0000               0.1002\n",
      "             38.0000               0.3072\n",
      "             25.0000               0.8733\n",
      "             17.0000               0.0290\n",
      "             31.0000               0.0733\n",
      "             20.0000               0.0113\n",
      "             25.0000               0.7324\n",
      "             19.0000               0.4219\n",
      "             39.0000               0.4258\n",
      "             33.0000               1.0187\n",
      "             17.0000               0.2707\n",
      "             37.0000               0.2223\n",
      "             23.0000               0.0376\n",
      "             39.0000               0.1828\n",
      "The sum of squared deviations is 6.7962\n",
      "And in case you need to know...\n",
      "The largest absolute error is r = 1.0440 \n",
      " It occurs when x =  32.0000\n"
     ]
    },
    {
     "data": {
      "image/png": "[encoded data removed]",
      "text/plain": [
       "<Figure size 432x288 with 1 Axes>"
      ]
     },
     "metadata": {
      "needs_background": "light"
     },
     "output_type": "display_data"
    }
   ],
   "source": [
    "npred3 = 100\n",
    "xpred3 = np.linspace(15,45,num=npred3)\n",
    "least_squares_optimizer_fit_linear(x3,sqrt_y3,2.5,1,xpred3)"
   ]
  },
  {
   "cell_type": "markdown",
   "metadata": {},
   "source": [
    "The model is therefore\n",
    "\n",
    "$$ \\sqrt{y} = 0.5310 x -4.8561 $$\n",
    "\n",
    "$$ y = (0.5310 x -4.8561)^2 $$"
   ]
  },
  {
   "cell_type": "code",
   "execution_count": 87,
   "metadata": {},
   "outputs": [
    {
     "data": {
      "image/png": "[encoded data removed]",
      "text/plain": [
       "<Figure size 432x288 with 1 Axes>"
      ]
     },
     "metadata": {
      "needs_background": "light"
     },
     "output_type": "display_data"
    }
   ],
   "source": [
    "a3 = 0.5310\n",
    "b3 = -4.8561\n",
    "\n",
    "ypred3 = (a3*xpred3+b3)**2.0\n",
    "plt.plot(x2,y2,'o',label='Data')\n",
    "plt.plot(xpred2,ypred2,'+', label='Predictions')\n",
    "plt.xlabel(r'$x$', fontsize=12)\n",
    "plt.ylabel(r'$y$', fontsize=12)\n",
    "plt.legend(fontsize=12)\n",
    "plt.title('Problem 3 data and linear predictions');"
   ]
  }
 ],
 "metadata": {
  "kernelspec": {
   "display_name": "Python 3",
   "language": "python",
   "name": "python3"
  },
  "language_info": {
   "codemirror_mode": {
    "name": "ipython",
    "version": 3
   },
   "file_extension": ".py",
   "mimetype": "text/x-python",
   "name": "python",
   "nbconvert_exporter": "python",
   "pygments_lexer": "ipython3",
   "version": "3.7.4"
  }
 },
 "nbformat": 4,
 "nbformat_minor": 2
}
