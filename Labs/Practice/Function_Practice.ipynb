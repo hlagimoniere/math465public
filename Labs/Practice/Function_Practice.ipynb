{
 "cells": [
  {
   "cell_type": "markdown",
   "metadata": {},
   "source": [
    "# Function practice\n",
    "\n",
    "A short assignment to practice with writing and using simple functions in Python"
   ]
  },
  {
   "cell_type": "markdown",
   "metadata": {},
   "source": [
    "## Problem 1\n",
    "Write a function that prints out a message passed in by the user. The function should take arguments of the input message and an integer number of times to print out the message.\n",
    "\n",
    "The idea here is to write a function so that when you pass in some message in the form of a string, that it prints it some number of times, also passed in."
   ]
  },
  {
   "cell_type": "code",
   "execution_count": 1,
   "metadata": {},
   "outputs": [],
   "source": [
    "# define the function to use later\n",
    "def print_message(message_in, n_in):\n",
    "    # many ways to do this, but I'll use a for loop\n",
    "    for i in range(0,n_in): # this loops n_in times\n",
    "        print(message_in) # print message on each iteration"
   ]
  },
  {
   "cell_type": "markdown",
   "metadata": {},
   "source": [
    "Test the function using different inputs"
   ]
  },
  {
   "cell_type": "code",
   "execution_count": 2,
   "metadata": {},
   "outputs": [
    {
     "name": "stdout",
     "output_type": "stream",
     "text": [
      "Hi\n",
      "Hi\n"
     ]
    }
   ],
   "source": [
    "print_message('Hi', 2)"
   ]
  },
  {
   "cell_type": "code",
   "execution_count": 3,
   "metadata": {},
   "outputs": [
    {
     "name": "stdout",
     "output_type": "stream",
     "text": [
      "The cow goes moo\n",
      "The cow goes moo\n",
      "The cow goes moo\n",
      "The cow goes moo\n",
      "The cow goes moo\n",
      "The cow goes moo\n",
      "The cow goes moo\n",
      "The cow goes moo\n",
      "The cow goes moo\n",
      "The cow goes moo\n"
     ]
    }
   ],
   "source": [
    "print_message('The cow goes moo', 10)"
   ]
  },
  {
   "cell_type": "code",
   "execution_count": 4,
   "metadata": {},
   "outputs": [
    {
     "name": "stdout",
     "output_type": "stream",
     "text": [
      "This is a string variable\n",
      "This is a string variable\n",
      "This is a string variable\n"
     ]
    }
   ],
   "source": [
    "my_string = 'This is a string variable'\n",
    "my_n = 3\n",
    "# you can also pass variables in\n",
    "print_message(my_string, my_n)"
   ]
  },
  {
   "cell_type": "markdown",
   "metadata": {},
   "source": [
    "## Problem 2\n",
    "\n",
    "Write a function that computes the area of a triangle. The function should take arguments of the base and height of the triangle and return the area of the triangle.\n",
    "\n",
    "Note that this one asks you to *return* the area of the triangle. This would be used so you can store the area in a variable in the main program."
   ]
  },
  {
   "cell_type": "code",
   "execution_count": 5,
   "metadata": {},
   "outputs": [],
   "source": [
    "# define the function\n",
    "def triangle_area(base_in, height_in):\n",
    "    return 0.5 * base_in * height_in"
   ]
  },
  {
   "cell_type": "code",
   "execution_count": 6,
   "metadata": {},
   "outputs": [
    {
     "name": "stdout",
     "output_type": "stream",
     "text": [
      "The first area is 3.0\n"
     ]
    }
   ],
   "source": [
    "my_area_1 = triangle_area(2, 3)\n",
    "print('The first area is', my_area_1)"
   ]
  },
  {
   "cell_type": "code",
   "execution_count": 8,
   "metadata": {},
   "outputs": [
    {
     "name": "stdout",
     "output_type": "stream",
     "text": [
      "The second area is 3.25\n"
     ]
    }
   ],
   "source": [
    "my_area_2 = triangle_area(6.5, 1)\n",
    "print('The second area is', my_area_2)"
   ]
  },
  {
   "cell_type": "code",
   "execution_count": 9,
   "metadata": {},
   "outputs": [
    {
     "name": "stdout",
     "output_type": "stream",
     "text": [
      "The third area is 50.0\n"
     ]
    }
   ],
   "source": [
    "my_area_3 = triangle_area(10, 10)\n",
    "print('The third area is', my_area_3)"
   ]
  },
  {
   "cell_type": "markdown",
   "metadata": {},
   "source": [
    "## Problem 3\n",
    "\n",
    "Write a function that takes in two numpy arrays and determines which one is longer. It should print a message about it and return the longer one.\n",
    "\n",
    "This one is trickier than the last two functions. You will need to use `if` statements to account for the different possibilities\n",
    "\n",
    "I will define two different versions of this function so you can see how the `if` statements work. Both versions are valid and there are other ways you could do it too."
   ]
  },
  {
   "cell_type": "code",
   "execution_count": 11,
   "metadata": {},
   "outputs": [],
   "source": [
    "import numpy as np"
   ]
  },
  {
   "cell_type": "code",
   "execution_count": 10,
   "metadata": {},
   "outputs": [],
   "source": [
    "# define the first version of the function\n",
    "def which_is_longer_v1(arr1_in, arr2_in):\n",
    "    # get length of each array\n",
    "    len1 = len(arr1_in)\n",
    "    len2 = len(arr2_in)\n",
    "    # use if statements to go through possibilities\n",
    "    if len1 > len2:\n",
    "        print('The first array is longer than the second one. Returning the first array.')\n",
    "        return arr1_in\n",
    "    if len1 < len2:\n",
    "        print('The second array is longer than the first one. Returning the second array.')\n",
    "        return arr2_in\n",
    "    if len1 == len2: # note the == when testing equality in programming\n",
    "        print('The arrays are the same length. I have to return one so I\\'ll return the first one, but it doesn\\'t matter.')\n",
    "        return arr1_in\n",
    "\n",
    "# second version of the function\n",
    "# this version uses if elif statements. the above version tests each if separately, whereas this one doesn't\n",
    "def which_is_longer_v2(arr1_in, arr2_in):\n",
    "    # get length of each array\n",
    "    len1 = len(arr1_in)\n",
    "    len2 = len(arr2_in)\n",
    "    # use if statements to go through possibilities\n",
    "    if len1 > len2:\n",
    "        print('The first array is longer than the second one. Returning the first array.')\n",
    "        return arr1_in\n",
    "    elif len1 < len2: # elif stands for else if\n",
    "        print('The second array is longer than the first one. Returning the second array.')\n",
    "        return arr2_in\n",
    "    elif len1 == len2: # note the == when testing equality in programming\n",
    "        print('The arrays are the same length. I have to return one so I\\'ll return the first one, but it doesn\\'t matter.')\n",
    "        return arr1_in"
   ]
  },
  {
   "cell_type": "markdown",
   "metadata": {},
   "source": [
    "Now test the functions using some test inputs, defined below"
   ]
  },
  {
   "cell_type": "code",
   "execution_count": 13,
   "metadata": {},
   "outputs": [],
   "source": [
    "the_first_array = np.array([1.0, 2.0, 3.0, 5.0, 1.0])\n",
    "the_second_array = np.array([1.0, 2.0, 3.0, 5.0])\n",
    "the_third_array = np.array([3.0, 2.0, 0.0, 0.0])"
   ]
  },
  {
   "cell_type": "code",
   "execution_count": 16,
   "metadata": {},
   "outputs": [
    {
     "name": "stdout",
     "output_type": "stream",
     "text": [
      "The first array is longer than the second one. Returning the first array.\n",
      "The array stored in the new variable returned_array_1 is [1. 2. 3. 5. 1.]\n"
     ]
    }
   ],
   "source": [
    "returned_array_1 = which_is_longer_v1(the_first_array, the_second_array)\n",
    "print('The array stored in the new variable returned_array_1 is', returned_array_1)"
   ]
  },
  {
   "cell_type": "code",
   "execution_count": 17,
   "metadata": {},
   "outputs": [
    {
     "name": "stdout",
     "output_type": "stream",
     "text": [
      "The first array is longer than the second one. Returning the first array.\n",
      "The array stored in the new variable returned_array_2 is [1. 2. 3. 5. 1.]\n"
     ]
    }
   ],
   "source": [
    "returned_array_2 = which_is_longer_v1(the_first_array, the_third_array)\n",
    "print('The array stored in the new variable returned_array_2 is', returned_array_2)"
   ]
  },
  {
   "cell_type": "code",
   "execution_count": 18,
   "metadata": {},
   "outputs": [
    {
     "name": "stdout",
     "output_type": "stream",
     "text": [
      "The arrays are the same length. I have to return one so I'll return the first one, but it doesn't matter.\n",
      "The array stored in the new variable returned_array_3 is [3. 2. 0. 0.]\n"
     ]
    }
   ],
   "source": [
    "returned_array_3 = which_is_longer_v1(the_third_array, the_second_array)\n",
    "print('The array stored in the new variable returned_array_3 is', returned_array_3)"
   ]
  },
  {
   "cell_type": "markdown",
   "metadata": {},
   "source": [
    "## Problem 4\n",
    "\n",
    "Write a function that loops through a numpy array and prints out each element of the array along with its position in the array. The function should take arguments of the input array and doesn’t need to return anything."
   ]
  },
  {
   "cell_type": "code",
   "execution_count": 24,
   "metadata": {},
   "outputs": [],
   "source": [
    "# define the function\n",
    "def print_array_elements(arr_in):\n",
    "    n = len(arr_in)\n",
    "    for j in range(0, n):\n",
    "        print('The element in the', j+1, ' position is', arr_in[j])"
   ]
  },
  {
   "cell_type": "code",
   "execution_count": 25,
   "metadata": {},
   "outputs": [],
   "source": [
    "test_array = np.random.random(8) # make a random array with 8 elements in it"
   ]
  },
  {
   "cell_type": "code",
   "execution_count": 26,
   "metadata": {},
   "outputs": [
    {
     "name": "stdout",
     "output_type": "stream",
     "text": [
      "The element in the 1  position is 0.9280223633974766\n",
      "The element in the 2  position is 0.9651465116338589\n",
      "The element in the 3  position is 0.25059320909341787\n",
      "The element in the 4  position is 0.4531883032609293\n",
      "The element in the 5  position is 0.8238614681506337\n",
      "The element in the 6  position is 0.07542367952439544\n",
      "The element in the 7  position is 0.1950244341995918\n",
      "The element in the 8  position is 0.477577546086407\n"
     ]
    }
   ],
   "source": [
    "print_array_elements(test_array)"
   ]
  },
  {
   "cell_type": "code",
   "execution_count": 27,
   "metadata": {},
   "outputs": [
    {
     "name": "stdout",
     "output_type": "stream",
     "text": [
      "The element in the 1  position is 1.0\n",
      "The element in the 2  position is 2.0\n",
      "The element in the 3  position is 5.0\n"
     ]
    }
   ],
   "source": [
    "print_array_elements([1.0, 2.0, 5.0])"
   ]
  }
 ],
 "metadata": {
  "kernelspec": {
   "display_name": "Python 3",
   "language": "python",
   "name": "python3"
  },
  "language_info": {
   "codemirror_mode": {
    "name": "ipython",
    "version": 3
   },
   "file_extension": ".py",
   "mimetype": "text/x-python",
   "name": "python",
   "nbconvert_exporter": "python",
   "pygments_lexer": "ipython3",
   "version": "3.7.4"
  }
 },
 "nbformat": 4,
 "nbformat_minor": 2
}
