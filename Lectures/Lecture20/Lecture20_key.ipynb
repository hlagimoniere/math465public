{
 "cells": [
  {
   "cell_type": "markdown",
   "metadata": {},
   "source": [
    "# Lecture 20: practicing with transformations\n",
    "\n",
    "This practice notebook will guide you in making semi-log and log-log transformations of data to determine the values of model parameters. Data files are provided and I have written a function that will let you perform linear visual fitting."
   ]
  },
  {
   "cell_type": "markdown",
   "metadata": {},
   "source": [
    "## Import packages, define functions, and load the data files"
   ]
  },
  {
   "cell_type": "markdown",
   "metadata": {},
   "source": [
    "The statements below only need to be done once at the beginning"
   ]
  },
  {
   "cell_type": "code",
   "execution_count": 1,
   "metadata": {},
   "outputs": [],
   "source": [
    "import numpy as np\n",
    "import matplotlib.pyplot as plt"
   ]
  },
  {
   "cell_type": "markdown",
   "metadata": {},
   "source": [
    "The below function lets you plot a set of data and experiment with slopes and intercepts to find the best-fitting line"
   ]
  },
  {
   "cell_type": "code",
   "execution_count": 49,
   "metadata": {},
   "outputs": [],
   "source": [
    "def visual_fit_linear(x_in, data_in, m_in, b_in, xpred_in):\n",
    "    # get some information from stuff passed in\n",
    "    nd = len(x_in) # get number of data points\n",
    "    npred = len(xpred_in) # get length of array to use for x predictions\n",
    "    ypred = np.empty(npred)\n",
    "    \n",
    "    # make predictions at the values in xpred_in\n",
    "    for i in range(0, npred):\n",
    "        ypred[i] = m_in * xpred_in[i] + b_in\n",
    "        \n",
    "    # create a label for the slope and intercept\n",
    "    # uses string formatting for the numbers\n",
    "    # the :.2f means floating point number, round to 2 decimal places\n",
    "    ypred_label = '$m = ' + '{:.2f}'.format(m_in) \\\n",
    "                + '$, $ b = ' +  '{:.2f}'.format(b_in) + '$'\n",
    "    \n",
    "    # make plot of predictions with data\n",
    "    plt.plot(x_in, data_in,'o');\n",
    "    plt.plot(xpred_in, ypred, '+', color='orange', label=ypred_label)\n",
    "    plt.xlabel(r'$x$ variable', fontsize=14);\n",
    "    plt.ylabel(r'$y$ variable', fontsize=14);\n",
    "    # plot x and y axes to see more easily\n",
    "    plt.axhline(0,linestyle='--',color='grey');\n",
    "    plt.axvline(0,linestyle='--',color='grey');\n",
    "    plt.legend(fontsize=12)"
   ]
  },
  {
   "cell_type": "code",
   "execution_count": 77,
   "metadata": {},
   "outputs": [
    {
     "data": {
      "image/png": "[encoded data removed]",
      "text/plain": [
       "<Figure size 432x288 with 1 Axes>"
      ]
     },
     "metadata": {
      "needs_background": "light"
     },
     "output_type": "display_data"
    }
   ],
   "source": [
    "np.random.seed(1)\n",
    "# generate some random exponential data\n",
    "npts_exp = 25\n",
    "x_exp = np.linspace(-1,0.5,num=npts_exp)\n",
    "exp_k_val = 2\n",
    "exp_C_val = 2.3\n",
    "exp_data = np.empty(npts_exp)\n",
    "for i in range(0,npts_exp):\n",
    "    exp_data[i] = exp_C_val * np.exp(exp_k_val * x_exp[i]) + 1 * np.random.random()\n",
    "plt.plot(x_exp, exp_data, 'o');\n",
    "np.savez('lecture20_file1.npz', xvals=x_exp, data=exp_data)"
   ]
  },
  {
   "cell_type": "code",
   "execution_count": 78,
   "metadata": {},
   "outputs": [
    {
     "data": {
      "image/png": "[encoded data removed]",
      "text/plain": [
       "<Figure size 432x288 with 1 Axes>"
      ]
     },
     "metadata": {
      "needs_background": "light"
     },
     "output_type": "display_data"
    }
   ],
   "source": [
    "# generate some random power-law data\n",
    "npts_pow = 18\n",
    "x_pow = np.linspace(1,100,num=npts_pow)\n",
    "pow_a_val = 0.5\n",
    "pow_C_val = 0.5\n",
    "pow_data = np.empty(npts_pow)\n",
    "for i in range(0,npts_pow):\n",
    "    pow_data[i] = pow_C_val *  x_pow[i]**pow_a_val\\\n",
    "                + 0.002 * np.random.normal()\n",
    "plt.plot(x_pow, pow_data, 'o');\n",
    "np.savez('lecture20_file2.npz', xvals=x_pow, data=pow_data)"
   ]
  },
  {
   "cell_type": "markdown",
   "metadata": {},
   "source": [
    "### Load the data files and extract their contents"
   ]
  },
  {
   "cell_type": "markdown",
   "metadata": {},
   "source": [
    "Load the first data file into `file_contents_1`, the second into `file_contents_2` using the `np.load` function"
   ]
  },
  {
   "cell_type": "code",
   "execution_count": 79,
   "metadata": {},
   "outputs": [],
   "source": [
    "file_contents_1 = np.load('lecture20_file1.npz')\n",
    "file_contents_2 = np.load('lecture20_file2.npz')"
   ]
  },
  {
   "cell_type": "markdown",
   "metadata": {},
   "source": [
    "Use the `files` properties of the variables `file_contents_1` and 2 to see what is contained in the files.\n",
    "\n",
    "These statements can be removed in labs when you are turning something in. They are just so you can see what's in the file."
   ]
  },
  {
   "cell_type": "code",
   "execution_count": 80,
   "metadata": {},
   "outputs": [
    {
     "data": {
      "text/plain": [
       "['xvals', 'data']"
      ]
     },
     "execution_count": 80,
     "metadata": {},
     "output_type": "execute_result"
    }
   ],
   "source": [
    "file_contents_1.files"
   ]
  },
  {
   "cell_type": "code",
   "execution_count": 81,
   "metadata": {},
   "outputs": [
    {
     "data": {
      "text/plain": [
       "['xvals', 'data']"
      ]
     },
     "execution_count": 81,
     "metadata": {},
     "output_type": "execute_result"
    }
   ],
   "source": [
    "file_contents_2.files"
   ]
  },
  {
   "cell_type": "markdown",
   "metadata": {},
   "source": [
    "Extract and store the data in appropriate arrays"
   ]
  },
  {
   "cell_type": "code",
   "execution_count": 82,
   "metadata": {},
   "outputs": [],
   "source": [
    "xvals_1 = file_contents_1['xvals']\n",
    "xvals_2 = file_contents_2['xvals']\n",
    "data_1 = file_contents_1['data']\n",
    "data_2 = file_contents_2['data']"
   ]
  },
  {
   "cell_type": "markdown",
   "metadata": {},
   "source": [
    "Make a simple plot of each data set and observe the features of each one"
   ]
  },
  {
   "cell_type": "code",
   "execution_count": 83,
   "metadata": {},
   "outputs": [
    {
     "data": {
      "image/png": "[encoded data removed]",
      "text/plain": [
       "<Figure size 432x288 with 1 Axes>"
      ]
     },
     "metadata": {
      "needs_background": "light"
     },
     "output_type": "display_data"
    }
   ],
   "source": [
    "plt.plot(xvals_1, data_1, 'o');"
   ]
  },
  {
   "cell_type": "code",
   "execution_count": 84,
   "metadata": {},
   "outputs": [
    {
     "data": {
      "image/png": "[encoded data removed]",
      "text/plain": [
       "<Figure size 432x288 with 1 Axes>"
      ]
     },
     "metadata": {
      "needs_background": "light"
     },
     "output_type": "display_data"
    }
   ],
   "source": [
    "plt.plot(xvals_2, data_2, 'o');"
   ]
  },
  {
   "cell_type": "markdown",
   "metadata": {},
   "source": [
    "## Work with linearizing transformations for each data set"
   ]
  },
  {
   "cell_type": "markdown",
   "metadata": {},
   "source": [
    "### Dataset 1: proposed exponential model"
   ]
  },
  {
   "cell_type": "markdown",
   "metadata": {},
   "source": [
    "Perform a linearizing transformation (pen-and-paper first) for the exponential model $y = C e^{kx}$.\n",
    "\n",
    "This is the proposed model for data set 1. You will need to figure out what is the value of $C$ and $k$ from the data."
   ]
  },
  {
   "cell_type": "markdown",
   "metadata": {},
   "source": [
    "Now define a new array, `ystarvals_1` using `np.empty` to hold the transformed $y$ values. Extract the length of dataset 1 and put it into `n1`. Use a `for` loop and the `np.log` function (this takes the natural log) to store the transformed $y$ values."
   ]
  },
  {
   "cell_type": "code",
   "execution_count": 85,
   "metadata": {},
   "outputs": [],
   "source": [
    "n1 = len(xvals_1)\n",
    "ystarvals_1 = np.empty(n1)\n",
    "\n",
    "for i in range(0,n1):\n",
    "    ystarvals_1[i] = np.log(data_1[i])"
   ]
  },
  {
   "cell_type": "markdown",
   "metadata": {},
   "source": [
    "Plot the data in the new, linearized, form. You can label something as $y^*$ or $x^*$ with the string `r'$y^*$'` or `r'$x^*$'` in the `plt.ylabel` and `plt.xlabel` functions. Does it look linear now?"
   ]
  },
  {
   "cell_type": "code",
   "execution_count": 86,
   "metadata": {},
   "outputs": [
    {
     "data": {
      "image/png": "[encoded data removed]",
      "text/plain": [
       "<Figure size 432x288 with 1 Axes>"
      ]
     },
     "metadata": {
      "needs_background": "light"
     },
     "output_type": "display_data"
    }
   ],
   "source": [
    "plt.plot(xvals_1, ystarvals_1, 'o', label='Data');\n",
    "plt.xlabel('$x$', fontsize=12);\n",
    "plt.ylabel('$y^*$', fontsize=12);\n",
    "plt.legend(fontsize=12);"
   ]
  },
  {
   "cell_type": "markdown",
   "metadata": {},
   "source": [
    "Use the `visual_fit_linear` function defined above to determine the values of coefficients from the linearized transformation.\n",
    "\n",
    "Hint: you need to pass an extra array of x values into the function in order to make the predictions from the linear model. Use the `np.linspace` function to do this. For example\n",
    "\n",
    "`xpred_lin_1 = np.linspace(0,1,num=100)` makes an array of 100 equally spaced values between 0 and 1."
   ]
  },
  {
   "cell_type": "code",
   "execution_count": 87,
   "metadata": {},
   "outputs": [],
   "source": [
    "npred1 = 50\n",
    "xpred_lin_1 = np.linspace(-1.5,0.5,num=npred1)"
   ]
  },
  {
   "cell_type": "code",
   "execution_count": 88,
   "metadata": {},
   "outputs": [
    {
     "data": {
      "image/png": "[encoded data removed]",
      "text/plain": [
       "<Figure size 432x288 with 1 Axes>"
      ]
     },
     "metadata": {
      "needs_background": "light"
     },
     "output_type": "display_data"
    }
   ],
   "source": [
    "visual_fit_linear(xvals_1, ystarvals_1, 1.7, 1.1, xpred_lin_1)"
   ]
  },
  {
   "cell_type": "markdown",
   "metadata": {},
   "source": [
    "What values of $C$ and $k$ did you determine from this analysis? Define two variables `k1` and `C1` to hold these values. You may find the function `np.exp` helpful for this. Print the values so you can see what they are before moving on."
   ]
  },
  {
   "cell_type": "code",
   "execution_count": 89,
   "metadata": {},
   "outputs": [
    {
     "name": "stdout",
     "output_type": "stream",
     "text": [
      "k =  1.7 C = 3.0041660239464334\n"
     ]
    }
   ],
   "source": [
    "k1 = 1.7\n",
    "C1 = np.exp(1.1)\n",
    "print('k = ', k1, 'C =', C1)"
   ]
  },
  {
   "cell_type": "markdown",
   "metadata": {},
   "source": [
    "Use those values to make predictions **in the original, non-linearized variables**. Create two new arrays, one of x values called `xpred_1` using `np.linspace` and the other called `ypred_1` using `np.empty` to hold the predictions. Use a `for` loop to make the predictions. You may find the `np.exp` function useful here again."
   ]
  },
  {
   "cell_type": "code",
   "execution_count": 90,
   "metadata": {},
   "outputs": [],
   "source": [
    "xpred_1 = np.linspace(-1.25, 0.5, num=npred1)\n",
    "ypred_1 = np.empty(npred1)\n",
    "for i in range(0, npred1):\n",
    "    ypred_1[i] = C1 * np.exp(k1 * xpred_1[i])"
   ]
  },
  {
   "cell_type": "markdown",
   "metadata": {},
   "source": [
    "Finally, plot the predictions in **in the original, non-linearized variables**. Does your prediction look like it is a good fit for the data? Do you see the curvature in the new predictions?"
   ]
  },
  {
   "cell_type": "code",
   "execution_count": 91,
   "metadata": {},
   "outputs": [
    {
     "data": {
      "image/png": "[encoded data removed]",
      "text/plain": [
       "<Figure size 432x288 with 1 Axes>"
      ]
     },
     "metadata": {
      "needs_background": "light"
     },
     "output_type": "display_data"
    }
   ],
   "source": [
    "plt.plot(xvals_1, data_1, 'o', label='Data');\n",
    "plt.plot(xpred_1, ypred_1, '+', label='Predictions')\n",
    "plt.xlabel('$x$', fontsize=12);\n",
    "plt.ylabel('$y$', fontsize=12);\n",
    "plt.legend(fontsize=12);"
   ]
  },
  {
   "cell_type": "markdown",
   "metadata": {},
   "source": [
    "### Dataset 2: proposed power law model"
   ]
  },
  {
   "cell_type": "markdown",
   "metadata": {},
   "source": [
    "Repeat the steps used previously for dataset 1 for dataset 2, now for a proposed power-law model $y = C x^a$ . Except now you will need `xstarvals_2` and `ystarvals_2` for the linearized variables. Determine values of $C$ and $a$ using the linearized log-log plot and make final predictions in the original, non-linearized variables."
   ]
  },
  {
   "cell_type": "code",
   "execution_count": 93,
   "metadata": {},
   "outputs": [
    {
     "data": {
      "image/png": "[encoded data removed]",
      "text/plain": [
       "<Figure size 432x288 with 1 Axes>"
      ]
     },
     "metadata": {
      "needs_background": "light"
     },
     "output_type": "display_data"
    }
   ],
   "source": [
    "n2 = len(xvals_2)\n",
    "xstarvals_2 = np.empty(n2)\n",
    "ystarvals_2 = np.empty(n2)\n",
    "\n",
    "for i in range(0,n2):\n",
    "    xstarvals_2[i] = np.log(xvals_2[i])\n",
    "    ystarvals_2[i] = np.log(data_2[i])  \n",
    "    \n",
    "plt.plot(xstarvals_2, ystarvals_2, 'o', label='Data');\n",
    "plt.xlabel('$x^*$', fontsize=12);\n",
    "plt.ylabel('$y^*$', fontsize=12);\n",
    "plt.legend(fontsize=12);"
   ]
  },
  {
   "cell_type": "code",
   "execution_count": 98,
   "metadata": {},
   "outputs": [
    {
     "data": {
      "image/png": "[encoded data removed]",
      "text/plain": [
       "<Figure size 432x288 with 1 Axes>"
      ]
     },
     "metadata": {
      "needs_background": "light"
     },
     "output_type": "display_data"
    }
   ],
   "source": [
    "npred2 = 50\n",
    "xpred_lin_2 = np.linspace(0,6,num=npred2)\n",
    "visual_fit_linear(xstarvals_2, ystarvals_2, 0.5, -0.7, xpred_lin_2)"
   ]
  },
  {
   "cell_type": "code",
   "execution_count": 101,
   "metadata": {},
   "outputs": [
    {
     "name": "stdout",
     "output_type": "stream",
     "text": [
      "a =  0.5 C = 0.4965853037914095\n"
     ]
    },
    {
     "data": {
      "image/png": "[encoded data removed]",
      "text/plain": [
       "<Figure size 432x288 with 1 Axes>"
      ]
     },
     "metadata": {
      "needs_background": "light"
     },
     "output_type": "display_data"
    }
   ],
   "source": [
    "a2 = 0.5\n",
    "C2 = np.exp(-0.7)\n",
    "print('a = ', 0.5, 'C =', C2)\n",
    "\n",
    "xpred_2 = np.linspace(0, 110, num=npred2)\n",
    "ypred_2 = np.empty(npred2)\n",
    "for i in range(0, npred2):\n",
    "    ypred_2[i] = C2 * np.power(xpred_2[i], a2)\n",
    "    \n",
    "plt.plot(xvals_2, data_2, 'o', label='Data');\n",
    "plt.plot(xpred_2, ypred_2, '+', label='Predictions')\n",
    "plt.xlabel('$x$', fontsize=12);\n",
    "plt.ylabel('$y$', fontsize=12);\n",
    "plt.legend(fontsize=12);"
   ]
  }
 ],
 "metadata": {
  "kernelspec": {
   "display_name": "Python 3",
   "language": "python",
   "name": "python3"
  },
  "language_info": {
   "codemirror_mode": {
    "name": "ipython",
    "version": 3
   },
   "file_extension": ".py",
   "mimetype": "text/x-python",
   "name": "python",
   "nbconvert_exporter": "python",
   "pygments_lexer": "ipython3",
   "version": "3.7.4"
  }
 },
 "nbformat": 4,
 "nbformat_minor": 2
}
