{
 "cells": [
  {
   "cell_type": "markdown",
   "metadata": {},
   "source": [
    "# Lecture 23 practice\n",
    "\n",
    "This notebook is built to help you practice using Chebyshev's criterion numerically to perform model fitting. We'll focus on models that are either linear or can linearized using a transformation."
   ]
  },
  {
   "cell_type": "markdown",
   "metadata": {},
   "source": [
    "## Import needed packages\n",
    "\n",
    "These statements only need to be run once at the beginning of the notebook"
   ]
  },
  {
   "cell_type": "code",
   "execution_count": null,
   "metadata": {},
   "outputs": [],
   "source": [
    "import numpy as np\n",
    "import matplotlib.pyplot as plt"
   ]
  },
  {
   "cell_type": "markdown",
   "metadata": {},
   "source": [
    "## Define any functions that will be needed"
   ]
  },
  {
   "cell_type": "markdown",
   "metadata": {},
   "source": [
    "Here I will define a function that helps you use Chebyshev's criterion to perform a fit. Like visual fitting, you will experiment with different parameter values."
   ]
  },
  {
   "cell_type": "code",
   "execution_count": null,
   "metadata": {},
   "outputs": [],
   "source": [
    "def chebyshev_fit_linear(x_in, data_in, m_in, b_in, xpred_in, display_table=True):\n",
    "    # get some information from stuff passed in\n",
    "    nd = len(x_in) # get number of data points\n",
    "    npred = len(xpred_in) # get length of array to use for x predictions\n",
    "    ypred = np.empty(npred) # create an array to store model predictions\n",
    "    \n",
    "    # make predictions at the values in xpred_in\n",
    "    for i in range(0, npred):\n",
    "        ypred[i] = m_in * xpred_in[i] + b_in\n",
    "        \n",
    "    # create a label for the slope and intercept to show on the plot\n",
    "    # uses string formatting for the numbers\n",
    "    # the :.2f means floating point number, round to 2 decimal places\n",
    "    ypred_label = '$m = ' + '{:.2f}'.format(m_in) \\\n",
    "                + '$, $ b = ' +  '{:.2f}'.format(b_in) + '$'\n",
    "    \n",
    "    # calculate absolute errors and find the biggest one in the list\n",
    "    abs_err = np.empty(nd)\n",
    "    biggest_err = -1 # placeholder for biggest error\n",
    "    x_idx_where_biggest = 0 # placeholder for index of biggest error\n",
    "    if display_table:\n",
    "        print('{: >20}'.format('x value'),'{: >20}'.format('residual'))\n",
    "    for i in range(0, nd):\n",
    "        abs_err[i] = abs(data_in[i] - (m_in*x_in[i] + b_in))\n",
    "        if display_table:\n",
    "            print('{:20.4f}'.format(x_in[i]),'{:20.4f}'.format(abs_err[i]))\n",
    "        if abs_err[i] > biggest_err:\n",
    "            biggest_err = abs_err[i]\n",
    "            x_idx_where_biggest = i\n",
    "    print('Largest absolute error is r =', '{:.2f}'.format(biggest_err),'\\n',\n",
    "         'It occurs when x = ', '{:.4f}'.format(x_in[x_idx_where_biggest]))\n",
    "        \n",
    "    # make plot of predictions with data\n",
    "    plt.plot(x_in, data_in,'o');\n",
    "    plt.plot(xpred_in, ypred, '+', color='orange', label=ypred_label);\n",
    "    # overlay the plot with the x y pair where the absolute error is biggest\n",
    "    plt.plot(x_in[x_idx_where_biggest], data_in[x_idx_where_biggest],'o', color='red');\n",
    "    plt.xlabel(r'$x$ variable', fontsize=14);\n",
    "    plt.ylabel(r'$y$ variable', fontsize=14);\n",
    "    # plot x and y axes to see more easily\n",
    "    plt.axhline(0,linestyle='--',color='grey');\n",
    "    plt.axvline(0,linestyle='--',color='grey');\n",
    "    plt.legend(fontsize=12)"
   ]
  },
  {
   "cell_type": "markdown",
   "metadata": {},
   "source": [
    "## Example 1\n",
    "\n",
    "In this first example I will set up some random test data. If you are doing this for a lab, you'll either need to enter your data here or read the data in from a file."
   ]
  },
  {
   "cell_type": "markdown",
   "metadata": {},
   "source": [
    "### Generate the random data and plot it to see what it looks like"
   ]
  },
  {
   "cell_type": "code",
   "execution_count": null,
   "metadata": {},
   "outputs": [],
   "source": [
    "np.random.seed(1) # this makes sure the random values are the same every time you run the notebook\n",
    "# set up evenly spaced x values\n",
    "n_test_1 = 20\n",
    "xvals_test_1 = np.linspace(-1,3,num=n_test_1)\n",
    "yvals_test_1 = np.random.random(n_test_1)"
   ]
  },
  {
   "cell_type": "code",
   "execution_count": null,
   "metadata": {},
   "outputs": [],
   "source": [
    "# plot the test data\n",
    "plt.plot(xvals_test_1, yvals_test_1, 'o');\n",
    "plt.xlabel('x');\n",
    "plt.ylabel('y');"
   ]
  },
  {
   "cell_type": "markdown",
   "metadata": {},
   "source": [
    "### Set up an array of x values to predict the model at"
   ]
  },
  {
   "cell_type": "code",
   "execution_count": null,
   "metadata": {},
   "outputs": [],
   "source": [
    "npred_1 = 50\n",
    "# make this range a bit larger than where we have data\n",
    "xpred_1 = np.linspace(-2,4,num=npred_1)"
   ]
  },
  {
   "cell_type": "markdown",
   "metadata": {},
   "source": [
    "### Use the function defined above to implement Chebyshev's criterion"
   ]
  },
  {
   "cell_type": "code",
   "execution_count": null,
   "metadata": {},
   "outputs": [],
   "source": [
    "chebyshev_fit_linear(xvals_test_1, yvals_test_1, 0.08, 0.32, xpred_1, display_table=True)"
   ]
  },
  {
   "cell_type": "markdown",
   "metadata": {},
   "source": [
    "## Try it on your own\n",
    "\n",
    "Given the following data, set up an array of test predictions and use Chebyshev's criterion to perform a numerical fit of the parameters."
   ]
  },
  {
   "cell_type": "code",
   "execution_count": null,
   "metadata": {},
   "outputs": [],
   "source": [
    "n_test_2 = 15\n",
    "x_test_2 = np.linspace(0,1,num=n_test_2)\n",
    "# generate test data from the line y = 3x+4 on the x values set up above\n",
    "# random noise is added in\n",
    "y_test_2 = np.array([3*x + 4 + np.random.normal() for x in x_test_2])"
   ]
  },
  {
   "cell_type": "markdown",
   "metadata": {},
   "source": [
    "Plot the new test data"
   ]
  },
  {
   "cell_type": "code",
   "execution_count": null,
   "metadata": {},
   "outputs": [],
   "source": []
  },
  {
   "cell_type": "markdown",
   "metadata": {},
   "source": [
    "Set up a prediction array and then perform the fit with the `chebyshev_fit_linear` function"
   ]
  },
  {
   "cell_type": "code",
   "execution_count": null,
   "metadata": {},
   "outputs": [],
   "source": []
  },
  {
   "cell_type": "markdown",
   "metadata": {},
   "source": [
    "## Keep working on it... try it with `lecture20_file1.npz` data\n",
    "\n",
    "Use the `lecture20_file1.npz` data used in the last practice notebook. The proposed model is an exponential $y = Ce^{kx}$. Linearize the data similar to what we did in the Lecture 20 practice and then perform the linear Chebyshev fit using the `chebyshev_fit_linear` function."
   ]
  },
  {
   "cell_type": "code",
   "execution_count": null,
   "metadata": {},
   "outputs": [],
   "source": []
  }
 ],
 "metadata": {
  "kernelspec": {
   "display_name": "Python 3",
   "language": "python",
   "name": "python3"
  },
  "language_info": {
   "codemirror_mode": {
    "name": "ipython",
    "version": 3
   },
   "file_extension": ".py",
   "mimetype": "text/x-python",
   "name": "python",
   "nbconvert_exporter": "python",
   "pygments_lexer": "ipython3",
   "version": "3.7.4"
  }
 },
 "nbformat": 4,
 "nbformat_minor": 2
}
