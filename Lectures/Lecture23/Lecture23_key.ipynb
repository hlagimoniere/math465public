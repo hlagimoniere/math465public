{
 "cells": [
  {
   "cell_type": "markdown",
   "metadata": {},
   "source": [
    "# Lecture 23 practice\n",
    "\n",
    "This notebook is built to help you practice using Chebyshev's criterion numerically to perform model fitting. We'll focus on models that are either linear or can linearized using a transformation."
   ]
  },
  {
   "cell_type": "markdown",
   "metadata": {},
   "source": [
    "## Import needed packages\n",
    "\n",
    "These statements only need to be run once at the beginning of the notebook"
   ]
  },
  {
   "cell_type": "code",
   "execution_count": 1,
   "metadata": {},
   "outputs": [],
   "source": [
    "import numpy as np\n",
    "import matplotlib.pyplot as plt"
   ]
  },
  {
   "cell_type": "markdown",
   "metadata": {},
   "source": [
    "## Define any functions that will be needed"
   ]
  },
  {
   "cell_type": "markdown",
   "metadata": {},
   "source": [
    "Here I will define a function that helps you use Chebyshev's criterion to perform a fit. Like visual fitting, you will experiment with different parameter values."
   ]
  },
  {
   "cell_type": "code",
   "execution_count": 2,
   "metadata": {},
   "outputs": [],
   "source": [
    "def chebyshev_fit_linear(x_in, data_in, m_in, b_in, xpred_in, display_table=True):\n",
    "    # get some information from stuff passed in\n",
    "    nd = len(x_in) # get number of data points\n",
    "    npred = len(xpred_in) # get length of array to use for x predictions\n",
    "    ypred = np.empty(npred) # create an array to store model predictions\n",
    "    \n",
    "    # make predictions at the values in xpred_in\n",
    "    for i in range(0, npred):\n",
    "        ypred[i] = m_in * xpred_in[i] + b_in\n",
    "        \n",
    "    # create a label for the slope and intercept to show on the plot\n",
    "    # uses string formatting for the numbers\n",
    "    # the :.2f means floating point number, round to 2 decimal places\n",
    "    ypred_label = '$m = ' + '{:.2f}'.format(m_in) \\\n",
    "                + '$, $ b = ' +  '{:.2f}'.format(b_in) + '$'\n",
    "    \n",
    "    # calculate absolute errors and find the biggest one in the list\n",
    "    abs_err = np.empty(nd)\n",
    "    biggest_err = -1 # placeholder for biggest error\n",
    "    x_idx_where_biggest = 0 # placeholder for index of biggest error\n",
    "    if display_table:\n",
    "        print('{: >20}'.format('x value'),'{: >20}'.format('residual'))\n",
    "    for i in range(0, nd):\n",
    "        abs_err[i] = abs(data_in[i] - (m_in*x_in[i] + b_in))\n",
    "        if display_table:\n",
    "            print('{:20.4f}'.format(x_in[i]),'{:20.4f}'.format(abs_err[i]))\n",
    "        if abs_err[i] > biggest_err:\n",
    "            biggest_err = abs_err[i]\n",
    "            x_idx_where_biggest = i\n",
    "    print('Largest absolute error is r =', '{:.2f}'.format(biggest_err),'\\n',\n",
    "         'It occurs when x = ', '{:.4f}'.format(x_in[x_idx_where_biggest]))\n",
    "        \n",
    "    # make plot of predictions with data\n",
    "    plt.plot(x_in, data_in,'o');\n",
    "    plt.plot(xpred_in, ypred, '+', color='orange', label=ypred_label);\n",
    "    # overlay the plot with the x y pair where the absolute error is biggest\n",
    "    plt.plot(x_in[x_idx_where_biggest], data_in[x_idx_where_biggest],'o', color='red');\n",
    "    plt.xlabel(r'$x$ variable', fontsize=14);\n",
    "    plt.ylabel(r'$y$ variable', fontsize=14);\n",
    "    # plot x and y axes to see more easily\n",
    "    plt.axhline(0,linestyle='--',color='grey');\n",
    "    plt.axvline(0,linestyle='--',color='grey');\n",
    "    plt.legend(fontsize=12)"
   ]
  },
  {
   "cell_type": "markdown",
   "metadata": {},
   "source": [
    "## Example 1\n",
    "\n",
    "In this first example I will set up some random test data. If you are doing this for a lab, you'll either need to enter your data here or read the data in from a file."
   ]
  },
  {
   "cell_type": "markdown",
   "metadata": {},
   "source": [
    "### Generate the random data and plot it to see what it looks like"
   ]
  },
  {
   "cell_type": "code",
   "execution_count": 3,
   "metadata": {},
   "outputs": [],
   "source": [
    "np.random.seed(1) # this makes sure the random values are the same every time you run the notebook\n",
    "# set up evenly spaced x values\n",
    "n_test_1 = 20\n",
    "xvals_test_1 = np.linspace(-1,3,num=n_test_1)\n",
    "yvals_test_1 = np.random.random(n_test_1)"
   ]
  },
  {
   "cell_type": "code",
   "execution_count": 4,
   "metadata": {},
   "outputs": [
    {
     "data": {
      "image/png": "[encoded data removed]",
      "text/plain": [
       "<Figure size 432x288 with 1 Axes>"
      ]
     },
     "metadata": {
      "needs_background": "light"
     },
     "output_type": "display_data"
    }
   ],
   "source": [
    "# plot the test data\n",
    "plt.plot(xvals_test_1, yvals_test_1, 'o');\n",
    "plt.xlabel('x');\n",
    "plt.ylabel('y');"
   ]
  },
  {
   "cell_type": "markdown",
   "metadata": {},
   "source": [
    "### Set up an array of x values to predict the model at"
   ]
  },
  {
   "cell_type": "code",
   "execution_count": 5,
   "metadata": {},
   "outputs": [],
   "source": [
    "npred_1 = 50\n",
    "# make this range a bit larger than where we have data\n",
    "xpred_1 = np.linspace(-2,4,num=npred_1)"
   ]
  },
  {
   "cell_type": "markdown",
   "metadata": {},
   "source": [
    "### Use the function defined above to implement Chebyshev's criterion"
   ]
  },
  {
   "cell_type": "code",
   "execution_count": 6,
   "metadata": {},
   "outputs": [
    {
     "name": "stdout",
     "output_type": "stream",
     "text": [
      "             x value             residual\n",
      "             -1.0000               0.1220\n",
      "             -0.7895               0.4137\n",
      "             -0.5789               0.3180\n",
      "             -0.3684               0.0274\n",
      "             -0.1579               0.1946\n",
      "              0.0526               0.2606\n",
      "              0.2632               0.1782\n",
      "              0.4737               0.0305\n",
      "              0.6842               0.0091\n",
      "              0.8947               0.1396\n",
      "              1.1053               0.0084\n",
      "              1.3158               0.2629\n",
      "              1.5263               0.2295\n",
      "              1.7368               0.4326\n",
      "              1.9474               0.4297\n",
      "              2.1579               0.2018\n",
      "              2.3684               0.0630\n",
      "              2.5789               0.0668\n",
      "              2.7895               0.3630\n",
      "              3.0000               0.3169\n",
      "Largest absolute error is r = 0.43 \n",
      " It occurs when x =  1.7368\n"
     ]
    },
    {
     "data": {
      "image/png": "[encoded data removed]",
      "text/plain": [
       "<Figure size 432x288 with 1 Axes>"
      ]
     },
     "metadata": {
      "needs_background": "light"
     },
     "output_type": "display_data"
    }
   ],
   "source": [
    "chebyshev_fit_linear(xvals_test_1, yvals_test_1, 0.055, 0.35, xpred_1, display_table=True)"
   ]
  },
  {
   "cell_type": "markdown",
   "metadata": {},
   "source": [
    "The best I was able to get by playing with values was a slope $m=0.06$, intercept $b=0.35$, with a maximum absolute error $r=0.43$. Did you get something better than me? I'd be curious to know."
   ]
  },
  {
   "cell_type": "markdown",
   "metadata": {},
   "source": [
    "## Setting up the problem as a linear program\n",
    "\n",
    "Fitting a straight-line model $y=mx+b$ can be set up as a linear program for use with something like the simplex method.\n",
    "\n",
    "Let each measured data point be $(x_i,y_i)$ and let $i=1,2,\\ldots, m$. \n",
    "\n",
    "Then the $i$th absolute error (absolute residual) is given by\n",
    "\n",
    "$$ |r_i| = |(m x_i + b) - y_i| $$\n",
    "\n",
    "Let $r$ be defined as the largest of the list $\\{|r_i|\\}$. If $r$ is the largest, that implies that all the $r_i$'s must be less than or equal to $r$.\n",
    "\n",
    "$$ |r_i| \\leq r $$\n",
    "\n",
    "This single inequality for each data point is can also be expressed as\n",
    "\n",
    "$$ -r \\leq r_i \\leq r $$\n",
    "\n",
    "which can be separated into two simultaneous inequalities\n",
    "\n",
    "$$ r + r_i \\geq 0, \\quad \\mbox{and} \\quad r - r_i \\geq 0 $$\n",
    "\n",
    "For each of the $m$ total data points, we have two inequalities. Writing this out in more detail for our straight-line model, we have\n",
    "\n",
    "$$ r + m x_i + b - y_i \\geq 0 $$\n",
    "\n",
    "$$ r - m x_i - b + y_i \\geq 0 $$\n",
    "\n",
    "so that there are $2 m$ total inequalities.\n",
    "\n",
    "Our example above has 20 (!) data points, so we would have a whopping 40 inequalities!\n",
    "\n",
    "This is one reason computer programming exists! No one is gonna type out all 40 inequalities or be able to find the right $r$, $m$, and $b$ values that satisfy them by hand!\n",
    "\n",
    "### The Goal\n",
    "\n",
    "The goal in the end is to determine the *optimal* values of $m$, $b$, and $r$ that satisfy all of these inequalities. An additional constraint we have is that $r \\geq 0$ because it is an absolute error. $m$ and $b$ can range over all real numbers."
   ]
  },
  {
   "cell_type": "markdown",
   "metadata": {},
   "source": [
    "## Linear programming in Python\n",
    "\n",
    "If you are curious how to do this in Python, the package scipy has a function that will solve such problems, if you input the information correctly. I will define a function below that does it for us. I will warn you that it's messy because the `scipy.optimize.linprog` function takes input in a really specific way, so I have to construct matrices and vectors to pass in."
   ]
  },
  {
   "cell_type": "code",
   "execution_count": 7,
   "metadata": {},
   "outputs": [],
   "source": [
    "from scipy.optimize import linprog"
   ]
  },
  {
   "cell_type": "code",
   "execution_count": 8,
   "metadata": {},
   "outputs": [],
   "source": [
    "def chebyshev_linprog_fit_linear(x_in, data_in, xpred_in, m_guess, b_guess):\n",
    "    nd = len(x_in) # get number of data points\n",
    "    npred = len(xpred_in)\n",
    "    ypred = np.empty(npred)\n",
    "    # construct a matrix to pass into the linprog function\n",
    "    Aub_mx = np.empty([2*nd, 3]) # matrix with 2*nd rows and 3 columns\n",
    "    bub_vec = np.empty([2*nd,1]) # a 2*nd element long column vector\n",
    "    c_vec = np.ones(3) # a list of 3 ones that the linprog function needs\n",
    "    \n",
    "    # construct the Aub_mx, use nested for loops\n",
    "    for i in range(0, 3): # columns\n",
    "        data_index = 0\n",
    "        for j in range(0, 2*nd): # rows\n",
    "            if i == 0: # the first column\n",
    "                Aub_mx[j,i] = -1\n",
    "            elif i == 1: # second column (coefficients of m)\n",
    "                if j%2 == 0: # if j is even\n",
    "                    Aub_mx[j,i] = -x_in[data_index]\n",
    "                else: # if j is odd\n",
    "                    Aub_mx[j,i] = x_in[data_index]\n",
    "            elif i == 2: # third column (coefficients of b)\n",
    "                if j%2 == 0:\n",
    "                    Aub_mx[j,i] = -1\n",
    "                else:\n",
    "                    Aub_mx[j,i] = 1\n",
    "                    \n",
    "            if j%2 != 0: # increment the data index on odd j values\n",
    "                data_index += 1\n",
    "    \n",
    "    # construct the bub_vec\n",
    "    data_index = 0\n",
    "    for j in range(0, 2*nd):\n",
    "        if j%2 == 0:\n",
    "            bub_vec[j] = -data_in[data_index]\n",
    "        else:\n",
    "            bub_vec[j] = data_in[data_index]\n",
    "            data_index += 1\n",
    "    #print(bub_vec)\n",
    "    \n",
    "    # construct bounds for the decision variables\n",
    "    # constrain m and b close to your guesses to keep the optimizer from wandering off\n",
    "    bounds = [(0,10),\\\n",
    "              (m_guess-0.33*abs(m_guess),m_guess + 0.33*abs(m_guess)),\\\n",
    "              (b_guess-0.33*abs(b_guess),b_guess + 0.33*abs(b_guess))]\n",
    "    \n",
    "    res = linprog(c_vec, A_ub=Aub_mx, b_ub=bub_vec, bounds=bounds, method='revised simplex')\n",
    "    \n",
    "    biggest_err = res.x[0]\n",
    "    m_val = res.x[1]\n",
    "    b_val = res.x[2]\n",
    "    \n",
    "    \n",
    "    if res.status == 0:\n",
    "        print('After', res.nit, 'iterations...')\n",
    "        print('The optimization was successful! Here are the values it found:')\n",
    "        print('{: >10}'.format('r ='),'{:10.4f}'.format(res.x[0]))\n",
    "        print('{: >10}'.format('m ='),'{:10.4f}'.format(res.x[1]))\n",
    "        print('{: >10}'.format('b ='),'{:10.4f}'.format(res.x[2]))\n",
    "    else:\n",
    "        print('The optimization was not successful. Here is the error message:')\n",
    "        print(res.message)\n",
    "    \n",
    "    ypred_label = '$m = ' + '{:.2f}'.format(m_val) \\\n",
    "                + '$, $ b = ' +  '{:.2f}'.format(b_val) + '$'\n",
    "    \n",
    "    # double-check the biggest error calculation\n",
    "    abs_err = np.empty(nd)\n",
    "    biggest_err_check = -1\n",
    "    x_idx_where_biggest = -1\n",
    "    for i in range(0, nd):\n",
    "        abs_err[i] = abs(data_in[i] - (m_val*x_in[i] + b_val))\n",
    "        #print('{:20.4f}'.format(x_in[i]),'{:20.4f}'.format(abs_err[i]))\n",
    "        if abs_err[i] > biggest_err_check:\n",
    "            biggest_err_check = abs_err[i]\n",
    "            x_idx_where_biggest = i\n",
    "    print('Check: Largest absolute error is r =', '{:.2f}'.format(biggest_err_check),'\\n',\n",
    "         'It occurs when x = ', '{:.4f}'.format(x_in[x_idx_where_biggest]))     \n",
    "    \n",
    "    # make predictions at the values in xpred_in\n",
    "    for i in range(0, npred):\n",
    "        ypred[i] = m_val * xpred_in[i] + b_val\n",
    "    \n",
    "    # make plot of predictions with data\n",
    "    plt.plot(x_in, data_in,'o');\n",
    "    plt.plot(xpred_in, ypred, '+', color='orange', label=ypred_label);\n",
    "    # overlay the plot with the x y pair where the absolute error is biggest\n",
    "    plt.plot(x_in[x_idx_where_biggest], data_in[x_idx_where_biggest],'o', color='red');\n",
    "    plt.xlabel(r'$x$ variable', fontsize=14);\n",
    "    plt.ylabel(r'$y$ variable', fontsize=14);\n",
    "    # plot x and y axes to see more easily\n",
    "    plt.axhline(0,linestyle='--',color='grey');\n",
    "    plt.axvline(0,linestyle='--',color='grey');\n",
    "    plt.legend(fontsize=12)"
   ]
  },
  {
   "cell_type": "code",
   "execution_count": 9,
   "metadata": {},
   "outputs": [
    {
     "name": "stdout",
     "output_type": "stream",
     "text": [
      "After 21 iterations...\n",
      "The optimization was successful! Here are the values it found:\n",
      "       r =     0.4319\n",
      "       m =     0.0625\n",
      "       b =     0.3377\n",
      "Check: Largest absolute error is r = 0.43 \n",
      " It occurs when x =  1.9474\n"
     ]
    },
    {
     "data": {
      "image/png": "[encoded data removed]",
      "text/plain": [
       "<Figure size 432x288 with 1 Axes>"
      ]
     },
     "metadata": {
      "needs_background": "light"
     },
     "output_type": "display_data"
    }
   ],
   "source": [
    "chebyshev_linprog_fit_linear(xvals_test_1, yvals_test_1, xpred_1, 0.05, 0.4)"
   ]
  },
  {
   "cell_type": "markdown",
   "metadata": {},
   "source": [
    "Wow that was a lot of work to get a worse [censored] answer!"
   ]
  },
  {
   "cell_type": "markdown",
   "metadata": {},
   "source": [
    "## Try it on your own\n",
    "\n",
    "Given the following data, set up an array of test predictions and use Chebyshev's criterion to perform a numerical fit of the parameters."
   ]
  },
  {
   "cell_type": "code",
   "execution_count": 10,
   "metadata": {},
   "outputs": [],
   "source": [
    "n_test_2 = 15\n",
    "x_test_2 = np.linspace(0,1,num=n_test_2)\n",
    "# generate test data from the line y = 3x+4 on the x values set up above\n",
    "# random noise is added in\n",
    "np.random.seed(10)\n",
    "y_test_2 = np.array([3*x + 4 + np.random.normal() for x in x_test_2])"
   ]
  },
  {
   "cell_type": "code",
   "execution_count": 11,
   "metadata": {},
   "outputs": [
    {
     "data": {
      "text/plain": [
       "[<matplotlib.lines.Line2D at 0x1016e4f650>]"
      ]
     },
     "execution_count": 11,
     "metadata": {},
     "output_type": "execute_result"
    },
    {
     "data": {
      "image/png": "[encoded data removed]",
      "text/plain": [
       "<Figure size 432x288 with 1 Axes>"
      ]
     },
     "metadata": {
      "needs_background": "light"
     },
     "output_type": "display_data"
    }
   ],
   "source": [
    "plt.plot(x_test_2, y_test_2, 'o')"
   ]
  },
  {
   "cell_type": "markdown",
   "metadata": {},
   "source": [
    "Set up a prediction array and then perform the fit with the `chebyshev_fit_linear` function"
   ]
  },
  {
   "cell_type": "code",
   "execution_count": 12,
   "metadata": {},
   "outputs": [],
   "source": [
    "npred_2 = 50\n",
    "xpred_2 = np.linspace(-0.5, 1.5, num=npred_2)"
   ]
  },
  {
   "cell_type": "code",
   "execution_count": 13,
   "metadata": {},
   "outputs": [
    {
     "name": "stdout",
     "output_type": "stream",
     "text": [
      "             x value             residual\n",
      "              0.0000               1.4316\n",
      "              0.0714               0.8167\n",
      "              0.1429               1.4425\n",
      "              0.2143               0.0959\n",
      "              0.2857               0.7271\n",
      "              0.3571               0.6129\n",
      "              0.4286               0.3741\n",
      "              0.5000               0.2185\n",
      "              0.5714               0.1157\n",
      "              0.6429               0.0617\n",
      "              0.7143               0.5473\n",
      "              0.7857               1.3188\n",
      "              0.8571               0.8479\n",
      "              0.9286               1.1468\n",
      "              1.0000               0.3486\n",
      "Largest absolute error is r = 1.44 \n",
      " It occurs when x =  0.1429\n"
     ]
    },
    {
     "data": {
      "image/png": "[encoded data removed]",
      "text/plain": [
       "<Figure size 432x288 with 1 Axes>"
      ]
     },
     "metadata": {
      "needs_background": "light"
     },
     "output_type": "display_data"
    }
   ],
   "source": [
    "chebyshev_fit_linear(x_test_2, y_test_2, 2.98, 3.9, xpred_2, display_table=True)"
   ]
  },
  {
   "cell_type": "code",
   "execution_count": 14,
   "metadata": {},
   "outputs": [
    {
     "name": "stdout",
     "output_type": "stream",
     "text": [
      "After 15 iterations...\n",
      "The optimization was successful! Here are the values it found:\n",
      "       r =     1.7140\n",
      "       m =     1.9430\n",
      "       b =     4.3196\n",
      "Check: Largest absolute error is r = 1.71 \n",
      " It occurs when x =  0.1429\n"
     ]
    },
    {
     "data": {
      "image/png": "[encoded data removed]",
      "text/plain": [
       "<Figure size 432x288 with 1 Axes>"
      ]
     },
     "metadata": {
      "needs_background": "light"
     },
     "output_type": "display_data"
    }
   ],
   "source": [
    "chebyshev_linprog_fit_linear(x_test_2, y_test_2, xpred_2, 2.9, 3.9)"
   ]
  },
  {
   "cell_type": "markdown",
   "metadata": {},
   "source": [
    ":(\n",
    "Sometimes in life you must accept that you can do a better job than the fancy algorithm. This behaves unpredictably and doesn't usually even work without the `m_guess` and `b_guess` at the end. Go figure."
   ]
  },
  {
   "cell_type": "markdown",
   "metadata": {},
   "source": [
    "## Keep working on it... try it with `lecture20_file1.npz` data\n",
    "\n",
    "Use the `lecture20_file1.npz` data used in the last practice notebook. The proposed model is an exponential $y = Ce^{kx}$. Linearize the data similar to what we did in the Lecture 20 practice and then perform the linear Chebyshev fit using the `chebyshev_fit_linear` function."
   ]
  },
  {
   "cell_type": "code",
   "execution_count": 15,
   "metadata": {},
   "outputs": [
    {
     "data": {
      "image/png": "[encoded data removed]",
      "text/plain": [
       "<Figure size 432x288 with 1 Axes>"
      ]
     },
     "metadata": {
      "needs_background": "light"
     },
     "output_type": "display_data"
    }
   ],
   "source": [
    "contents_3 = np.load('lecture20_file1.npz')\n",
    "x_test_3 = contents_3['xvals']\n",
    "y_test_3 = contents_3['data']\n",
    "plt.plot(x_test_3, y_test_3, 'o');\n",
    "plt.xlabel('x');\n",
    "plt.ylabel('y');"
   ]
  },
  {
   "cell_type": "markdown",
   "metadata": {},
   "source": [
    "## Linearize the data"
   ]
  },
  {
   "cell_type": "code",
   "execution_count": 16,
   "metadata": {},
   "outputs": [
    {
     "data": {
      "image/png": "[encoded data removed]",
      "text/plain": [
       "<Figure size 432x288 with 1 Axes>"
      ]
     },
     "metadata": {
      "needs_background": "light"
     },
     "output_type": "display_data"
    }
   ],
   "source": [
    "ln_y_test_3 = np.log(y_test_3)\n",
    "plt.plot(x_test_3, ln_y_test_3, 'o');\n",
    "plt.xlabel('x');\n",
    "plt.ylabel('$\\ln(y)$');"
   ]
  },
  {
   "cell_type": "markdown",
   "metadata": {},
   "source": [
    "## Use the Chebyshev criterion on the linearized data"
   ]
  },
  {
   "cell_type": "code",
   "execution_count": 17,
   "metadata": {},
   "outputs": [],
   "source": [
    "n_pred_3 = 50\n",
    "x_pred_3 = np.linspace(-1.5, 1, num=n_pred_3)"
   ]
  },
  {
   "cell_type": "code",
   "execution_count": 18,
   "metadata": {},
   "outputs": [
    {
     "name": "stdout",
     "output_type": "stream",
     "text": [
      "             x value             residual\n",
      "             -1.0000               0.2829\n",
      "             -0.9375               0.5611\n",
      "             -0.8750               0.5356\n",
      "             -0.8125               0.0089\n",
      "             -0.7500               0.2531\n",
      "             -0.6875               0.3416\n",
      "             -0.6250               0.2244\n",
      "             -0.5625               0.0774\n",
      "             -0.5000               0.0576\n",
      "             -0.4375               0.0195\n",
      "             -0.3750               0.0845\n",
      "             -0.3125               0.0473\n",
      "             -0.2500               0.2428\n",
      "             -0.1875               0.0778\n",
      "             -0.1250               0.3332\n",
      "             -0.0625               0.0473\n",
      "              0.0000               0.1504\n",
      "              0.0625               0.1072\n",
      "              0.1250               0.2394\n",
      "              0.1875               0.2127\n",
      "              0.2500               0.0630\n",
      "              0.3125               0.0358\n",
      "              0.3750               0.1610\n",
      "              0.4375               0.0895\n",
      "              0.5000               0.0609\n",
      "Largest absolute error is r = 0.56 \n",
      " It occurs when x =  -0.9375\n"
     ]
    },
    {
     "data": {
      "image/png": "[encoded data removed]",
      "text/plain": [
       "<Figure size 432x288 with 1 Axes>"
      ]
     },
     "metadata": {
      "needs_background": "light"
     },
     "output_type": "display_data"
    }
   ],
   "source": [
    "chebyshev_fit_linear(x_test_3, ln_y_test_3, 1.75, 1.15, x_pred_3, display_table=True)"
   ]
  },
  {
   "cell_type": "code",
   "execution_count": 19,
   "metadata": {},
   "outputs": [
    {
     "name": "stdout",
     "output_type": "stream",
     "text": [
      "After 27 iterations...\n",
      "The optimization was successful! Here are the values it found:\n",
      "       r =     0.6614\n",
      "       m =     1.1725\n",
      "       b =     0.7705\n",
      "Check: Largest absolute error is r = 0.66 \n",
      " It occurs when x =  -0.8750\n"
     ]
    },
    {
     "data": {
      "image/png": "[encoded data removed]",
      "text/plain": [
       "<Figure size 432x288 with 1 Axes>"
      ]
     },
     "metadata": {
      "needs_background": "light"
     },
     "output_type": "display_data"
    }
   ],
   "source": [
    "chebyshev_linprog_fit_linear(x_test_3, ln_y_test_3, x_pred_3, 1.75, 1.15)"
   ]
  },
  {
   "cell_type": "markdown",
   "metadata": {},
   "source": [
    "I started the linear programming algorithm at the same spot (with a better value of $r$) and the algorithm still wandered off to la-la land, actually getting a *worse* answer!"
   ]
  },
  {
   "cell_type": "markdown",
   "metadata": {},
   "source": [
    "Anyway, let's keep the result from the \"better\" approximate analysis\n",
    "\n",
    "$k = 1.75,\\quad \\ln C = 1.15$\n",
    "\n",
    "That means that\n",
    "\n",
    "$C = e^{1.15}$"
   ]
  },
  {
   "cell_type": "code",
   "execution_count": 20,
   "metadata": {},
   "outputs": [],
   "source": [
    "k_val = 1.75\n",
    "C_val = np.exp(1.15)\n",
    "\n",
    "y_pred_3 = np.empty(n_pred_3)\n",
    "for i in range(0,n_pred_3):\n",
    "    y_pred_3[i] = C_val * np.exp(k_val * x_pred_3[i])"
   ]
  },
  {
   "cell_type": "code",
   "execution_count": 21,
   "metadata": {},
   "outputs": [
    {
     "data": {
      "image/png": "[encoded data removed]",
      "text/plain": [
       "<Figure size 432x288 with 1 Axes>"
      ]
     },
     "metadata": {
      "needs_background": "light"
     },
     "output_type": "display_data"
    }
   ],
   "source": [
    "plt.plot(x_test_3, y_test_3, 'o', label='Data');\n",
    "plt.plot(x_pred_3, y_pred_3, '+', label='Model prediction')\n",
    "plt.xlabel('$x$');\n",
    "plt.ylabel('$y$');\n",
    "plt.legend(fontsize=12);"
   ]
  },
  {
   "cell_type": "markdown",
   "metadata": {},
   "source": [
    "Looks good!"
   ]
  }
 ],
 "metadata": {
  "kernelspec": {
   "display_name": "Python 3",
   "language": "python",
   "name": "python3"
  },
  "language_info": {
   "codemirror_mode": {
    "name": "ipython",
    "version": 3
   },
   "file_extension": ".py",
   "mimetype": "text/x-python",
   "name": "python",
   "nbconvert_exporter": "python",
   "pygments_lexer": "ipython3",
   "version": "3.7.4"
  }
 },
 "nbformat": 4,
 "nbformat_minor": 2
}
