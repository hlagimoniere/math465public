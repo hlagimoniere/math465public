{
 "cells": [
  {
   "cell_type": "markdown",
   "metadata": {},
   "source": [
    "# Lecture 26 practice\n",
    "\n",
    "This notebook is built to help you practice using least-squares optimization both approximately on your own and also using an optimizer result to perform model fitting. We'll focus on models that are either straight lines or can linearized using a transformation."
   ]
  },
  {
   "cell_type": "markdown",
   "metadata": {},
   "source": [
    "## Import needed packages\n",
    "\n",
    "These statements only need to be run once at the beginning of the notebook"
   ]
  },
  {
   "cell_type": "code",
   "execution_count": 1,
   "metadata": {},
   "outputs": [],
   "source": [
    "from linear_fitting_functions import *"
   ]
  },
  {
   "cell_type": "markdown",
   "metadata": {},
   "source": [
    "## Example 1\n",
    "\n",
    "Consider the model\n",
    "\n",
    "$$ y = C \\left( x^2 + 2 \\right)^a $$\n",
    "\n",
    "Let's make a linearizing transformation for this model\n",
    "\n",
    "$$ \\ln y = \\ln C + a\\ln(x^2 + 2) $$\n",
    "\n",
    "That means our $y^* = \\ln y$, $C^* = \\ln C$, and $x^* = \\ln(x^2 + 2)$ so that\n",
    "\n",
    "$$ y^* = ax^* + C^* $$"
   ]
  },
  {
   "cell_type": "code",
   "execution_count": 2,
   "metadata": {},
   "outputs": [
    {
     "data": {
      "image/png": "[encoded data removed]",
      "text/plain": [
       "<Figure size 432x288 with 1 Axes>"
      ]
     },
     "metadata": {
      "needs_background": "light"
     },
     "output_type": "display_data"
    }
   ],
   "source": [
    "C_use = 1.1\n",
    "a_use = 0.25\n",
    "np.random.seed(1) # this makes sure the random values are the same every time you run the notebook\n",
    "# set up evenly spaced x values\n",
    "n_test_1 = 20\n",
    "xvals_test_1 = np.linspace(-3,5,num=n_test_1)\n",
    "yvals_test_1 = [C_use * (x**2.0 + 2.)**a_use + 0.075*np.random.normal() for x in xvals_test_1]\n",
    "\n",
    "# plot the test data\n",
    "plt.plot(xvals_test_1, yvals_test_1, 'o');\n",
    "plt.xlabel('x');\n",
    "plt.ylabel('y');"
   ]
  },
  {
   "cell_type": "markdown",
   "metadata": {},
   "source": [
    "### Linearize the data and plot in the linearized variables"
   ]
  },
  {
   "cell_type": "code",
   "execution_count": 3,
   "metadata": {},
   "outputs": [
    {
     "data": {
      "image/png": "[encoded data removed]",
      "text/plain": [
       "<Figure size 432x288 with 1 Axes>"
      ]
     },
     "metadata": {
      "needs_background": "light"
     },
     "output_type": "display_data"
    }
   ],
   "source": [
    "ystarvals_1 = np.empty(n_test_1)\n",
    "xstarvals_1 = np.empty(n_test_1)\n",
    "for i in range(0,n_test_1):\n",
    "    ystarvals_1[i] = np.log(yvals_test_1[i])\n",
    "    xstarvals_1[i] = np.log(xvals_test_1[i]**2.0 + 2)    \n",
    "    \n",
    "# plot the test data\n",
    "plt.plot(xstarvals_1, ystarvals_1, 'o');\n",
    "plt.xlabel('$x^*$');\n",
    "plt.ylabel('$y^*$');"
   ]
  },
  {
   "cell_type": "markdown",
   "metadata": {},
   "source": [
    "### Set up an array of $x^*$ values to predict the model at"
   ]
  },
  {
   "cell_type": "code",
   "execution_count": 4,
   "metadata": {},
   "outputs": [],
   "source": [
    "npred_1 = 50\n",
    "# make this range a bit larger than where we have data\n",
    "xstarpred_1 = np.linspace(0.25,4,num=npred_1)"
   ]
  },
  {
   "cell_type": "markdown",
   "metadata": {},
   "source": [
    "### Use the `least_squares_fit_linear` function to get a slope and intercept"
   ]
  },
  {
   "cell_type": "code",
   "execution_count": 5,
   "metadata": {},
   "outputs": [
    {
     "name": "stdout",
     "output_type": "stream",
     "text": [
      "             x value     residual squared\n",
      "              2.3979               0.0036\n",
      "              2.1577               0.0004\n",
      "              1.8956               0.0003\n",
      "              1.6128               0.0017\n",
      "              1.3168               0.0029\n",
      "              1.0298               0.0131\n",
      "              0.7995               0.0122\n",
      "              0.6945               0.0007\n",
      "              0.7588               0.0013\n",
      "              0.9644               0.0000\n",
      "              1.2428               0.0070\n",
      "              1.5395               0.0082\n",
      "              1.8267               0.0000\n",
      "              2.0942               0.0001\n",
      "              2.3398               0.0019\n",
      "              2.5645               0.0017\n",
      "              2.7703               0.0001\n",
      "              2.9595               0.0011\n",
      "              3.1340               0.0000\n",
      "              3.2958               0.0001\n",
      "The sum of squared deviations is 0.06\n",
      "And in case you need to know...\n",
      "The largest absolute error is r = 0.11 \n",
      " It occurs when x =  1.0298\n"
     ]
    },
    {
     "data": {
      "image/png": "[encoded data removed]",
      "text/plain": [
       "<Figure size 432x288 with 1 Axes>"
      ]
     },
     "metadata": {
      "needs_background": "light"
     },
     "output_type": "display_data"
    }
   ],
   "source": [
    "least_squares_fit_linear(xstarvals_1, ystarvals_1, 0.26, 0.07, xstarpred_1, display_table=True)"
   ]
  },
  {
   "cell_type": "markdown",
   "metadata": {},
   "source": [
    "### Use the `least_squares_optimizer_fit_linear` starting at your guesses to find the optimal solution"
   ]
  },
  {
   "cell_type": "code",
   "execution_count": 6,
   "metadata": {},
   "outputs": [
    {
     "name": "stdout",
     "output_type": "stream",
     "text": [
      "After 3 iterations...\n",
      "The optimization was successful! Here are the values it found:\n",
      "       m =     0.2527\n",
      "       b =     0.0829\n",
      "             x value     residual squared\n",
      "              2.3979               0.0042\n",
      "              2.1577               0.0003\n",
      "              1.8956               0.0002\n",
      "              1.6128               0.0018\n",
      "              1.3168               0.0025\n",
      "              1.0298               0.0143\n",
      "              0.7995               0.0106\n",
      "              0.6945               0.0012\n",
      "              0.7588               0.0008\n",
      "              0.9644               0.0000\n",
      "              1.2428               0.0063\n",
      "              1.5395               0.0085\n",
      "              1.8267               0.0000\n",
      "              2.0942               0.0001\n",
      "              2.3398               0.0023\n",
      "              2.5645               0.0012\n",
      "              2.7703               0.0000\n",
      "              2.9595               0.0006\n",
      "              3.1340               0.0000\n",
      "              3.2958               0.0004\n",
      "The sum of squared deviations is 0.0556\n",
      "And in case you need to know...\n",
      "The largest absolute error is r = 0.1197 \n",
      " It occurs when x =  1.0298\n"
     ]
    },
    {
     "data": {
      "image/png": "[encoded data removed]",
      "text/plain": [
       "<Figure size 432x288 with 1 Axes>"
      ]
     },
     "metadata": {
      "needs_background": "light"
     },
     "output_type": "display_data"
    }
   ],
   "source": [
    "least_squares_optimizer_fit_linear(xstarvals_1, ystarvals_1, 0.26, 0.07, xstarpred_1, display_table=True)"
   ]
  },
  {
   "cell_type": "markdown",
   "metadata": {},
   "source": [
    "### Return to the original variables and use the optimal slope and intercept you obtained"
   ]
  },
  {
   "cell_type": "code",
   "execution_count": 7,
   "metadata": {},
   "outputs": [
    {
     "name": "stdout",
     "output_type": "stream",
     "text": [
      "Using optimal value of a= 0.2527\n",
      "Using optimal value of c= 1.0864\n"
     ]
    }
   ],
   "source": [
    "# make this range a bit larger than where we have data\n",
    "# need another array in the original x to make new predictions\n",
    "a_opt_1 = 0.2527 # optimal power is the slope\n",
    "C_opt_1 = np.exp(0.0829) # optimal constant\n",
    "print('Using optimal value of a=', '{:.4f}'.format(a_opt_1))\n",
    "print('Using optimal value of c=', '{:.4f}'.format(C_opt_1))\n",
    "xpred_1 = np.linspace(-4,6,num=npred_1)\n",
    "ypred_1 = np.empty(npred_1)\n",
    "for i in range(0, npred_1):\n",
    "    ypred_1[i] = C_opt_1 * (xpred_1[i]**2.0 + 2.0)**a_opt_1"
   ]
  },
  {
   "cell_type": "code",
   "execution_count": 8,
   "metadata": {},
   "outputs": [
    {
     "data": {
      "image/png": "[encoded data removed]",
      "text/plain": [
       "<Figure size 432x288 with 1 Axes>"
      ]
     },
     "metadata": {
      "needs_background": "light"
     },
     "output_type": "display_data"
    }
   ],
   "source": [
    "plt.plot(xvals_test_1, yvals_test_1, 'o', label='Data');\n",
    "plt.plot(xpred_1, ypred_1, '+', label='Predictions');\n",
    "plt.xlabel('x', fontsize=12);\n",
    "plt.ylabel('y', fontsize=12);\n",
    "plt.legend(fontsize=12);"
   ]
  },
  {
   "cell_type": "markdown",
   "metadata": {},
   "source": [
    "Hey, not bad at all! The true values used to generate the test data were $C=1.1$ and $a=0.25$."
   ]
  },
  {
   "cell_type": "markdown",
   "metadata": {},
   "source": [
    "## Lab quiz\n",
    "\n",
    "Based on what I did above, it's time for you to try a similar example! Consider the proposed model\n",
    "\n",
    "$$ y = C \\left(\\cfrac{1}{x^2+1}\\right)^a $$\n",
    "\n",
    "Given the test data below\n",
    "\n",
    "- linearize the model and then transform the data\n",
    "- plot the linearized data\n",
    "- use the `least_squares_fit_linear` to find the best coefficient values possible that minimize the sum of squared deviations\n",
    "- using the values you obtained in the last part as starting guesses, use the `least_squares_optimizer_fit_linear` to find the best coefficient values possible that minimize the sum of squared deviations\n",
    "- transform back to the original variables and use your optimal values to make a prediction"
   ]
  },
  {
   "cell_type": "markdown",
   "metadata": {},
   "source": [
    "Cell that generates the test data. Note that $C=5$ and $a=0.33$"
   ]
  },
  {
   "cell_type": "code",
   "execution_count": 9,
   "metadata": {},
   "outputs": [
    {
     "name": "stdout",
     "output_type": "stream",
     "text": [
      "[5.02773162852465, 4.204043528835038, 3.6172091181808743, 2.752887278160854, 2.3832702105734125, 2.2404799319806985, 1.7738838350483745, 1.6362877373906237, 1.5782170943986076, 1.414574865448969, 1.2343858108640993, 1.2530863376904555, 1.1684496119691024, 1.2041243773608143, 0.9238159726608044]\n"
     ]
    },
    {
     "data": {
      "image/png": "[encoded data removed]",
      "text/plain": [
       "<Figure size 432x288 with 1 Axes>"
      ]
     },
     "metadata": {
      "needs_background": "light"
     },
     "output_type": "display_data"
    }
   ],
   "source": [
    "C_use_2 = 5.0\n",
    "a_use_2 = 0.33\n",
    "np.random.seed(5) # this makes sure the random values are the same every time you run the notebook\n",
    "# set up evenly spaced x values\n",
    "n_test_2 = 15\n",
    "xvals_test_2 = np.linspace(0.1,10,num=n_test_2)\n",
    "yvals_test_2 = [C_use_2 * (1/(x**2.0 + 1.))**a_use_2 + 0.1*np.random.normal() for x in xvals_test_2]\n",
    "\n",
    "# plot the test data\n",
    "plt.plot(xvals_test_2, yvals_test_2, 'o');\n",
    "plt.xlabel('x');\n",
    "plt.ylabel('y');\n",
    "#print(xvals_test_2.tolist())\n",
    "print(yvals_test_2)"
   ]
  },
  {
   "cell_type": "code",
   "execution_count": 10,
   "metadata": {},
   "outputs": [],
   "source": [
    "xvals_test_2 = np.array([ 0.1, 0.80714286, 1.51428571, 2.22142857, 2.92857143, 3.63571429, \n",
    "                          4.34285714, 5.05, 5.75714286, 6.46428571, 7.17142857, 7.87857143, \n",
    "                          8.58571429, 9.29285714, 10.])\n",
    "yvals_test_2 = np.array([5.02773162852465, 4.204043528835038, 3.6172091181808743,\n",
    "                         2.752887278160854, 2.3832702105734125, 2.2404799319806985,\n",
    "                         1.7738838350483745, 1.6362877373906237, 1.5782170943986076,\n",
    "                         1.414574865448969, 1.2343858108640993, 1.2530863376904555,\n",
    "                         1.1684496119691024, 1.2041243773608143, 0.9238159726608044])\n",
    "n_test_2 = len(yvals_test_2)"
   ]
  },
  {
   "cell_type": "code",
   "execution_count": 11,
   "metadata": {},
   "outputs": [
    {
     "data": {
      "image/png": "[encoded data removed]",
      "text/plain": [
       "<Figure size 432x288 with 1 Axes>"
      ]
     },
     "metadata": {
      "needs_background": "light"
     },
     "output_type": "display_data"
    }
   ],
   "source": [
    "plt.plot(xvals_test_2, yvals_test_2, 'o');\n",
    "plt.xlabel('x');\n",
    "plt.ylabel('y');"
   ]
  },
  {
   "cell_type": "code",
   "execution_count": 12,
   "metadata": {},
   "outputs": [
    {
     "data": {
      "image/png": "[encoded data removed]",
      "text/plain": [
       "<Figure size 432x288 with 1 Axes>"
      ]
     },
     "metadata": {
      "needs_background": "light"
     },
     "output_type": "display_data"
    }
   ],
   "source": [
    "ystarvals_2 = np.empty(n_test_2)\n",
    "xstarvals_2 = np.empty(n_test_2)\n",
    "for i in range(0,n_test_2):\n",
    "    ystarvals_2[i] = np.log(yvals_test_2[i])\n",
    "    xstarvals_2[i] = np.log(1/(xvals_test_2[i]**2.0 + 1))    \n",
    "    \n",
    "# plot the test data\n",
    "plt.plot(xstarvals_2, ystarvals_2, 'o');\n",
    "plt.xlabel('$x^*$');\n",
    "plt.ylabel('$y^*$');"
   ]
  },
  {
   "cell_type": "code",
   "execution_count": 13,
   "metadata": {},
   "outputs": [],
   "source": [
    "npred_2 = 50\n",
    "# make this range a bit larger than where we have data\n",
    "xstarpred_2 = np.linspace(-5,1,num=npred_2)"
   ]
  },
  {
   "cell_type": "code",
   "execution_count": 24,
   "metadata": {},
   "outputs": [
    {
     "name": "stdout",
     "output_type": "stream",
     "text": [
      "             x value     residual squared\n",
      "             -0.0100               0.0000\n",
      "             -0.5017               0.0002\n",
      "             -1.1918               0.0061\n",
      "             -1.7808               0.0001\n",
      "             -2.2593               0.0012\n",
      "             -2.6545               0.0123\n",
      "             -2.9887               0.0000\n",
      "             -3.2772               0.0002\n",
      "             -3.5306               0.0045\n",
      "             -3.7562               0.0013\n",
      "             -3.9595               0.0008\n",
      "             -4.1443               0.0026\n",
      "             -4.3137               0.0016\n",
      "             -4.4700               0.0157\n",
      "             -4.6151               0.0079\n",
      "The sum of squared deviations is 0.05\n",
      "And in case you need to know...\n",
      "The largest absolute error is r = 0.13 \n",
      " It occurs when x =  -4.4700\n"
     ]
    },
    {
     "data": {
      "image/png": "[encoded data removed]",
      "text/plain": [
       "<Figure size 432x288 with 1 Axes>"
      ]
     },
     "metadata": {
      "needs_background": "light"
     },
     "output_type": "display_data"
    }
   ],
   "source": [
    "least_squares_fit_linear(xstarvals_2, ystarvals_2, 0.35, 1.625, xstarpred_2, display_table=True)"
   ]
  },
  {
   "cell_type": "code",
   "execution_count": 15,
   "metadata": {},
   "outputs": [
    {
     "name": "stdout",
     "output_type": "stream",
     "text": [
      "Using optimal value of a= 0.3500\n",
      "Using optimal value of c= 5.0784\n"
     ]
    }
   ],
   "source": [
    "C_visual_opt = np.exp(1.625)\n",
    "a_visual_opt = 0.35\n",
    "print('Using optimal value of a=', '{:.4f}'.format(a_visual_opt))\n",
    "print('Using optimal value of c=', '{:.4f}'.format(C_visual_opt))"
   ]
  },
  {
   "cell_type": "code",
   "execution_count": 16,
   "metadata": {},
   "outputs": [
    {
     "name": "stdout",
     "output_type": "stream",
     "text": [
      "After 2 iterations...\n",
      "The optimization was successful! Here are the values it found:\n",
      "       m =     0.3476\n",
      "       b =     1.6465\n",
      "             x value     residual squared\n",
      "             -0.0100               0.0008\n",
      "             -0.5017               0.0013\n",
      "             -1.1918               0.0029\n",
      "             -1.7808               0.0002\n",
      "             -2.2593               0.0001\n",
      "             -2.6545               0.0069\n",
      "             -2.9887               0.0012\n",
      "             -3.2772               0.0002\n",
      "             -3.5306               0.0014\n",
      "             -3.7562               0.0000\n",
      "             -3.9595               0.0035\n",
      "             -4.1443               0.0004\n",
      "             -4.3137               0.0001\n",
      "             -4.4700               0.0087\n",
      "             -4.6151               0.0147\n",
      "The sum of squared deviations is 0.0423\n",
      "And in case you need to know...\n",
      "The largest absolute error is r = 0.1214 \n",
      " It occurs when x =  -4.6151\n"
     ]
    },
    {
     "data": {
      "image/png": "[encoded data removed]",
      "text/plain": [
       "<Figure size 432x288 with 1 Axes>"
      ]
     },
     "metadata": {
      "needs_background": "light"
     },
     "output_type": "display_data"
    }
   ],
   "source": [
    "least_squares_optimizer_fit_linear(xstarvals_2, ystarvals_2, 0.35, 1.625, xstarpred_2, display_table=True)"
   ]
  },
  {
   "cell_type": "code",
   "execution_count": 25,
   "metadata": {},
   "outputs": [
    {
     "name": "stdout",
     "output_type": "stream",
     "text": [
      "Using optimal value of a= 0.3476\n",
      "Using optimal value of c= 5.1888\n"
     ]
    }
   ],
   "source": [
    "# make this range a bit larger than where we have data\n",
    "# need another array in the original x to make new predictions\n",
    "a_opt_2 = 0.3476 # optimal power is the slope\n",
    "C_opt_2 = np.exp(1.6465) # optimal constant\n",
    "print('Using optimal value of a=', '{:.4f}'.format(a_opt_2))\n",
    "print('Using optimal value of c=', '{:.4f}'.format(C_opt_2))\n",
    "xpred_2 = np.linspace(0,11,num=npred_2)\n",
    "ypred_2 = np.empty(npred_2)\n",
    "for i in range(0, npred_2):\n",
    "    ypred_2[i] = C_opt_2 * (1/(xpred_2[i]**2.0 + 1.0))**a_opt_2"
   ]
  },
  {
   "cell_type": "code",
   "execution_count": 18,
   "metadata": {},
   "outputs": [
    {
     "data": {
      "image/png": "[encoded data removed]",
      "text/plain": [
       "<Figure size 432x288 with 1 Axes>"
      ]
     },
     "metadata": {
      "needs_background": "light"
     },
     "output_type": "display_data"
    }
   ],
   "source": [
    "plt.plot(xvals_test_2, yvals_test_2, 'o', label='Data');\n",
    "plt.plot(xpred_2, ypred_2, '+', label='Predictions');\n",
    "plt.xlabel('x', fontsize=12);\n",
    "plt.ylabel('y', fontsize=12);\n",
    "plt.legend(fontsize=12);"
   ]
  },
  {
   "cell_type": "code",
   "execution_count": 19,
   "metadata": {},
   "outputs": [
    {
     "name": "stdout",
     "output_type": "stream",
     "text": [
      "0.12124355652982141\n",
      "0.053103672189407015\n"
     ]
    }
   ],
   "source": [
    "# find dmax\n",
    "print(np.sqrt(0.0147))\n",
    "# Find D\n",
    "print(np.sqrt(0.0423/n_test_2))"
   ]
  },
  {
   "cell_type": "markdown",
   "metadata": {},
   "source": [
    "For Chebyshev's method, the minimum possible largest absolute deviation one could obtain $c_{\\text{max}}$ is bounded above by\n",
    "\n",
    "$$ d_{\\text{max}} = 0.1212 $$\n",
    "\n",
    "and from below by\n",
    "\n",
    "$$ D = 0.0531 $$"
   ]
  }
 ],
 "metadata": {
  "kernelspec": {
   "display_name": "Python 3",
   "language": "python",
   "name": "python3"
  },
  "language_info": {
   "codemirror_mode": {
    "name": "ipython",
    "version": 3
   },
   "file_extension": ".py",
   "mimetype": "text/x-python",
   "name": "python",
   "nbconvert_exporter": "python",
   "pygments_lexer": "ipython3",
   "version": "3.7.4"
  }
 },
 "nbformat": 4,
 "nbformat_minor": 2
}
