{
 "cells": [
  {
   "cell_type": "markdown",
   "metadata": {},
   "source": [
    "# Looking at the sum of squared errors\n",
    "\n",
    "It is often interesting to consider what the sum of squared errors looks like as a function of the parameter values. Let's consider the data from the linear example in `SolvingNormalEquations.ipynb`."
   ]
  },
  {
   "cell_type": "code",
   "execution_count": 1,
   "metadata": {},
   "outputs": [],
   "source": [
    "import numpy as np\n",
    "import matplotlib.pyplot as plt"
   ]
  },
  {
   "cell_type": "code",
   "execution_count": 2,
   "metadata": {},
   "outputs": [
    {
     "data": {
      "image/png": "[encoded data removed]",
      "text/plain": [
       "<Figure size 432x288 with 1 Axes>"
      ]
     },
     "metadata": {
      "needs_background": "light"
     },
     "output_type": "display_data"
    }
   ],
   "source": [
    "np.random.seed(5)\n",
    "a1_true = 2\n",
    "b1_true = 5\n",
    "n1 = 30\n",
    "x1 = np.linspace(-0.5,1,num=n1)\n",
    "y1 = [a1_true*x + b1_true + 0.2*np.random.normal() for x in x1]\n",
    "plt.plot(x1, y1, 'o');"
   ]
  },
  {
   "cell_type": "markdown",
   "metadata": {},
   "source": [
    "Define a function that returns the sum of squared errors for the linear model\n",
    "\n",
    "$$ f(x; a,b) = ax + b $$\n",
    "\n",
    "so that\n",
    "\n",
    "$$ S(a,b) = \\sum_{i=1}^m (y_i - f(x_i; a,b))^2 $$\n",
    "\n",
    "Vary (a,b) and see what the graph looks like"
   ]
  },
  {
   "cell_type": "code",
   "execution_count": 20,
   "metadata": {},
   "outputs": [],
   "source": [
    "# build a grid of a and b values\n",
    "n_a_vals = 100\n",
    "n_b_vals = 101\n",
    "a_vals_plot = np.linspace(0,4,num=n_a_vals) # choose this range to be wide enough to capture reasonable a values\n",
    "b_vals_plot = np.linspace(0,10, num=n_b_vals) # same as above but for b values\n",
    "\n",
    "# define a function that returns the sum of squared errors for different a and b values\n",
    "def sum_of_squared_errors(a_in, b_in):\n",
    "    s = 0.0\n",
    "    for i in range(0,n1):\n",
    "        s += (y1[i] - (a_in*x1[i] + b_in))**2.0\n",
    "    return s\n",
    "\n",
    "# make an array to hold all the values and compute S on all the a,b pairs\n",
    "S_vals = np.empty((n_a_vals, n_b_vals))\n",
    "for i in range(0, n_a_vals):\n",
    "    for j in range(0, n_b_vals):\n",
    "        S_vals[i,j] = sum_of_squared_errors(a_vals_plot[i], b_vals_plot[j])"
   ]
  },
  {
   "cell_type": "code",
   "execution_count": 21,
   "metadata": {},
   "outputs": [
    {
     "data": {
      "image/png": "[encoded data removed]",
      "text/plain": [
       "<Figure size 432x288 with 1 Axes>"
      ]
     },
     "metadata": {
      "needs_background": "light"
     },
     "output_type": "display_data"
    }
   ],
   "source": [
    "plt.contourf(a_vals_plot, b_vals_plot, S_vals.T);"
   ]
  },
  {
   "cell_type": "code",
   "execution_count": 22,
   "metadata": {},
   "outputs": [
    {
     "name": "stdout",
     "output_type": "stream",
     "text": [
      "935.859318234711\n",
      "1.0674135252364148\n"
     ]
    }
   ],
   "source": [
    "print(np.amax(S_vals))\n",
    "print(np.amin(S_vals))"
   ]
  },
  {
   "cell_type": "markdown",
   "metadata": {},
   "source": [
    "The values of $S$ span many orders of magnitude. In order to see this on a more reasonable scale, plot the log of $S$"
   ]
  },
  {
   "cell_type": "code",
   "execution_count": 23,
   "metadata": {},
   "outputs": [
    {
     "name": "stdout",
     "output_type": "stream",
     "text": [
      "6.841465164149969\n",
      "0.06523845603511888\n"
     ]
    }
   ],
   "source": [
    "print(np.log(np.amax(S_vals)))\n",
    "print(np.log(np.amin(S_vals)))"
   ]
  },
  {
   "cell_type": "markdown",
   "metadata": {},
   "source": [
    "The difference between biggest and smallest on a log scale is only about 5 or 6, whereas before it was about 1000"
   ]
  },
  {
   "cell_type": "code",
   "execution_count": 24,
   "metadata": {},
   "outputs": [
    {
     "data": {
      "image/png": "[encoded data removed]",
      "text/plain": [
       "<Figure size 432x288 with 1 Axes>"
      ]
     },
     "metadata": {
      "needs_background": "light"
     },
     "output_type": "display_data"
    }
   ],
   "source": [
    "plt.contourf(a_vals_plot, b_vals_plot, np.log(S_vals).T);"
   ]
  },
  {
   "cell_type": "markdown",
   "metadata": {},
   "source": [
    "The minimum very clearly occurs near $a=2$, $b=5$"
   ]
  }
 ],
 "metadata": {
  "kernelspec": {
   "display_name": "Python 3",
   "language": "python",
   "name": "python3"
  },
  "language_info": {
   "codemirror_mode": {
    "name": "ipython",
    "version": 3
   },
   "file_extension": ".py",
   "mimetype": "text/x-python",
   "name": "python",
   "nbconvert_exporter": "python",
   "pygments_lexer": "ipython3",
   "version": "3.7.4"
  }
 },
 "nbformat": 4,
 "nbformat_minor": 2
}
