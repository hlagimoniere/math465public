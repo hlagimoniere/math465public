{
 "cells": [
  {
   "cell_type": "markdown",
   "metadata": {},
   "source": [
    "# Solving normal equations for linear least-squares\n",
    "\n",
    "This notebook shows how to set up and solve the normal equations for linear least-squares problems, i.e., any parameter fitting problem where the output $y$ is related to the inputs $x$ and parameters $\\boldsymbol{\\beta}$ by\n",
    "\n",
    "$$ y = f(x; \\boldsymbol{\\beta}) = \\sum_{j=0}^{p-1} \\beta_j g_j(x) $$\n",
    "\n",
    "where there are $p$ parameters in the vector $\\boldsymbol{\\beta}$ and $p$ basis functions $g_j(x)$. The basis functions are assumed to be continuous.\n",
    "\n",
    "\n",
    "## Some examples of linear models\n",
    "\n",
    "Examples of linear models are\n",
    "\n",
    "- A straight-line model $$ y = \\beta_0 + \\beta_1 x $$ where $g_0(x) = 1$ and $g_1(x) = x$.\n",
    "- A power-law model $$ y = \\beta_0 x^n $$ where $g_0(x) = x^n$\n",
    "- A sine-wave model $$ y = \\beta_0 \\sin(x) + \\beta_1 \\sin(1.1 x) + \\beta_2(1.2 x)$$ where $g_0(x) = \\sin(x)$, $g_1(x) = \\sin(1.1 x)$, and $g_2(x) = \\sin(1.2 x)$.\n",
    "\n",
    "Models like $f(x) = C e^{ax}$, while appearing nonlinear in this form, can be transformed to be linear using linearizing transformations.\n",
    "\n",
    "## Truly nonlinear models\n",
    "\n",
    "These are models that cannot be written in the form above, even after linearizing the model. \n",
    "\n",
    "However, one can still minimize the sum of least-squares, so it's possble to use least-squares for nonlinear models. Many of the solutions and analytic properties of linear least-squares solutions do not carry over to nonlinear models. An example of a nonlinear model would be\n",
    "\n",
    "A sine-wave model with parameters inside the sine function $$ y = \\sin(\\beta_0 x) + \\sin(\\beta_1 x) + \\sin(\\beta_2 x) $$\n",
    "\n",
    "There is no linearizing transformation similar to what we've studied that can change this to a straight line model.\n"
   ]
  },
  {
   "cell_type": "markdown",
   "metadata": {},
   "source": [
    "# Normal equations\n",
    "\n",
    "Given a set of data points $(x_i,y_i)$ for $i=1,\\ldots,m$ and a model that depends on $p$ parameters $\\boldsymbol{\\beta}$:\n",
    "\n",
    "$$ f(x_i; \\boldsymbol{\\beta}) $$\n",
    "\n",
    "One can derive normal equations by taking the partial derivative of the sum of squared residuals, which we call $S$ following the book (this sum is also often referred to as $\\chi^2$ in statistics):\n",
    "\n",
    "$$ S = \\sum_{i=1}^m (y_i - f(x_i; \\boldsymbol{\\beta}) $$\n",
    "\n",
    "with respect to each of the parameters $\\beta_j$ where $j=0,1,\\ldots,p-1$. To optimize the sum of least-squares (we want to find the minimum value), we set all the partial derivatives equal to zero. This means we have $p$ simultaneous equations\n",
    "\n",
    "$$ \\frac{\\partial S}{\\partial \\beta_j} = 0 $$\n",
    "\n",
    "If these equations can be solved for the $p$ parameters, they become the normal equations. This system can also be solved numerically. \n",
    "\n",
    "These equations can be solved for linear problems, which for nonlinear problems they must be approached numerically. Even for linear problems, sometimes it is easier to just do it numerically."
   ]
  },
  {
   "cell_type": "markdown",
   "metadata": {},
   "source": [
    "# Example with $ax+b$\n",
    "\n",
    "Let's start with the straight-line model\n",
    "\n",
    "$$ f(x; a,b) = ax+b $$\n",
    "\n",
    "where the vector of parameters is $\\{a,b\\}$. In class we derived the normal equations\n",
    "\n",
    "$$ a = \\frac{m\\sum x_i y_i - \\sum x_i \\sum y_i}{m\\sum x_i^2 - \\left( \\sum x_i \\right)^2} $$\n",
    "\n",
    "and \n",
    "\n",
    "$$ b = \\frac{m\\sum x_i^2 \\sum y_i - \\sum x_i y_i \\sum x_i}{m\\sum x_i^2 - \\left( \\sum x_i \\right)^2} $$\n",
    "\n",
    "where all sums range from $i=1$ to $m$\n",
    "\n",
    "Consider some noisy example data generated randomly from the line $2x+5$:"
   ]
  },
  {
   "cell_type": "code",
   "execution_count": 1,
   "metadata": {},
   "outputs": [],
   "source": [
    "import numpy as np\n",
    "import matplotlib.pyplot as plt"
   ]
  },
  {
   "cell_type": "code",
   "execution_count": 2,
   "metadata": {},
   "outputs": [
    {
     "data": {
      "image/png": "[encoded data removed]",
      "text/plain": [
       "<Figure size 432x288 with 1 Axes>"
      ]
     },
     "metadata": {
      "needs_background": "light"
     },
     "output_type": "display_data"
    }
   ],
   "source": [
    "np.random.seed(5)\n",
    "a1_true = 2\n",
    "b1_true = 5\n",
    "n1 = 30\n",
    "x1 = np.linspace(-0.5,1,num=n1)\n",
    "y1 = [a1_true*x + b1_true + 0.2*np.random.normal() for x in x1]\n",
    "plt.plot(x1, y1, 'o');"
   ]
  },
  {
   "cell_type": "markdown",
   "metadata": {},
   "source": [
    "## Two ways of calculating sums (pick one, do not blindly copy)"
   ]
  },
  {
   "cell_type": "markdown",
   "metadata": {},
   "source": [
    "Now let's set up and use the normal equations. In terms of our variables above, the array `x1` contains the $x_i$'s, `y1` contains the $y_i$'s and $m=30$ which is stored in `n1`. We need to set up several sums to calculate the normal equation values.\n",
    "\n",
    "The first and most straightforward way to calculate all the needed sums is using `for` loops:"
   ]
  },
  {
   "cell_type": "code",
   "execution_count": 3,
   "metadata": {},
   "outputs": [
    {
     "name": "stdout",
     "output_type": "stream",
     "text": [
      "Sum on i=1 to m of x_i = 7.500000000000001\n",
      "Sum on i=1 to m of y_i = 164.8265240405435\n",
      "Sum on i=1 to m of x_i y_i = 52.90354585504662\n",
      "Sum on i=1 to m of x_i**2.0 = 7.887931034482759\n"
     ]
    }
   ],
   "source": [
    "sum_x_i = 0.0 # initialize to zero\n",
    "for i in range(0,n1): # this will sum over 1 to m\n",
    "    sum_x_i += x1[i] # the += syntax means to add onto the value already in sum_x_i\n",
    "print('Sum on i=1 to m of x_i =', sum_x_i)\n",
    "\n",
    "sum_y_i = 0.0 # initialize to zero\n",
    "for i in range(0,n1):\n",
    "    sum_y_i += y1[i]\n",
    "print('Sum on i=1 to m of y_i =', sum_y_i)\n",
    "\n",
    "sum_x_i_y_i = 0.0\n",
    "for i in range(0,n1):\n",
    "    sum_x_i_y_i += x1[i]*y1[i]\n",
    "print('Sum on i=1 to m of x_i y_i =', sum_x_i_y_i)  \n",
    "\n",
    "sum_x_i_2 = 0.0\n",
    "for i in range(0,n1):\n",
    "    sum_x_i_2 += x1[i]**2.0\n",
    "print('Sum on i=1 to m of x_i**2.0 =', sum_x_i_2)  "
   ]
  },
  {
   "cell_type": "markdown",
   "metadata": {},
   "source": [
    "Another way of doing this is using built-in numpy functions. The `np.sum` function computes element-wise sums over arrays. `np.dot` computes the dot product (element-wise product) between arrays.\n",
    "\n",
    "Here is how you can use the numpy functions to do the same thing as above"
   ]
  },
  {
   "cell_type": "code",
   "execution_count": 4,
   "metadata": {},
   "outputs": [
    {
     "name": "stdout",
     "output_type": "stream",
     "text": [
      "Numpy test: Sum on i=1 to m of x_i = 7.500000000000001\n",
      "Numpy test: Sum on i=1 to m of y_i = 164.82652404054352\n",
      "Numpy test: Sum on i=1 to m of x_i y_i = 52.90354585504662\n",
      "Numpy test: Sum on i=1 to m of x_i**2.0 = 7.887931034482759\n"
     ]
    }
   ],
   "source": [
    "sum_x_i_np = np.sum(x1)\n",
    "print('Numpy test: Sum on i=1 to m of x_i =', sum_x_i_np)\n",
    "sum_y_i_np = np.sum(y1)\n",
    "print('Numpy test: Sum on i=1 to m of y_i =', sum_y_i_np)\n",
    "sum_x_i_y_i_np = np.dot(x1,y1)\n",
    "print('Numpy test: Sum on i=1 to m of x_i y_i =', sum_x_i_y_i_np)\n",
    "sum_x_i_2_np = np.dot(x1,x1)\n",
    "print('Numpy test: Sum on i=1 to m of x_i**2.0 =', sum_x_i_2_np)"
   ]
  },
  {
   "cell_type": "markdown",
   "metadata": {},
   "source": [
    "See how they are the same?\n",
    "\n",
    "PLEASE do not blindly copy both of these when doing your next lab. Use one way or the other but make sure you understand it. You should only calculate the sums once and you don't need these checking statements."
   ]
  },
  {
   "cell_type": "code",
   "execution_count": 5,
   "metadata": {},
   "outputs": [
    {
     "name": "stdout",
     "output_type": "stream",
     "text": [
      "The least-squares estimate for a is 1.9452933648883814\n",
      "The least-squares estimate for b is 5.007894126796022\n"
     ]
    }
   ],
   "source": [
    "a1_lsq = (n1 * sum_x_i_y_i - sum_x_i*sum_y_i)/(n1*sum_x_i_2 - sum_x_i**2.0)\n",
    "print('The least-squares estimate for a is', a1_lsq)\n",
    "b1_lsq = ( sum_x_i_2*sum_y_i - sum_x_i_y_i*sum_x_i)/(n1*sum_x_i_2 - sum_x_i**2.0)\n",
    "print('The least-squares estimate for b is', b1_lsq)"
   ]
  },
  {
   "cell_type": "markdown",
   "metadata": {},
   "source": [
    "## Comparing to our least-squares solver function"
   ]
  },
  {
   "cell_type": "code",
   "execution_count": 6,
   "metadata": {},
   "outputs": [],
   "source": [
    "from linear_fitting_functions import least_squares_optimizer_fit_linear # use * if you want to import everything"
   ]
  },
  {
   "cell_type": "code",
   "execution_count": 7,
   "metadata": {},
   "outputs": [],
   "source": [
    "npred1 = 50\n",
    "xpred1 = np.linspace(-0.75,1.25,num=npred1)"
   ]
  },
  {
   "cell_type": "code",
   "execution_count": 8,
   "metadata": {},
   "outputs": [
    {
     "name": "stdout",
     "output_type": "stream",
     "text": [
      "After 2 iterations...\n",
      "The optimization was successful! Here are the values it found:\n",
      "       m =     1.9453\n",
      "       b =     5.0079\n",
      "             x value     residual squared\n",
      "             -0.5000               0.0028\n",
      "             -0.4483               0.0097\n",
      "             -0.3966               0.2085\n",
      "             -0.3448               0.0060\n",
      "             -0.2931               0.0000\n",
      "             -0.2414               0.0873\n",
      "             -0.1897               0.0400\n",
      "             -0.1379               0.0179\n",
      "             -0.0862               0.0006\n",
      "             -0.0345               0.0057\n",
      "              0.0172               0.0603\n",
      "              0.0690               0.0020\n",
      "              0.1207               0.0053\n",
      "              0.1724               0.0149\n",
      "              0.2241               0.1080\n",
      "              0.2759               0.0176\n",
      "              0.3276               0.0577\n",
      "              0.3793               0.1477\n",
      "              0.4310               0.0821\n",
      "              0.4828               0.0218\n",
      "              0.5345               0.0305\n",
      "              0.5862               0.0217\n",
      "              0.6379               0.0217\n",
      "              0.6897               0.0030\n",
      "              0.7414               0.0538\n",
      "              0.7931               0.0317\n",
      "              0.8448               0.0025\n",
      "              0.8966               0.0010\n",
      "              0.9483               0.0020\n",
      "              1.0000               0.0007\n",
      "The sum of squared deviations is 1.0646\n",
      "And in case you need to know...\n",
      "The largest absolute error is r = 0.4566 \n",
      " It occurs when x =  -0.3966\n"
     ]
    },
    {
     "data": {
      "image/png": "[encoded data removed]",
      "text/plain": [
       "<Figure size 432x288 with 1 Axes>"
      ]
     },
     "metadata": {
      "needs_background": "light"
     },
     "output_type": "display_data"
    }
   ],
   "source": [
    "least_squares_optimizer_fit_linear(x1, y1, 1.94, 5, xpred1)"
   ]
  },
  {
   "cell_type": "markdown",
   "metadata": {},
   "source": [
    "The numerical solver obtains almost exactly the same result. Use this to check your answers!"
   ]
  },
  {
   "cell_type": "markdown",
   "metadata": {},
   "source": [
    "# Lab activity\n",
    "\n",
    "Now do this for the quadratic model\n",
    "\n",
    "$$ y = Ax^2 $$\n",
    "\n",
    "Find the normal equations for this model (don't linearize it!)\n",
    "\n",
    "Given the data below, use the normal equation to find the value of $A$"
   ]
  },
  {
   "cell_type": "code",
   "execution_count": 9,
   "metadata": {},
   "outputs": [],
   "source": [
    "x2 = [1.0, 1.1, 1.2, 1.3, 1.4, 1.5, 1.6, 1.7, 1.8, 1.9, 2.0]\n",
    "y2 = [2.875, 3.610, 3.397, 5.902, 4.826, 6.182, 8.066, 7.590, 8.692, 9.846, 12.66]"
   ]
  },
  {
   "cell_type": "code",
   "execution_count": 10,
   "metadata": {},
   "outputs": [
    {
     "data": {
      "image/png": "[encoded data removed]",
      "text/plain": [
       "<Figure size 432x288 with 1 Axes>"
      ]
     },
     "metadata": {
      "needs_background": "light"
     },
     "output_type": "display_data"
    }
   ],
   "source": [
    "plt.plot(x2, y2, 'o');"
   ]
  },
  {
   "cell_type": "markdown",
   "metadata": {},
   "source": [
    "The normal equation for this model is derived by taking\n",
    "\n",
    "$$ \\frac{\\partial S}{\\partial A} = 0 $$\n",
    "\n",
    "where \n",
    "\n",
    "$$ S = \\sum_{i=1}^m (y_i - Ax_i^2)^2 $$\n",
    "\n",
    "this gives\n",
    "\n",
    "$$ \\frac{\\partial S}{\\partial A} = \\sum_{i=1}^m 2(y_i - Ax_i^2)(-x_i^2) $$\n",
    "\n",
    "$$ = \\sum_{i=1}^m -2(y_i x_i^2 - Ax_i^4) $$\n",
    "\n",
    "Setting it equal to zero, the -2 goes away and we have\n",
    "\n",
    "$$ 0 = \\sum_{i=1}^my_i x_i^2 - A \\sum_{i=1}^m x_i^4  $$\n",
    "\n",
    "Therefore \n",
    "\n",
    "$$ A = \\frac{\\sum_{i=1}^my_i x_i^2}{\\sum_{i=1}^m x_i^4}$$"
   ]
  },
  {
   "cell_type": "code",
   "execution_count": 11,
   "metadata": {},
   "outputs": [],
   "source": [
    "x2_sq = np.power(x2,2) # takes elements of x array and squares them element-wise\n",
    "sum_y_i_x_i_2 = np.dot(y2, x2_sq)\n",
    "x2_fourth = np.power(x2,4)\n",
    "sum_x_i_4 = np.sum(x2_fourth)"
   ]
  },
  {
   "cell_type": "code",
   "execution_count": 14,
   "metadata": {},
   "outputs": [
    {
     "name": "stdout",
     "output_type": "stream",
     "text": [
      "The value of A from the normal equation is   2.8616\n"
     ]
    }
   ],
   "source": [
    "A_approx = sum_y_i_x_i_2/sum_x_i_4\n",
    "print('The value of A from the normal equation is', '{:8.4f}'.format(A_approx))"
   ]
  },
  {
   "cell_type": "code",
   "execution_count": 15,
   "metadata": {},
   "outputs": [],
   "source": [
    "n2_pred = 50\n",
    "x2_pred = np.linspace(0.75,2.25,num=n2_pred)\n",
    "y2_pred = np.empty(n2_pred)\n",
    "for i in range(0,n2_pred):\n",
    "    y2_pred[i] = A_approx * x2_pred[i]**2.0"
   ]
  },
  {
   "cell_type": "code",
   "execution_count": 16,
   "metadata": {},
   "outputs": [
    {
     "data": {
      "image/png": "[encoded data removed]",
      "text/plain": [
       "<Figure size 432x288 with 1 Axes>"
      ]
     },
     "metadata": {
      "needs_background": "light"
     },
     "output_type": "display_data"
    }
   ],
   "source": [
    "plt.plot(x2, y2, 'o', label='Data');\n",
    "plt.plot(x2_pred, y2_pred, '+', label='Predictions');\n",
    "plt.xlabel('x',fontsize=12);\n",
    "plt.ylabel('y',fontsize=12);\n",
    "plt.legend(fontsize=12);"
   ]
  },
  {
   "cell_type": "markdown",
   "metadata": {},
   "source": [
    "Looks great! Now let's compute the sum of squared deviations $S$ for this prediction."
   ]
  },
  {
   "cell_type": "code",
   "execution_count": 17,
   "metadata": {},
   "outputs": [
    {
     "name": "stdout",
     "output_type": "stream",
     "text": [
      "The sum of squared deviations is   5.4142\n"
     ]
    }
   ],
   "source": [
    "sum_sq_devs_2 = 0.0\n",
    "n2 = len(x2)\n",
    "for i in range(0,n2):\n",
    "    sum_sq_devs_2 += (y2[i] - A_approx*x2[i]**2.0)**2.0\n",
    "print('The sum of squared deviations is', '{:8.4f}'.format(sum_sq_devs_2))"
   ]
  },
  {
   "cell_type": "markdown",
   "metadata": {},
   "source": [
    "Just for fun... what would the optimizer get for this problem? "
   ]
  },
  {
   "cell_type": "code",
   "execution_count": 18,
   "metadata": {},
   "outputs": [],
   "source": [
    "from scipy.optimize import minimize"
   ]
  },
  {
   "cell_type": "code",
   "execution_count": 19,
   "metadata": {},
   "outputs": [],
   "source": [
    "# define a function that returns the sum of squared deviations for different values of A\n",
    "def sum_sq_devs(A):\n",
    "    S = 0.0\n",
    "    for i in range(0,n2):\n",
    "        S += (y2[i] - A*x2[i]**2.0)**2.0\n",
    "    return S"
   ]
  },
  {
   "cell_type": "code",
   "execution_count": 27,
   "metadata": {},
   "outputs": [
    {
     "name": "stdout",
     "output_type": "stream",
     "text": [
      "Optimization terminated successfully.\n",
      "The value of A from the optimizer search is   2.8616\n",
      "The difference between the exact and optimizer result is 0.0000000005\n"
     ]
    }
   ],
   "source": [
    "A_guess = 2.5\n",
    "res = minimize(sum_sq_devs, A_guess)\n",
    "print(res.message)\n",
    "print('The value of A from the optimizer search is', '{:8.4f}'.format(res.x[0]))\n",
    "print('The difference between the exact and optimizer result is', '{:8.10f}'.format(abs(A_approx - res.x[0])))"
   ]
  },
  {
   "cell_type": "markdown",
   "metadata": {},
   "source": [
    "Yeah it gets the same thing to within many digits of precision."
   ]
  }
 ],
 "metadata": {
  "kernelspec": {
   "display_name": "Python 3",
   "language": "python",
   "name": "python3"
  },
  "language_info": {
   "codemirror_mode": {
    "name": "ipython",
    "version": 3
   },
   "file_extension": ".py",
   "mimetype": "text/x-python",
   "name": "python",
   "nbconvert_exporter": "python",
   "pygments_lexer": "ipython3",
   "version": "3.7.4"
  }
 },
 "nbformat": 4,
 "nbformat_minor": 2
}
