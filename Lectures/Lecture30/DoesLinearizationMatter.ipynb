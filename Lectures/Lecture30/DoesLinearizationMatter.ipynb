{
 "cells": [
  {
   "cell_type": "markdown",
   "metadata": {},
   "source": [
    "# Does linearization make a big difference?\n",
    "\n",
    "We have tried out several models where it is simpler to linearize the model and use least-squares (or visual fitting or Chebyshev...) for several reasons.\n",
    "\n",
    "Let's look at examples where we have the option to linearize vs. not linearize."
   ]
  },
  {
   "cell_type": "markdown",
   "metadata": {},
   "source": [
    "# Power-law model example\n",
    "\n",
    "Let's consider the general power law model\n",
    "\n",
    "$$ y = A x^n $$\n",
    "\n",
    "with $n$ a fixed number and $A$ a free parameter. The example we looked at in Lab quiz 2 had $n=2$. \n",
    "\n",
    "Let there be $m$ data points $(x_i,y_i)$ and let this be the proposed model.\n",
    "\n",
    "## Path 1: no linearization\n",
    "\n",
    "The normal equation for $A$ when we don't linearize the model is\n",
    "\n",
    "$$ A = \\cfrac{\\sum y_i x_i^n}{\\sum x_i^{2n}} $$\n",
    "\n",
    "see chapter 3.3 for derivation of this normal equation.\n",
    "\n",
    "## Path 2: linearization\n",
    "\n",
    "If we linearize the model, we get\n",
    "\n",
    "$$ \\ln y = \\ln A + n \\ln x $$\n",
    "\n",
    "Let $A^* = \\ln A$, $x^* = \\ln x$, and $y^* = \\ln y$. Then we have\n",
    "\n",
    "$$ y^* = n x^* + A^* $$\n",
    "\n",
    "So if we plot the linearized data, the slope should be a fixed number n and the intercept will determine the value of $A$.\n",
    "\n",
    "Let's work out the normal equation for the free parameter $A^*$:\n",
    "\n",
    "$$ \\cfrac{\\partial S}{\\partial A^*} = \\sum_{i=1}^m \\frac{\\partial}{\\partial A^*} (y^*_i - n x^*_i - A^*)^2$$\n",
    "\n",
    "$$ = \\sum_{i=1}^m 2 (y^*_i - n x^*_i - A^*)(-1) = \\sum_{i=1}^m -2 (y^*_i - n x^*_i - A^*)$$\n",
    "\n",
    "Setting this equal to zero to minimize $S$ and dividing both sides by $-2$, we get\n",
    "\n",
    "$$ 0 = \\sum_{i=1}^m y^*_i - n \\sum_{i=1}^m x^*_i - \\sum_{i=1}^m A^* $$\n",
    "\n",
    "$$ 0 = \\sum_{i=1}^m y^*_i - n \\sum_{i=1}^m x^*_i - m A^* $$\n",
    "\n",
    "Therefore the normal equation for $A^*$ is\n",
    "\n",
    "$$ A^* = \\frac{n \\sum_{i=1}^m x^*_i - \\sum_{i=1}^m y^*_i}{-m} = \\frac{\\sum_{i=1}^m y^*_i - n \\sum_{i=1}^m x^*_i}{m} $$\n",
    "\n",
    "Since $A = e^{A^*}$, that means that\n",
    "\n",
    "$$ A = \\exp\\left[ \\frac{\\sum_{i=1}^m y^*_i - n \\sum_{i=1}^m x^*_i}{m} \\right] $$"
   ]
  },
  {
   "cell_type": "markdown",
   "metadata": {},
   "source": [
    "## Data from $y = 10 x^{0.33}$\n",
    "\n",
    "Let's look at some noisy data generated from $y = 10 x^{0.33}$. Assume $n=0.33$ is known but not the coefficient out front. The data will be generated at 42 points from $x=0.1$ through $x=5.1$."
   ]
  },
  {
   "cell_type": "code",
   "execution_count": 10,
   "metadata": {},
   "outputs": [],
   "source": [
    "import numpy as np\n",
    "import matplotlib.pyplot as plt"
   ]
  },
  {
   "cell_type": "code",
   "execution_count": 12,
   "metadata": {},
   "outputs": [
    {
     "data": {
      "image/png": "[encoded data removed]",
      "text/plain": [
       "<Figure size 432x288 with 1 Axes>"
      ]
     },
     "metadata": {
      "needs_background": "light"
     },
     "output_type": "display_data"
    }
   ],
   "source": [
    "np.random.seed(101) # make sure random noise is the same every time you run the notebook\n",
    "A1_true = 10\n",
    "npow1 = 0.33 # known value of n\n",
    "num1 = 42 # number of data points in data set\n",
    "x1 = np.linspace(0.1,5.1,num=num1)\n",
    "y1 = [A1_true * np.power(x, npow1) + 0.5*np.random.normal() for x in x1]\n",
    "plt.plot(x1, y1, 'o');"
   ]
  },
  {
   "cell_type": "markdown",
   "metadata": {},
   "source": [
    "## Path 1: direct method\n",
    "\n",
    "In Path 1, let's calculate the coefficient using the direct normal equation\n",
    "\n",
    "$$ A = \\cfrac{\\sum y_i x_i^n}{\\sum x_i^{2n}} $$\n",
    "\n",
    "Then we'll compute the sum of squared deviations (which should be minimized!)\n",
    "\n",
    "I'll use for loops to calculate the sums"
   ]
  },
  {
   "cell_type": "code",
   "execution_count": 14,
   "metadata": {},
   "outputs": [
    {
     "name": "stdout",
     "output_type": "stream",
     "text": [
      "Sum on i=1 to m of y_i * x_i^n = 759.4167716385151\n",
      "Sum on i=1 to m of x_i^{2n} = 75.29276633388905\n"
     ]
    }
   ],
   "source": [
    "sum_y_i_x_i_n = 0.0 # initialize to zero\n",
    "for i in range(0,num1): # this will sum over 1 to m\n",
    "    sum_y_i_x_i_n += np.power(x1[i], npow1) * y1[i] \n",
    "print('Sum on i=1 to m of y_i * x_i^n =', sum_y_i_x_i_n)\n",
    "\n",
    "sum_x_i_2n = 0.0 # initialize to zero\n",
    "for i in range(0,num1): # this will sum over 1 to m\n",
    "    sum_x_i_2n += np.power(x1[i], 2.*npow1)\n",
    "print('Sum on i=1 to m of x_i^{2n} =', sum_x_i_2n)"
   ]
  },
  {
   "cell_type": "code",
   "execution_count": 15,
   "metadata": {},
   "outputs": [
    {
     "name": "stdout",
     "output_type": "stream",
     "text": [
      "The least-squares estimate using the direct method for A is 10.086185016377913\n"
     ]
    }
   ],
   "source": [
    "A_path_1 = sum_y_i_x_i_n / sum_x_i_2n\n",
    "print('The least-squares estimate using the direct method for A is', A_path_1)"
   ]
  },
  {
   "cell_type": "markdown",
   "metadata": {},
   "source": [
    "### Making predictions with this value of A\n",
    "\n",
    "Let's make a prediction using the computed value of A above. Then we'll compute the value of $S$ the sum of squared errors and see what its value is."
   ]
  },
  {
   "cell_type": "code",
   "execution_count": 18,
   "metadata": {},
   "outputs": [],
   "source": [
    "npred1 = 50\n",
    "xpred1 = np.linspace(0,5.5,num=npred1) # 0 to 5.5 since data from 0.1 to 5.1\n",
    "ypred1 = np.empty(npred1)\n",
    "for i in range(0,npred1):\n",
    "    ypred1[i] = A_path_1 * np.power(xpred1[i], n1)"
   ]
  },
  {
   "cell_type": "code",
   "execution_count": 21,
   "metadata": {},
   "outputs": [
    {
     "data": {
      "image/png": "[encoded data removed]",
      "text/plain": [
       "<Figure size 432x288 with 1 Axes>"
      ]
     },
     "metadata": {
      "needs_background": "light"
     },
     "output_type": "display_data"
    }
   ],
   "source": [
    "plt.plot(x1, y1, 'o', label='Data');\n",
    "plt.plot(xpred1, ypred1, '+', label='Predictions');\n",
    "plt.xlabel('x',fontsize=12);\n",
    "plt.ylabel('y',fontsize=12);\n",
    "plt.legend(fontsize=12);"
   ]
  },
  {
   "cell_type": "markdown",
   "metadata": {},
   "source": [
    "### Compute the value of the sum of squared deviations\n",
    "\n",
    "Let's now compute \n",
    "\n",
    "$$ S = \\sum_{i=1}^m (y_i - A x_i^n)^2 $$"
   ]
  },
  {
   "cell_type": "code",
   "execution_count": 22,
   "metadata": {},
   "outputs": [
    {
     "name": "stdout",
     "output_type": "stream",
     "text": [
      "The sum of squared deviations using the direct method is  11.5721\n"
     ]
    }
   ],
   "source": [
    "S1_path_1 = 0.0 #. initialize to zero\n",
    "for i in range(0,num1):\n",
    "    S1_path_1 += (y1[i] - A_path_1 * np.power(x1[i], n1))**2.0\n",
    "print('The sum of squared deviations using the direct method is', '{:8.4f}'.format(S1_path_1))"
   ]
  },
  {
   "cell_type": "markdown",
   "metadata": {},
   "source": [
    "# Lab activity\n",
    "\n",
    "Now do the same procedure as for the direct method, but compute $A$ using the linearized model, transform back, and compute the sum of squared errors $S$ for this method.\n",
    "\n",
    "Which value of $S$ ends up being smaller?"
   ]
  },
  {
   "cell_type": "code",
   "execution_count": null,
   "metadata": {},
   "outputs": [],
   "source": []
  }
 ],
 "metadata": {
  "kernelspec": {
   "display_name": "Python 3",
   "language": "python",
   "name": "python3"
  },
  "language_info": {
   "codemirror_mode": {
    "name": "ipython",
    "version": 3
   },
   "file_extension": ".py",
   "mimetype": "text/x-python",
   "name": "python",
   "nbconvert_exporter": "python",
   "pygments_lexer": "ipython3",
   "version": "3.7.4"
  }
 },
 "nbformat": 4,
 "nbformat_minor": 2
}
