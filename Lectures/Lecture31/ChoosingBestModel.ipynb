{
 "cells": [
  {
   "cell_type": "markdown",
   "metadata": {},
   "source": [
    "# Section 3.4: choosing a best model\n",
    "\n",
    "Is there any one way to choose the best model for a set of data? It depends on several factors and needs to be examined systematically. One of the best ways to do this is to show some goodness-of-fit indicator like the sum of least squares $S$ or the value of the largest absolute error $r$, but to show these in conjunction with graphs and interpretations of the absolute and percent error across the whole domain."
   ]
  },
  {
   "cell_type": "code",
   "execution_count": 1,
   "metadata": {},
   "outputs": [],
   "source": [
    "import numpy as np\n",
    "import matplotlib.pyplot as plt\n",
    "from linear_fitting_functions import chebyshev_linprog_fit_linear"
   ]
  },
  {
   "cell_type": "markdown",
   "metadata": {},
   "source": [
    "## Table 3.4 recreation\n",
    "\n",
    "In Table 3.4 a dataset\n",
    "\n",
    "| x  | y |\n",
    "|---|---|\n",
    "| 0.5|0.7|\n",
    "|1.0|3.4|\n",
    "|1.5|7.2|\n",
    "|2.0|12.4|\n",
    "|2.5|20.1|\n",
    "\n",
    "\n",
    "is given, and we are going to use the quadratic model\n",
    "\n",
    "$$ y = A x^2 $$\n",
    "\n",
    "to fit the data.\n",
    "\n",
    "Throughout the past couple of sections of Chapter 3, they have used several methods to determine $A$.\n",
    "\n",
    "## Method 1: Least-squares criterion\n",
    "\n",
    "The normal equation for $A$ when we don't linearize the model is\n",
    "\n",
    "$$ A = \\cfrac{\\sum y_i x_i^2}{\\sum x_i^{4}} $$\n",
    "\n",
    "\n",
    "## Method 2: Least-squares on linearized data\n",
    "\n",
    "If we linearize the model, we get\n",
    "\n",
    "$$ \\ln y = \\ln A + 2 \\ln x $$\n",
    "\n",
    "Let $A^* = \\ln A$, $x^* = \\ln x$, and $y^* = \\ln y$. Then we have\n",
    "\n",
    "$$ y^* = 2 x^* + A^* $$\n",
    "\n",
    "The resulting normal equation is\n",
    "\n",
    "$$ A = \\exp\\left[ \\frac{\\sum_{i=1}^m y^*_i - 2 \\sum_{i=1}^m x^*_i}{m} \\right] $$\n",
    "\n",
    "## Method 3: Chebyshev's criterion\n",
    "\n",
    "This is something we would have to do numerically, but the idea is to construct a model and minimize the **largest absolute error**\n",
    "\n",
    "$$ r_i = |y_i - A x_i^2| $$\n",
    "\n",
    "Let $r$ be the error in all the $r_i$'s which is the largest. This results in a system of 10 inequalities\n",
    "\n",
    "$$ r - 0.7 + 0.25 A \\geq 0 $$\n",
    "$$ r + 0.7 - 0.25 A \\geq 0 $$\n",
    "$$ r - 3.4 + A \\geq 0 $$\n",
    "$$ r + 3.4 - A \\geq 0 $$\n",
    "$$ r - 7.2 + 2.25 A \\geq 0 $$\n",
    "$$ r + 7.2 - 2.25 A \\geq 0 $$\n",
    "$$ r + 12.4 - 4 A \\geq 0 $$\n",
    "$$ r - 12.4 + 4 A \\geq 0 $$\n",
    "$$ r + 20.1 - 6.25 A \\geq 0 $$\n",
    "$$ r - 20.1 + 6.25 A \\geq 0 $$\n",
    "\n",
    "We can use our `linear_fitting_functions` function `chebyshev_linprog_fit_linear` function to find the optimal solution. I.e., what value of $A$ minimizes $r$ and satisfies all the inequalities."
   ]
  },
  {
   "cell_type": "markdown",
   "metadata": {},
   "source": [
    "Set up the data as arrays to work with in the notebook"
   ]
  },
  {
   "cell_type": "code",
   "execution_count": 5,
   "metadata": {},
   "outputs": [
    {
     "data": {
      "image/png": "[encoded data removed]",
      "text/plain": [
       "<Figure size 432x288 with 1 Axes>"
      ]
     },
     "metadata": {
      "needs_background": "light"
     },
     "output_type": "display_data"
    }
   ],
   "source": [
    "xvals = np.array([0.5,1.0,1.5,2.0,2.5])\n",
    "yvals = np.array([0.7,3.4,7.2,12.4,20.1])\n",
    "ndata = len(xvals)\n",
    "\n",
    "plt.plot(xvals, yvals, 'o');\n",
    "plt.xlabel('x');\n",
    "plt.ylabel('y');"
   ]
  },
  {
   "cell_type": "markdown",
   "metadata": {},
   "source": [
    "# Getting A with method 1"
   ]
  },
  {
   "cell_type": "code",
   "execution_count": 6,
   "metadata": {},
   "outputs": [],
   "source": [
    "sum_y_i_x_i_2 = 0.0\n",
    "for i in range(0,ndata):\n",
    "    sum_y_i_x_i_2 += xvals[i]**2.0 * yvals[i]\n",
    "    \n",
    "sum_x_i_4 = 0.0\n",
    "for i in range(0,ndata):\n",
    "    sum_x_i_4 += xvals[i]**4.0"
   ]
  },
  {
   "cell_type": "code",
   "execution_count": 7,
   "metadata": {},
   "outputs": [
    {
     "name": "stdout",
     "output_type": "stream",
     "text": [
      "Using method 1, the value of A is     3.1869\n"
     ]
    }
   ],
   "source": [
    "A1 = sum_y_i_x_i_2/sum_x_i_4\n",
    "print('Using method 1, the value of A is', '{:10.4f}'.format(A1))"
   ]
  },
  {
   "cell_type": "markdown",
   "metadata": {},
   "source": [
    "This is exactly the value they report in the book."
   ]
  },
  {
   "cell_type": "markdown",
   "metadata": {},
   "source": [
    "# Getting A with method 2"
   ]
  },
  {
   "cell_type": "markdown",
   "metadata": {},
   "source": [
    "What about if we use the linearized model? Then we need to compute the transformed data"
   ]
  },
  {
   "cell_type": "code",
   "execution_count": 8,
   "metadata": {},
   "outputs": [
    {
     "data": {
      "image/png": "[encoded data removed]",
      "text/plain": [
       "<Figure size 432x288 with 1 Axes>"
      ]
     },
     "metadata": {
      "needs_background": "light"
     },
     "output_type": "display_data"
    }
   ],
   "source": [
    "xstarvals = np.log(xvals)\n",
    "ystarvals = np.log(yvals)\n",
    "\n",
    "plt.plot(xstarvals, ystarvals, 'o');\n",
    "plt.xlabel('$\\ln x$');\n",
    "plt.ylabel('$\\ln y$');"
   ]
  },
  {
   "cell_type": "markdown",
   "metadata": {},
   "source": [
    "Using the transformed model, we get"
   ]
  },
  {
   "cell_type": "code",
   "execution_count": 10,
   "metadata": {},
   "outputs": [
    {
     "name": "stdout",
     "output_type": "stream",
     "text": [
      "Using method 2, the value of A is     3.1368\n"
     ]
    }
   ],
   "source": [
    "sum_y_i_star = np.sum(ystarvals)\n",
    "sum_x_i_star = np.sum(xstarvals)\n",
    "\n",
    "A2star = (sum_y_i_star - 2.0*sum_x_i_star)/ndata\n",
    "A2 = np.exp(A2star)\n",
    "\n",
    "print('Using method 2, the value of A is', '{:10.4f}'.format(A2))"
   ]
  },
  {
   "cell_type": "markdown",
   "metadata": {},
   "source": [
    "Again, this is exactly what they report in the book example."
   ]
  },
  {
   "cell_type": "markdown",
   "metadata": {},
   "source": [
    "# Getting A with method 3\n",
    "\n",
    "Finally, let's use the linear program to implement Chebyshev's criterion. If we pass in the array of $x^2$ values and set the y intercept to zero, this is exactly the linear program we want even though it's not a straight line model."
   ]
  },
  {
   "cell_type": "code",
   "execution_count": 14,
   "metadata": {},
   "outputs": [],
   "source": [
    "x2vals = np.power(xvals,2.0)\n",
    "A3_guess = 3.1\n",
    "b3_fixed = 0.0 # this model has no y intercept, so set it to zero and keep it fixed there \n",
    "x2predvals = np.linspace(0.5**2.0, 2.5**2.0, num=10)"
   ]
  },
  {
   "cell_type": "code",
   "execution_count": 16,
   "metadata": {},
   "outputs": [
    {
     "name": "stdout",
     "output_type": "stream",
     "text": [
      "Performing linear program optimization with bounds:\n",
      "       r =          0      29.10\n",
      "       m =       2.08       4.12\n",
      "       b =      -0.00       0.00\n",
      "After 14 iterations...\n",
      "The optimization was successful! Here are the values it found:\n",
      "       r =     0.2829\n",
      "       m =     3.1707\n",
      "       b =    -0.0000\n",
      "Check: Largest absolute error is r = 0.28 \n",
      " It occurs when x =  4.0000\n"
     ]
    },
    {
     "data": {
      "image/png": "[encoded data removed]",
      "text/plain": [
       "<Figure size 432x288 with 1 Axes>"
      ]
     },
     "metadata": {
      "needs_background": "light"
     },
     "output_type": "display_data"
    }
   ],
   "source": [
    "chebyshev_linprog_fit_linear(x2vals, yvals, x2predvals, A3_guess, b3_fixed)"
   ]
  },
  {
   "cell_type": "code",
   "execution_count": 17,
   "metadata": {},
   "outputs": [],
   "source": [
    "# set A3 from result above\n",
    "A3 = 3.17073"
   ]
  },
  {
   "cell_type": "markdown",
   "metadata": {},
   "source": [
    "$A=3.1707$ is exactly what they report in the book to three decimal places! They actually use it to more precision $A = 3.17073$."
   ]
  },
  {
   "cell_type": "markdown",
   "metadata": {},
   "source": [
    "# Comparing the three models\n",
    "\n",
    "1. Direct least-squares gives $A=3.1869$ so that the model is $$ y = 3.1869 x^2 $$\n",
    "2. Least-squares on the linearized model gives $A=3.1368$ so that the model is $$ y = 3.1368 x^2 $$\n",
    "3. Chebyshev's criterion gives $A=3.17073$ so that the model is $$ y = 3.17073 x^2 $$"
   ]
  },
  {
   "cell_type": "code",
   "execution_count": 28,
   "metadata": {},
   "outputs": [
    {
     "data": {
      "image/png": "[encoded data removed]",
      "text/plain": [
       "<Figure size 432x288 with 1 Axes>"
      ]
     },
     "metadata": {
      "needs_background": "light"
     },
     "output_type": "display_data"
    }
   ],
   "source": [
    "npred = 50\n",
    "xpred = np.linspace(0.25, 2.75, num=npred)\n",
    "ypred1 = np.empty(npred)\n",
    "ypred2 = np.empty(npred)\n",
    "ypred3 = np.empty(npred)\n",
    "\n",
    "for i in range(0,npred):\n",
    "    ypred1[i] = A1*xpred[i]**2.0\n",
    "    ypred2[i] = A2*xpred[i]**2.0    \n",
    "    ypred3[i] = A3*xpred[i]**2.0  \n",
    "    \n",
    "plt.plot(xvals, yvals, 'o', label='Data')\n",
    "plt.plot(xpred, ypred1, '+', color='red', label='Direct least-squares');\n",
    "plt.plot(xpred, ypred2, '+', color='green', label='Linearized least-squares');\n",
    "plt.plot(xpred, ypred3, '+', color='blue', label='Chebyshev\\'s criterion');\n",
    "plt.title('Prediction comparision for each model version');\n",
    "plt.legend(fontsize=12);"
   ]
  },
  {
   "cell_type": "markdown",
   "metadata": {},
   "source": [
    "They all look pretty much the same, honestly..."
   ]
  },
  {
   "cell_type": "markdown",
   "metadata": {},
   "source": [
    "## First comparison: table 3.5\n",
    "\n",
    "The first thing they do is compute the errors (difference between $y_i$ and $A x_i^2$) for each data point. It's more instructive to graph these, so let's do that. You can also view them in their table."
   ]
  },
  {
   "cell_type": "code",
   "execution_count": 26,
   "metadata": {},
   "outputs": [],
   "source": [
    "err_model_1 = np.empty(ndata)\n",
    "err_model_2 = np.empty(ndata)\n",
    "err_model_3 = np.empty(ndata)\n",
    "\n",
    "for i in range(0,ndata):\n",
    "    err_model_1[i] = yvals[i] - A1*xvals[i]**2.0\n",
    "    err_model_2[i] = yvals[i] - A2*xvals[i]**2.0    \n",
    "    err_model_3[i] = yvals[i] - A3*xvals[i]**2.0    "
   ]
  },
  {
   "cell_type": "code",
   "execution_count": 27,
   "metadata": {},
   "outputs": [
    {
     "data": {
      "image/png": "[encoded data removed]",
      "text/plain": [
       "<Figure size 432x288 with 1 Axes>"
      ]
     },
     "metadata": {
      "needs_background": "light"
     },
     "output_type": "display_data"
    }
   ],
   "source": [
    "plt.plot(xvals, err_model_1, 'o', color='red', label='Direct least-squares');\n",
    "plt.plot(xvals, err_model_2, 'v', color='green', label='Linearized least-squares');\n",
    "plt.plot(xvals, err_model_3, '^', color='blue', label='Chebyshev\\'s criterion');\n",
    "plt.title('Errors $y_i - A x_i^2$ for each model version');\n",
    "plt.legend(fontsize=12);\n",
    "plt.axhline(0, linestyle='--', color='gray');"
   ]
  },
  {
   "cell_type": "markdown",
   "metadata": {},
   "source": [
    "## Second comparison: Table 3.6\n",
    "\n",
    "The last comparison they perform is computing different measures of goodness of fit for the three models. The two things they compute are\n",
    "\n",
    "1. The sum of squared errors\n",
    "2. The size of the maximum absolute error\n",
    "\n",
    "So let's go ahead and do that."
   ]
  },
  {
   "cell_type": "code",
   "execution_count": 37,
   "metadata": {},
   "outputs": [],
   "source": [
    "sum_sq_err1 = 0.0\n",
    "sum_sq_err2 = 0.0 \n",
    "sum_sq_err3 = 0.0\n",
    "for i in range(0,ndata):\n",
    "    sum_sq_err1 += (yvals[i] - A1*xvals[i]**2.0)**2.0\n",
    "    sum_sq_err2 += (yvals[i] - A2*xvals[i]**2.0)**2.0    \n",
    "    sum_sq_err3 += (yvals[i] - A3*xvals[i]**2.0)**2.0    "
   ]
  },
  {
   "cell_type": "code",
   "execution_count": 38,
   "metadata": {},
   "outputs": [],
   "source": [
    "max_err1 = np.max( np.abs(err_model_1))\n",
    "max_err2 = np.max( np.abs(err_model_2))\n",
    "max_err3 = np.max( np.abs(err_model_3))"
   ]
  },
  {
   "cell_type": "code",
   "execution_count": 43,
   "metadata": {},
   "outputs": [
    {
     "name": "stdout",
     "output_type": "stream",
     "text": [
      "> For direct least-squares:\n",
      "             S  =     0.2095\n",
      "    max abs err =     0.3477\n",
      "\n",
      "> For linearized least-squares:\n",
      "             S  =     0.3630\n",
      "    max abs err =     0.4947\n",
      "\n",
      "> For Chebyshev criterion:\n",
      "             S  =     0.2256\n",
      "    max abs err =     0.2829\n"
     ]
    }
   ],
   "source": [
    "print('> For direct least-squares:')\n",
    "print('{: >15}'.format('S '), '=', '{:10.4f}'.format(sum_sq_err1))\n",
    "print('{: >15}'.format('max abs err'), '=', '{:10.4f}'.format(max_err1))\n",
    "print() # empty line for spacing\n",
    "\n",
    "print('> For linearized least-squares:')\n",
    "print('{: >15}'.format('S '), '=', '{:10.4f}'.format(sum_sq_err2))\n",
    "print('{: >15}'.format('max abs err'), '=', '{:10.4f}'.format(max_err2))\n",
    "print()\n",
    "\n",
    "print('> For Chebyshev criterion:')\n",
    "print('{: >15}'.format('S '), '=', '{:10.4f}'.format(sum_sq_err3))\n",
    "print('{: >15}'.format('max abs err'), '=', '{:10.4f}'.format(max_err3))"
   ]
  },
  {
   "cell_type": "markdown",
   "metadata": {},
   "source": [
    "So which is better? It all depends on what you want. Model 1 has the smallest $S$, but Model 3 also has a fairly small $S$ value. If the value of the maximum absolute error is what we want, then Model 3 obviously wins. By either criterion, Model 2 loses both measures of fit."
   ]
  }
 ],
 "metadata": {
  "kernelspec": {
   "display_name": "Python 3",
   "language": "python",
   "name": "python3"
  },
  "language_info": {
   "codemirror_mode": {
    "name": "ipython",
    "version": 3
   },
   "file_extension": ".py",
   "mimetype": "text/x-python",
   "name": "python",
   "nbconvert_exporter": "python",
   "pygments_lexer": "ipython3",
   "version": "3.7.4"
  }
 },
 "nbformat": 4,
 "nbformat_minor": 2
}
