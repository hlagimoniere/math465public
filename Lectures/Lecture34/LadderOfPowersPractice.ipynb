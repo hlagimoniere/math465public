{
 "cells": [
  {
   "cell_type": "markdown",
   "metadata": {},
   "source": [
    "# Ladder of powers\n",
    "\n",
    "Transformations using a **ladder of powers** are used when performing empirical modeling. The idea is to find a transformation that successfully linearizes data. If the data are linear under a certain transformation, then the model will be a good empirical description of the behavior of the data set on that domain."
   ]
  },
  {
   "cell_type": "code",
   "execution_count": 1,
   "metadata": {},
   "outputs": [],
   "source": [
    "import numpy as np\n",
    "import matplotlib.pyplot as plt\n",
    "from linear_fitting_functions import least_squares_optimizer_fit_linear "
   ]
  },
  {
   "cell_type": "markdown",
   "metadata": {},
   "source": [
    "## Example 3 (Example 1 redux)\n",
    "\n",
    "Using the same data as in example 1, let's see what happens when we perform a transformation in $x$ instead of $y$. The advantage of this is that we don't have to \"return to the original variables\" at the end, because we won't do anything to $y$. The disadvantage is that we will change the spacing of the data in the $x$ direction."
   ]
  },
  {
   "cell_type": "code",
   "execution_count": 2,
   "metadata": {},
   "outputs": [],
   "source": [
    "x1 = [0.0, 0.0625, 0.125, \n",
    "      0.1875, 0.25, 0.3125, \n",
    "      0.375, 0.4375, 0.5, \n",
    "      0.5625, 0.625, 0.6875, \n",
    "      0.75, 0.8125, 0.875, \n",
    "      0.9375, 1.0]\n",
    "y1 = [0.054, 0.014, 0.023, \n",
    "      0.021, 0.032, 0.023, \n",
    "      0.025, 0.070, 0.035, \n",
    "      0.110, 0.128, 0.130, \n",
    "      0.173, 0.183, 0.211, \n",
    "      0.283, 0.304]\n",
    "n1 = len(x1)"
   ]
  },
  {
   "cell_type": "code",
   "execution_count": 3,
   "metadata": {},
   "outputs": [
    {
     "data": {
      "image/png": "[encoded data removed]",
      "text/plain": [
       "<Figure size 432x288 with 1 Axes>"
      ]
     },
     "metadata": {
      "needs_background": "light"
     },
     "output_type": "display_data"
    }
   ],
   "source": [
    "plt.plot(x1,y1,'o');\n",
    "plt.xlabel('$x$', fontsize=14);\n",
    "plt.ylabel('$y$', fontsize=14);"
   ]
  },
  {
   "cell_type": "markdown",
   "metadata": {},
   "source": [
    "### Perform a replacement in $x$ instead of $y$\n",
    "\n",
    "Before, we used the transformations\n",
    "\n",
    "$$ \\sqrt{y} = ax + b $$\n",
    "\n",
    "and\n",
    "\n",
    "$$ \\ln y = ax + b $$\n",
    "\n",
    "Both of these worked fine. The first resulted in a quadratic model, the second in an exponential model.\n",
    "\n",
    "**\"Stretch\" the data out in the $x$ direction.** We could also think of stretching out the x values of this data set and looking at it from that perspective\n",
    "\n",
    "Replace $x\\to x^2$ \n",
    "\n",
    "We would then propose the model \n",
    "\n",
    "$$ y = ax^2 + b $$\n",
    "\n",
    "and if it looks linear, then this would be a good model too. It probably will be, as we already saw that the similar transformation in $y \\to \\sqrt{y}$ resulted in a good fit to data."
   ]
  },
  {
   "cell_type": "code",
   "execution_count": 4,
   "metadata": {},
   "outputs": [],
   "source": [
    "x1_2 = np.power(x1, 2.0)"
   ]
  },
  {
   "cell_type": "code",
   "execution_count": 5,
   "metadata": {},
   "outputs": [
    {
     "data": {
      "image/png": "[encoded data removed]",
      "text/plain": [
       "<Figure size 432x288 with 1 Axes>"
      ]
     },
     "metadata": {
      "needs_background": "light"
     },
     "output_type": "display_data"
    }
   ],
   "source": [
    "plt.plot(x1_2,y1,'o');\n",
    "plt.xlabel('$x^2$', fontsize=14);\n",
    "plt.ylabel('$y$', fontsize=14);"
   ]
  },
  {
   "cell_type": "markdown",
   "metadata": {},
   "source": [
    "See how that stretches out the spacing of the x points? It also looks fairly linear, which is interesting. Let's use least-squares to determine the slope and intercept of this plot, assuming this is a straight-line relationship."
   ]
  },
  {
   "cell_type": "code",
   "execution_count": 6,
   "metadata": {},
   "outputs": [
    {
     "name": "stdout",
     "output_type": "stream",
     "text": [
      "After 3 iterations...\n",
      "The optimization was successful! Here are the values it found:\n",
      "       m =     0.2830\n",
      "       b =     0.0097\n",
      "The sum of squared deviations is 0.0065\n",
      "And in case you need to know...\n",
      "The largest absolute error is r = 0.0455 \n",
      " It occurs when x =  0.2500\n"
     ]
    },
    {
     "data": {
      "image/png": "[encoded data removed]",
      "text/plain": [
       "<Figure size 432x288 with 1 Axes>"
      ]
     },
     "metadata": {
      "needs_background": "light"
     },
     "output_type": "display_data"
    }
   ],
   "source": [
    "n1pred = 50\n",
    "# be careful setting up the prediction array, this is x^2 not x\n",
    "# when you plot y vs. x at the end you will probably need another\n",
    "# prediction array\n",
    "x1_2_pred = np.linspace(0, 1,num=n1pred) \n",
    "least_squares_optimizer_fit_linear(x1_2, y1, 0.3, 0, \n",
    "                                   x1_2_pred, display_table=False)"
   ]
  },
  {
   "cell_type": "markdown",
   "metadata": {},
   "source": [
    "We obtain a slope $a=0.2830$ and an intercept $b=0.0097$. That means the empirical model is\n",
    "\n",
    "$$ y = 0.2830 x^2 + 0.0097 $$\n",
    "\n",
    "There is no need to \"solve for the original variables\" here, because we have $y = f(x)$.\n",
    "\n",
    "Let's make predictions in the original variables now."
   ]
  },
  {
   "cell_type": "code",
   "execution_count": 7,
   "metadata": {},
   "outputs": [],
   "source": [
    "x1pred = np.linspace(-0.1,1.1,num=n1pred)\n",
    "y1pred = np.empty(n1pred)\n",
    "a_result = 0.2830\n",
    "b_result = 0.0097\n",
    "for i in range(0, n1pred):\n",
    "    y1pred[i] = a_result * x1pred[i]**2.0 + b_result"
   ]
  },
  {
   "cell_type": "code",
   "execution_count": 8,
   "metadata": {},
   "outputs": [
    {
     "data": {
      "image/png": "[encoded data removed]",
      "text/plain": [
       "<Figure size 432x288 with 1 Axes>"
      ]
     },
     "metadata": {
      "needs_background": "light"
     },
     "output_type": "display_data"
    }
   ],
   "source": [
    "plt.plot(x1,y1,'o', label='Data');\n",
    "plt.plot(x1pred, y1pred, '+', label='Predictions');\n",
    "plt.xlabel('$x$', fontsize=14);\n",
    "plt.ylabel('$y$', fontsize=14);\n",
    "plt.legend(fontsize=14);"
   ]
  },
  {
   "cell_type": "markdown",
   "metadata": {},
   "source": [
    "This looks pretty much as good as our old result taking $y \\to \\sqrt{y}$. They both result in slightly different quadratic functions\n",
    "\n",
    "#### Example 1 model a\n",
    "\n",
    "$$ \\sqrt{y} = 0.4215 x + 0.0848 $$\n",
    "\n",
    "which, if you multiply out the binomial, is\n",
    "\n",
    "$$ y = 0.1777 x^2 + 0.0715 x + 0.0072 $$\n",
    "\n",
    "#### Example 3 quadratic model\n",
    "\n",
    "In this analysis we got \n",
    "\n",
    "$$ y = 0.2830 x^2 + 0.0097 $$\n",
    "\n",
    "So both are quadratics, but they are not the same quadratic functions."
   ]
  },
  {
   "cell_type": "markdown",
   "metadata": {},
   "source": [
    "# Lab quiz: working with negative powers of $y$\n",
    "\n",
    "Let's look at a different kind of transformation, where we have a decreasing instead of increasing function. Read through the following cells for this data set:"
   ]
  },
  {
   "cell_type": "code",
   "execution_count": 9,
   "metadata": {},
   "outputs": [],
   "source": [
    "x2 = [1.000,1.286,1.571,1.857,\n",
    "      2.143,2.429,2.714,3.000,\n",
    "      3.286,3.571,3.857,4.143,\n",
    "      4.429,4.714,5.000]\n",
    "y2 = [2.100,1.426,0.899,0.790,\n",
    "      0.684,0.474,0.467,0.393,\n",
    "      0.336,0.283,0.296,0.327,\n",
    "      0.142,0.273,0.196]\n",
    "n2= len(x2)"
   ]
  },
  {
   "cell_type": "code",
   "execution_count": 10,
   "metadata": {},
   "outputs": [
    {
     "data": {
      "image/png": "[encoded data removed]",
      "text/plain": [
       "<Figure size 432x288 with 1 Axes>"
      ]
     },
     "metadata": {
      "needs_background": "light"
     },
     "output_type": "display_data"
    }
   ],
   "source": [
    "plt.plot(x2, y2, 'o');\n",
    "plt.xlabel('$x$');\n",
    "plt.ylabel('$y$');"
   ]
  },
  {
   "cell_type": "markdown",
   "metadata": {},
   "source": [
    "When we have decreasing functions, we usually want to enhance the smaller $y$ values at higher $x$. Good candidates for this are inverse powers in the ladder of powers like $z^{-1/2}$ and $z^{-1}$ and so on."
   ]
  },
  {
   "cell_type": "markdown",
   "metadata": {},
   "source": [
    "Let's try a replacement $y \\to y^{-1}$ and see what happens"
   ]
  },
  {
   "cell_type": "code",
   "execution_count": 11,
   "metadata": {},
   "outputs": [],
   "source": [
    "y2_m1 = np.power(y2,-1.0)"
   ]
  },
  {
   "cell_type": "code",
   "execution_count": 15,
   "metadata": {},
   "outputs": [
    {
     "data": {
      "image/png": "[encoded data removed]",
      "text/plain": [
       "<Figure size 432x288 with 1 Axes>"
      ]
     },
     "metadata": {
      "needs_background": "light"
     },
     "output_type": "display_data"
    }
   ],
   "source": [
    "plt.plot(x2,y2_m1,'o');\n",
    "plt.xlabel(r'$x$', fontsize=14);\n",
    "plt.ylabel(r'$y^{-1}$', fontsize=14);"
   ]
  },
  {
   "cell_type": "markdown",
   "metadata": {},
   "source": [
    "A problem that can occur with such a transformation is that it changes the original decreasing data into increasing data. We solve this by instead including a minus sign in the ladder of powers transformation $y \\to -\\frac1y$"
   ]
  },
  {
   "cell_type": "markdown",
   "metadata": {},
   "source": [
    "## Lab quiz activity\n",
    "\n",
    "Using the above data and transformation, transform the data and compute the coefficient values for the linearized model $a$ and $b$. I.e.,\n",
    "\n",
    "$$ -\\frac{1}{y} = ax +b $$\n",
    "\n",
    "and find the coefficients using `least_squares_optimizer_fit_linear`.\n",
    "\n",
    "Once you have done this, plot the predictions from the model in terms of the original variables. \n",
    "\n",
    "Then compute the absolute error and percent error for the model you developed. For the quiz that you will submit, find\n",
    "\n",
    "- the largest absolute error and state at which value of $x$ it occurs\n",
    "- the largest percent error and state at which value of $x$ it occurs"
   ]
  },
  {
   "cell_type": "code",
   "execution_count": null,
   "metadata": {},
   "outputs": [],
   "source": []
  }
 ],
 "metadata": {
  "kernelspec": {
   "display_name": "Python 3",
   "language": "python",
   "name": "python3"
  },
  "language_info": {
   "codemirror_mode": {
    "name": "ipython",
    "version": 3
   },
   "file_extension": ".py",
   "mimetype": "text/x-python",
   "name": "python",
   "nbconvert_exporter": "python",
   "pygments_lexer": "ipython3",
   "version": "3.7.4"
  }
 },
 "nbformat": 4,
 "nbformat_minor": 2
}
