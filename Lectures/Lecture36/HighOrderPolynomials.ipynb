{
 "cells": [
  {
   "cell_type": "markdown",
   "metadata": {},
   "source": [
    "# High-order polynomial models\n",
    "\n",
    "We use higher-order polynomials to achieve an exact fit to a data set. Given a data set with $m$ points, a polynomial of degree $p-1$ can be adjusted to fit the data exactly."
   ]
  },
  {
   "cell_type": "code",
   "execution_count": 2,
   "metadata": {},
   "outputs": [],
   "source": [
    "import numpy as np\n",
    "import matplotlib.pyplot as plt"
   ]
  },
  {
   "cell_type": "markdown",
   "metadata": {},
   "source": [
    "# 1. Two data points example\n",
    "\n",
    "Consider the example from class with two data point ($m=2$). A straight line can be adjusted to go exactly through two data points. Let's say our data points are (1,4) and (4,6)."
   ]
  },
  {
   "cell_type": "code",
   "execution_count": 7,
   "metadata": {},
   "outputs": [
    {
     "data": {
      "image/png": "[encoded data removed]",
      "text/plain": [
       "<Figure size 432x288 with 1 Axes>"
      ]
     },
     "metadata": {
      "needs_background": "light"
     },
     "output_type": "display_data"
    }
   ],
   "source": [
    "x1 = np.array([1,4])\n",
    "y1 = np.array([4,6])\n",
    "plt.plot(x1, y1, 'o')\n",
    "plt.xlim(0,5) # adjust the x limits so we can see the two points better\n",
    "plt.ylim(0,8)\n",
    "plt.xlabel(r'$x$',fontsize=12)\n",
    "plt.ylabel(r'$y$',fontsize=12);"
   ]
  },
  {
   "cell_type": "markdown",
   "metadata": {},
   "source": [
    "Clearly the line that goes through these two points will have a slope\n",
    "\n",
    "$$ m = \\frac{6-4}{4-1} = \\frac{2}{3} $$\n",
    "\n",
    "In point slope form (using the first point) it is\n",
    "\n",
    "$$ (y - 4) = \\frac{2}{3} (x-1) $$\n",
    "\n",
    "So that\n",
    "\n",
    "$$ y = \\frac{2}{3}x + \\frac{10}{3} $$\n",
    "\n",
    "Another way of setting up this problem is to use a system of equations\n",
    "\n",
    "$$ 4 = m(1) + b $$\n",
    "$$ 6 = m(4) + b $$\n",
    "\n",
    "This will result in the same values of $m=\\frac23$ and $b=\\frac{10}{3}$."
   ]
  },
  {
   "cell_type": "markdown",
   "metadata": {},
   "source": [
    "## As a matrix equation\n",
    "\n",
    "The above form is a system of linear equations. Therefore it can be written in matrix form. The general notation we will use in class for a polynomial of degree $n$ is\n",
    "\n",
    "$$ y = a_0 + a_1 x + a_2 x^2 + \\ldots + a_n x^n $$\n",
    "\n",
    "So for the example above, $a_0 = b$ and $a_1 = m$. The column vector $\\vec{a}^T = \\left(a_0, a_1 \\right)$. Writing the above system in our notation as a matrix equation gives\n",
    "\n",
    "$$ \\hat{A} \\vec{a} = \\vec{b} $$\n",
    "\n",
    "where $\\hat{A}$ is a square 2x2 matrix, $\\vec{a}$ is given above, and $\\vec{b}$ is a vector of data points (y values). \n",
    "\n",
    "For this problem\n",
    "\n",
    "$$ \\hat{A} = \\begin{pmatrix} 1^0 & 1^1 \\\\\n",
    "                             4^0 & 4^1\\end{pmatrix} = \\begin{pmatrix} 1 & 1 \\\\\n",
    "                             1 & 4\\end{pmatrix}$$\n",
    "$$ \\vec{b}^T = \\left( 4, 6 \\right) $$\n",
    "\n",
    "So that\n",
    "\n",
    "$$ \\begin{pmatrix} 1 & 1 \\\\1 & 4\\end{pmatrix}\n",
    "   \\begin{pmatrix} a_0 \\\\ a_1 \\end{pmatrix} = \\begin{pmatrix} 4 \\\\ 6 \\end{pmatrix} $$\n",
    "   \n",
    " \n",
    "This is the matrix problem we will set up in `numpy`."
   ]
  },
  {
   "cell_type": "code",
   "execution_count": 10,
   "metadata": {},
   "outputs": [],
   "source": [
    "Amx1 = np.array([[1,1],[1,4]]) # a matrix is a list of lists. each list is a row of the matrix\n",
    "bvec1 = np.array([4,6])"
   ]
  },
  {
   "cell_type": "markdown",
   "metadata": {},
   "source": [
    "Here is how to check the shape of matrices and vectors to make sure they have the right dimensions"
   ]
  },
  {
   "cell_type": "code",
   "execution_count": 11,
   "metadata": {},
   "outputs": [
    {
     "data": {
      "text/plain": [
       "(2, 2)"
      ]
     },
     "execution_count": 11,
     "metadata": {},
     "output_type": "execute_result"
    }
   ],
   "source": [
    "np.shape(Amx1)"
   ]
  },
  {
   "cell_type": "code",
   "execution_count": 12,
   "metadata": {},
   "outputs": [
    {
     "data": {
      "text/plain": [
       "(2,)"
      ]
     },
     "execution_count": 12,
     "metadata": {},
     "output_type": "execute_result"
    }
   ],
   "source": [
    "np.shape(bvec1)"
   ]
  },
  {
   "cell_type": "markdown",
   "metadata": {},
   "source": [
    "`numpy` is good at figuring out whether you need a row vector or column vector when solving matrix equations, so it will typically take transposes for you when needed. It will not do this as much with matrices."
   ]
  },
  {
   "cell_type": "markdown",
   "metadata": {},
   "source": [
    "So, how to solve the matrix equation for $\\vec{a} = \\left(a_0, a_1 \\right)$. I am sure you have spent a lot of time thinking about how to do this in linear algebra. Luckily, `numpy` has inversion and matrix decomposition functions built right in. You only need to do something complicated when you have sparse, ill-conditioned, or otherwise weird linear algebra problems. For the most part, you can just use the built-in function\n",
    "\n",
    "`np.linalg.inv` to take a matrix inverse. Matrix multiplication is done either with `np.dot` or with the `@` symbol.\n",
    "\n",
    "Here we know that \n",
    "\n",
    "$$ \\vec{a} = \\hat{A}^{-1} \\vec{b} $$"
   ]
  },
  {
   "cell_type": "code",
   "execution_count": 13,
   "metadata": {},
   "outputs": [],
   "source": [
    "avec1 = np.linalg.inv(Amx1) @ bvec1"
   ]
  },
  {
   "cell_type": "code",
   "execution_count": 14,
   "metadata": {},
   "outputs": [
    {
     "name": "stdout",
     "output_type": "stream",
     "text": [
      "[3.33333333 0.66666667]\n"
     ]
    }
   ],
   "source": [
    "print(avec1)"
   ]
  },
  {
   "cell_type": "markdown",
   "metadata": {},
   "source": [
    "Well, what do you know! The first coefficient $a_0 = b = 3.33333\\ldots = \\frac{10}{3}$ and the second coefficient $a_1 = m = 0.66666\\ldots = \\frac23$"
   ]
  },
  {
   "cell_type": "markdown",
   "metadata": {},
   "source": [
    "# 2. Three data points example\n",
    "\n",
    "Three data points can be fit exactly using a quadratic polynomial $y = a_0 + a_1 x + x_2 x^2$. Say we have the points $(x_1,y_1)$, $(x_2,y_2)$, and $(x_3,y_3)$. Our system of linear equations would be\n",
    "\n",
    "$$ a_0 + a_1 x_1 + a_2 x_1^2 = y_1 $$\n",
    "\n",
    "$$ a_0 + a_1 x_2 + a_2 x_2^2 = y_2 $$\n",
    "\n",
    "$$ a_0 + a_1 x_3 + a_2 x_3^2 = y_3 $$\n",
    "\n",
    "As a matrix equation then we have\n",
    "\n",
    "$$ \\hat{A} \\vec{a} = \\vec{b} $$\n",
    "\n",
    "$$ \\begin{pmatrix} 1 & x_1 & x_1^2 \\\\ 1 & x_2 & x_2^2 \\\\ 1 & x_3 & x_3^2\\end{pmatrix}\n",
    "   \\begin{pmatrix} a_0 \\\\ a_1 \\\\ a_2 \\end{pmatrix} = \\begin{pmatrix} y_1 \\\\ y_2 \\\\ y_3 \\end{pmatrix} $$"
   ]
  },
  {
   "cell_type": "markdown",
   "metadata": {},
   "source": [
    "Say we have three data points $(1,1)$, $(2,2)$, and $(-1,-5)$"
   ]
  },
  {
   "cell_type": "code",
   "execution_count": 18,
   "metadata": {},
   "outputs": [
    {
     "data": {
      "image/png": "[encoded data removed]",
      "text/plain": [
       "<Figure size 432x288 with 1 Axes>"
      ]
     },
     "metadata": {
      "needs_background": "light"
     },
     "output_type": "display_data"
    }
   ],
   "source": [
    "xvals2 = np.array([1,2,-1])\n",
    "yvals2 = np.array([1,2,-5])\n",
    "plt.plot(xvals2, yvals2, 'o')\n",
    "plt.xlim(-2,3) # adjust the x limits so we can see the two points better\n",
    "plt.ylim(-6,3)\n",
    "plt.xlabel(r'$x$',fontsize=12)\n",
    "plt.ylabel(r'$y$',fontsize=12);"
   ]
  },
  {
   "cell_type": "markdown",
   "metadata": {},
   "source": [
    "Let's set up the matrix equation"
   ]
  },
  {
   "cell_type": "code",
   "execution_count": 19,
   "metadata": {},
   "outputs": [],
   "source": [
    "Amx2 = np.array([ [1, 1, 1], [1, 2, 4], [1, -1, 1] ])\n",
    "bvec2 = np.array([1,2,-5])"
   ]
  },
  {
   "cell_type": "code",
   "execution_count": 20,
   "metadata": {},
   "outputs": [],
   "source": [
    "avec2 = np.linalg.inv(Amx2) @ bvec2"
   ]
  },
  {
   "cell_type": "code",
   "execution_count": 21,
   "metadata": {},
   "outputs": [
    {
     "name": "stdout",
     "output_type": "stream",
     "text": [
      "[-1.33333333  3.         -0.66666667]\n"
     ]
    }
   ],
   "source": [
    "print(avec2)"
   ]
  },
  {
   "cell_type": "markdown",
   "metadata": {},
   "source": [
    "These are the values for $a_0 = -\\frac{4}{3}$, $a_1 = 3$, and $a_2 = -\\frac{2}{3}$. Let's make sure these are correct by making a prediction for the polynomial model\n",
    "\n",
    "$$ y = f(x) = -\\frac{4}{3} + 3x -\\frac{2}{3}x^2 $$"
   ]
  },
  {
   "cell_type": "code",
   "execution_count": 22,
   "metadata": {},
   "outputs": [],
   "source": [
    "npred2 = 50\n",
    "xpred2 = np.linspace(-2,3,num=npred2)\n",
    "ypred2 = np.empty(npred2)\n",
    "for i in range(0,npred2):\n",
    "    ypred2[i] = avec2[0] + avec2[1]*xpred2[i] + avec2[2]*xpred2[i]**2.0"
   ]
  },
  {
   "cell_type": "code",
   "execution_count": 23,
   "metadata": {},
   "outputs": [
    {
     "data": {
      "image/png": "[encoded data removed]",
      "text/plain": [
       "<Figure size 432x288 with 1 Axes>"
      ]
     },
     "metadata": {
      "needs_background": "light"
     },
     "output_type": "display_data"
    }
   ],
   "source": [
    "plt.plot(xvals2, yvals2, 'o', label='Data')\n",
    "plt.plot(xpred2, ypred2, '+', label='Predictions')\n",
    "plt.xlim(-2,3) # adjust the x limits so we can see the two points better\n",
    "plt.ylim(-6,3)\n",
    "plt.xlabel(r'$x$',fontsize=12)\n",
    "plt.ylabel(r'$y$',fontsize=12)\n",
    "plt.legend(fontsize=12);"
   ]
  },
  {
   "cell_type": "markdown",
   "metadata": {},
   "source": [
    "As expected, this polynomial crosses through the data points exactly!"
   ]
  },
  {
   "cell_type": "markdown",
   "metadata": {},
   "source": [
    "### Another check to make sure you did it right\n",
    "\n",
    "You can also check right at the data points to make sure you did ok."
   ]
  },
  {
   "cell_type": "code",
   "execution_count": 26,
   "metadata": {},
   "outputs": [
    {
     "name": "stdout",
     "output_type": "stream",
     "text": [
      "Prediction =   1.0000\n",
      "Data point = 1\n",
      "Prediction =   2.0000\n",
      "Data point = 2\n",
      "Prediction =  -5.0000\n",
      "Data point = -5\n"
     ]
    }
   ],
   "source": [
    "n2 = len(xvals2)\n",
    "for i in range(0,n2):\n",
    "    print('Prediction =', '{:8.4f}'.format(avec2[0] + avec2[1]*xvals2[i] + avec2[2]*xvals2[i]**2.0))\n",
    "    print('Data point =', yvals2[i])    "
   ]
  },
  {
   "cell_type": "markdown",
   "metadata": {},
   "source": [
    "Good, they all match exactly! Another way of saying this is that the absolute error should be equal to zero."
   ]
  },
  {
   "cell_type": "markdown",
   "metadata": {},
   "source": [
    "# 3. Setting up matrices with loops\n",
    "\n",
    "In this last example, let's look at the 8 data point set from class. I do not recommend trying to write out the matrices and vectors by hand for something like this. It is too easy to make a mistake. It would be better to do this one algorithmically.\n",
    "\n",
    "For 8 data points, we need a degree 7 polynomial to fit the data points perfectly. \n",
    "\n",
    "$$ y = a_0 + a_1 x + a_2 x^2 + \\ldots + a_7 x^7 $$\n",
    "\n",
    "This will result in a system of 8 equations with the 8 unknowns being the above coefficients $\\vec{a} = \\left( a_0, a_1, a_2, a_3, a_4, a_5, a_6, a_7\\right)$.\n",
    "\n",
    "The rows of the matrix will be the x values of the data points raised to each power from 0 to 7. The columns will through each of the 8 data points. Therefore we will have an 8x8 matrix\n",
    "\n",
    "$$ \\hat{A} = \\begin{pmatrix}\n",
    "x_1^0 & x_1^1 & x_1^2 & \\ldots & x_1^7 \\\\\n",
    "x_2^0 & x_2^1 & x_2^2 & \\ldots & x_2^7 \\\\\n",
    "\\vdots & \\vdots & \\vdots & \\vdots &\\vdots \\\\\n",
    "x_7^0 & x_7^1 & x_7^2 & \\ldots & x_7^7 \\\\\n",
    "x_8^0 & x_8^1 & x_8^2 & \\ldots & x_8^7 \n",
    "\\end{pmatrix} $$\n",
    "\n",
    "Building this matrix by hand will be very tedious. What I suggest to do is used **nested for loops** to fill up the matrix. Let's set up the data points from the example and then I will show how to set up the matrix."
   ]
  },
  {
   "cell_type": "code",
   "execution_count": 32,
   "metadata": {},
   "outputs": [],
   "source": [
    "xvals3 = np.array([1,2,3,4,5,6,7,8])\n",
    "yvals3 = np.array([205,430,677,945,1233,1542,1872,2224])\n",
    "n3 = len(xvals3)"
   ]
  },
  {
   "cell_type": "markdown",
   "metadata": {},
   "source": [
    "Here we will set up the 8x8 matrix of powers of x values"
   ]
  },
  {
   "cell_type": "code",
   "execution_count": 33,
   "metadata": {},
   "outputs": [],
   "source": [
    "Amx3 = np.empty( (n3,n3) )\n",
    "for i in range(0,n3): # iterate over rows\n",
    "    for j in range(0, n3): # iterate over columns\n",
    "        Amx3[i,j] = xvals3[i]**float(j) "
   ]
  },
  {
   "cell_type": "code",
   "execution_count": 34,
   "metadata": {},
   "outputs": [
    {
     "name": "stdout",
     "output_type": "stream",
     "text": [
      "[[1.000000e+00 1.000000e+00 1.000000e+00 1.000000e+00 1.000000e+00\n",
      "  1.000000e+00 1.000000e+00 1.000000e+00]\n",
      " [1.000000e+00 2.000000e+00 4.000000e+00 8.000000e+00 1.600000e+01\n",
      "  3.200000e+01 6.400000e+01 1.280000e+02]\n",
      " [1.000000e+00 3.000000e+00 9.000000e+00 2.700000e+01 8.100000e+01\n",
      "  2.430000e+02 7.290000e+02 2.187000e+03]\n",
      " [1.000000e+00 4.000000e+00 1.600000e+01 6.400000e+01 2.560000e+02\n",
      "  1.024000e+03 4.096000e+03 1.638400e+04]\n",
      " [1.000000e+00 5.000000e+00 2.500000e+01 1.250000e+02 6.250000e+02\n",
      "  3.125000e+03 1.562500e+04 7.812500e+04]\n",
      " [1.000000e+00 6.000000e+00 3.600000e+01 2.160000e+02 1.296000e+03\n",
      "  7.776000e+03 4.665600e+04 2.799360e+05]\n",
      " [1.000000e+00 7.000000e+00 4.900000e+01 3.430000e+02 2.401000e+03\n",
      "  1.680700e+04 1.176490e+05 8.235430e+05]\n",
      " [1.000000e+00 8.000000e+00 6.400000e+01 5.120000e+02 4.096000e+03\n",
      "  3.276800e+04 2.621440e+05 2.097152e+06]]\n"
     ]
    }
   ],
   "source": [
    "print(Amx3)"
   ]
  },
  {
   "cell_type": "markdown",
   "metadata": {},
   "source": [
    "Be careful when reading this because it is output in scientific notation. I hope you agree with me that you would rather use nested for loops to set up this matrix rather than calculating **sixty four matrix entries by hand!!**"
   ]
  },
  {
   "cell_type": "markdown",
   "metadata": {},
   "source": [
    "Now we can solve the matrix problem to get the polynomial coefficients. We don't really need to set up a `bvec3` variable because the y values are already stored in `yvals3`."
   ]
  },
  {
   "cell_type": "code",
   "execution_count": 35,
   "metadata": {},
   "outputs": [],
   "source": [
    "avec3 = np.linalg.inv(Amx3) @ yvals3"
   ]
  },
  {
   "cell_type": "code",
   "execution_count": 36,
   "metadata": {},
   "outputs": [
    {
     "name": "stdout",
     "output_type": "stream",
     "text": [
      "[-1.40000000e+01  2.32911905e+02 -2.90833333e+01  1.97847222e+01\n",
      " -5.35416667e+00  8.01388889e-01 -6.25000000e-02  1.98412698e-03]\n"
     ]
    }
   ],
   "source": [
    "print(avec3)"
   ]
  },
  {
   "cell_type": "markdown",
   "metadata": {},
   "source": [
    "Let's make sure this is correct by plotting the predictions from this result vs. the data points."
   ]
  },
  {
   "cell_type": "code",
   "execution_count": 38,
   "metadata": {},
   "outputs": [],
   "source": [
    "npred3 = 50\n",
    "xpred3 = np.linspace(0,9,num=npred2)\n",
    "ypred3 = np.empty(npred2)\n",
    "for i in range(0,npred2): # iterate over x values at which to predict\n",
    "    # loop over powers of x instead of typing them all in by hand\n",
    "    ypred3[i] = 0.0\n",
    "    for j in range(0, n3): \n",
    "        ypred3[i] += avec3[j]*xpred3[i]**float(j)"
   ]
  },
  {
   "cell_type": "code",
   "execution_count": 39,
   "metadata": {},
   "outputs": [
    {
     "data": {
      "image/png": "[encoded data removed]",
      "text/plain": [
       "<Figure size 432x288 with 1 Axes>"
      ]
     },
     "metadata": {
      "needs_background": "light"
     },
     "output_type": "display_data"
    }
   ],
   "source": [
    "plt.plot(xvals3, yvals3, 'o', label='Data')\n",
    "plt.plot(xpred3, ypred3, '+', label='Predictions')\n",
    "plt.xlabel(r'$x$',fontsize=12)\n",
    "plt.ylabel(r'$y$',fontsize=12)\n",
    "plt.legend(fontsize=12);"
   ]
  },
  {
   "cell_type": "markdown",
   "metadata": {},
   "source": [
    "As expected, we get a perfect result that crosses through all data points exactly!"
   ]
  }
 ],
 "metadata": {
  "kernelspec": {
   "display_name": "Python 3",
   "language": "python",
   "name": "python3"
  },
  "language_info": {
   "codemirror_mode": {
    "name": "ipython",
    "version": 3
   },
   "file_extension": ".py",
   "mimetype": "text/x-python",
   "name": "python",
   "nbconvert_exporter": "python",
   "pygments_lexer": "ipython3",
   "version": "3.7.4"
  }
 },
 "nbformat": 4,
 "nbformat_minor": 2
}
