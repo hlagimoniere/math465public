{
 "cells": [
  {
   "cell_type": "markdown",
   "metadata": {},
   "source": [
    "# High-order polynomial models practice\n",
    "\n",
    "We use higher-order polynomials to achieve an exact fit to a data set. Given a data set with $m$ points, a polynomial of degree $p=m-1$ can be adjusted to fit the data exactly."
   ]
  },
  {
   "cell_type": "code",
   "execution_count": 2,
   "metadata": {},
   "outputs": [],
   "source": [
    "import numpy as np\n",
    "import matplotlib.pyplot as plt"
   ]
  },
  {
   "cell_type": "markdown",
   "metadata": {},
   "source": [
    "# Lab quiz 5\n",
    "\n",
    "You will be setting up and fitting two polynomial models to different datasets in Lab Quiz 5. Please use the notebook `HighOrderPolynomials.ipynb` as a reference for setting up and fitting the polynomial models.\n",
    "\n",
    "For each data set, you will set up the matrix problem and use built-in `numpy` functions to solve it. For the quiz on MyClasses, you will submit the coefficient values that you obtain for each problem.\n",
    "\n",
    "To check that your coefficient results are correct, I suggest plotting the polynomial model predictions vs. the data points provided in order to make sure the polynomial crosses exactly through the data points."
   ]
  },
  {
   "cell_type": "markdown",
   "metadata": {},
   "source": [
    "## 1. Four data points\n",
    "\n",
    "Given the four data points\n",
    "\n",
    "| $x$ | $y$ |\n",
    "|---|---|\n",
    "| -4| 0 |\n",
    "| -2| 4 |\n",
    "| -1| -1|\n",
    "|1 | 1 |\n",
    "\n",
    "Formulate an exact polynomial model and fit it to the data."
   ]
  },
  {
   "cell_type": "code",
   "execution_count": 9,
   "metadata": {},
   "outputs": [],
   "source": [
    "x1 = np.array([-4,-2,-1,1])\n",
    "y1 = np.array([0,4,-1,1])\n",
    "n1 = len(x1)"
   ]
  },
  {
   "cell_type": "code",
   "execution_count": 8,
   "metadata": {},
   "outputs": [
    {
     "data": {
      "image/png": "[encoded data removed]",
      "text/plain": [
       "<Figure size 432x288 with 1 Axes>"
      ]
     },
     "metadata": {
      "needs_background": "light"
     },
     "output_type": "display_data"
    }
   ],
   "source": [
    "plt.plot(x1, y1, 'o')\n",
    "plt.xlim(-5,2)\n",
    "plt.ylim(-3,5)\n",
    "plt.xlabel(r'$x$',fontsize=12)\n",
    "plt.ylabel(r'$y$',fontsize=12);"
   ]
  },
  {
   "cell_type": "code",
   "execution_count": null,
   "metadata": {},
   "outputs": [],
   "source": []
  },
  {
   "cell_type": "markdown",
   "metadata": {},
   "source": [
    "## 2. Six data points\n",
    "\n",
    "Given the six data points\n",
    "\n",
    "| $x$ | $y$ |\n",
    "|---|---|\n",
    "| -4| 0 |\n",
    "| -2| 4 |\n",
    "| -1| -1|\n",
    "| -0.5 | 2|\n",
    "|1 | 1 |\n",
    "| 2| 7 |\n",
    "\n",
    "\n",
    "Formulate an exact polynomial model and fit it to the data."
   ]
  },
  {
   "cell_type": "code",
   "execution_count": 19,
   "metadata": {},
   "outputs": [],
   "source": [
    "x2 = np.array([-4,-2,-1,-0.5,1,2])\n",
    "y2 = np.array([0,4,-1,2,1,7])\n",
    "n2 = len(x2)"
   ]
  },
  {
   "cell_type": "code",
   "execution_count": 20,
   "metadata": {},
   "outputs": [
    {
     "data": {
      "image/png": "[encoded data removed]",
      "text/plain": [
       "<Figure size 432x288 with 1 Axes>"
      ]
     },
     "metadata": {
      "needs_background": "light"
     },
     "output_type": "display_data"
    }
   ],
   "source": [
    "plt.plot(x2, y2, 'o')\n",
    "plt.xlim(-5,3)\n",
    "plt.ylim(-3,10)\n",
    "plt.xlabel(r'$x$',fontsize=12)\n",
    "plt.ylabel(r'$y$',fontsize=12);"
   ]
  },
  {
   "cell_type": "code",
   "execution_count": 22,
   "metadata": {},
   "outputs": [],
   "source": [
    "Amx2 = np.empty((n2,n2))\n",
    "bvec2 = y2"
   ]
  },
  {
   "cell_type": "code",
   "execution_count": 23,
   "metadata": {},
   "outputs": [],
   "source": [
    "for i in range(0,n2):\n",
    "    for j in range(0,n2):\n",
    "        Amx2[i,j] = x2[i]**float(j)"
   ]
  },
  {
   "cell_type": "code",
   "execution_count": 25,
   "metadata": {},
   "outputs": [],
   "source": [
    "avec2 = np.linalg.inv(Amx2) @ bvec2"
   ]
  },
  {
   "cell_type": "code",
   "execution_count": 26,
   "metadata": {},
   "outputs": [
    {
     "name": "stdout",
     "output_type": "stream",
     "text": [
      "[ 4.60634921  2.8515873  -6.21626984 -2.29365079  1.60992063  0.44206349]\n"
     ]
    }
   ],
   "source": [
    "print(avec2)"
   ]
  },
  {
   "cell_type": "code",
   "execution_count": 30,
   "metadata": {},
   "outputs": [],
   "source": [
    "npred2 = 100\n",
    "xpred2 = np.linspace(-5,3,num=npred2)\n",
    "ypred2 = np.empty(npred2)\n",
    "for i in range(0,npred2):\n",
    "    ypred2[i] = 0.0\n",
    "    for j in range(0,n2):\n",
    "        ypred2[i] += avec2[j]*xpred2[i]**float(j)"
   ]
  },
  {
   "cell_type": "code",
   "execution_count": 33,
   "metadata": {},
   "outputs": [
    {
     "data": {
      "image/png": "[encoded data removed]",
      "text/plain": [
       "<Figure size 432x288 with 1 Axes>"
      ]
     },
     "metadata": {
      "needs_background": "light"
     },
     "output_type": "display_data"
    }
   ],
   "source": [
    "plt.plot(x2, y2, 'o', label='Data')\n",
    "plt.plot(xpred2, ypred2, '+', label='Predictions')\n",
    "plt.xlim(-5,3)\n",
    "plt.ylim(-3,50)\n",
    "plt.xlabel(r'$x$',fontsize=12)\n",
    "plt.ylabel(r'$y$',fontsize=12)\n",
    "plt.legend(fontsize=12);"
   ]
  }
 ],
 "metadata": {
  "kernelspec": {
   "display_name": "Python 3",
   "language": "python",
   "name": "python3"
  },
  "language_info": {
   "codemirror_mode": {
    "name": "ipython",
    "version": 3
   },
   "file_extension": ".py",
   "mimetype": "text/x-python",
   "name": "python",
   "nbconvert_exporter": "python",
   "pygments_lexer": "ipython3",
   "version": "3.7.4"
  }
 },
 "nbformat": 4,
 "nbformat_minor": 2
}
