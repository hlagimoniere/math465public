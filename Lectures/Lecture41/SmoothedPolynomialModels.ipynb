{
 "cells": [
  {
   "cell_type": "markdown",
   "metadata": {},
   "source": [
    "# Smoothing: Low-Order Polynomial Models\n",
    "\n",
    "We now go back to using lower-order polynomial models to avoid the problems with high-order, perfect fit polynomials.\n",
    "\n",
    "We will need a fitting criterion when we do this, so let's use the least-squares criterion. A possible problem is that although we have optimizer functions in `linear_fitting_functions.py`, they **only work for straight-line models**, which is not what we have here!"
   ]
  },
  {
   "cell_type": "code",
   "execution_count": 1,
   "metadata": {},
   "outputs": [],
   "source": [
    "import numpy as np\n",
    "import matplotlib.pyplot as plt"
   ]
  },
  {
   "cell_type": "markdown",
   "metadata": {},
   "source": [
    "## Section 4.3 Example 1\n",
    "\n",
    "The tape recorder data from Example 1 in Section 4.3 (I have renamed $c \\to x$ and $t\\to y$ for simplicity) is set up in the following cell."
   ]
  },
  {
   "cell_type": "code",
   "execution_count": 2,
   "metadata": {},
   "outputs": [
    {
     "data": {
      "image/png": "[encoded data removed]",
      "text/plain": [
       "<Figure size 432x288 with 1 Axes>"
      ]
     },
     "metadata": {
      "needs_background": "light"
     },
     "output_type": "display_data"
    }
   ],
   "source": [
    "x1 = np.array([100,200,300,400,500,600,700,800])\n",
    "y1 = np.array([205,430,677,945,1233,1542,1872,2224])\n",
    "plt.plot(x1, y1, 'o')\n",
    "plt.xlabel(r'$x$', fontsize=12)\n",
    "plt.ylabel(r'$y$', fontsize=12);"
   ]
  },
  {
   "cell_type": "markdown",
   "metadata": {},
   "source": [
    "## Least-squares as a linear algebra problem\n",
    "\n",
    "Wikipedia article on Ordinary Least Squares (some differences in notation but this is what I am doing here) https://en.wikipedia.org/wiki/Ordinary_least_squares#Matrix/vector_formulation\n",
    "\n",
    "There are lots of ways to do this, including exact methods using normal equations. As you saw in Lab 5, the algebra is a pain in the butt, so I'm going to do this using linear algebra. Your normal equations from that lab come from linear algebra in the first place, so this is really the same thing except you don't get formulas in the end for the coefficients in a general sense.\n",
    "\n",
    "We are going to fit this data set using a quadratic model\n",
    "\n",
    "$$ f(x) = a_0 + a_1 x + a_2 x^2 $$\n",
    "\n",
    "which has 3 parameters.\n",
    "\n",
    "Now that we've done some matrix algebra for polynomial fitting, it will be easier to understand what I'm setting up as we go through this problem. Some notation\n",
    "\n",
    "- $m$ is the number of data points (for this example $m=8$)\n",
    "- $p$ is the number of parameters (for this example, $p=3$)\n",
    "- $(x_i,y_i)$ is the $i$th data point in the data set\n",
    "\n",
    "Now let's set up the linear system of equations that solves the least-squares problem for linear models. Let's set up a matrix $\\hat{A}$ similar to what we did for high-order polynomials. It has a number of rows $m$ equal to the number of data points, and columns equal to the number of parameters $p$. Since our number of parameters $p<m$, this will no longer be a square matrix.\n",
    "\n",
    "$$ \\hat{A} = \\begin{pmatrix} \n",
    "x_1^0 & x_1^1 & x_1^2 & \\ldots & x_1^p \\\\ \n",
    "x_2^0 & x_2^1 & x_2^2 & \\ldots & x_2^p \\\\ \n",
    "\\vdots & & & & \\vdots \\\\\n",
    "x_m^0 & x_m^1 & x_m^2 & \\ldots & x_m^p \\\\ \n",
    "\\end{pmatrix} $$\n",
    "\n",
    "For this example, the matrix would be $m\\times p = 8\\times 3$.\n",
    "\n",
    "It turns out that (see a linear regression reference for why/how this is), if $\\vec{a}$ is again the vector of parameters and $\\vec{b}$ is again the vector of data points $\\vec{b}^T = (y_1,y_2,\\ldots,y_m)$, that the least-squares solution that minimizes the sum of least-squares is\n",
    "\n",
    "$$ \\vec{a} = (\\hat{A}^T \\hat{A})^{-1} \\hat{A}^T \\vec{b} $$\n",
    "\n",
    "So we just need to set up and calculate to get our parameters. This elegant equation results in the same thing you ended up getting for the results in Lab 5 for a quadratic model, now elegantly written out as a matrix equation."
   ]
  },
  {
   "cell_type": "code",
   "execution_count": 3,
   "metadata": {},
   "outputs": [],
   "source": [
    "n1 = len(x1)\n",
    "p1 = 3 # set up order of polynomial model to be used\n",
    "Amx1 = np.empty((n1,p1))\n",
    "for i in range(0,n1): # iterate over rows\n",
    "    for j in range(0,p1): # iterate over columns\n",
    "        Amx1[i,j] = x1[i]**float(j)"
   ]
  },
  {
   "cell_type": "code",
   "execution_count": 4,
   "metadata": {},
   "outputs": [
    {
     "name": "stdout",
     "output_type": "stream",
     "text": [
      "[[1.0e+00 1.0e+02 1.0e+04]\n",
      " [1.0e+00 2.0e+02 4.0e+04]\n",
      " [1.0e+00 3.0e+02 9.0e+04]\n",
      " [1.0e+00 4.0e+02 1.6e+05]\n",
      " [1.0e+00 5.0e+02 2.5e+05]\n",
      " [1.0e+00 6.0e+02 3.6e+05]\n",
      " [1.0e+00 7.0e+02 4.9e+05]\n",
      " [1.0e+00 8.0e+02 6.4e+05]]\n"
     ]
    }
   ],
   "source": [
    "print(Amx1)"
   ]
  },
  {
   "cell_type": "markdown",
   "metadata": {},
   "source": [
    "There is our matrix for this problem. Now all we need to is use the built-in numpy functions to numerically solve the problem.\n",
    "\n",
    "- To take the transpose of a matrix, use `Amx1.T` (append `.T` to the end of the matrix)\n",
    "- To take the inverse, use `np.linalg.inv(Amx1)`"
   ]
  },
  {
   "cell_type": "code",
   "execution_count": 5,
   "metadata": {},
   "outputs": [],
   "source": [
    "avec1 = ( np.linalg.inv(Amx1.T @ Amx1) @ Amx1.T ) @ y1"
   ]
  },
  {
   "cell_type": "code",
   "execution_count": 6,
   "metadata": {},
   "outputs": [
    {
     "name": "stdout",
     "output_type": "stream",
     "text": [
      "[1.42857143e-01 1.94226190e+00 1.04642857e-03]\n"
     ]
    }
   ],
   "source": [
    "print(avec1)"
   ]
  },
  {
   "cell_type": "markdown",
   "metadata": {},
   "source": [
    "These are the exact least-squares results for the coefficients of the quadratic model!"
   ]
  },
  {
   "cell_type": "code",
   "execution_count": 7,
   "metadata": {},
   "outputs": [],
   "source": [
    "npred1 = 100\n",
    "xpred1 = np.linspace(0,900,num=npred1)\n",
    "ypred1 = np.empty(npred1)\n",
    "for i in range(0,npred1):\n",
    "    ypred1[i] = avec1[0] + avec1[1] * xpred1[i] + avec1[2]*xpred1[i]**2.0"
   ]
  },
  {
   "cell_type": "code",
   "execution_count": 8,
   "metadata": {},
   "outputs": [
    {
     "data": {
      "image/png": "[encoded data removed]",
      "text/plain": [
       "<Figure size 432x288 with 1 Axes>"
      ]
     },
     "metadata": {
      "needs_background": "light"
     },
     "output_type": "display_data"
    }
   ],
   "source": [
    "plt.plot(x1, y1, 'o', label='Data')\n",
    "plt.plot(xpred1, ypred1, '-', label='Prediction')\n",
    "plt.xlabel(r'$x$', fontsize=12)\n",
    "plt.ylabel(r'$y$', fontsize=12)\n",
    "plt.legend(fontsize=12);"
   ]
  },
  {
   "cell_type": "markdown",
   "metadata": {},
   "source": [
    "Looks great, and verifies that we did the linear algebra for the least squares problem correctly."
   ]
  },
  {
   "cell_type": "markdown",
   "metadata": {},
   "source": [
    "## Computing divided differences\n",
    "\n",
    "One way of getting a handle on the order of polynomial to use for a data set is computing the divided differences. These are essentially an approximation of different orders of derivatives to see if there is evidence of different kinds of polynomial behavior. I.e., the $p+1$st derivative of a degree $p$ polynomial is zero."
   ]
  },
  {
   "cell_type": "code",
   "execution_count": 9,
   "metadata": {},
   "outputs": [],
   "source": [
    "first_diffs1 = np.empty(n1-1) # there are m - 1 first differences\n",
    "for i in range(0,n1-1):\n",
    "    first_diffs1[i] = (y1[i+1] - y1[i])/(x1[i+1]-x1[i])"
   ]
  },
  {
   "cell_type": "code",
   "execution_count": 10,
   "metadata": {},
   "outputs": [
    {
     "name": "stdout",
     "output_type": "stream",
     "text": [
      "[2.25 2.47 2.68 2.88 3.09 3.3  3.52]\n"
     ]
    }
   ],
   "source": [
    "print(first_diffs1)"
   ]
  },
  {
   "cell_type": "code",
   "execution_count": 11,
   "metadata": {},
   "outputs": [
    {
     "name": "stdout",
     "output_type": "stream",
     "text": [
      "[100 200 300 400 500 600 700 800]\n"
     ]
    }
   ],
   "source": [
    "print(x1)"
   ]
  },
  {
   "cell_type": "code",
   "execution_count": 12,
   "metadata": {},
   "outputs": [
    {
     "data": {
      "text/plain": [
       "0.001100000000000001"
      ]
     },
     "execution_count": 12,
     "metadata": {},
     "output_type": "execute_result"
    }
   ],
   "source": [
    "(first_diffs1[1]-first_diffs1[0])/(x1[2]-x1[0])"
   ]
  },
  {
   "cell_type": "code",
   "execution_count": 13,
   "metadata": {},
   "outputs": [],
   "source": [
    "second_diffs1 = np.empty(n1-2)\n",
    "for i in range(0, n1-2):\n",
    "    second_diffs1[i] = (first_diffs1[i+1]-first_diffs1[i])/(x1[i+2]-x1[i])"
   ]
  },
  {
   "cell_type": "code",
   "execution_count": 14,
   "metadata": {},
   "outputs": [
    {
     "name": "stdout",
     "output_type": "stream",
     "text": [
      "[0.0011  0.00105 0.001   0.00105 0.00105 0.0011 ]\n"
     ]
    }
   ],
   "source": [
    "print(second_diffs1)"
   ]
  },
  {
   "cell_type": "code",
   "execution_count": 15,
   "metadata": {},
   "outputs": [],
   "source": [
    "third_diffs1 = np.empty(n1-3)\n",
    "for i in range(0, n1-3):\n",
    "    third_diffs1[i] = (second_diffs1[i+1]-second_diffs1[i])/(x1[i+3]-x1[i])"
   ]
  },
  {
   "cell_type": "code",
   "execution_count": 16,
   "metadata": {},
   "outputs": [
    {
     "name": "stdout",
     "output_type": "stream",
     "text": [
      "[-1.66666667e-07 -1.66666667e-07  1.66666667e-07  0.00000000e+00\n",
      "  1.66666667e-07]\n"
     ]
    }
   ],
   "source": [
    "print(third_diffs1)"
   ]
  },
  {
   "cell_type": "markdown",
   "metadata": {},
   "source": [
    "The following function computes divided differences to 4 digit precision. If you need more precision you will need to do what's above."
   ]
  },
  {
   "cell_type": "code",
   "execution_count": 17,
   "metadata": {},
   "outputs": [],
   "source": [
    "from divided_differences import *"
   ]
  },
  {
   "cell_type": "code",
   "execution_count": 18,
   "metadata": {},
   "outputs": [
    {
     "name": "stdout",
     "output_type": "stream",
     "text": [
      "        Data          |      Differences     \n",
      "                      |  Delta_1   |  Delta_2   |  Delta_3   |\n",
      "  100.00  |   205.00  |\n",
      "  200.00  |   430.00  |  2.250000  |\n",
      "  300.00  |   677.00  |  2.470000  |  0.001100  |\n",
      "  400.00  |   945.00  |  2.680000  |  0.001050  | -0.000000  |\n",
      "  500.00  |  1233.00  |  2.880000  |  0.001000  | -0.000000  |\n",
      "  600.00  |  1542.00  |  3.090000  |  0.001050  |  0.000000  |\n",
      "  700.00  |  1872.00  |  3.300000  |  0.001050  |  0.000000  |\n",
      "  800.00  |  2224.00  |  3.520000  |  0.001100  |  0.000000  |\n"
     ]
    }
   ],
   "source": [
    "divided_differences(x1, y1, 3)"
   ]
  },
  {
   "cell_type": "markdown",
   "metadata": {},
   "source": [
    "The divided differences (approximations of the derivative) going to zero shows evidence for different amounts of curvature in this data set. There is evidence in this data set for curvature up to the second derivative. The third derivative being nearly zero **relative to the size of the data (y values)** is evidence that there is no cubic term that would describe this data set."
   ]
  },
  {
   "cell_type": "markdown",
   "metadata": {},
   "source": [
    "## Section 4.3 Example 3\n",
    "\n",
    "The vehicular stopping distance model relates the distance required to stop a vehicle to the speed the vehicle was traveling."
   ]
  },
  {
   "cell_type": "code",
   "execution_count": 19,
   "metadata": {},
   "outputs": [],
   "source": [
    "x2 = np.array([20,25,30,35,40,45,50,55,60,65,70,75,80])\n",
    "y2 = np.array([42,56,73.5,91.5,116,142.5,173,209.5,248,292.5,343,401,464])"
   ]
  },
  {
   "cell_type": "code",
   "execution_count": 20,
   "metadata": {},
   "outputs": [
    {
     "data": {
      "image/png": "[encoded data removed]",
      "text/plain": [
       "<Figure size 432x288 with 1 Axes>"
      ]
     },
     "metadata": {
      "needs_background": "light"
     },
     "output_type": "display_data"
    }
   ],
   "source": [
    "plt.plot(x2, y2, 'o')\n",
    "plt.xlabel(r'Speed $v$ [mph]', fontsize=12)\n",
    "plt.ylabel(r'Distance $d$ [ft]', fontsize=12);"
   ]
  },
  {
   "cell_type": "markdown",
   "metadata": {},
   "source": [
    "Visually it looks like a quadratic model will fit this data set well. Let's see what the divided differences are for this data set."
   ]
  },
  {
   "cell_type": "code",
   "execution_count": 21,
   "metadata": {},
   "outputs": [
    {
     "name": "stdout",
     "output_type": "stream",
     "text": [
      "        Data          |      Differences     \n",
      "                      |  Delta_1   |  Delta_2   |  Delta_3   |\n",
      "  20.00   |   42.00   |\n",
      "  25.00   |   56.00   |  2.800000  |\n",
      "  30.00   |   73.50   |  3.500000  |  0.070000  |\n",
      "  35.00   |   91.50   |  3.600000  |  0.010000  | -0.004000  |\n",
      "  40.00   |   116.00  |  4.900000  |  0.130000  |  0.008000  |\n",
      "  45.00   |   142.50  |  5.300000  |  0.040000  | -0.006000  |\n",
      "  50.00   |   173.00  |  6.100000  |  0.080000  |  0.002667  |\n",
      "  55.00   |   209.50  |  7.300000  |  0.120000  |  0.002667  |\n",
      "  60.00   |   248.00  |  7.700000  |  0.040000  | -0.005333  |\n",
      "  65.00   |   292.50  |  8.900000  |  0.120000  |  0.005333  |\n",
      "  70.00   |   343.00  | 10.100000  |  0.120000  | -0.000000  |\n",
      "  75.00   |   401.00  | 11.600000  |  0.150000  |  0.002000  |\n",
      "  80.00   |   464.00  | 12.600000  |  0.100000  | -0.003333  |\n"
     ]
    }
   ],
   "source": [
    "divided_differences(x2,y2,3)"
   ]
  },
  {
   "cell_type": "code",
   "execution_count": 22,
   "metadata": {},
   "outputs": [],
   "source": [
    "n2 = len(x2)\n",
    "p2 = 3 # number of parameters in polynomial model 2+1 = 3\n",
    "Amx2 = np.empty((n2,p2))\n",
    "for i in range(0,n2): # iterate over rows\n",
    "    for j in range(0,p2): # iterate over columns\n",
    "        Amx2[i,j] = x2[i]**float(j)"
   ]
  },
  {
   "cell_type": "code",
   "execution_count": 23,
   "metadata": {},
   "outputs": [
    {
     "name": "stdout",
     "output_type": "stream",
     "text": [
      "[50.05944056 -1.97012987  0.08859141]\n"
     ]
    }
   ],
   "source": [
    "avec2 = ( np.linalg.inv(Amx2.T @ Amx2) @ Amx2.T ) @ y2\n",
    "print(avec2)"
   ]
  },
  {
   "cell_type": "code",
   "execution_count": 33,
   "metadata": {},
   "outputs": [],
   "source": [
    "npred2 = 100\n",
    "xpred2 = np.linspace(0,120,num=npred2)\n",
    "ypred2 = np.empty(npred2)\n",
    "for i in range(0,npred2):\n",
    "    ypred2[i] = avec2[0] + avec2[1] * xpred2[i] + avec2[2]*xpred2[i]**2.0"
   ]
  },
  {
   "cell_type": "code",
   "execution_count": 34,
   "metadata": {},
   "outputs": [
    {
     "data": {
      "image/png": "[encoded data removed]",
      "text/plain": [
       "<Figure size 432x288 with 1 Axes>"
      ]
     },
     "metadata": {
      "needs_background": "light"
     },
     "output_type": "display_data"
    }
   ],
   "source": [
    "plt.plot(x2, y2, 'o', label='Data')\n",
    "plt.plot(xpred2, ypred2, '-', label='Prediction')\n",
    "plt.xlabel(r'Speed $v$ [mph]', fontsize=12)\n",
    "plt.ylabel(r'Distance $d$ [ft]', fontsize=12)\n",
    "plt.legend(fontsize=12);"
   ]
  },
  {
   "cell_type": "markdown",
   "metadata": {},
   "source": [
    "## Discuss extrapolation and interpolation reliability"
   ]
  },
  {
   "cell_type": "code",
   "execution_count": 35,
   "metadata": {},
   "outputs": [
    {
     "data": {
      "image/png": "[encoded data removed]",
      "text/plain": [
       "<Figure size 432x288 with 1 Axes>"
      ]
     },
     "metadata": {
      "needs_background": "light"
     },
     "output_type": "display_data"
    }
   ],
   "source": [
    "plt.plot(x2, y2, 'o', label='Data')\n",
    "plt.plot(xpred2, ypred2, '-', label='Prediction')\n",
    "# plot the points discussed in interpolation/extrapolation discussion\n",
    "xpts_disc2 = np.array([2,27,89,100])\n",
    "ypts_disc2 = avec2[0] + avec2[1] * xpts_disc2 + avec2[2]*xpts_disc2**2.0\n",
    "plt.plot(xpts_disc2, ypts_disc2, '*', markersize=10, color='black', label='Discussion points')\n",
    "plt.xlabel(r'Speed $v$ [mph]', fontsize=12)\n",
    "plt.ylabel(r'Distance $d$ [ft]', fontsize=12)\n",
    "plt.legend(fontsize=12);"
   ]
  },
  {
   "cell_type": "code",
   "execution_count": 37,
   "metadata": {},
   "outputs": [
    {
     "name": "stdout",
     "output_type": "stream",
     "text": [
      "[ 46.47354645  61.44907093 576.45042957 738.96053946]\n"
     ]
    }
   ],
   "source": [
    "print(ypts_disc2)"
   ]
  }
 ],
 "metadata": {
  "kernelspec": {
   "display_name": "Python 3",
   "language": "python",
   "name": "python3"
  },
  "language_info": {
   "codemirror_mode": {
    "name": "ipython",
    "version": 3
   },
   "file_extension": ".py",
   "mimetype": "text/x-python",
   "name": "python",
   "nbconvert_exporter": "python",
   "pygments_lexer": "ipython3",
   "version": "3.7.4"
  }
 },
 "nbformat": 4,
 "nbformat_minor": 2
}
