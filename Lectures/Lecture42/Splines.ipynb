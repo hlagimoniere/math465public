{
 "cells": [
  {
   "cell_type": "markdown",
   "metadata": {},
   "source": [
    "# Spline interpolation\n",
    "\n",
    "This notebook details how to interpolate functions using different methods, including linear interpolation and spline interpolation. It also shows Python libraries that perform interpolation."
   ]
  },
  {
   "cell_type": "code",
   "execution_count": 1,
   "metadata": {},
   "outputs": [],
   "source": [
    "import numpy as np\n",
    "import matplotlib.pyplot as plt"
   ]
  },
  {
   "cell_type": "markdown",
   "metadata": {},
   "source": [
    "## Linear interpolation (linear splines)\n",
    "\n",
    "This is a naive interpolation method that connects points in a function using straight lines. "
   ]
  },
  {
   "cell_type": "code",
   "execution_count": 2,
   "metadata": {},
   "outputs": [],
   "source": [
    "x1 = np.array([1,2,3])\n",
    "y1 = np.array([5,8,25])"
   ]
  },
  {
   "cell_type": "code",
   "execution_count": 3,
   "metadata": {},
   "outputs": [
    {
     "data": {
      "image/png": "[encoded data removed]",
      "text/plain": [
       "<Figure size 432x288 with 1 Axes>"
      ]
     },
     "metadata": {
      "needs_background": "light"
     },
     "output_type": "display_data"
    }
   ],
   "source": [
    "plt.plot(x1,y1,'o')\n",
    "plt.xlim(0,4)\n",
    "plt.ylim(0,30)\n",
    "plt.xlabel('$x$',fontsize=12)\n",
    "plt.ylabel('$y$',fontsize=12);"
   ]
  },
  {
   "cell_type": "code",
   "execution_count": 4,
   "metadata": {},
   "outputs": [],
   "source": [
    "n1 = len(x1)"
   ]
  },
  {
   "cell_type": "markdown",
   "metadata": {},
   "source": [
    "There will be $m-1$ linear splines, so here we will have $3-1 = 2$ splines we need to determine.\n",
    "\n",
    "Let $(x_i,y_i)$ be the $m$ data points we are working with. We have $m=3$ data points here. Let $a_i$ be the slopes of the splines and $b_i$ be the intercepts.\n",
    "\n",
    "The conditions for our linear splines are the following:\n",
    "\n",
    "$$ y_1 = a_1 x_1 + b_1 $$\n",
    "\n",
    "$$ y_2 = a_1 x_2 + b_1 $$\n",
    "\n",
    "$$ y_2 = a_2 x_2 + b_2 $$\n",
    "\n",
    "$$ y_3 = a_2 x_3 + b_2 $$\n",
    "\n",
    "As a matrix equation, this is\n",
    "\n",
    "$$ \\begin{pmatrix}\n",
    "x_1 & 1 & 0 & 0 \\\\\n",
    "x_2 & 1 & 0 & 0 \\\\\n",
    "0   & 0 & x_2 & 1 \\\\\n",
    "0   & 0 & x_3 & 1 \\\\\n",
    "\\end{pmatrix}\n",
    "\\begin{pmatrix}\n",
    "a_1 \\\\ b_1 \\\\ a_2 \\\\ b_2\n",
    "\\end{pmatrix}\n",
    "=\n",
    "\\begin{pmatrix}\n",
    "y_1 \\\\ y_2 \\\\ y_2 \\\\ y_3\n",
    "\\end{pmatrix}\n",
    "$$"
   ]
  },
  {
   "cell_type": "code",
   "execution_count": 5,
   "metadata": {},
   "outputs": [],
   "source": [
    "# set up array to hold parameters\n",
    "data1 = np.array([y1[0],y1[1],y1[1],y1[2]])\n",
    "matrix1 = np.array([[x1[0], 1, 0, 0],\n",
    "                    [x1[1], 1, 0, 0],\n",
    "                    [0   , 0, x1[1], 1],\n",
    "                    [0   , 0, x1[2], 1],\n",
    "                   ])"
   ]
  },
  {
   "cell_type": "code",
   "execution_count": 6,
   "metadata": {},
   "outputs": [],
   "source": [
    "params1 = np.linalg.solve(matrix1, data1)"
   ]
  },
  {
   "cell_type": "code",
   "execution_count": 7,
   "metadata": {},
   "outputs": [
    {
     "name": "stdout",
     "output_type": "stream",
     "text": [
      "[  3.   2.  17. -26.]\n"
     ]
    }
   ],
   "source": [
    "print(params1)"
   ]
  },
  {
   "cell_type": "markdown",
   "metadata": {},
   "source": [
    "So the splines are\n",
    "\n",
    "$$ y = \\begin{cases}\n",
    "3x + 2,& \\quad 1 \\leq x < 2 \\\\\n",
    "17x -26,& \\quad 2 \\leq x \\leq 3 \\\\\n",
    "\\end{cases}$$"
   ]
  },
  {
   "cell_type": "markdown",
   "metadata": {},
   "source": [
    "This is a pain though. Let's use the built-in `scipy` functions to do it instead and save the hassle and possible mistakes"
   ]
  },
  {
   "cell_type": "code",
   "execution_count": 8,
   "metadata": {},
   "outputs": [],
   "source": [
    "from scipy.interpolate import interp1d"
   ]
  },
  {
   "cell_type": "code",
   "execution_count": 9,
   "metadata": {},
   "outputs": [],
   "source": [
    "splines1 = interp1d(x1, y1)\n",
    "# this is a function that will give you the interpolant values at different x"
   ]
  },
  {
   "cell_type": "code",
   "execution_count": 10,
   "metadata": {},
   "outputs": [],
   "source": [
    "npred1 = 100\n",
    "xpred1 = np.linspace(1,3,num=npred1)\n",
    "ypred1 = np.empty(npred1)\n",
    "for i in range(0,npred1):\n",
    "    ypred1[i] = splines1(xpred1[i])"
   ]
  },
  {
   "cell_type": "code",
   "execution_count": 11,
   "metadata": {},
   "outputs": [
    {
     "data": {
      "image/png": "[encoded data removed]",
      "text/plain": [
       "<Figure size 432x288 with 1 Axes>"
      ]
     },
     "metadata": {
      "needs_background": "light"
     },
     "output_type": "display_data"
    }
   ],
   "source": [
    "plt.plot(x1,y1,'o', label='Data')\n",
    "plt.plot(xpred1, ypred1, '-', label='Predictions')\n",
    "plt.xlim(0,4)\n",
    "plt.ylim(0,30)\n",
    "plt.xlabel('$x$',fontsize=12)\n",
    "plt.ylabel('$y$',fontsize=12)\n",
    "plt.legend(fontsize=12);"
   ]
  },
  {
   "cell_type": "code",
   "execution_count": 12,
   "metadata": {},
   "outputs": [
    {
     "name": "stdout",
     "output_type": "stream",
     "text": [
      "16.5\n"
     ]
    }
   ],
   "source": [
    "print(splines1(2.5))"
   ]
  },
  {
   "cell_type": "code",
   "execution_count": 13,
   "metadata": {},
   "outputs": [
    {
     "name": "stdout",
     "output_type": "stream",
     "text": [
      "25.0\n"
     ]
    }
   ],
   "source": [
    "print(splines1(3))"
   ]
  },
  {
   "cell_type": "markdown",
   "metadata": {},
   "source": [
    "Calling at a point outside the interval results in an error"
   ]
  },
  {
   "cell_type": "code",
   "execution_count": 14,
   "metadata": {},
   "outputs": [
    {
     "ename": "ValueError",
     "evalue": "A value in x_new is below the interpolation range.",
     "output_type": "error",
     "traceback": [
      "\u001b[0;31m---------------------------------------------------------------------------\u001b[0m",
      "\u001b[0;31mValueError\u001b[0m                                Traceback (most recent call last)",
      "\u001b[0;32m<ipython-input-14-9c026c6a3dfc>\u001b[0m in \u001b[0;36m<module>\u001b[0;34m\u001b[0m\n\u001b[0;32m----> 1\u001b[0;31m \u001b[0msplines1\u001b[0m\u001b[0;34m(\u001b[0m\u001b[0;36m0.5\u001b[0m\u001b[0;34m)\u001b[0m\u001b[0;34m\u001b[0m\u001b[0;34m\u001b[0m\u001b[0m\n\u001b[0m",
      "\u001b[0;32m/opt/anaconda3/lib/python3.7/site-packages/scipy/interpolate/polyint.py\u001b[0m in \u001b[0;36m__call__\u001b[0;34m(self, x)\u001b[0m\n\u001b[1;32m     77\u001b[0m         \"\"\"\n\u001b[1;32m     78\u001b[0m         \u001b[0mx\u001b[0m\u001b[0;34m,\u001b[0m \u001b[0mx_shape\u001b[0m \u001b[0;34m=\u001b[0m \u001b[0mself\u001b[0m\u001b[0;34m.\u001b[0m\u001b[0m_prepare_x\u001b[0m\u001b[0;34m(\u001b[0m\u001b[0mx\u001b[0m\u001b[0;34m)\u001b[0m\u001b[0;34m\u001b[0m\u001b[0;34m\u001b[0m\u001b[0m\n\u001b[0;32m---> 79\u001b[0;31m         \u001b[0my\u001b[0m \u001b[0;34m=\u001b[0m \u001b[0mself\u001b[0m\u001b[0;34m.\u001b[0m\u001b[0m_evaluate\u001b[0m\u001b[0;34m(\u001b[0m\u001b[0mx\u001b[0m\u001b[0;34m)\u001b[0m\u001b[0;34m\u001b[0m\u001b[0;34m\u001b[0m\u001b[0m\n\u001b[0m\u001b[1;32m     80\u001b[0m         \u001b[0;32mreturn\u001b[0m \u001b[0mself\u001b[0m\u001b[0;34m.\u001b[0m\u001b[0m_finish_y\u001b[0m\u001b[0;34m(\u001b[0m\u001b[0my\u001b[0m\u001b[0;34m,\u001b[0m \u001b[0mx_shape\u001b[0m\u001b[0;34m)\u001b[0m\u001b[0;34m\u001b[0m\u001b[0;34m\u001b[0m\u001b[0m\n\u001b[1;32m     81\u001b[0m \u001b[0;34m\u001b[0m\u001b[0m\n",
      "\u001b[0;32m/opt/anaconda3/lib/python3.7/site-packages/scipy/interpolate/interpolate.py\u001b[0m in \u001b[0;36m_evaluate\u001b[0;34m(self, x_new)\u001b[0m\n\u001b[1;32m    661\u001b[0m         \u001b[0my_new\u001b[0m \u001b[0;34m=\u001b[0m \u001b[0mself\u001b[0m\u001b[0;34m.\u001b[0m\u001b[0m_call\u001b[0m\u001b[0;34m(\u001b[0m\u001b[0mself\u001b[0m\u001b[0;34m,\u001b[0m \u001b[0mx_new\u001b[0m\u001b[0;34m)\u001b[0m\u001b[0;34m\u001b[0m\u001b[0;34m\u001b[0m\u001b[0m\n\u001b[1;32m    662\u001b[0m         \u001b[0;32mif\u001b[0m \u001b[0;32mnot\u001b[0m \u001b[0mself\u001b[0m\u001b[0;34m.\u001b[0m\u001b[0m_extrapolate\u001b[0m\u001b[0;34m:\u001b[0m\u001b[0;34m\u001b[0m\u001b[0;34m\u001b[0m\u001b[0m\n\u001b[0;32m--> 663\u001b[0;31m             \u001b[0mbelow_bounds\u001b[0m\u001b[0;34m,\u001b[0m \u001b[0mabove_bounds\u001b[0m \u001b[0;34m=\u001b[0m \u001b[0mself\u001b[0m\u001b[0;34m.\u001b[0m\u001b[0m_check_bounds\u001b[0m\u001b[0;34m(\u001b[0m\u001b[0mx_new\u001b[0m\u001b[0;34m)\u001b[0m\u001b[0;34m\u001b[0m\u001b[0;34m\u001b[0m\u001b[0m\n\u001b[0m\u001b[1;32m    664\u001b[0m             \u001b[0;32mif\u001b[0m \u001b[0mlen\u001b[0m\u001b[0;34m(\u001b[0m\u001b[0my_new\u001b[0m\u001b[0;34m)\u001b[0m \u001b[0;34m>\u001b[0m \u001b[0;36m0\u001b[0m\u001b[0;34m:\u001b[0m\u001b[0;34m\u001b[0m\u001b[0;34m\u001b[0m\u001b[0m\n\u001b[1;32m    665\u001b[0m                 \u001b[0;31m# Note fill_value must be broadcast up to the proper size\u001b[0m\u001b[0;34m\u001b[0m\u001b[0;34m\u001b[0m\u001b[0;34m\u001b[0m\u001b[0m\n",
      "\u001b[0;32m/opt/anaconda3/lib/python3.7/site-packages/scipy/interpolate/interpolate.py\u001b[0m in \u001b[0;36m_check_bounds\u001b[0;34m(self, x_new)\u001b[0m\n\u001b[1;32m    690\u001b[0m         \u001b[0;31m# !! Could provide more information about which values are out of bounds\u001b[0m\u001b[0;34m\u001b[0m\u001b[0;34m\u001b[0m\u001b[0;34m\u001b[0m\u001b[0m\n\u001b[1;32m    691\u001b[0m         \u001b[0;32mif\u001b[0m \u001b[0mself\u001b[0m\u001b[0;34m.\u001b[0m\u001b[0mbounds_error\u001b[0m \u001b[0;32mand\u001b[0m \u001b[0mbelow_bounds\u001b[0m\u001b[0;34m.\u001b[0m\u001b[0many\u001b[0m\u001b[0;34m(\u001b[0m\u001b[0;34m)\u001b[0m\u001b[0;34m:\u001b[0m\u001b[0;34m\u001b[0m\u001b[0;34m\u001b[0m\u001b[0m\n\u001b[0;32m--> 692\u001b[0;31m             raise ValueError(\"A value in x_new is below the interpolation \"\n\u001b[0m\u001b[1;32m    693\u001b[0m                              \"range.\")\n\u001b[1;32m    694\u001b[0m         \u001b[0;32mif\u001b[0m \u001b[0mself\u001b[0m\u001b[0;34m.\u001b[0m\u001b[0mbounds_error\u001b[0m \u001b[0;32mand\u001b[0m \u001b[0mabove_bounds\u001b[0m\u001b[0;34m.\u001b[0m\u001b[0many\u001b[0m\u001b[0;34m(\u001b[0m\u001b[0;34m)\u001b[0m\u001b[0;34m:\u001b[0m\u001b[0;34m\u001b[0m\u001b[0;34m\u001b[0m\u001b[0m\n",
      "\u001b[0;31mValueError\u001b[0m: A value in x_new is below the interpolation range."
     ]
    }
   ],
   "source": [
    "splines1(0.5)"
   ]
  },
  {
   "cell_type": "markdown",
   "metadata": {},
   "source": [
    "## Cubic splines"
   ]
  },
  {
   "cell_type": "markdown",
   "metadata": {},
   "source": [
    "Use the vehicular stopping distance data from before"
   ]
  },
  {
   "cell_type": "code",
   "execution_count": 15,
   "metadata": {},
   "outputs": [],
   "source": [
    "x2 = np.array([20,25,30,35,40,45,50,55,60,65,70,75,80])\n",
    "y2 = np.array([42,56,73.5,91.5,116,142.5,173,209.5,248,292.5,343,401,464])"
   ]
  },
  {
   "cell_type": "code",
   "execution_count": 16,
   "metadata": {},
   "outputs": [
    {
     "data": {
      "image/png": "[encoded data removed]",
      "text/plain": [
       "<Figure size 432x288 with 1 Axes>"
      ]
     },
     "metadata": {
      "needs_background": "light"
     },
     "output_type": "display_data"
    }
   ],
   "source": [
    "plt.plot(x2,y2,'o', label='Data')\n",
    "plt.xlim(15,85)\n",
    "plt.ylim(0,500)\n",
    "plt.xlabel('$v$ [mph]',fontsize=12)\n",
    "plt.ylabel('$d$ [ft]',fontsize=12);"
   ]
  },
  {
   "cell_type": "code",
   "execution_count": 17,
   "metadata": {},
   "outputs": [],
   "source": [
    "splines2 = interp1d(x2, y2, kind='cubic')"
   ]
  },
  {
   "cell_type": "code",
   "execution_count": 18,
   "metadata": {},
   "outputs": [],
   "source": [
    "npred2 = 100\n",
    "xpred2 = np.linspace(20,80,num=npred2)\n",
    "ypred2 = np.empty(npred2)\n",
    "for i in range(0,npred2):\n",
    "    ypred2[i] = splines2(xpred2[i])"
   ]
  },
  {
   "cell_type": "code",
   "execution_count": 19,
   "metadata": {},
   "outputs": [
    {
     "data": {
      "image/png": "[encoded data removed]",
      "text/plain": [
       "<Figure size 432x288 with 1 Axes>"
      ]
     },
     "metadata": {
      "needs_background": "light"
     },
     "output_type": "display_data"
    }
   ],
   "source": [
    "plt.plot(x2,y2,'o', label='Data')\n",
    "plt.plot(xpred2, ypred2, '-', label='Predictions')\n",
    "plt.xlim(15,85)\n",
    "plt.ylim(0,500)\n",
    "plt.xlabel('$v$ [mph]',fontsize=12)\n",
    "plt.ylabel('$d$ [ft]',fontsize=12)\n",
    "plt.legend(fontsize=12);"
   ]
  },
  {
   "cell_type": "markdown",
   "metadata": {},
   "source": [
    "Compare with linear interpolation"
   ]
  },
  {
   "cell_type": "code",
   "execution_count": 20,
   "metadata": {},
   "outputs": [],
   "source": [
    "splines3 = interp1d(x2,y2)\n",
    "ypred2_linear = np.empty(npred2)\n",
    "for i in range(0,npred2):\n",
    "    ypred2_linear[i] = splines3(xpred2[i])"
   ]
  },
  {
   "cell_type": "code",
   "execution_count": 21,
   "metadata": {},
   "outputs": [
    {
     "data": {
      "image/png": "[encoded data removed]",
      "text/plain": [
       "<Figure size 432x288 with 1 Axes>"
      ]
     },
     "metadata": {
      "needs_background": "light"
     },
     "output_type": "display_data"
    }
   ],
   "source": [
    "plt.plot(x2,y2,'o', label='Data')\n",
    "plt.plot(xpred2, ypred2, '-', label='Cubic splines')\n",
    "plt.plot(xpred2, ypred2_linear, '--', label='Linear splines')\n",
    "plt.xlim(15,85)\n",
    "plt.ylim(0,500)\n",
    "plt.xlabel('$v$ [mph]',fontsize=12)\n",
    "plt.ylabel('$d$ [ft]',fontsize=12)\n",
    "plt.legend(fontsize=12);"
   ]
  },
  {
   "cell_type": "markdown",
   "metadata": {},
   "source": [
    "For smoothly changing functions, they are pretty much the same"
   ]
  },
  {
   "cell_type": "code",
   "execution_count": 22,
   "metadata": {},
   "outputs": [
    {
     "data": {
      "image/png": "[encoded data removed]",
      "text/plain": [
       "<Figure size 432x288 with 1 Axes>"
      ]
     },
     "metadata": {
      "needs_background": "light"
     },
     "output_type": "display_data"
    }
   ],
   "source": [
    "spline_diffs = abs(ypred2 - ypred2_linear)\n",
    "plt.plot(xpred2, spline_diffs, '-', label='difference between splines')\n",
    "plt.xlim(15,85)\n",
    "#plt.ylim(0,500)\n",
    "plt.xlabel('$v$ [mph]',fontsize=12)\n",
    "plt.ylabel('Difference in $d$ [ft]',fontsize=12)\n",
    "plt.legend(fontsize=12);"
   ]
  },
  {
   "cell_type": "markdown",
   "metadata": {},
   "source": [
    "## Approximating an integral\n",
    "\n",
    "The idea here is to use the spline model to approximate a definite integral of the function $d(v)$\n",
    "\n",
    "$$ \\int_{v_1}^{v_2} d(v) dv $$\n",
    "\n",
    "The splines have an analytic form, but it is much simpler to set up a numerical approximation scheme to calculate the integral using the spline model.\n",
    "\n",
    "For a function $f(x) \\geq 0$ the integral \n",
    "\n",
    "$$ \\int_{x_{\\text{start}}}^{x_{\\text{end}}} f(x) dx $$\n",
    "\n",
    "can be approximated as the area under the curve between $x_1$ and $x_2$.\n",
    "\n",
    "Divide the interval $x_{\\text{start}}$ to $x_{\\text{end}}$ into $N$ even intervals. There will be $N+1$ $x$ values in that interval starting with $x_{\\text{start}}$ all the way up to $x_{\\text{end}}$. So we have $x_{\\text{start}}, x_1, x_2, x_3, \\ldots, x_{N-2}, x_{N-1}, x_{\\text{end}}$. Let $x_{\\text{start}} = x_0$ and $x_{\\text{end}} = x_N$\n",
    "\n",
    "One way of computing an integral numerically is using the trapezoid rule. The trapezoid rule treats the area in each evenly spaced interval from  $[x_i, x_{i+1}]$ as the area within a trapezoid with heights on each side of $f(x_i)$ and $f(x_{i+1})$. (This is actually related to linear splines)\n",
    "\n",
    "Using the trapezoid rule, the integral is approximated as\n",
    "\n",
    "$$ \\int_{x_{\\text{start}}}^{x_{\\text{end}}} f(x) dx \\approx\n",
    "\\sum_{i=1}^N \\frac{1}{2}(f(x_{i-1}) + f(x_i))(x_i - x_{i-1}) $$\n",
    "\n",
    "The larger the number of intervals $N$, the better your approximation will be."
   ]
  },
  {
   "cell_type": "markdown",
   "metadata": {},
   "source": [
    "### For the above example\n",
    "\n",
    "Let's use the trapezoid rule, along with the interpolating functions we developed above to compute the integral\n",
    "\n",
    "$$ \\int_{22}^{67} d(v) dv $$\n",
    "\n",
    "We'll need to split the interval from 22 to 67 into equally spaced sub-intervals. We can do this by letting the spacing be\n",
    "\n",
    "$$ \\Delta v = \\frac{67-22}{N} $$\n",
    "\n",
    "So if $N=100$, the spacing will be\n",
    "\n",
    "$$ \\Delta v = \\frac{67-22}{100} = 0.45 $$\n",
    "\n",
    "Then our integral will be approximated\n",
    "\n",
    "$$ \\int_{22}^{67} d(v) dv \\approx \\sum_{i=1}^{100} \\frac{1}{2}(d(v_{i-1}) + d(v_i))(0.45) $$"
   ]
  },
  {
   "cell_type": "code",
   "execution_count": 23,
   "metadata": {},
   "outputs": [],
   "source": [
    "vstart = 22\n",
    "vend = 67\n",
    "N_intervals = 500\n",
    "\n",
    "# construct array of values for v to evaluate the function\n",
    "v_vals = np.linspace(vstart, vend, num=N_intervals+1) \n",
    "# note that you use N_intervals+1 because for N intervals, you will have N+1 points\n",
    "\n",
    "spacing = (vend - vstart)/N_intervals"
   ]
  },
  {
   "cell_type": "markdown",
   "metadata": {},
   "source": [
    "Check v array and spacing to ensure it's correct"
   ]
  },
  {
   "cell_type": "code",
   "execution_count": 24,
   "metadata": {},
   "outputs": [
    {
     "name": "stdout",
     "output_type": "stream",
     "text": [
      "0.09\n"
     ]
    }
   ],
   "source": [
    "#print(v_vals)\n",
    "print(spacing)"
   ]
  },
  {
   "cell_type": "code",
   "execution_count": 25,
   "metadata": {},
   "outputs": [],
   "source": [
    "# use the linear spline interpolating function\n",
    "integral_val = 0.0\n",
    "for i in range(1,N_intervals+1):\n",
    "    integral_val += 0.5 * (splines2(v_vals[i-1]) + splines2(v_vals[i]))*spacing"
   ]
  },
  {
   "cell_type": "code",
   "execution_count": 26,
   "metadata": {},
   "outputs": [
    {
     "name": "stdout",
     "output_type": "stream",
     "text": [
      "Approximate value of integral from 22 to 67\n",
      "6886.4218625793\n"
     ]
    }
   ],
   "source": [
    "print('Approximate value of integral from', vstart, 'to', vend)\n",
    "print('{:.10f}'.format(integral_val))"
   ]
  },
  {
   "cell_type": "code",
   "execution_count": 27,
   "metadata": {},
   "outputs": [],
   "source": [
    "# use the cubic spline interpolating function\n",
    "integral_val2 = 0.0\n",
    "for i in range(1,N_intervals+1):\n",
    "    integral_val2 += 0.5 * (splines3(v_vals[i-1]) + splines3(v_vals[i]))*spacing"
   ]
  },
  {
   "cell_type": "code",
   "execution_count": 28,
   "metadata": {},
   "outputs": [
    {
     "name": "stdout",
     "output_type": "stream",
     "text": [
      "Approximate value of integral from 22 to 67\n",
      "6901.8552900000\n"
     ]
    }
   ],
   "source": [
    "print('Approximate value of integral from', vstart, 'to', vend)\n",
    "print('{:.10f}'.format(integral_val2))"
   ]
  },
  {
   "cell_type": "markdown",
   "metadata": {},
   "source": [
    "Try experimenting with changing the number of intervals above and see if the answers change very much"
   ]
  },
  {
   "cell_type": "markdown",
   "metadata": {},
   "source": [
    "## Improvement of integral estimate with N\n",
    "\n",
    "How does the estimate of the integral's value improve with increasing the number of intervals we split the function into, and how does it depend on which interpolating method we use?"
   ]
  },
  {
   "cell_type": "code",
   "execution_count": 29,
   "metadata": {},
   "outputs": [],
   "source": [
    "def trapezoid_rule(func_in, N_in, x_i, x_f):\n",
    "    Delta_x = (x_f - x_i)/N_in\n",
    "    x_pts = np.linspace(x_i, x_f, N_in+1)\n",
    "    int_val = 0.0\n",
    "    for i in range(0, N_in):\n",
    "        int_val += 0.5 * (func_in(x_pts[i+1])+func_in(x_pts[i]))\\\n",
    "                  * Delta_x\n",
    "    return int_val"
   ]
  },
  {
   "cell_type": "code",
   "execution_count": 30,
   "metadata": {},
   "outputs": [],
   "source": [
    "N_vals = np.arange(10,100+1)\n",
    "n_N_vals = len(N_vals)\n",
    "cubic_splines_results = np.empty(n_N_vals)\n",
    "linear_splines_results = np.empty(n_N_vals)"
   ]
  },
  {
   "cell_type": "code",
   "execution_count": 31,
   "metadata": {},
   "outputs": [],
   "source": [
    "for i in range(0,n_N_vals):\n",
    "    cubic_splines_results[i] = trapezoid_rule(splines3, N_vals[i],vstart, vend)\n",
    "    linear_splines_results[i] = trapezoid_rule(splines2, N_vals[i],vstart, vend)    "
   ]
  },
  {
   "cell_type": "code",
   "execution_count": 32,
   "metadata": {},
   "outputs": [
    {
     "data": {
      "image/png": "[encoded data removed]",
      "text/plain": [
       "<Figure size 432x288 with 1 Axes>"
      ]
     },
     "metadata": {
      "needs_background": "light"
     },
     "output_type": "display_data"
    }
   ],
   "source": [
    "plt.plot(N_vals, cubic_splines_results, '-+', label='Cubic spline results')\n",
    "plt.plot(N_vals, linear_splines_results, '-+', label='Linear spline results')\n",
    "#plt.xlim(15,85)\n",
    "#plt.ylim(6800,7000)\n",
    "plt.xlabel('Number of intervals $N$',fontsize=12)\n",
    "plt.ylabel('Value of $\\int_{22}^{67} f(v) dv$',fontsize=12)\n",
    "plt.legend(fontsize=12);"
   ]
  }
 ],
 "metadata": {
  "kernelspec": {
   "display_name": "Python 3",
   "language": "python",
   "name": "python3"
  },
  "language_info": {
   "codemirror_mode": {
    "name": "ipython",
    "version": 3
   },
   "file_extension": ".py",
   "mimetype": "text/x-python",
   "name": "python",
   "nbconvert_exporter": "python",
   "pygments_lexer": "ipython3",
   "version": "3.7.4"
  }
 },
 "nbformat": 4,
 "nbformat_minor": 2
}
