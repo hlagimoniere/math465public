{
 "cells": [
  {
   "cell_type": "markdown",
   "metadata": {},
   "source": [
    "# Simulation modeling\n",
    "\n",
    "Some systems in math modeling have to be studied using simulations, either because it might be impossible to do an experiment to measure the system, because the system can't be studied analytically, or many other reasons. Simulation is one of the most important tools in math modeling, because it allows one to study a system even without having access to it experimentally.\n",
    "\n",
    "One can still use past data to inform a simulation model. Let's go through a real world example where we can use simulation modeling to study how a system behaves. This system is discussed in section 5.4."
   ]
  },
  {
   "cell_type": "markdown",
   "metadata": {},
   "source": [
    "## Inventory model for gasoline and consumer demand\n",
    "\n",
    "The goal in this example is, for a chain of gas stations, to determine how often and how much gas to deliver to their stations. Let's look at how many gallons were demanded at a single gas station over a period of 1000 days. We will use this as a prototype to simulate the gas station demand. The information we have is a range of gallons demanded at the station and the number of times that demand occurred.\n",
    "\n",
    "| Number of gallons demanded | Number of occurrences (in days) |\n",
    "|---|---|\n",
    "|1000-1099|10|\n",
    "|1100-1199|20|\n",
    "|1200-1299|50|\n",
    "|1300-1399|120|\n",
    "|1400-1499|200|\n",
    "|1500-1599|270|\n",
    "|1600-1699|180|\n",
    "|1700-1799|80|\n",
    "|1800-1899|40|\n",
    "|1900-1999|30|\n",
    "\n",
    "Let's turn this into something that can be graphed. Later we will use this information to generate simulations of demand for a hypothetical station.\n",
    "\n",
    "As a simplistic assumption, say that the amount demanded in each occurrence was the center of the bin. So 10 days with demand from 1000-1099 translates to 10 days with demand of 1050 gallons."
   ]
  },
  {
   "cell_type": "code",
   "execution_count": 1,
   "metadata": {},
   "outputs": [],
   "source": [
    "import numpy as np\n",
    "import matplotlib.pyplot as plt"
   ]
  },
  {
   "cell_type": "code",
   "execution_count": 2,
   "metadata": {},
   "outputs": [
    {
     "name": "stdout",
     "output_type": "stream",
     "text": [
      "Check length of demand data array:  1000\n"
     ]
    }
   ],
   "source": [
    "demand_amts = [1050, 1150, 1250, 1350, 1450, 1550, 1650, 1750, 1850, 1950]\n",
    "demand_occs = [10,20,50,120,200,270,180,80,40,30]\n",
    "nbins = len(demand_occs)\n",
    "ndays = np.sum(demand_occs) # total number of days\n",
    "\n",
    "demand_raw = []\n",
    "for i in range(0, nbins):\n",
    "    demand_raw.extend([demand_amts[i]]*demand_occs[i])\n",
    "demand_raw = np.asarray(demand_raw) # make it a numpy array\n",
    "# print(demand_raw)\n",
    "print('Check length of demand data array: ', len(demand_raw))"
   ]
  },
  {
   "cell_type": "code",
   "execution_count": 3,
   "metadata": {},
   "outputs": [
    {
     "data": {
      "image/png": "[encoded data removed]",
      "text/plain": [
       "<Figure size 432x288 with 1 Axes>"
      ]
     },
     "metadata": {
      "needs_background": "light"
     },
     "output_type": "display_data"
    }
   ],
   "source": [
    "demand_bins = [1000,1100,1200,1300,1400,1500,1600,1700,1800, 1900, 2000]\n",
    "plt.hist(demand_raw, demand_bins);\n",
    "plt.xticks([1000,1100,1200,1300,1400,1500,1600,1700,1800,1900,2000])\n",
    "plt.xlabel('Gallons demanded', fontsize=12)\n",
    "plt.ylabel('Number of days demanded', fontsize=12)\n",
    "plt.title('Histogram of demand for sample station', fontsize=12);"
   ]
  },
  {
   "cell_type": "markdown",
   "metadata": {},
   "source": [
    "This is a representation of the data set we have been provided by the company. Now we need a way to use this to address the problem at hand: \n",
    "\n",
    "**How does the company determine how much and how often to deliver gas to the different stations?**\n",
    "\n",
    "We need to make some assumptions and translate this into a specific mathematical problem. \n",
    "\n",
    "Let's start with the simplest assumptions possible to create our simulation.\n",
    "\n",
    "- consider deliveries to a single station only\n",
    "- assume demand approximately follows the historical data for the sample station\n",
    "- try to minimize the total costs associated with the station\n",
    "- look at cost daily because provided data is daily demand\n",
    "- aim to **minimize average daily cost of delivering and storing sufficient gas at each station to meet consumer demand**\n",
    "\n",
    "Let's break down the costs and set up other assumptions\n",
    "\n",
    "- let $Q$ be the gallons of gas delivered in a given day, and assume it's always the same amount every day.\n",
    "- assume a constant cost $d$ for delivery that doesn't change with amount of gas delivered. $d$ = delivery cost per delivery per day\n",
    "- other costs: storage of unused gas, wear and tear on delivery equipment which would increase with more deliveries\n",
    "- assume constant cost per unit associated with storage of extra gas $s$ = cost of storage per gallon per day\n",
    "- the demand in gallons per day is $r$\n",
    "- Let the cost each day be $c$ which will be the sum of the delivery and storage charges (and could be expanded if the cost model becomes more complicated)\n",
    "- Let $C = \\frac{1}{N}\\sum_{i=1}^N c_i $ be the average daily cost over a period of $N$ days. \n",
    "\n",
    "This is going to be a fairly complicated model\n",
    "\n",
    "$$ C = f(Q, s, r, d) $$\n",
    "\n",
    "Writing this down analytically would be challenging, but probably it is impossible to do. Let's think instead about varying the inputs to $f$ and simulating what $C$ is at different values of the inputs."
   ]
  },
  {
   "cell_type": "markdown",
   "metadata": {},
   "source": [
    "## Simulating the average daily cost\n",
    "\n",
    "We can set and experiment with different values of $s$, $d$, and $Q$ over the period of $N$ days since we assumed they don't change from day to day. However, the data we have from before shows that $r$ changes depending on the day and is not constant. This is the quantity we will have to be the most careful with which setting up our model."
   ]
  },
  {
   "cell_type": "markdown",
   "metadata": {},
   "source": [
    "### Creating a \"demand generator\" from historical data\n",
    "\n",
    "Our goal is to generate a simulation of demand at our hypothetical gas station using the historical data from before.\n",
    "\n",
    "We can treat this like a probability distribution and say that it represents the probability out of a long run of days that a demand of that amount will occur."
   ]
  },
  {
   "cell_type": "markdown",
   "metadata": {},
   "source": [
    "| Number of gallons demanded | Number of occurrences (in days) | Probability of occurrence |\n",
    "|---|---|---|\n",
    "|1000-1099|10|0.01|\n",
    "|1100-1199|20|0.02|\n",
    "|1200-1299|50|0.05|\n",
    "|1300-1399|120|0.12|\n",
    "|1400-1499|200|0.20|\n",
    "|1500-1599|270|0.27|\n",
    "|1600-1699|180|0.18|\n",
    "|1700-1799|80|0.08|\n",
    "|1800-1899|40|0.04|\n",
    "|1900-1999|30|0.03|"
   ]
  },
  {
   "cell_type": "markdown",
   "metadata": {},
   "source": [
    "One thing we can do with this data set is to consider the cumulative probability $CP(r)$ from $r = 1000$ to $r=2000$."
   ]
  },
  {
   "cell_type": "markdown",
   "metadata": {},
   "source": [
    "| Number of gallons demanded | Probability of occurrence |Cumulative probability|\n",
    "|---|---|---|\n",
    "|1000-1099|0.01|0.01|\n",
    "|1100-1199|0.02|0.03|\n",
    "|1200-1299|0.05|0.08|\n",
    "|1300-1399|0.12|0.20|\n",
    "|1400-1499|0.20|0.40|\n",
    "|1500-1599|0.27|0.67|\n",
    "|1600-1699|0.18|0.85|\n",
    "|1700-1799|0.08|0.93|\n",
    "|1800-1899|0.04|0.97|\n",
    "|1900-1999|0.03|1.00|"
   ]
  },
  {
   "cell_type": "code",
   "execution_count": 4,
   "metadata": {},
   "outputs": [],
   "source": [
    "CP_demand = np.array([0.00,0.01,0.03,0.08,0.20,0.40,0.67,0.85,0.93,0.97,1.00])"
   ]
  },
  {
   "cell_type": "code",
   "execution_count": 5,
   "metadata": {},
   "outputs": [
    {
     "data": {
      "image/png": "[encoded data removed]",
      "text/plain": [
       "<Figure size 432x288 with 1 Axes>"
      ]
     },
     "metadata": {
      "needs_background": "light"
     },
     "output_type": "display_data"
    }
   ],
   "source": [
    "plt.plot(demand_bins, CP_demand, 'o')\n",
    "plt.xlabel('Gallons demanded', fontsize=12)\n",
    "plt.ylabel('Cumulative probability of occurrence', fontsize=12);"
   ]
  },
  {
   "cell_type": "markdown",
   "metadata": {},
   "source": [
    "If we think about generating a random number in the range $x$ from 0 to 1, we can use where that number lands to determine which demand bin to use. Think about reversing the axes of this graph"
   ]
  },
  {
   "cell_type": "code",
   "execution_count": 6,
   "metadata": {},
   "outputs": [
    {
     "data": {
      "image/png": "[encoded data removed]",
      "text/plain": [
       "<Figure size 432x288 with 1 Axes>"
      ]
     },
     "metadata": {
      "needs_background": "light"
     },
     "output_type": "display_data"
    }
   ],
   "source": [
    "plt.plot(CP_demand, demand_bins, 'o')\n",
    "plt.ylabel('Gallons demanded', fontsize=12)\n",
    "plt.xlabel('Cumulative probability of occurrence', fontsize=12);"
   ]
  },
  {
   "cell_type": "markdown",
   "metadata": {},
   "source": [
    "Pick a random number on the x axis, and then figure out what $r$ is for that number. The problem is that we don't have $r$ values on the above graph for all the different $x = CP(r)$ values. So we use some sort of model, let's say splines, to connect the dots here."
   ]
  },
  {
   "cell_type": "code",
   "execution_count": 7,
   "metadata": {},
   "outputs": [],
   "source": [
    "from scipy.interpolate import interp1d"
   ]
  },
  {
   "cell_type": "code",
   "execution_count": 8,
   "metadata": {},
   "outputs": [],
   "source": [
    "demand_generator = interp1d(CP_demand, demand_bins, kind=\"cubic\")"
   ]
  },
  {
   "cell_type": "code",
   "execution_count": 9,
   "metadata": {},
   "outputs": [],
   "source": [
    "n_x_vals = 100\n",
    "x_vals = np.linspace(0,1,num=n_x_vals)\n",
    "predicted_r = demand_generator(x_vals)"
   ]
  },
  {
   "cell_type": "code",
   "execution_count": 10,
   "metadata": {},
   "outputs": [
    {
     "data": {
      "image/png": "[encoded data removed]",
      "text/plain": [
       "<Figure size 432x288 with 1 Axes>"
      ]
     },
     "metadata": {
      "needs_background": "light"
     },
     "output_type": "display_data"
    }
   ],
   "source": [
    "plt.plot(CP_demand, demand_bins, 'o')\n",
    "plt.plot(x_vals, predicted_r, '-')\n",
    "plt.ylabel('Gallons demanded', fontsize=12)\n",
    "plt.xlabel('Cumulative probability of occurrence', fontsize=12);"
   ]
  },
  {
   "cell_type": "markdown",
   "metadata": {},
   "source": [
    "This is going to be our demand generating function. The procedure is to\n",
    "\n",
    "1. Generate a random number from $x=0$ to $x=1$. \n",
    "2. Use that random number as an input to the `spline` function generated above\n",
    "3. Use the output number as the demand from that day.\n",
    "4. Repeat for as many days as you would like to simulate."
   ]
  },
  {
   "cell_type": "markdown",
   "metadata": {},
   "source": [
    "### Using the demand generator\n",
    "\n",
    "Let's put the above steps into action and generate demand for out hypothetical station for some number of days, say $N=10$. "
   ]
  },
  {
   "cell_type": "code",
   "execution_count": 11,
   "metadata": {},
   "outputs": [
    {
     "name": "stdout",
     "output_type": "stream",
     "text": [
      "[4.17022005e-01 7.20324493e-01 1.14374817e-04 3.02332573e-01\n",
      " 1.46755891e-01 9.23385948e-02 1.86260211e-01 3.45560727e-01\n",
      " 3.96767474e-01 5.38816734e-01]\n"
     ]
    }
   ],
   "source": [
    "np.random.seed(1) # make sure random numbers are same every time you run the notebook\n",
    "N_days = 10\n",
    "random_x_vals = np.random.random(N_days)\n",
    "print(random_x_vals)"
   ]
  },
  {
   "cell_type": "markdown",
   "metadata": {},
   "source": [
    "Those are our 10 random $x$ values. Let's use the spline demand generator to translate these into an amount of gasoline demanded."
   ]
  },
  {
   "cell_type": "code",
   "execution_count": 12,
   "metadata": {},
   "outputs": [],
   "source": [
    "random_r_vals = demand_generator(random_x_vals)"
   ]
  },
  {
   "cell_type": "code",
   "execution_count": 13,
   "metadata": {},
   "outputs": [
    {
     "name": "stdout",
     "output_type": "stream",
     "text": [
      "[1506.89277534 1621.37003761 1001.42121955 1455.72189488 1365.07029761\n",
      " 1314.71008681 1391.71006703 1476.34250967 1498.66492751 1551.76941003]\n"
     ]
    }
   ],
   "source": [
    "print(random_r_vals)"
   ]
  },
  {
   "cell_type": "markdown",
   "metadata": {},
   "source": [
    "This is a list of 10 randomly generated demand amounts from historical data. We'll generally study this type of data by histogramming it to see what it looks like."
   ]
  },
  {
   "cell_type": "code",
   "execution_count": 14,
   "metadata": {},
   "outputs": [
    {
     "data": {
      "image/png": "[encoded data removed]",
      "text/plain": [
       "<Figure size 432x288 with 1 Axes>"
      ]
     },
     "metadata": {
      "needs_background": "light"
     },
     "output_type": "display_data"
    }
   ],
   "source": [
    "plt.hist(random_r_vals, demand_bins);\n",
    "plt.xticks([1000,1100,1200,1300,1400,1500,1600,1700,1800,1900,2000])\n",
    "plt.xlabel('Gallons demanded', fontsize=12)\n",
    "plt.ylabel('Number of days demanded', fontsize=12)\n",
    "plt.title('Histogram of demand for 10 simulated days', fontsize=12);"
   ]
  },
  {
   "cell_type": "markdown",
   "metadata": {},
   "source": [
    "Let's try a greater number of days, say 100 and see how the histogram looks."
   ]
  },
  {
   "cell_type": "code",
   "execution_count": 15,
   "metadata": {},
   "outputs": [
    {
     "data": {
      "image/png": "[encoded data removed]",
      "text/plain": [
       "<Figure size 432x288 with 1 Axes>"
      ]
     },
     "metadata": {
      "needs_background": "light"
     },
     "output_type": "display_data"
    }
   ],
   "source": [
    "np.random.seed(2) # change the seed to get different random numbers\n",
    "N_days_2 = 100\n",
    "random_x_vals_2 = np.random.random(N_days_2)\n",
    "random_r_vals_2 = demand_generator(random_x_vals_2)\n",
    "plt.hist(random_r_vals_2, demand_bins);\n",
    "plt.xticks([1000,1100,1200,1300,1400,1500,1600,1700,1800,1900,2000])\n",
    "plt.xlabel('Gallons demanded', fontsize=12)\n",
    "plt.ylabel('Number of days demanded', fontsize=12)\n",
    "plt.title('Histogram of demand for 100 simulated days', fontsize=12);"
   ]
  },
  {
   "cell_type": "markdown",
   "metadata": {},
   "source": [
    "This actually looks closer to the original histogram of the historical data. The more days we simulate, the closer it will look to the historical data histogram."
   ]
  },
  {
   "cell_type": "code",
   "execution_count": 16,
   "metadata": {},
   "outputs": [
    {
     "data": {
      "image/png": "[encoded data removed]",
      "text/plain": [
       "<Figure size 432x288 with 1 Axes>"
      ]
     },
     "metadata": {
      "needs_background": "light"
     },
     "output_type": "display_data"
    }
   ],
   "source": [
    "np.random.seed(3) # change the seed to get different random numbers\n",
    "N_days_3 = 2000\n",
    "random_x_vals_3 = np.random.random(N_days_3)\n",
    "random_r_vals_3 = demand_generator(random_x_vals_3)\n",
    "plt.hist(random_r_vals_3, demand_bins);\n",
    "plt.xticks([1000,1100,1200,1300,1400,1500,1600,1700,1800,1900,2000])\n",
    "plt.xlabel('Gallons demanded', fontsize=12)\n",
    "plt.ylabel('Number of days demanded', fontsize=12)\n",
    "plt.title('Histogram of demand for 2000 simulated days', fontsize=12);"
   ]
  },
  {
   "cell_type": "markdown",
   "metadata": {},
   "source": [
    "## Simulating the station\n",
    "\n",
    "Now we have our demand generator from historical data `demand_generator`. We can now use it to simulate demand over a period of many days. \n",
    "\n",
    "Now we need to simulate the station over a series of $N$ days. Assume a quantity $Q$ is delivered each day and it costs $d$ dollars for the delivery. Use the amount of gasoline demanded that day $r$ and subtract that amount from $Q$ to determine how much gas needs to be stored and how much it would cost. If demand was greater than $r$, then set the remaining amount of gas to 0. Multiply $Q - r$ by $s$ to compute the storage cost."
   ]
  },
  {
   "cell_type": "code",
   "execution_count": 20,
   "metadata": {},
   "outputs": [],
   "source": [
    "N_days_simulate = 20 # simulate 20 days\n",
    "np.random.seed(234) # \n",
    "random_x_vals_simulate = np.random.random(N_days_simulate)\n",
    "random_r_vals_simulate = demand_generator(random_x_vals_simulate)"
   ]
  },
  {
   "cell_type": "markdown",
   "metadata": {},
   "source": [
    "Now we have the demand amounts for each day of the simulation. Let's set up different delivery quantities, delivery costs, and storage costs. These are all assumptions and can be changed. Let's start by assuming\n",
    "\n",
    "- $s = \\$0.01$  per gallon per day\n",
    "- $d = \\$100$ per day\n",
    "- $Q = 1500$ gallons per day\n",
    "- $r$ for each days comes from the list above"
   ]
  },
  {
   "cell_type": "code",
   "execution_count": 21,
   "metadata": {},
   "outputs": [],
   "source": [
    "s_cost = 0.01\n",
    "d_cost = 100\n",
    "Q_amt = 1500"
   ]
  },
  {
   "cell_type": "markdown",
   "metadata": {},
   "source": [
    "Use a for loop to simulate the 20 days"
   ]
  },
  {
   "cell_type": "code",
   "execution_count": 39,
   "metadata": {},
   "outputs": [
    {
     "name": "stdout",
     "output_type": "stream",
     "text": [
      ">> Day 1 begins\n",
      "> Truck delivery arrives in the amount of 1500 gallons\n",
      "> Delivery cost incurred today: $ 100\n",
      "> The demand today is 1203.11 gallons\n",
      "> Amount of gas leftover at end of day: 296.89\n",
      "> Storage cost incurred today: $2.97\n",
      "> Cost incurred today: $102.97\n",
      ">> Day 1 ends\n",
      "\n",
      ">> Day 2 begins\n",
      "> Truck delivery arrives in the amount of 1500 gallons\n",
      "> Delivery cost incurred today: $ 100\n",
      "> The demand today is 1430.80 gallons\n",
      "> Amount of gas leftover at end of day: 366.09\n",
      "> Storage cost incurred today: $3.66\n",
      "> Cost incurred today: $103.66\n",
      ">> Day 2 ends\n",
      "\n",
      ">> Day 3 begins\n",
      "> Truck delivery arrives in the amount of 1500 gallons\n",
      "> Delivery cost incurred today: $ 100\n",
      "> The demand today is 1768.67 gallons\n",
      "> Amount of gas leftover at end of day: 97.42\n",
      "> Storage cost incurred today: $0.97\n",
      "> Cost incurred today: $100.97\n",
      ">> Day 3 ends\n",
      "\n",
      ">> Day 4 begins\n",
      "> Truck delivery arrives in the amount of 1500 gallons\n",
      "> Delivery cost incurred today: $ 100\n",
      "> The demand today is 1900.52 gallons\n",
      "> ALERT! The station could not fulfill 303.10 gallons of demand today\n",
      "> Amount of gas leftover at end of day: 0.00\n",
      "> Storage cost incurred today: $0.00\n",
      "> Cost incurred today: $100.00\n",
      ">> Day 4 ends\n",
      "\n",
      ">> Day 5 begins\n",
      "> Truck delivery arrives in the amount of 1500 gallons\n",
      "> Delivery cost incurred today: $ 100\n",
      "> The demand today is 1426.63 gallons\n",
      "> Amount of gas leftover at end of day: 73.37\n",
      "> Storage cost incurred today: $0.73\n",
      "> Cost incurred today: $100.73\n",
      ">> Day 5 ends\n",
      "\n",
      ">> Day 6 begins\n",
      "> Truck delivery arrives in the amount of 1500 gallons\n",
      "> Delivery cost incurred today: $ 100\n",
      "> The demand today is 1611.87 gallons\n",
      "> ALERT! The station could not fulfill 38.50 gallons of demand today\n",
      "> Amount of gas leftover at end of day: 0.00\n",
      "> Storage cost incurred today: $0.00\n",
      "> Cost incurred today: $100.00\n",
      ">> Day 6 ends\n",
      "\n",
      ">> Day 7 begins\n",
      "> Truck delivery arrives in the amount of 1500 gallons\n",
      "> Delivery cost incurred today: $ 100\n",
      "> The demand today is 1713.90 gallons\n",
      "> ALERT! The station could not fulfill 213.90 gallons of demand today\n",
      "> Amount of gas leftover at end of day: 0.00\n",
      "> Storage cost incurred today: $0.00\n",
      "> Cost incurred today: $100.00\n",
      ">> Day 7 ends\n",
      "\n",
      ">> Day 8 begins\n",
      "> Truck delivery arrives in the amount of 1500 gallons\n",
      "> Delivery cost incurred today: $ 100\n",
      "> The demand today is 1588.15 gallons\n",
      "> ALERT! The station could not fulfill 88.15 gallons of demand today\n",
      "> Amount of gas leftover at end of day: 0.00\n",
      "> Storage cost incurred today: $0.00\n",
      "> Cost incurred today: $100.00\n",
      ">> Day 8 ends\n",
      "\n",
      ">> Day 9 begins\n",
      "> Truck delivery arrives in the amount of 1500 gallons\n",
      "> Delivery cost incurred today: $ 100\n",
      "> The demand today is 1522.24 gallons\n",
      "> ALERT! The station could not fulfill 22.24 gallons of demand today\n",
      "> Amount of gas leftover at end of day: 0.00\n",
      "> Storage cost incurred today: $0.00\n",
      "> Cost incurred today: $100.00\n",
      ">> Day 9 ends\n",
      "\n",
      ">> Day 10 begins\n",
      "> Truck delivery arrives in the amount of 1500 gallons\n",
      "> Delivery cost incurred today: $ 100\n",
      "> The demand today is 1537.57 gallons\n",
      "> ALERT! The station could not fulfill 37.57 gallons of demand today\n",
      "> Amount of gas leftover at end of day: 0.00\n",
      "> Storage cost incurred today: $0.00\n",
      "> Cost incurred today: $100.00\n",
      ">> Day 10 ends\n",
      "\n",
      ">> Day 11 begins\n",
      "> Truck delivery arrives in the amount of 1500 gallons\n",
      "> Delivery cost incurred today: $ 100\n",
      "> The demand today is 1621.44 gallons\n",
      "> ALERT! The station could not fulfill 121.44 gallons of demand today\n",
      "> Amount of gas leftover at end of day: 0.00\n",
      "> Storage cost incurred today: $0.00\n",
      "> Cost incurred today: $100.00\n",
      ">> Day 11 ends\n",
      "\n",
      ">> Day 12 begins\n",
      "> Truck delivery arrives in the amount of 1500 gallons\n",
      "> Delivery cost incurred today: $ 100\n",
      "> The demand today is 1439.85 gallons\n",
      "> Amount of gas leftover at end of day: 60.15\n",
      "> Storage cost incurred today: $0.60\n",
      "> Cost incurred today: $100.60\n",
      ">> Day 12 ends\n",
      "\n",
      ">> Day 13 begins\n",
      "> Truck delivery arrives in the amount of 1500 gallons\n",
      "> Delivery cost incurred today: $ 100\n",
      "> The demand today is 1664.61 gallons\n",
      "> ALERT! The station could not fulfill 104.46 gallons of demand today\n",
      "> Amount of gas leftover at end of day: 0.00\n",
      "> Storage cost incurred today: $0.00\n",
      "> Cost incurred today: $100.00\n",
      ">> Day 13 ends\n",
      "\n",
      ">> Day 14 begins\n",
      "> Truck delivery arrives in the amount of 1500 gallons\n",
      "> Delivery cost incurred today: $ 100\n",
      "> The demand today is 1541.31 gallons\n",
      "> ALERT! The station could not fulfill 41.31 gallons of demand today\n",
      "> Amount of gas leftover at end of day: 0.00\n",
      "> Storage cost incurred today: $0.00\n",
      "> Cost incurred today: $100.00\n",
      ">> Day 14 ends\n",
      "\n",
      ">> Day 15 begins\n",
      "> Truck delivery arrives in the amount of 1500 gallons\n",
      "> Delivery cost incurred today: $ 100\n",
      "> The demand today is 1677.48 gallons\n",
      "> ALERT! The station could not fulfill 177.48 gallons of demand today\n",
      "> Amount of gas leftover at end of day: 0.00\n",
      "> Storage cost incurred today: $0.00\n",
      "> Cost incurred today: $100.00\n",
      ">> Day 15 ends\n",
      "\n",
      ">> Day 16 begins\n",
      "> Truck delivery arrives in the amount of 1500 gallons\n",
      "> Delivery cost incurred today: $ 100\n",
      "> The demand today is 1458.38 gallons\n",
      "> Amount of gas leftover at end of day: 41.62\n",
      "> Storage cost incurred today: $0.42\n",
      "> Cost incurred today: $100.42\n",
      ">> Day 16 ends\n",
      "\n",
      ">> Day 17 begins\n",
      "> Truck delivery arrives in the amount of 1500 gallons\n",
      "> Delivery cost incurred today: $ 100\n",
      "> The demand today is 1595.76 gallons\n",
      "> ALERT! The station could not fulfill 54.14 gallons of demand today\n",
      "> Amount of gas leftover at end of day: 0.00\n",
      "> Storage cost incurred today: $0.00\n",
      "> Cost incurred today: $100.00\n",
      ">> Day 17 ends\n",
      "\n",
      ">> Day 18 begins\n",
      "> Truck delivery arrives in the amount of 1500 gallons\n",
      "> Delivery cost incurred today: $ 100\n",
      "> The demand today is 1461.21 gallons\n",
      "> Amount of gas leftover at end of day: 38.79\n",
      "> Storage cost incurred today: $0.39\n",
      "> Cost incurred today: $100.39\n",
      ">> Day 18 ends\n",
      "\n",
      ">> Day 19 begins\n",
      "> Truck delivery arrives in the amount of 1500 gallons\n",
      "> Delivery cost incurred today: $ 100\n",
      "> The demand today is 1553.83 gallons\n",
      "> ALERT! The station could not fulfill 15.04 gallons of demand today\n",
      "> Amount of gas leftover at end of day: 0.00\n",
      "> Storage cost incurred today: $0.00\n",
      "> Cost incurred today: $100.00\n",
      ">> Day 19 ends\n",
      "\n",
      ">> Day 20 begins\n",
      "> Truck delivery arrives in the amount of 1500 gallons\n",
      "> Delivery cost incurred today: $ 100\n",
      "> The demand today is 1464.27 gallons\n",
      "> Amount of gas leftover at end of day: 35.73\n",
      "> Storage cost incurred today: $0.36\n",
      "> Cost incurred today: $100.36\n",
      ">> Day 20 ends\n",
      "\n"
     ]
    }
   ],
   "source": [
    "daily_cost = np.empty(N_days_simulate) # array to hold the cost for each day\n",
    "gas_stored = 0.0 # variable to hold the amount of gas in storage\n",
    "\n",
    "for i in range(0, N_days_simulate):\n",
    "    print('>> Day',i+1,'begins')\n",
    "    print('> Truck delivery arrives in the amount of', Q_amt, 'gallons')\n",
    "    print('> Delivery cost incurred today: $', d_cost)\n",
    "    # add the delivery amount onto the stored gas amount\n",
    "    gas_stored += Q_amt\n",
    "    todays_demand = random_r_vals_simulate[i]\n",
    "    print('> The demand today is', '{:.2f}'.format(todays_demand), 'gallons')\n",
    "    gas_left = gas_stored - todays_demand\n",
    "    if gas_left < 0: # the gas amount cannot go negative\n",
    "        print('> ALERT! The station could not fulfill', '{:.2f}'.format(abs(gas_left)), 'gallons of demand today')\n",
    "        gas_stored = 0.0\n",
    "    else:\n",
    "        gas_stored = gas_left\n",
    "    print('> Amount of gas leftover at end of day:', '{:.2f}'.format(gas_stored))\n",
    "    # compute the storage cost for the day\n",
    "    storage_cost = gas_stored * s_cost\n",
    "    print('> Storage cost incurred today:', '${:.2f}'.format(storage_cost))\n",
    "    daily_cost[i] = storage_cost + d_cost\n",
    "    print('> Cost incurred today:', '${:.2f}'.format(daily_cost[i]))\n",
    "    print('>> Day', i+1, 'ends')\n",
    "    print() # blank line for spacing\n",
    "    "
   ]
  },
  {
   "cell_type": "code",
   "execution_count": 42,
   "metadata": {},
   "outputs": [
    {
     "name": "stdout",
     "output_type": "stream",
     "text": [
      "100.50502723887402\n"
     ]
    }
   ],
   "source": [
    "print(np.average(daily_cost))"
   ]
  },
  {
   "cell_type": "markdown",
   "metadata": {},
   "source": [
    "The average daily cost is \\$100.51 from this 20 day simulation."
   ]
  },
  {
   "cell_type": "markdown",
   "metadata": {},
   "source": [
    "The station could obviously save on costs if they never have any gas left at the end of the day. But then people might stop coming to the station and the station won't make any revenue. So let's adjust our model a bit to also consider the number of days that demand is not fulfilled."
   ]
  },
  {
   "cell_type": "code",
   "execution_count": 40,
   "metadata": {},
   "outputs": [
    {
     "name": "stdout",
     "output_type": "stream",
     "text": [
      ">> Day 1 begins\n",
      "> Truck delivery arrives in the amount of 1500 gallons\n",
      "> Delivery cost incurred today: $ 100\n",
      "> The demand today is 1203.11 gallons\n",
      "> Amount of gas leftover at end of day: 296.89\n",
      "> Storage cost incurred today: $2.97\n",
      "> Cost incurred today: $102.97\n",
      ">> Day 1 ends\n",
      "\n",
      ">> Day 2 begins\n",
      "> Truck delivery arrives in the amount of 1500 gallons\n",
      "> Delivery cost incurred today: $ 100\n",
      "> The demand today is 1430.80 gallons\n",
      "> Amount of gas leftover at end of day: 366.09\n",
      "> Storage cost incurred today: $3.66\n",
      "> Cost incurred today: $103.66\n",
      ">> Day 2 ends\n",
      "\n",
      ">> Day 3 begins\n",
      "> Truck delivery arrives in the amount of 1500 gallons\n",
      "> Delivery cost incurred today: $ 100\n",
      "> The demand today is 1768.67 gallons\n",
      "> Amount of gas leftover at end of day: 97.42\n",
      "> Storage cost incurred today: $0.97\n",
      "> Cost incurred today: $100.97\n",
      ">> Day 3 ends\n",
      "\n",
      ">> Day 4 begins\n",
      "> Truck delivery arrives in the amount of 1500 gallons\n",
      "> Delivery cost incurred today: $ 100\n",
      "> The demand today is 1900.52 gallons\n",
      "> ALERT! The station could not fulfill 303.10 gallons of demand today\n",
      "> Amount of gas leftover at end of day: 0.00\n",
      "> Storage cost incurred today: $0.00\n",
      "> Cost incurred today: $100.00\n",
      ">> Day 4 ends\n",
      "\n",
      ">> Day 5 begins\n",
      "> Truck delivery arrives in the amount of 1500 gallons\n",
      "> Delivery cost incurred today: $ 100\n",
      "> The demand today is 1426.63 gallons\n",
      "> Amount of gas leftover at end of day: 73.37\n",
      "> Storage cost incurred today: $0.73\n",
      "> Cost incurred today: $100.73\n",
      ">> Day 5 ends\n",
      "\n",
      ">> Day 6 begins\n",
      "> Truck delivery arrives in the amount of 1500 gallons\n",
      "> Delivery cost incurred today: $ 100\n",
      "> The demand today is 1611.87 gallons\n",
      "> ALERT! The station could not fulfill 38.50 gallons of demand today\n",
      "> Amount of gas leftover at end of day: 0.00\n",
      "> Storage cost incurred today: $0.00\n",
      "> Cost incurred today: $100.00\n",
      ">> Day 6 ends\n",
      "\n",
      ">> Day 7 begins\n",
      "> Truck delivery arrives in the amount of 1500 gallons\n",
      "> Delivery cost incurred today: $ 100\n",
      "> The demand today is 1713.90 gallons\n",
      "> ALERT! The station could not fulfill 213.90 gallons of demand today\n",
      "> Amount of gas leftover at end of day: 0.00\n",
      "> Storage cost incurred today: $0.00\n",
      "> Cost incurred today: $100.00\n",
      ">> Day 7 ends\n",
      "\n",
      ">> Day 8 begins\n",
      "> Truck delivery arrives in the amount of 1500 gallons\n",
      "> Delivery cost incurred today: $ 100\n",
      "> The demand today is 1588.15 gallons\n",
      "> ALERT! The station could not fulfill 88.15 gallons of demand today\n",
      "> Amount of gas leftover at end of day: 0.00\n",
      "> Storage cost incurred today: $0.00\n",
      "> Cost incurred today: $100.00\n",
      ">> Day 8 ends\n",
      "\n",
      ">> Day 9 begins\n",
      "> Truck delivery arrives in the amount of 1500 gallons\n",
      "> Delivery cost incurred today: $ 100\n",
      "> The demand today is 1522.24 gallons\n",
      "> ALERT! The station could not fulfill 22.24 gallons of demand today\n",
      "> Amount of gas leftover at end of day: 0.00\n",
      "> Storage cost incurred today: $0.00\n",
      "> Cost incurred today: $100.00\n",
      ">> Day 9 ends\n",
      "\n",
      ">> Day 10 begins\n",
      "> Truck delivery arrives in the amount of 1500 gallons\n",
      "> Delivery cost incurred today: $ 100\n",
      "> The demand today is 1537.57 gallons\n",
      "> ALERT! The station could not fulfill 37.57 gallons of demand today\n",
      "> Amount of gas leftover at end of day: 0.00\n",
      "> Storage cost incurred today: $0.00\n",
      "> Cost incurred today: $100.00\n",
      ">> Day 10 ends\n",
      "\n",
      ">> Day 11 begins\n",
      "> Truck delivery arrives in the amount of 1500 gallons\n",
      "> Delivery cost incurred today: $ 100\n",
      "> The demand today is 1621.44 gallons\n",
      "> ALERT! The station could not fulfill 121.44 gallons of demand today\n",
      "> Amount of gas leftover at end of day: 0.00\n",
      "> Storage cost incurred today: $0.00\n",
      "> Cost incurred today: $100.00\n",
      ">> Day 11 ends\n",
      "\n",
      ">> Day 12 begins\n",
      "> Truck delivery arrives in the amount of 1500 gallons\n",
      "> Delivery cost incurred today: $ 100\n",
      "> The demand today is 1439.85 gallons\n",
      "> Amount of gas leftover at end of day: 60.15\n",
      "> Storage cost incurred today: $0.60\n",
      "> Cost incurred today: $100.60\n",
      ">> Day 12 ends\n",
      "\n",
      ">> Day 13 begins\n",
      "> Truck delivery arrives in the amount of 1500 gallons\n",
      "> Delivery cost incurred today: $ 100\n",
      "> The demand today is 1664.61 gallons\n",
      "> ALERT! The station could not fulfill 104.46 gallons of demand today\n",
      "> Amount of gas leftover at end of day: 0.00\n",
      "> Storage cost incurred today: $0.00\n",
      "> Cost incurred today: $100.00\n",
      ">> Day 13 ends\n",
      "\n",
      ">> Day 14 begins\n",
      "> Truck delivery arrives in the amount of 1500 gallons\n",
      "> Delivery cost incurred today: $ 100\n",
      "> The demand today is 1541.31 gallons\n",
      "> ALERT! The station could not fulfill 41.31 gallons of demand today\n",
      "> Amount of gas leftover at end of day: 0.00\n",
      "> Storage cost incurred today: $0.00\n",
      "> Cost incurred today: $100.00\n",
      ">> Day 14 ends\n",
      "\n",
      ">> Day 15 begins\n",
      "> Truck delivery arrives in the amount of 1500 gallons\n",
      "> Delivery cost incurred today: $ 100\n",
      "> The demand today is 1677.48 gallons\n",
      "> ALERT! The station could not fulfill 177.48 gallons of demand today\n",
      "> Amount of gas leftover at end of day: 0.00\n",
      "> Storage cost incurred today: $0.00\n",
      "> Cost incurred today: $100.00\n",
      ">> Day 15 ends\n",
      "\n",
      ">> Day 16 begins\n",
      "> Truck delivery arrives in the amount of 1500 gallons\n",
      "> Delivery cost incurred today: $ 100\n",
      "> The demand today is 1458.38 gallons\n",
      "> Amount of gas leftover at end of day: 41.62\n",
      "> Storage cost incurred today: $0.42\n",
      "> Cost incurred today: $100.42\n",
      ">> Day 16 ends\n",
      "\n",
      ">> Day 17 begins\n",
      "> Truck delivery arrives in the amount of 1500 gallons\n",
      "> Delivery cost incurred today: $ 100\n",
      "> The demand today is 1595.76 gallons\n",
      "> ALERT! The station could not fulfill 54.14 gallons of demand today\n",
      "> Amount of gas leftover at end of day: 0.00\n",
      "> Storage cost incurred today: $0.00\n",
      "> Cost incurred today: $100.00\n",
      ">> Day 17 ends\n",
      "\n",
      ">> Day 18 begins\n",
      "> Truck delivery arrives in the amount of 1500 gallons\n",
      "> Delivery cost incurred today: $ 100\n",
      "> The demand today is 1461.21 gallons\n",
      "> Amount of gas leftover at end of day: 38.79\n",
      "> Storage cost incurred today: $0.39\n",
      "> Cost incurred today: $100.39\n",
      ">> Day 18 ends\n",
      "\n",
      ">> Day 19 begins\n",
      "> Truck delivery arrives in the amount of 1500 gallons\n",
      "> Delivery cost incurred today: $ 100\n",
      "> The demand today is 1553.83 gallons\n",
      "> ALERT! The station could not fulfill 15.04 gallons of demand today\n",
      "> Amount of gas leftover at end of day: 0.00\n",
      "> Storage cost incurred today: $0.00\n",
      "> Cost incurred today: $100.00\n",
      ">> Day 19 ends\n",
      "\n",
      ">> Day 20 begins\n",
      "> Truck delivery arrives in the amount of 1500 gallons\n",
      "> Delivery cost incurred today: $ 100\n",
      "> The demand today is 1464.27 gallons\n",
      "> Amount of gas leftover at end of day: 35.73\n",
      "> Storage cost incurred today: $0.36\n",
      "> Cost incurred today: $100.36\n",
      ">> Day 20 ends\n",
      "\n"
     ]
    }
   ],
   "source": [
    "daily_cost = np.empty(N_days_simulate) # array to hold the cost for each day\n",
    "gas_stored = 0.0 # variable to hold the amount of gas in storage\n",
    "n_days_unfulfilled = 0\n",
    "\n",
    "for i in range(0, N_days_simulate):\n",
    "    print('>> Day',i+1,'begins')\n",
    "    print('> Truck delivery arrives in the amount of', Q_amt, 'gallons')\n",
    "    print('> Delivery cost incurred today: $', d_cost)\n",
    "    # add the delivery amount onto the stored gas amount\n",
    "    gas_stored += Q_amt\n",
    "    todays_demand = random_r_vals_simulate[i]\n",
    "    print('> The demand today is', '{:.2f}'.format(todays_demand), 'gallons')\n",
    "    gas_left = gas_stored - todays_demand\n",
    "    if gas_left < 0: # the gas amount cannot go negative\n",
    "        print('> ALERT! The station could not fulfill', '{:.2f}'.format(abs(gas_left)), 'gallons of demand today')\n",
    "        gas_stored = 0.0\n",
    "        n_days_unfulfilled += 1\n",
    "    else:\n",
    "        gas_stored = gas_left\n",
    "    print('> Amount of gas leftover at end of day:', '{:.2f}'.format(gas_stored))\n",
    "    # compute the storage cost for the day\n",
    "    storage_cost = gas_stored * s_cost\n",
    "    print('> Storage cost incurred today:', '${:.2f}'.format(storage_cost))\n",
    "    daily_cost[i] = storage_cost + d_cost\n",
    "    print('> Cost incurred today:', '${:.2f}'.format(daily_cost[i]))\n",
    "    print('>> Day', i+1, 'ends')\n",
    "    print() # blank line for spacing"
   ]
  },
  {
   "cell_type": "code",
   "execution_count": 41,
   "metadata": {},
   "outputs": [
    {
     "name": "stdout",
     "output_type": "stream",
     "text": [
      "12\n"
     ]
    }
   ],
   "source": [
    "print(n_days_unfulfilled)"
   ]
  },
  {
   "cell_type": "markdown",
   "metadata": {},
   "source": [
    "So there were 12 days in the simulation where the demand was not fulfilled."
   ]
  },
  {
   "cell_type": "markdown",
   "metadata": {},
   "source": [
    "## Creating a simulation function\n",
    "\n",
    "It is not very convenient to have to copy and paste all of this every time we want to perform the demand simulation. Let's create a function to encapsulate the code so we can easily change the inputs and turn off the day-by-day summary if necessary."
   ]
  },
  {
   "cell_type": "code",
   "execution_count": 57,
   "metadata": {},
   "outputs": [],
   "source": [
    "def simulate_station(N_in, Q_in, d_in, s_in, verbose=False):\n",
    "    # verbose is an optional argument that can be set to true if you want to see all the output like above\n",
    "    # it's impractical to use for a great number of days\n",
    "    #np.random.seed(1)\n",
    "    x_vals = np.random.random(N_in)\n",
    "    daily_demand = demand_generator(x_vals)\n",
    "    daily_cost = np.empty(N_in) # array to hold the cost for each day\n",
    "    gas_stored = 0.0 # variable to hold the amount of gas in storage\n",
    "    n_days_unf = 0\n",
    "\n",
    "    for i in range(0, N_in):\n",
    "        if verbose:\n",
    "            print('>> Day',i+1,'begins')\n",
    "            print('> Truck delivery arrives in the amount of', Q_amt, 'gallons')\n",
    "            print('> Delivery cost incurred today: $', d_in)\n",
    "        # add the delivery amount onto the stored gas amount\n",
    "        gas_stored += Q_amt\n",
    "        todays_demand = daily_demand[i]\n",
    "        if verbose:\n",
    "            print('> The demand today is', '{:.2f}'.format(todays_demand), 'gallons')\n",
    "        gas_left = gas_stored - todays_demand\n",
    "        if gas_left < 0: # the gas amount cannot go negative\n",
    "            if verbose:\n",
    "                print('> ALERT! The station could not fulfill', '{:.2f}'.format(abs(gas_left)), 'gallons of demand today')\n",
    "            gas_stored = 0.0\n",
    "            n_days_unf += 1\n",
    "        else:\n",
    "            gas_stored = gas_left\n",
    "        if verbose:\n",
    "            print('> Amount of gas leftover at end of day:', '{:.2f}'.format(gas_stored))\n",
    "        # compute the storage cost for the day\n",
    "        storage_cost = gas_stored * s_cost\n",
    "        if verbose:\n",
    "            print('> Storage cost incurred today:', '${:.2f}'.format(storage_cost))\n",
    "        daily_cost[i] = storage_cost + d_in\n",
    "        if verbose:\n",
    "            print('> Cost incurred today:', '${:.2f}'.format(daily_cost[i]))\n",
    "            print('>> Day', i+1, 'ends')\n",
    "            print() # blank line for spacing\n",
    "        \n",
    "    avg_cost = np.average(daily_cost)\n",
    "    return avg_cost, n_days_unf"
   ]
  },
  {
   "cell_type": "code",
   "execution_count": 63,
   "metadata": {},
   "outputs": [
    {
     "data": {
      "text/plain": [
       "(103.01713964199479, 13)"
      ]
     },
     "execution_count": 63,
     "metadata": {},
     "output_type": "execute_result"
    }
   ],
   "source": [
    "simulate_station(100, 1500, 100, 0.01, verbose=False)"
   ]
  },
  {
   "cell_type": "code",
   "execution_count": null,
   "metadata": {},
   "outputs": [],
   "source": []
  }
 ],
 "metadata": {
  "kernelspec": {
   "display_name": "Python 3",
   "language": "python",
   "name": "python3"
  },
  "language_info": {
   "codemirror_mode": {
    "name": "ipython",
    "version": 3
   },
   "file_extension": ".py",
   "mimetype": "text/x-python",
   "name": "python",
   "nbconvert_exporter": "python",
   "pygments_lexer": "ipython3",
   "version": "3.7.4"
  }
 },
 "nbformat": 4,
 "nbformat_minor": 2
}
