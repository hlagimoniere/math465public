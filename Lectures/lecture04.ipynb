{
 "cells": [
  {
   "cell_type": "markdown",
   "metadata": {},
   "source": [
    "# Lecture 3 examples\n",
    "\n",
    "Making predictions with the exponential growth model\n",
    "\n",
    "(Latex)\n",
    "\n",
    "$$ P(t) = P_0 e^{kt}$$"
   ]
  },
  {
   "cell_type": "markdown",
   "metadata": {},
   "source": [
    "$$ P(t) = 2560 e^{0.017185 t} $$"
   ]
  },
  {
   "cell_type": "code",
   "execution_count": 1,
   "metadata": {},
   "outputs": [],
   "source": [
    "# set up constants\n",
    "P_0 = 2560\n",
    "k_const = 0.017185\n",
    "n_years = 40"
   ]
  },
  {
   "cell_type": "code",
   "execution_count": 2,
   "metadata": {},
   "outputs": [],
   "source": [
    "import numpy as np\n",
    "import matplotlib.pyplot as plt"
   ]
  },
  {
   "cell_type": "code",
   "execution_count": 7,
   "metadata": {},
   "outputs": [],
   "source": [
    "population_predicted = np.empty(n_years)\n",
    "years = np.arange(1,n_years+1)"
   ]
  },
  {
   "cell_type": "code",
   "execution_count": 8,
   "metadata": {},
   "outputs": [
    {
     "name": "stdout",
     "output_type": "stream",
     "text": [
      "[ 1  2  3  4  5  6  7  8  9 10 11 12 13 14 15 16 17 18 19 20 21 22 23 24 25\n",
      " 26 27 28 29 30 31 32 33 34 35 36 37 38 39 40]\n"
     ]
    }
   ],
   "source": [
    "# check that years was defined ok\n",
    "print(years)"
   ]
  },
  {
   "cell_type": "code",
   "execution_count": 11,
   "metadata": {},
   "outputs": [
    {
     "name": "stdout",
     "output_type": "stream",
     "text": [
      "In year 0 population is 2560\n",
      "In year 1 population is 2604.37378974\n",
      "In year 2 population is 2649.51673308\n",
      "In year 3 population is 2695.44216215\n",
      "In year 4 population is 2742.16364018\n",
      "In year 5 population is 2789.69496549\n",
      "In year 6 population is 2838.05017558\n",
      "In year 7 population is 2887.24355127\n",
      "In year 8 population is 2937.28962091\n",
      "In year 9 population is 2988.20316467\n",
      "In year 10 population is 3039.99921894\n",
      "In year 11 population is 3092.69308072\n",
      "In year 12 population is 3146.30031216\n",
      "In year 13 population is 3200.83674517\n",
      "In year 14 population is 3256.31848608\n",
      "In year 15 population is 3312.76192039\n",
      "In year 16 population is 3370.18371762\n",
      "In year 17 population is 3428.60083624\n",
      "In year 18 population is 3488.03052866\n",
      "In year 19 population is 3548.49034635\n",
      "In year 20 population is 3609.99814499\n",
      "In year 21 population is 3672.57208977\n",
      "In year 22 population is 3736.23066075\n",
      "In year 23 population is 3800.99265832\n",
      "In year 24 population is 3866.87720871\n",
      "In year 25 population is 3933.90376973\n",
      "In year 26 population is 4002.09213642\n",
      "In year 27 population is 4071.46244696\n",
      "In year 28 population is 4142.03518859\n",
      "In year 29 population is 4213.83120364\n",
      "In year 30 population is 4286.87169576\n",
      "In year 31 population is 4361.1782361\n",
      "In year 32 population is 4436.77276972\n",
      "In year 33 population is 4513.67762207\n",
      "In year 34 population is 4591.91550556\n",
      "In year 35 population is 4671.50952632\n",
      "In year 36 population is 4752.48319096\n",
      "In year 37 population is 4834.86041356\n",
      "In year 38 population is 4918.66552271\n",
      "In year 39 population is 5003.92326869\n",
      "In year 40 population is 5090.65883079\n"
     ]
    }
   ],
   "source": [
    "print('In year', 0, 'population is', P_0)\n",
    "# is an index, runs from 0 to n_years - 1 in this loop\n",
    "for i in range(0,n_years):\n",
    "    population_predicted[i] = P_0 * np.exp(k_const * years[i])\n",
    "    print('In year', years[i], 'population is', population_predicted[i])"
   ]
  },
  {
   "cell_type": "code",
   "execution_count": 15,
   "metadata": {},
   "outputs": [
    {
     "data": {
      "image/png": "[encoded data removed]",
      "text/plain": [
       "<Figure size 432x288 with 1 Axes>"
      ]
     },
     "metadata": {
      "needs_background": "light"
     },
     "output_type": "display_data"
    }
   ],
   "source": [
    "plt.plot(years, population_predicted, 'o', label='predicted population');\n",
    "plt.xlabel('Year')\n",
    "plt.ylabel('Population [millions]')\n",
    "plt.legend();"
   ]
  },
  {
   "cell_type": "code",
   "execution_count": null,
   "metadata": {},
   "outputs": [],
   "source": []
  }
 ],
 "metadata": {
  "kernelspec": {
   "display_name": "Python 3",
   "language": "python",
   "name": "python3"
  },
  "language_info": {
   "codemirror_mode": {
    "name": "ipython",
    "version": 3
   },
   "file_extension": ".py",
   "mimetype": "text/x-python",
   "name": "python",
   "nbconvert_exporter": "python",
   "pygments_lexer": "ipython3",
   "version": "3.6.7"
  }
 },
 "nbformat": 4,
 "nbformat_minor": 4
}
