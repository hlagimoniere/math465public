{
 "cells": [
  {
   "cell_type": "markdown",
   "metadata": {},
   "source": [
    "# Your Project Title Here\n",
    "\n",
    "## Authors: Jane Doe, John Doe, and Other Person.\n",
    "\n",
    "## Date: November 13th, 2020\n",
    "\n",
    "## Abstract\n",
    "\n",
    "This project is a template project to help you put together your project report in Jupyter.  This section should clearly state the objective and any results of your project. Summarize for the reader the major results and why they should read your paper. See the Summary section at the beginning of the article \"Systematically Improving Espresso: Insights from Mathematical Modeling and Experiment\" that is linked in the Project 1 description for a realistic example of an Abstract. Another useful page that gives tips on writing an abstract can be found at [https://libguides.usc.edu/writingguide/abstract](https://libguides.usc.edu/writingguide/abstract)."
   ]
  },
  {
   "cell_type": "markdown",
   "metadata": {},
   "source": [
    "# Note\n",
    "\n",
    "You do not have to follow this template exactly (other than the cell above, which should be in everyone's reports) and can change, move around, or combine sections as needed. Some projects will have longer methods and results sections, while some will have a longer introduction and problem statement that need to be set up."
   ]
  },
  {
   "cell_type": "markdown",
   "metadata": {},
   "source": [
    "# Introduction\n",
    "\n",
    "This section should include your introduction to the problem at hand. The Project 1 description on MyClasses links to the page [https://libguides.usc.edu/writingguide/introduction](https://libguides.usc.edu/writingguide/introduction), which has tips on how to write an introduction for a scientific report. From the linked page above, here is a nice summary of how to think about your introduction:\n",
    "\n",
    "> Think of the introduction as a mental road map that must answer for the reader these four questions:\n",
    "> - What was I studying?\n",
    "> - Why was this topic important to investigate?\n",
    "> - What did we know about this topic before I did this study?\n",
    "> - How will this study advance new knowledge or new ways of understanding?\n",
    "\n",
    "(Above gives an example of how to include a block quotation in your report)\n",
    "\n",
    "Your introduction should clearly lay out the background needed for your project. If your project develops a model, you should include relevant background for the model. If your project is to write a program that does some modeling task, you should detail any background on the algorithms used, why you need this for mathematical models, and how this would be useful for someone. \n",
    "\n",
    "Any background references should be cited in text throughout the introduction. For example, let's say I quote something from our Textbook:\n",
    "\n",
    "> To help us better understand our world, we often describe a particular phenomenon mathematically (by means of a function or an equation, for instance). [1]\n",
    "\n",
    "Then in the bibliography at the end, you would list the reference as\n",
    "\n",
    "- F. R. Giordano, W. P. Fox, and S. B. Horton, *A First Couse in Mathematical Modeling*, 5th ed. Boston, MA, USA: Brooks/Cole, 2014\n",
    "\n",
    "Once you have finished up the introduction and any background, you can move on to the Problem Statement and Assumptions."
   ]
  },
  {
   "cell_type": "markdown",
   "metadata": {},
   "source": [
    "# Problem Statement and Assumptions\n",
    "\n",
    "These sections may be separate or combined, as needed. Clearly state the quantitative problem that you are approaching in this section. For example, consider the yeast-culture example (Section 1.2 Examples 1 and 2) we studied in Chapter 1. Say we are charged with studying the yeast biomass data as a function of time and want to develop a model. Perhaps the client is a scientist who wants to predict the yeast biomass at times beyond those measured, or wants to use the model for other yeast populations in her lab. A problem statement for that could be:\n",
    "\n",
    "Given data describing the biomass of a yeast population each hour, we want to construct a mathematical model that predicts yeast biomass as a function of time. \n",
    "\n",
    "## Assumptions\n",
    "\n",
    "You may list assumptions in paragraph form or as a list, whatever makes more sense for your project. "
   ]
  },
  {
   "cell_type": "markdown",
   "metadata": {},
   "source": [
    "# Definition of variables\n",
    "\n",
    "List and define all your variables. State what all the variables mean, in words, whether they are discrete or continuous, and set up any needed notation. Use basic Latex formatting for any necessary notation (see lab 4 for the basic formatting you will need).\n",
    "\n",
    "Below are some examples of formatting equations you can build from (double click the cell to see the code that generates it):\n",
    "\n",
    "$x$ is $y^7$ but here is a new variable $z_a$ that is greater than $\\theta_{\\text{lab}}$\n",
    "\n",
    "$$ y = mx + b $$\n",
    "\n",
    "$$ x+7 - 10^{42} + y^{17} = 100 - \\frac{2}{sdf} $$\n",
    "\n",
    "$$ y \\geq 10+ x^7 - \\frac{10}{100^10} + s \\quad \\text{for} \\quad x \\leq 2 $$"
   ]
  },
  {
   "cell_type": "markdown",
   "metadata": {},
   "source": [
    "# Construction of the model, problem solution\n",
    "\n",
    "This section can flow like a regular lab report. Now that you've set things up, you are ready to write any needed code or calculations.\n",
    "\n",
    "Look to the lab problem sheets for the usual guidelines on commentary, code style, graphics, and mathematical correctness. \n",
    "\n",
    "I understand that you may build off some things from previous labs or my examples in this section, but be sure to proofread and remove anything not relevant to your problem before finishing the report. It should flow like a report without anything like scratch work left over at the end.\n",
    "\n",
    "This section will probably include some graphs depending on your project. As usual, follow the graphics guidelines carefully. Graphs should be very clearly labeled with visible markers, lines, and fonts."
   ]
  },
  {
   "cell_type": "code",
   "execution_count": null,
   "metadata": {},
   "outputs": [],
   "source": [
    "# coding comments should describe code\n",
    "# any substantive comments on mathematics or results should be in Markdown cells"
   ]
  },
  {
   "cell_type": "markdown",
   "metadata": {},
   "source": [
    "# Analysis and assessment\n",
    "\n",
    "This section should include any analysis text and assessment of the model. An assessment might include graphs and error analysis, depending on the project."
   ]
  },
  {
   "cell_type": "markdown",
   "metadata": {},
   "source": [
    "# Summary\n",
    "\n",
    "Give a concise summary of what has been done in this report. State any future work you might do as part of this or how you could expand upon your results."
   ]
  },
  {
   "cell_type": "markdown",
   "metadata": {},
   "source": [
    "# Bibliography\n",
    "\n",
    "You probably won't have too many sources to cite, but any that you do cite should be in this section. If you quote anything directly, make sure to cite the source in text.\n",
    "\n",
    "I won't be too strict about the bibliography style, but please be clear about what sources you are citing. Use the citation style of the IEEE (Institute of Electrical and Electronics Engineers). I chose this one because their online guide has the clearest examples of citation style so you have an experience of a style that's not MLA or APA.\n",
    "\n",
    "[https://libguides.usc.edu/ld.php?content_id=50669711](https://libguides.usc.edu/ld.php?content_id=50669711)\n",
    "\n",
    "Follow it as neatly and as best as you can, but again, I won't be super strict grading this part. In scientific writing, you usually create citations in Latex and they are automatically changed into the style of the publication you are submitting to using a journal style format. So if you are going on in mathematics or science, it's unlikely you will ever need to format your own citations.\n",
    "\n",
    "- F. R. Giordano, W. P. Fox, and S. B. Horton, *A First Couse in Mathematical Modeling*, 5th ed. Boston, MA, USA: Brooks/Cole, 2014"
   ]
  }
 ],
 "metadata": {
  "kernelspec": {
   "display_name": "Python 3",
   "language": "python",
   "name": "python3"
  },
  "language_info": {
   "codemirror_mode": {
    "name": "ipython",
    "version": 3
   },
   "file_extension": ".py",
   "mimetype": "text/x-python",
   "name": "python",
   "nbconvert_exporter": "python",
   "pygments_lexer": "ipython3",
   "version": "3.7.4"
  }
 },
 "nbformat": 4,
 "nbformat_minor": 2
}
